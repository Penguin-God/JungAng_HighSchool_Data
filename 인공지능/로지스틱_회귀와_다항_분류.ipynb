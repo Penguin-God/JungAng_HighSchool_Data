{
  "nbformat": 4,
  "nbformat_minor": 0,
  "metadata": {
    "colab": {
      "name": "로지스틱_회귀와_다항_분류.ipynb",
      "provenance": []
    },
    "kernelspec": {
      "name": "python3",
      "display_name": "Python 3"
    },
    "accelerator": "GPU"
  },
  "cells": [
    {
      "cell_type": "markdown",
      "metadata": {
        "id": "DNNUOfaWfebI"
      },
      "source": [
        "# 초기 당뇨병 위험 예측 데이터셋\n",
        " - Diabetes Dataset : 2020년 520명의 15개 속성과 1개의 클래스를 나타냄 \n",
        " - 속성(feature)는 15개\n",
        "   - Gender: 성별/1은 남자, 2는 여자\n",
        "   - Polyuria : 다뇨증/ 1은 예, 0은 아니오\n",
        "   - Polydipsia : 조갈증\n",
        "   - sudden weight loss : 갑작스러운 체중 감소\n",
        "   - weakness : 기저질환\n",
        "   - Polyphagia : 다식증\n",
        "   - Genital thrush : 생식기 염증\n",
        "   - visual blurring : 시각적 흐릿함\n",
        "   - Itching : 가려움\n",
        "   - Irritability : 과민성\n",
        "   - delayed healing : 지연된 치유\n",
        "   - partial paresis : 부분 마비\n",
        "   - muscle stiffness : 근육 긴장도\n",
        "   - Alopecia : 탈모\n",
        "   - Obesity : 비만\n",
        " - 클래스(class)는 1개\n",
        "   - 1은 당뇨 양성, 0은 당뇨 음성\n",
        "\n",
        " - 참고자료(UCI저장소)\n",
        "   - https://archive.ics.uci.edu/ml/datasets/Early+stage+diabetes+risk+prediction+dataset."
      ]
    },
    {
      "cell_type": "markdown",
      "metadata": {
        "id": "Ey9yFrFsfgye"
      },
      "source": [
        "# 로지스틱 회귀(logistic regression)\n",
        " - 로지스틱 회귀의 목적은 일반적인 회귀 분석의 목표와 동일하게 종속 변수와 독립 변수간의 관계를 구체적인 함수로 나타내어 향후 예측 모델에 사용하는 것이다. 이는 독립 변수의 선형 결합으로 종속 변수를 설명한다는 관점에서는 선형 회귀 분석과 유사하다. 하지만 로지스틱 회귀는 선형 회귀 분석과는 다르게 종속 변수가 범주형 데이터를 대상으로 하며 입력 데이터가 주어졌을 때 해당 데이터의 결과가 특정 분류로 나뉘기 때문에 일종의 분류 (classification) 기법으로도 볼 수 있다.\n"
      ]
    },
    {
      "cell_type": "code",
      "metadata": {
        "id": "87Kb6AGlfc-B"
      },
      "source": [
        "import numpy as np\n",
        "import matplotlib.pyplot as plt\n",
        "import pandas as pd"
      ],
      "execution_count": 1,
      "outputs": []
    },
    {
      "cell_type": "code",
      "metadata": {
        "id": "orjRCFgAfjzf",
        "colab": {
          "base_uri": "https://localhost:8080/",
          "height": 230
        },
        "outputId": "d9f06eee-1526-4b8d-ede1-0d25fe6c4db6"
      },
      "source": [
        "#1. 데이터셋 불러오기(ThoraricSurgery.csv)\n",
        "\n",
        "url = 'https://drive.google.com/uc?export=download&id=1zs-H7slk3aAkGNsg7TFxK2sS7OjHxeku'\n",
        "df = pd.read_csv(url)\n",
        "print(df.shape)\n",
        "#위에 5개 데이터만 출력하기\n",
        "df.head()"
      ],
      "execution_count": 2,
      "outputs": [
        {
          "output_type": "stream",
          "text": [
            "(520, 16)\n"
          ],
          "name": "stdout"
        },
        {
          "output_type": "execute_result",
          "data": {
            "text/html": [
              "<div>\n",
              "<style scoped>\n",
              "    .dataframe tbody tr th:only-of-type {\n",
              "        vertical-align: middle;\n",
              "    }\n",
              "\n",
              "    .dataframe tbody tr th {\n",
              "        vertical-align: top;\n",
              "    }\n",
              "\n",
              "    .dataframe thead th {\n",
              "        text-align: right;\n",
              "    }\n",
              "</style>\n",
              "<table border=\"1\" class=\"dataframe\">\n",
              "  <thead>\n",
              "    <tr style=\"text-align: right;\">\n",
              "      <th></th>\n",
              "      <th>Gender</th>\n",
              "      <th>Polyuria</th>\n",
              "      <th>Polydipsia</th>\n",
              "      <th>sudden weight loss</th>\n",
              "      <th>weakness</th>\n",
              "      <th>Polyphagia</th>\n",
              "      <th>Genital thrush</th>\n",
              "      <th>visual blurring</th>\n",
              "      <th>Itching</th>\n",
              "      <th>Irritability</th>\n",
              "      <th>delayed healing</th>\n",
              "      <th>partial paresis</th>\n",
              "      <th>muscle stiffness</th>\n",
              "      <th>Alopecia</th>\n",
              "      <th>Obesity</th>\n",
              "      <th>class</th>\n",
              "    </tr>\n",
              "  </thead>\n",
              "  <tbody>\n",
              "    <tr>\n",
              "      <th>0</th>\n",
              "      <td>1</td>\n",
              "      <td>0</td>\n",
              "      <td>1</td>\n",
              "      <td>0</td>\n",
              "      <td>1</td>\n",
              "      <td>0</td>\n",
              "      <td>0</td>\n",
              "      <td>0</td>\n",
              "      <td>1</td>\n",
              "      <td>0</td>\n",
              "      <td>1</td>\n",
              "      <td>0</td>\n",
              "      <td>1</td>\n",
              "      <td>1</td>\n",
              "      <td>1</td>\n",
              "      <td>1</td>\n",
              "    </tr>\n",
              "    <tr>\n",
              "      <th>1</th>\n",
              "      <td>1</td>\n",
              "      <td>0</td>\n",
              "      <td>0</td>\n",
              "      <td>0</td>\n",
              "      <td>1</td>\n",
              "      <td>0</td>\n",
              "      <td>0</td>\n",
              "      <td>1</td>\n",
              "      <td>0</td>\n",
              "      <td>0</td>\n",
              "      <td>0</td>\n",
              "      <td>1</td>\n",
              "      <td>0</td>\n",
              "      <td>1</td>\n",
              "      <td>0</td>\n",
              "      <td>1</td>\n",
              "    </tr>\n",
              "    <tr>\n",
              "      <th>2</th>\n",
              "      <td>1</td>\n",
              "      <td>1</td>\n",
              "      <td>0</td>\n",
              "      <td>0</td>\n",
              "      <td>1</td>\n",
              "      <td>1</td>\n",
              "      <td>0</td>\n",
              "      <td>0</td>\n",
              "      <td>1</td>\n",
              "      <td>0</td>\n",
              "      <td>1</td>\n",
              "      <td>0</td>\n",
              "      <td>1</td>\n",
              "      <td>1</td>\n",
              "      <td>0</td>\n",
              "      <td>1</td>\n",
              "    </tr>\n",
              "    <tr>\n",
              "      <th>3</th>\n",
              "      <td>1</td>\n",
              "      <td>0</td>\n",
              "      <td>0</td>\n",
              "      <td>1</td>\n",
              "      <td>1</td>\n",
              "      <td>1</td>\n",
              "      <td>1</td>\n",
              "      <td>0</td>\n",
              "      <td>1</td>\n",
              "      <td>0</td>\n",
              "      <td>1</td>\n",
              "      <td>0</td>\n",
              "      <td>0</td>\n",
              "      <td>0</td>\n",
              "      <td>0</td>\n",
              "      <td>1</td>\n",
              "    </tr>\n",
              "    <tr>\n",
              "      <th>4</th>\n",
              "      <td>1</td>\n",
              "      <td>1</td>\n",
              "      <td>1</td>\n",
              "      <td>1</td>\n",
              "      <td>1</td>\n",
              "      <td>1</td>\n",
              "      <td>0</td>\n",
              "      <td>1</td>\n",
              "      <td>1</td>\n",
              "      <td>1</td>\n",
              "      <td>1</td>\n",
              "      <td>1</td>\n",
              "      <td>1</td>\n",
              "      <td>1</td>\n",
              "      <td>1</td>\n",
              "      <td>1</td>\n",
              "    </tr>\n",
              "  </tbody>\n",
              "</table>\n",
              "</div>"
            ],
            "text/plain": [
              "   Gender  Polyuria  Polydipsia  ...  Alopecia  Obesity  class\n",
              "0       1         0           1  ...         1        1      1\n",
              "1       1         0           0  ...         1        0      1\n",
              "2       1         1           0  ...         1        0      1\n",
              "3       1         0           0  ...         0        0      1\n",
              "4       1         1           1  ...         1        1      1\n",
              "\n",
              "[5 rows x 16 columns]"
            ]
          },
          "metadata": {
            "tags": []
          },
          "execution_count": 2
        }
      ]
    },
    {
      "cell_type": "code",
      "metadata": {
        "id": "O7dEE6D_hUMa",
        "colab": {
          "base_uri": "https://localhost:8080/"
        },
        "outputId": "3aee9f32-fe94-4565-e640-a0110b136831"
      },
      "source": [
        "#2. 데이터 및 레이블 분리하기\n",
        "lim = int(len(df) * 0.7)\n",
        "train_x = df.iloc[:lim, 0:15].to_numpy()\n",
        "test_x = df.iloc[lim:, 0:15].to_numpy()\n",
        "train_y = df.iloc[:lim, 15].to_numpy()\n",
        "test_y = df.iloc[lim:, 15].to_numpy()\n",
        "\n",
        "\n",
        "train_x.shape, train_y.shape, test_x.shape, test_y.shape"
      ],
      "execution_count": 3,
      "outputs": [
        {
          "output_type": "execute_result",
          "data": {
            "text/plain": [
              "((364, 15), (364,), (156, 15), (156,))"
            ]
          },
          "metadata": {
            "tags": []
          },
          "execution_count": 3
        }
      ]
    },
    {
      "cell_type": "code",
      "metadata": {
        "id": "Pryr5Lg5heOg",
        "colab": {
          "base_uri": "https://localhost:8080/"
        },
        "outputId": "f12d0226-2f58-4e1a-a01e-a2ec494356d0"
      },
      "source": [
        "#3. 모델 구성하기\n",
        "from tensorflow.keras.models import Sequential\n",
        "from tensorflow.keras.layers import Dense\n",
        "\n",
        "model = Sequential()\n",
        "model.add(Dense(30, input_dim = 15, activation = 'relu'))\n",
        "model.add(Dense(1, activation = 'sigmoid'))\n",
        "\n",
        "\n",
        "model.compile(loss = 'binary_crossentropy', optimizer = 'adam', metrics = ['accuracy'])\n",
        "              #loss='mse'\n",
        "model.summary()"
      ],
      "execution_count": 4,
      "outputs": [
        {
          "output_type": "stream",
          "text": [
            "Model: \"sequential\"\n",
            "_________________________________________________________________\n",
            "Layer (type)                 Output Shape              Param #   \n",
            "=================================================================\n",
            "dense (Dense)                (None, 30)                480       \n",
            "_________________________________________________________________\n",
            "dense_1 (Dense)              (None, 1)                 31        \n",
            "=================================================================\n",
            "Total params: 511\n",
            "Trainable params: 511\n",
            "Non-trainable params: 0\n",
            "_________________________________________________________________\n"
          ],
          "name": "stdout"
        }
      ]
    },
    {
      "cell_type": "code",
      "metadata": {
        "id": "cS6AYtz4hxP3",
        "colab": {
          "base_uri": "https://localhost:8080/"
        },
        "outputId": "a12a229d-4cc8-4082-c90b-bc8eb7749efb"
      },
      "source": [
        "# 4.모델 학습\n",
        "history = model.fit(train_x, train_y, epochs=100, batch_size=10, validation_split=0.25)"
      ],
      "execution_count": 5,
      "outputs": [
        {
          "output_type": "stream",
          "text": [
            "Epoch 1/100\n",
            "28/28 [==============================] - 0s 10ms/step - loss: 0.7000 - accuracy: 0.5165 - val_loss: 0.6572 - val_accuracy: 0.5055\n",
            "Epoch 2/100\n",
            "28/28 [==============================] - 0s 3ms/step - loss: 0.4593 - accuracy: 0.8278 - val_loss: 0.7725 - val_accuracy: 0.3077\n",
            "Epoch 3/100\n",
            "28/28 [==============================] - 0s 3ms/step - loss: 0.3730 - accuracy: 0.8205 - val_loss: 0.8712 - val_accuracy: 0.2857\n",
            "Epoch 4/100\n",
            "28/28 [==============================] - 0s 3ms/step - loss: 0.3449 - accuracy: 0.8168 - val_loss: 0.9061 - val_accuracy: 0.2857\n",
            "Epoch 5/100\n",
            "28/28 [==============================] - 0s 3ms/step - loss: 0.3292 - accuracy: 0.8168 - val_loss: 0.8840 - val_accuracy: 0.2857\n",
            "Epoch 6/100\n",
            "28/28 [==============================] - 0s 3ms/step - loss: 0.3165 - accuracy: 0.8168 - val_loss: 0.8713 - val_accuracy: 0.2857\n",
            "Epoch 7/100\n",
            "28/28 [==============================] - 0s 3ms/step - loss: 0.3023 - accuracy: 0.8278 - val_loss: 0.8349 - val_accuracy: 0.3297\n",
            "Epoch 8/100\n",
            "28/28 [==============================] - 0s 3ms/step - loss: 0.2891 - accuracy: 0.8425 - val_loss: 0.8008 - val_accuracy: 0.3407\n",
            "Epoch 9/100\n",
            "28/28 [==============================] - 0s 3ms/step - loss: 0.2770 - accuracy: 0.8571 - val_loss: 0.7753 - val_accuracy: 0.3736\n",
            "Epoch 10/100\n",
            "28/28 [==============================] - 0s 3ms/step - loss: 0.2659 - accuracy: 0.8571 - val_loss: 0.7500 - val_accuracy: 0.4176\n",
            "Epoch 11/100\n",
            "28/28 [==============================] - 0s 3ms/step - loss: 0.2550 - accuracy: 0.8755 - val_loss: 0.7023 - val_accuracy: 0.4725\n",
            "Epoch 12/100\n",
            "28/28 [==============================] - 0s 3ms/step - loss: 0.2457 - accuracy: 0.8791 - val_loss: 0.6794 - val_accuracy: 0.4835\n",
            "Epoch 13/100\n",
            "28/28 [==============================] - 0s 3ms/step - loss: 0.2376 - accuracy: 0.8791 - val_loss: 0.6763 - val_accuracy: 0.4945\n",
            "Epoch 14/100\n",
            "28/28 [==============================] - 0s 3ms/step - loss: 0.2299 - accuracy: 0.8718 - val_loss: 0.6199 - val_accuracy: 0.5165\n",
            "Epoch 15/100\n",
            "28/28 [==============================] - 0s 3ms/step - loss: 0.2232 - accuracy: 0.8718 - val_loss: 0.6244 - val_accuracy: 0.5055\n",
            "Epoch 16/100\n",
            "28/28 [==============================] - 0s 3ms/step - loss: 0.2186 - accuracy: 0.8718 - val_loss: 0.6243 - val_accuracy: 0.5055\n",
            "Epoch 17/100\n",
            "28/28 [==============================] - 0s 3ms/step - loss: 0.2140 - accuracy: 0.8755 - val_loss: 0.6210 - val_accuracy: 0.5055\n",
            "Epoch 18/100\n",
            "28/28 [==============================] - 0s 3ms/step - loss: 0.2097 - accuracy: 0.8755 - val_loss: 0.5805 - val_accuracy: 0.5165\n",
            "Epoch 19/100\n",
            "28/28 [==============================] - 0s 3ms/step - loss: 0.2059 - accuracy: 0.8864 - val_loss: 0.5909 - val_accuracy: 0.5165\n",
            "Epoch 20/100\n",
            "28/28 [==============================] - 0s 3ms/step - loss: 0.2027 - accuracy: 0.9231 - val_loss: 0.5699 - val_accuracy: 0.7033\n",
            "Epoch 21/100\n",
            "28/28 [==============================] - 0s 3ms/step - loss: 0.1988 - accuracy: 0.9194 - val_loss: 0.5666 - val_accuracy: 0.7033\n",
            "Epoch 22/100\n",
            "28/28 [==============================] - 0s 3ms/step - loss: 0.1957 - accuracy: 0.9158 - val_loss: 0.5730 - val_accuracy: 0.7033\n",
            "Epoch 23/100\n",
            "28/28 [==============================] - 0s 3ms/step - loss: 0.1937 - accuracy: 0.9231 - val_loss: 0.5651 - val_accuracy: 0.7033\n",
            "Epoch 24/100\n",
            "28/28 [==============================] - 0s 3ms/step - loss: 0.1901 - accuracy: 0.9267 - val_loss: 0.5342 - val_accuracy: 0.7473\n",
            "Epoch 25/100\n",
            "28/28 [==============================] - 0s 3ms/step - loss: 0.1870 - accuracy: 0.9341 - val_loss: 0.5397 - val_accuracy: 0.7473\n",
            "Epoch 26/100\n",
            "28/28 [==============================] - 0s 3ms/step - loss: 0.1846 - accuracy: 0.9304 - val_loss: 0.5562 - val_accuracy: 0.7473\n",
            "Epoch 27/100\n",
            "28/28 [==============================] - 0s 3ms/step - loss: 0.1817 - accuracy: 0.9267 - val_loss: 0.5330 - val_accuracy: 0.7473\n",
            "Epoch 28/100\n",
            "28/28 [==============================] - 0s 3ms/step - loss: 0.1814 - accuracy: 0.9377 - val_loss: 0.5267 - val_accuracy: 0.7473\n",
            "Epoch 29/100\n",
            "28/28 [==============================] - 0s 3ms/step - loss: 0.1776 - accuracy: 0.9267 - val_loss: 0.5462 - val_accuracy: 0.7143\n",
            "Epoch 30/100\n",
            "28/28 [==============================] - 0s 3ms/step - loss: 0.1777 - accuracy: 0.9341 - val_loss: 0.5136 - val_accuracy: 0.7473\n",
            "Epoch 31/100\n",
            "28/28 [==============================] - 0s 3ms/step - loss: 0.1729 - accuracy: 0.9377 - val_loss: 0.4989 - val_accuracy: 0.7473\n",
            "Epoch 32/100\n",
            "28/28 [==============================] - 0s 3ms/step - loss: 0.1698 - accuracy: 0.9377 - val_loss: 0.5099 - val_accuracy: 0.7363\n",
            "Epoch 33/100\n",
            "28/28 [==============================] - 0s 3ms/step - loss: 0.1679 - accuracy: 0.9377 - val_loss: 0.4964 - val_accuracy: 0.7363\n",
            "Epoch 34/100\n",
            "28/28 [==============================] - 0s 4ms/step - loss: 0.1657 - accuracy: 0.9414 - val_loss: 0.4919 - val_accuracy: 0.7582\n",
            "Epoch 35/100\n",
            "28/28 [==============================] - 0s 3ms/step - loss: 0.1635 - accuracy: 0.9451 - val_loss: 0.4901 - val_accuracy: 0.7582\n",
            "Epoch 36/100\n",
            "28/28 [==============================] - 0s 3ms/step - loss: 0.1616 - accuracy: 0.9377 - val_loss: 0.5082 - val_accuracy: 0.7802\n",
            "Epoch 37/100\n",
            "28/28 [==============================] - 0s 3ms/step - loss: 0.1599 - accuracy: 0.9414 - val_loss: 0.4655 - val_accuracy: 0.7802\n",
            "Epoch 38/100\n",
            "28/28 [==============================] - 0s 3ms/step - loss: 0.1579 - accuracy: 0.9414 - val_loss: 0.4748 - val_accuracy: 0.7802\n",
            "Epoch 39/100\n",
            "28/28 [==============================] - 0s 3ms/step - loss: 0.1558 - accuracy: 0.9377 - val_loss: 0.4975 - val_accuracy: 0.7802\n",
            "Epoch 40/100\n",
            "28/28 [==============================] - 0s 3ms/step - loss: 0.1531 - accuracy: 0.9451 - val_loss: 0.4650 - val_accuracy: 0.7802\n",
            "Epoch 41/100\n",
            "28/28 [==============================] - 0s 3ms/step - loss: 0.1504 - accuracy: 0.9451 - val_loss: 0.4819 - val_accuracy: 0.7802\n",
            "Epoch 42/100\n",
            "28/28 [==============================] - 0s 3ms/step - loss: 0.1486 - accuracy: 0.9524 - val_loss: 0.4691 - val_accuracy: 0.8022\n",
            "Epoch 43/100\n",
            "28/28 [==============================] - 0s 3ms/step - loss: 0.1462 - accuracy: 0.9524 - val_loss: 0.4637 - val_accuracy: 0.8022\n",
            "Epoch 44/100\n",
            "28/28 [==============================] - 0s 3ms/step - loss: 0.1437 - accuracy: 0.9524 - val_loss: 0.4664 - val_accuracy: 0.8022\n",
            "Epoch 45/100\n",
            "28/28 [==============================] - 0s 3ms/step - loss: 0.1433 - accuracy: 0.9524 - val_loss: 0.4651 - val_accuracy: 0.7912\n",
            "Epoch 46/100\n",
            "28/28 [==============================] - 0s 3ms/step - loss: 0.1395 - accuracy: 0.9560 - val_loss: 0.4448 - val_accuracy: 0.7912\n",
            "Epoch 47/100\n",
            "28/28 [==============================] - 0s 3ms/step - loss: 0.1374 - accuracy: 0.9560 - val_loss: 0.4295 - val_accuracy: 0.8022\n",
            "Epoch 48/100\n",
            "28/28 [==============================] - 0s 3ms/step - loss: 0.1350 - accuracy: 0.9597 - val_loss: 0.4346 - val_accuracy: 0.7912\n",
            "Epoch 49/100\n",
            "28/28 [==============================] - 0s 3ms/step - loss: 0.1334 - accuracy: 0.9560 - val_loss: 0.4367 - val_accuracy: 0.7912\n",
            "Epoch 50/100\n",
            "28/28 [==============================] - 0s 3ms/step - loss: 0.1315 - accuracy: 0.9560 - val_loss: 0.4287 - val_accuracy: 0.7912\n",
            "Epoch 51/100\n",
            "28/28 [==============================] - 0s 3ms/step - loss: 0.1290 - accuracy: 0.9597 - val_loss: 0.4408 - val_accuracy: 0.7912\n",
            "Epoch 52/100\n",
            "28/28 [==============================] - 0s 3ms/step - loss: 0.1269 - accuracy: 0.9634 - val_loss: 0.4367 - val_accuracy: 0.7912\n",
            "Epoch 53/100\n",
            "28/28 [==============================] - 0s 3ms/step - loss: 0.1248 - accuracy: 0.9597 - val_loss: 0.4401 - val_accuracy: 0.7912\n",
            "Epoch 54/100\n",
            "28/28 [==============================] - 0s 3ms/step - loss: 0.1238 - accuracy: 0.9597 - val_loss: 0.4320 - val_accuracy: 0.7912\n",
            "Epoch 55/100\n",
            "28/28 [==============================] - 0s 3ms/step - loss: 0.1207 - accuracy: 0.9597 - val_loss: 0.4293 - val_accuracy: 0.7912\n",
            "Epoch 56/100\n",
            "28/28 [==============================] - 0s 3ms/step - loss: 0.1187 - accuracy: 0.9670 - val_loss: 0.4335 - val_accuracy: 0.7912\n",
            "Epoch 57/100\n",
            "28/28 [==============================] - 0s 3ms/step - loss: 0.1172 - accuracy: 0.9597 - val_loss: 0.4407 - val_accuracy: 0.7912\n",
            "Epoch 58/100\n",
            "28/28 [==============================] - 0s 3ms/step - loss: 0.1150 - accuracy: 0.9670 - val_loss: 0.4167 - val_accuracy: 0.7912\n",
            "Epoch 59/100\n",
            "28/28 [==============================] - 0s 3ms/step - loss: 0.1134 - accuracy: 0.9634 - val_loss: 0.4306 - val_accuracy: 0.7912\n",
            "Epoch 60/100\n",
            "28/28 [==============================] - 0s 3ms/step - loss: 0.1110 - accuracy: 0.9670 - val_loss: 0.4002 - val_accuracy: 0.8022\n",
            "Epoch 61/100\n",
            "28/28 [==============================] - 0s 3ms/step - loss: 0.1103 - accuracy: 0.9670 - val_loss: 0.3952 - val_accuracy: 0.8022\n",
            "Epoch 62/100\n",
            "28/28 [==============================] - 0s 3ms/step - loss: 0.1080 - accuracy: 0.9670 - val_loss: 0.4266 - val_accuracy: 0.8022\n",
            "Epoch 63/100\n",
            "28/28 [==============================] - 0s 3ms/step - loss: 0.1050 - accuracy: 0.9670 - val_loss: 0.4047 - val_accuracy: 0.8022\n",
            "Epoch 64/100\n",
            "28/28 [==============================] - 0s 3ms/step - loss: 0.1033 - accuracy: 0.9670 - val_loss: 0.4244 - val_accuracy: 0.8022\n",
            "Epoch 65/100\n",
            "28/28 [==============================] - 0s 3ms/step - loss: 0.1015 - accuracy: 0.9670 - val_loss: 0.4135 - val_accuracy: 0.8022\n",
            "Epoch 66/100\n",
            "28/28 [==============================] - 0s 3ms/step - loss: 0.0998 - accuracy: 0.9670 - val_loss: 0.4075 - val_accuracy: 0.8022\n",
            "Epoch 67/100\n",
            "28/28 [==============================] - 0s 3ms/step - loss: 0.0983 - accuracy: 0.9670 - val_loss: 0.4152 - val_accuracy: 0.8022\n",
            "Epoch 68/100\n",
            "28/28 [==============================] - 0s 3ms/step - loss: 0.0964 - accuracy: 0.9670 - val_loss: 0.4176 - val_accuracy: 0.8022\n",
            "Epoch 69/100\n",
            "28/28 [==============================] - 0s 3ms/step - loss: 0.0949 - accuracy: 0.9707 - val_loss: 0.4258 - val_accuracy: 0.8022\n",
            "Epoch 70/100\n",
            "28/28 [==============================] - 0s 3ms/step - loss: 0.0932 - accuracy: 0.9780 - val_loss: 0.4116 - val_accuracy: 0.8462\n",
            "Epoch 71/100\n",
            "28/28 [==============================] - 0s 3ms/step - loss: 0.0910 - accuracy: 0.9744 - val_loss: 0.4109 - val_accuracy: 0.8462\n",
            "Epoch 72/100\n",
            "28/28 [==============================] - 0s 3ms/step - loss: 0.0896 - accuracy: 0.9744 - val_loss: 0.4289 - val_accuracy: 0.8242\n",
            "Epoch 73/100\n",
            "28/28 [==============================] - 0s 3ms/step - loss: 0.0882 - accuracy: 0.9780 - val_loss: 0.4100 - val_accuracy: 0.8462\n",
            "Epoch 74/100\n",
            "28/28 [==============================] - 0s 3ms/step - loss: 0.0874 - accuracy: 0.9744 - val_loss: 0.4153 - val_accuracy: 0.8462\n",
            "Epoch 75/100\n",
            "28/28 [==============================] - 0s 3ms/step - loss: 0.0840 - accuracy: 0.9780 - val_loss: 0.3903 - val_accuracy: 0.8462\n",
            "Epoch 76/100\n",
            "28/28 [==============================] - 0s 3ms/step - loss: 0.0832 - accuracy: 0.9744 - val_loss: 0.4046 - val_accuracy: 0.8462\n",
            "Epoch 77/100\n",
            "28/28 [==============================] - 0s 3ms/step - loss: 0.0813 - accuracy: 0.9817 - val_loss: 0.4264 - val_accuracy: 0.8462\n",
            "Epoch 78/100\n",
            "28/28 [==============================] - 0s 3ms/step - loss: 0.0810 - accuracy: 0.9780 - val_loss: 0.4343 - val_accuracy: 0.8352\n",
            "Epoch 79/100\n",
            "28/28 [==============================] - 0s 3ms/step - loss: 0.0778 - accuracy: 0.9853 - val_loss: 0.3954 - val_accuracy: 0.8462\n",
            "Epoch 80/100\n",
            "28/28 [==============================] - 0s 3ms/step - loss: 0.0769 - accuracy: 0.9780 - val_loss: 0.3914 - val_accuracy: 0.8462\n",
            "Epoch 81/100\n",
            "28/28 [==============================] - 0s 3ms/step - loss: 0.0752 - accuracy: 0.9817 - val_loss: 0.4045 - val_accuracy: 0.8462\n",
            "Epoch 82/100\n",
            "28/28 [==============================] - 0s 3ms/step - loss: 0.0748 - accuracy: 0.9890 - val_loss: 0.4107 - val_accuracy: 0.8352\n",
            "Epoch 83/100\n",
            "28/28 [==============================] - 0s 3ms/step - loss: 0.0724 - accuracy: 0.9890 - val_loss: 0.3987 - val_accuracy: 0.8571\n",
            "Epoch 84/100\n",
            "28/28 [==============================] - 0s 3ms/step - loss: 0.0719 - accuracy: 0.9890 - val_loss: 0.4212 - val_accuracy: 0.8352\n",
            "Epoch 85/100\n",
            "28/28 [==============================] - 0s 3ms/step - loss: 0.0698 - accuracy: 0.9927 - val_loss: 0.3962 - val_accuracy: 0.8571\n",
            "Epoch 86/100\n",
            "28/28 [==============================] - 0s 3ms/step - loss: 0.0686 - accuracy: 0.9927 - val_loss: 0.4108 - val_accuracy: 0.8571\n",
            "Epoch 87/100\n",
            "28/28 [==============================] - 0s 3ms/step - loss: 0.0685 - accuracy: 0.9963 - val_loss: 0.4063 - val_accuracy: 0.8571\n",
            "Epoch 88/100\n",
            "28/28 [==============================] - 0s 3ms/step - loss: 0.0675 - accuracy: 0.9890 - val_loss: 0.4157 - val_accuracy: 0.8571\n",
            "Epoch 89/100\n",
            "28/28 [==============================] - 0s 3ms/step - loss: 0.0655 - accuracy: 0.9963 - val_loss: 0.3958 - val_accuracy: 0.8791\n",
            "Epoch 90/100\n",
            "28/28 [==============================] - 0s 3ms/step - loss: 0.0643 - accuracy: 0.9890 - val_loss: 0.4415 - val_accuracy: 0.8242\n",
            "Epoch 91/100\n",
            "28/28 [==============================] - 0s 3ms/step - loss: 0.0633 - accuracy: 0.9927 - val_loss: 0.4072 - val_accuracy: 0.8571\n",
            "Epoch 92/100\n",
            "28/28 [==============================] - 0s 3ms/step - loss: 0.0614 - accuracy: 0.9927 - val_loss: 0.4129 - val_accuracy: 0.8462\n",
            "Epoch 93/100\n",
            "28/28 [==============================] - 0s 3ms/step - loss: 0.0601 - accuracy: 0.9963 - val_loss: 0.4028 - val_accuracy: 0.8681\n",
            "Epoch 94/100\n",
            "28/28 [==============================] - 0s 3ms/step - loss: 0.0598 - accuracy: 1.0000 - val_loss: 0.4155 - val_accuracy: 0.8681\n",
            "Epoch 95/100\n",
            "28/28 [==============================] - 0s 3ms/step - loss: 0.0583 - accuracy: 0.9963 - val_loss: 0.4103 - val_accuracy: 0.8681\n",
            "Epoch 96/100\n",
            "28/28 [==============================] - 0s 3ms/step - loss: 0.0571 - accuracy: 0.9963 - val_loss: 0.4152 - val_accuracy: 0.8681\n",
            "Epoch 97/100\n",
            "28/28 [==============================] - 0s 3ms/step - loss: 0.0558 - accuracy: 0.9963 - val_loss: 0.4021 - val_accuracy: 0.8681\n",
            "Epoch 98/100\n",
            "28/28 [==============================] - 0s 3ms/step - loss: 0.0556 - accuracy: 1.0000 - val_loss: 0.4216 - val_accuracy: 0.8681\n",
            "Epoch 99/100\n",
            "28/28 [==============================] - 0s 3ms/step - loss: 0.0544 - accuracy: 0.9963 - val_loss: 0.4264 - val_accuracy: 0.8462\n",
            "Epoch 100/100\n",
            "28/28 [==============================] - 0s 3ms/step - loss: 0.0530 - accuracy: 1.0000 - val_loss: 0.4063 - val_accuracy: 0.8681\n"
          ],
          "name": "stdout"
        }
      ]
    },
    {
      "cell_type": "code",
      "metadata": {
        "id": "MVrl0MIShzES",
        "colab": {
          "base_uri": "https://localhost:8080/",
          "height": 279
        },
        "outputId": "7b7a2f3b-506a-476b-8227-9151550fd61d"
      },
      "source": [
        "# 5.검증 그래프 시각화\n",
        "plt.figure(figsize=(12, 4))\n",
        "plt.subplot(1,2,1)\n",
        "plt.plot(history.history['loss'],'b-', label='loss')\n",
        "plt.plot(history.history['val_loss'],'r--',label='val_loss')\n",
        "plt.xlabel('epoch')\n",
        "plt.legend()\n",
        "\n",
        "plt.subplot(1,2,2)\n",
        "plt.plot(history.history['accuracy'],'b-', label='accuracy')\n",
        "plt.plot(history.history['val_accuracy'],'r--',label='val_accuracy')\n",
        "plt.xlabel('epoch')\n",
        "plt.legend()\n",
        "plt.show()\n"
      ],
      "execution_count": 6,
      "outputs": [
        {
          "output_type": "display_data",
          "data": {
            "image/png": "[encoded data removed]",
            "text/plain": [
              "<Figure size 864x288 with 2 Axes>"
            ]
          },
          "metadata": {
            "tags": [],
            "needs_background": "light"
          }
        }
      ]
    },
    {
      "cell_type": "code",
      "metadata": {
        "id": "B7JwDlcLh2bl",
        "colab": {
          "base_uri": "https://localhost:8080/"
        },
        "outputId": "fc8bd941-78a6-4186-d85b-dd152ad58371"
      },
      "source": [
        "# 6. 모델 검증 평가\n",
        "model.evaluate(test_x, test_y)"
      ],
      "execution_count": 7,
      "outputs": [
        {
          "output_type": "stream",
          "text": [
            "5/5 [==============================] - 0s 2ms/step - loss: 0.2361 - accuracy: 0.9231\n"
          ],
          "name": "stdout"
        },
        {
          "output_type": "execute_result",
          "data": {
            "text/plain": [
              "[0.23613755404949188, 0.9230769276618958]"
            ]
          },
          "metadata": {
            "tags": []
          },
          "execution_count": 7
        }
      ]
    },
    {
      "cell_type": "markdown",
      "metadata": {
        "id": "seTthfBiiBom"
      },
      "source": [
        "# 다항 분류 - MNIST"
      ]
    },
    {
      "cell_type": "code",
      "metadata": {
        "id": "eE6yyq-bh7jq",
        "colab": {
          "base_uri": "https://localhost:8080/"
        },
        "outputId": "4fb73de8-8866-4f8d-a8cb-7bdab5519e82"
      },
      "source": [
        "# 1. MNIST 데이터 불러오기\n",
        "import tensorflow as tf\n",
        "mnist = tf.keras.datasets.mnist\n",
        "(train_X, train_Y), (test_X, test_Y) = mnist.load_data()\n",
        "\n",
        "\n",
        "\n",
        "train_X.shape, test_X.shape, train_Y.shape, test_Y.shape"
      ],
      "execution_count": 8,
      "outputs": [
        {
          "output_type": "stream",
          "text": [
            "Downloading data from https://storage.googleapis.com/tensorflow/tf-keras-datasets/mnist.npz\n",
            "11493376/11490434 [==============================] - 0s 0us/step\n"
          ],
          "name": "stdout"
        },
        {
          "output_type": "execute_result",
          "data": {
            "text/plain": [
              "((60000, 28, 28), (10000, 28, 28), (60000,), (10000,))"
            ]
          },
          "metadata": {
            "tags": []
          },
          "execution_count": 8
        }
      ]
    },
    {
      "cell_type": "code",
      "metadata": {
        "id": "y1HacpbviEuD",
        "colab": {
          "base_uri": "https://localhost:8080/",
          "height": 283
        },
        "outputId": "00fd6ece-51f3-4894-beb9-a9954f085075"
      },
      "source": [
        "# 2. 데이터 확인(이미지)\n",
        "import matplotlib.pyplot as plt\n",
        "plt.imshow(train_X[0], cmap = 'gray')\n",
        "plt.colorbar()\n",
        "plt.show()\n",
        "\n",
        "train_Y[0]"
      ],
      "execution_count": 9,
      "outputs": [
        {
          "output_type": "display_data",
          "data": {
            "image/png": "[encoded data removed]",
            "text/plain": [
              "<Figure size 432x288 with 2 Axes>"
            ]
          },
          "metadata": {
            "tags": [],
            "needs_background": "light"
          }
        },
        {
          "output_type": "execute_result",
          "data": {
            "text/plain": [
              "5"
            ]
          },
          "metadata": {
            "tags": []
          },
          "execution_count": 9
        }
      ]
    },
    {
      "cell_type": "code",
      "metadata": {
        "id": "85OwfsxtiF15",
        "colab": {
          "base_uri": "https://localhost:8080/"
        },
        "outputId": "1e69feec-9885-4bf4-8076-f70e9bba4f66"
      },
      "source": [
        "# 3. 데이터 정규화 (픽셀의 값을 255 -> 0~1사이로)\n",
        "train_X = train_X / 255.0\n",
        "train_Y = train_Y / 255.0\n",
        "\n",
        "train_X[0]"
      ],
      "execution_count": 10,
      "outputs": [
        {
          "output_type": "execute_result",
          "data": {
            "text/plain": [
              "array([[0.        , 0.        , 0.        , 0.        , 0.        ,\n",
              "        0.        , 0.        , 0.        , 0.        , 0.        ,\n",
              "        0.        , 0.        , 0.        , 0.        , 0.        ,\n",
              "        0.        , 0.        , 0.        , 0.        , 0.        ,\n",
              "        0.        , 0.        , 0.        , 0.        , 0.        ,\n",
              "        0.        , 0.        , 0.        ],\n",
              "       [0.        , 0.        , 0.        , 0.        , 0.        ,\n",
              "        0.        , 0.        , 0.        , 0.        , 0.        ,\n",
              "        0.        , 0.        , 0.        , 0.        , 0.        ,\n",
              "        0.        , 0.        , 0.        , 0.        , 0.        ,\n",
              "        0.        , 0.        , 0.        , 0.        , 0.        ,\n",
              "        0.        , 0.        , 0.        ],\n",
              "       [0.        , 0.        , 0.        , 0.        , 0.        ,\n",
              "        0.        , 0.        , 0.        , 0.        , 0.        ,\n",
              "        0.        , 0.        , 0.        , 0.        , 0.        ,\n",
              "        0.        , 0.        , 0.        , 0.        , 0.        ,\n",
              "        0.        , 0.        , 0.        , 0.        , 0.        ,\n",
              "        0.        , 0.        , 0.        ],\n",
              "       [0.        , 0.        , 0.        , 0.        , 0.        ,\n",
              "        0.        , 0.        , 0.        , 0.        , 0.        ,\n",
              "        0.        , 0.        , 0.        , 0.        , 0.        ,\n",
              "        0.        , 0.        , 0.        , 0.        , 0.        ,\n",
              "        0.        , 0.        , 0.        , 0.        , 0.        ,\n",
              "        0.        , 0.        , 0.        ],\n",
              "       [0.        , 0.        , 0.        , 0.        , 0.        ,\n",
              "        0.        , 0.        , 0.        , 0.        , 0.        ,\n",
              "        0.        , 0.        , 0.        , 0.        , 0.        ,\n",
              "        0.        , 0.        , 0.        , 0.        , 0.        ,\n",
              "        0.        , 0.        , 0.        , 0.        , 0.        ,\n",
              "        0.        , 0.        , 0.        ],\n",
              "       [0.        , 0.        , 0.        , 0.        , 0.        ,\n",
              "        0.        , 0.        , 0.        , 0.        , 0.        ,\n",
              "        0.        , 0.        , 0.01176471, 0.07058824, 0.07058824,\n",
              "        0.07058824, 0.49411765, 0.53333333, 0.68627451, 0.10196078,\n",
              "        0.65098039, 1.        , 0.96862745, 0.49803922, 0.        ,\n",
              "        0.        , 0.        , 0.        ],\n",
              "       [0.        , 0.        , 0.        , 0.        , 0.        ,\n",
              "        0.        , 0.        , 0.        , 0.11764706, 0.14117647,\n",
              "        0.36862745, 0.60392157, 0.66666667, 0.99215686, 0.99215686,\n",
              "        0.99215686, 0.99215686, 0.99215686, 0.88235294, 0.6745098 ,\n",
              "        0.99215686, 0.94901961, 0.76470588, 0.25098039, 0.        ,\n",
              "        0.        , 0.        , 0.        ],\n",
              "       [0.        , 0.        , 0.        , 0.        , 0.        ,\n",
              "        0.        , 0.        , 0.19215686, 0.93333333, 0.99215686,\n",
              "        0.99215686, 0.99215686, 0.99215686, 0.99215686, 0.99215686,\n",
              "        0.99215686, 0.99215686, 0.98431373, 0.36470588, 0.32156863,\n",
              "        0.32156863, 0.21960784, 0.15294118, 0.        , 0.        ,\n",
              "        0.        , 0.        , 0.        ],\n",
              "       [0.        , 0.        , 0.        , 0.        , 0.        ,\n",
              "        0.        , 0.        , 0.07058824, 0.85882353, 0.99215686,\n",
              "        0.99215686, 0.99215686, 0.99215686, 0.99215686, 0.77647059,\n",
              "        0.71372549, 0.96862745, 0.94509804, 0.        , 0.        ,\n",
              "        0.        , 0.        , 0.        , 0.        , 0.        ,\n",
              "        0.        , 0.        , 0.        ],\n",
              "       [0.        , 0.        , 0.        , 0.        , 0.        ,\n",
              "        0.        , 0.        , 0.        , 0.31372549, 0.61176471,\n",
              "        0.41960784, 0.99215686, 0.99215686, 0.80392157, 0.04313725,\n",
              "        0.        , 0.16862745, 0.60392157, 0.        , 0.        ,\n",
              "        0.        , 0.        , 0.        , 0.        , 0.        ,\n",
              "        0.        , 0.        , 0.        ],\n",
              "       [0.        , 0.        , 0.        , 0.        , 0.        ,\n",
              "        0.        , 0.        , 0.        , 0.        , 0.05490196,\n",
              "        0.00392157, 0.60392157, 0.99215686, 0.35294118, 0.        ,\n",
              "        0.        , 0.        , 0.        , 0.        , 0.        ,\n",
              "        0.        , 0.        , 0.        , 0.        , 0.        ,\n",
              "        0.        , 0.        , 0.        ],\n",
              "       [0.        , 0.        , 0.        , 0.        , 0.        ,\n",
              "        0.        , 0.        , 0.        , 0.        , 0.        ,\n",
              "        0.        , 0.54509804, 0.99215686, 0.74509804, 0.00784314,\n",
              "        0.        , 0.        , 0.        , 0.        , 0.        ,\n",
              "        0.        , 0.        , 0.        , 0.        , 0.        ,\n",
              "        0.        , 0.        , 0.        ],\n",
              "       [0.        , 0.        , 0.        , 0.        , 0.        ,\n",
              "        0.        , 0.        , 0.        , 0.        , 0.        ,\n",
              "        0.        , 0.04313725, 0.74509804, 0.99215686, 0.2745098 ,\n",
              "        0.        , 0.        , 0.        , 0.        , 0.        ,\n",
              "        0.        , 0.        , 0.        , 0.        , 0.        ,\n",
              "        0.        , 0.        , 0.        ],\n",
              "       [0.        , 0.        , 0.        , 0.        , 0.        ,\n",
              "        0.        , 0.        , 0.        , 0.        , 0.        ,\n",
              "        0.        , 0.        , 0.1372549 , 0.94509804, 0.88235294,\n",
              "        0.62745098, 0.42352941, 0.00392157, 0.        , 0.        ,\n",
              "        0.        , 0.        , 0.        , 0.        , 0.        ,\n",
              "        0.        , 0.        , 0.        ],\n",
              "       [0.        , 0.        , 0.        , 0.        , 0.        ,\n",
              "        0.        , 0.        , 0.        , 0.        , 0.        ,\n",
              "        0.        , 0.        , 0.        , 0.31764706, 0.94117647,\n",
              "        0.99215686, 0.99215686, 0.46666667, 0.09803922, 0.        ,\n",
              "        0.        , 0.        , 0.        , 0.        , 0.        ,\n",
              "        0.        , 0.        , 0.        ],\n",
              "       [0.        , 0.        , 0.        , 0.        , 0.        ,\n",
              "        0.        , 0.        , 0.        , 0.        , 0.        ,\n",
              "        0.        , 0.        , 0.        , 0.        , 0.17647059,\n",
              "        0.72941176, 0.99215686, 0.99215686, 0.58823529, 0.10588235,\n",
              "        0.        , 0.        , 0.        , 0.        , 0.        ,\n",
              "        0.        , 0.        , 0.        ],\n",
              "       [0.        , 0.        , 0.        , 0.        , 0.        ,\n",
              "        0.        , 0.        , 0.        , 0.        , 0.        ,\n",
              "        0.        , 0.        , 0.        , 0.        , 0.        ,\n",
              "        0.0627451 , 0.36470588, 0.98823529, 0.99215686, 0.73333333,\n",
              "        0.        , 0.        , 0.        , 0.        , 0.        ,\n",
              "        0.        , 0.        , 0.        ],\n",
              "       [0.        , 0.        , 0.        , 0.        , 0.        ,\n",
              "        0.        , 0.        , 0.        , 0.        , 0.        ,\n",
              "        0.        , 0.        , 0.        , 0.        , 0.        ,\n",
              "        0.        , 0.        , 0.97647059, 0.99215686, 0.97647059,\n",
              "        0.25098039, 0.        , 0.        , 0.        , 0.        ,\n",
              "        0.        , 0.        , 0.        ],\n",
              "       [0.        , 0.        , 0.        , 0.        , 0.        ,\n",
              "        0.        , 0.        , 0.        , 0.        , 0.        ,\n",
              "        0.        , 0.        , 0.        , 0.        , 0.18039216,\n",
              "        0.50980392, 0.71764706, 0.99215686, 0.99215686, 0.81176471,\n",
              "        0.00784314, 0.        , 0.        , 0.        , 0.        ,\n",
              "        0.        , 0.        , 0.        ],\n",
              "       [0.        , 0.        , 0.        , 0.        , 0.        ,\n",
              "        0.        , 0.        , 0.        , 0.        , 0.        ,\n",
              "        0.        , 0.        , 0.15294118, 0.58039216, 0.89803922,\n",
              "        0.99215686, 0.99215686, 0.99215686, 0.98039216, 0.71372549,\n",
              "        0.        , 0.        , 0.        , 0.        , 0.        ,\n",
              "        0.        , 0.        , 0.        ],\n",
              "       [0.        , 0.        , 0.        , 0.        , 0.        ,\n",
              "        0.        , 0.        , 0.        , 0.        , 0.        ,\n",
              "        0.09411765, 0.44705882, 0.86666667, 0.99215686, 0.99215686,\n",
              "        0.99215686, 0.99215686, 0.78823529, 0.30588235, 0.        ,\n",
              "        0.        , 0.        , 0.        , 0.        , 0.        ,\n",
              "        0.        , 0.        , 0.        ],\n",
              "       [0.        , 0.        , 0.        , 0.        , 0.        ,\n",
              "        0.        , 0.        , 0.        , 0.09019608, 0.25882353,\n",
              "        0.83529412, 0.99215686, 0.99215686, 0.99215686, 0.99215686,\n",
              "        0.77647059, 0.31764706, 0.00784314, 0.        , 0.        ,\n",
              "        0.        , 0.        , 0.        , 0.        , 0.        ,\n",
              "        0.        , 0.        , 0.        ],\n",
              "       [0.        , 0.        , 0.        , 0.        , 0.        ,\n",
              "        0.        , 0.07058824, 0.67058824, 0.85882353, 0.99215686,\n",
              "        0.99215686, 0.99215686, 0.99215686, 0.76470588, 0.31372549,\n",
              "        0.03529412, 0.        , 0.        , 0.        , 0.        ,\n",
              "        0.        , 0.        , 0.        , 0.        , 0.        ,\n",
              "        0.        , 0.        , 0.        ],\n",
              "       [0.        , 0.        , 0.        , 0.        , 0.21568627,\n",
              "        0.6745098 , 0.88627451, 0.99215686, 0.99215686, 0.99215686,\n",
              "        0.99215686, 0.95686275, 0.52156863, 0.04313725, 0.        ,\n",
              "        0.        , 0.        , 0.        , 0.        , 0.        ,\n",
              "        0.        , 0.        , 0.        , 0.        , 0.        ,\n",
              "        0.        , 0.        , 0.        ],\n",
              "       [0.        , 0.        , 0.        , 0.        , 0.53333333,\n",
              "        0.99215686, 0.99215686, 0.99215686, 0.83137255, 0.52941176,\n",
              "        0.51764706, 0.0627451 , 0.        , 0.        , 0.        ,\n",
              "        0.        , 0.        , 0.        , 0.        , 0.        ,\n",
              "        0.        , 0.        , 0.        , 0.        , 0.        ,\n",
              "        0.        , 0.        , 0.        ],\n",
              "       [0.        , 0.        , 0.        , 0.        , 0.        ,\n",
              "        0.        , 0.        , 0.        , 0.        , 0.        ,\n",
              "        0.        , 0.        , 0.        , 0.        , 0.        ,\n",
              "        0.        , 0.        , 0.        , 0.        , 0.        ,\n",
              "        0.        , 0.        , 0.        , 0.        , 0.        ,\n",
              "        0.        , 0.        , 0.        ],\n",
              "       [0.        , 0.        , 0.        , 0.        , 0.        ,\n",
              "        0.        , 0.        , 0.        , 0.        , 0.        ,\n",
              "        0.        , 0.        , 0.        , 0.        , 0.        ,\n",
              "        0.        , 0.        , 0.        , 0.        , 0.        ,\n",
              "        0.        , 0.        , 0.        , 0.        , 0.        ,\n",
              "        0.        , 0.        , 0.        ],\n",
              "       [0.        , 0.        , 0.        , 0.        , 0.        ,\n",
              "        0.        , 0.        , 0.        , 0.        , 0.        ,\n",
              "        0.        , 0.        , 0.        , 0.        , 0.        ,\n",
              "        0.        , 0.        , 0.        , 0.        , 0.        ,\n",
              "        0.        , 0.        , 0.        , 0.        , 0.        ,\n",
              "        0.        , 0.        , 0.        ]])"
            ]
          },
          "metadata": {
            "tags": []
          },
          "execution_count": 10
        }
      ]
    },
    {
      "cell_type": "code",
      "metadata": {
        "id": "tum6Zmk2iG_E",
        "colab": {
          "base_uri": "https://localhost:8080/"
        },
        "outputId": "b6067711-3b75-4c91-d70a-d540b75ea79f"
      },
      "source": [
        "# 4. 레이블 - 원핫인코딩\n",
        "print(train_Y[0])\n",
        "\n",
        "train_Y = tf.keras.utils.to_categorical(train_Y, num_classes=10)\n",
        "test_Y = tf.keras.utils.to_categorical(test_Y, num_classes=10)\n",
        "\n",
        "\n",
        "train_Y[0]"
      ],
      "execution_count": 20,
      "outputs": [
        {
          "output_type": "stream",
          "text": [
            "[1. 0. 0. 0. 0. 0. 0. 0. 0. 0.]\n"
          ],
          "name": "stdout"
        },
        {
          "output_type": "execute_result",
          "data": {
            "text/plain": [
              "array([[0., 1., 0., 0., 0., 0., 0., 0., 0., 0.],\n",
              "       [1., 0., 0., 0., 0., 0., 0., 0., 0., 0.],\n",
              "       [1., 0., 0., 0., 0., 0., 0., 0., 0., 0.],\n",
              "       [1., 0., 0., 0., 0., 0., 0., 0., 0., 0.],\n",
              "       [1., 0., 0., 0., 0., 0., 0., 0., 0., 0.],\n",
              "       [1., 0., 0., 0., 0., 0., 0., 0., 0., 0.],\n",
              "       [1., 0., 0., 0., 0., 0., 0., 0., 0., 0.],\n",
              "       [1., 0., 0., 0., 0., 0., 0., 0., 0., 0.],\n",
              "       [1., 0., 0., 0., 0., 0., 0., 0., 0., 0.],\n",
              "       [1., 0., 0., 0., 0., 0., 0., 0., 0., 0.]], dtype=float32)"
            ]
          },
          "metadata": {
            "tags": []
          },
          "execution_count": 20
        }
      ]
    },
    {
      "cell_type": "code",
      "metadata": {
        "id": "VI1aIIGniMes",
        "colab": {
          "base_uri": "https://localhost:8080/"
        },
        "outputId": "f0797dda-3ce4-4b0b-b7e5-4f0c1427c78a"
      },
      "source": [
        "# 5. 모델 구성\n",
        "Model = tf.keras.Sequential([\n",
        "    tf.keras.layers.Flatten(input_shape = (28, 28)),\n",
        "    tf.keras.layers.Dense(128, activation='relu'),\n",
        "    tf.keras.layers.Dense(10, activation='softmax'),\n",
        "]) \n",
        "model.compile(loss = 'categorical_crossentropy', optimizer=tf.keras.optimizers.Adam(), metrics=['accuracy'])\n",
        "model.summary()"
      ],
      "execution_count": 21,
      "outputs": [
        {
          "output_type": "stream",
          "text": [
            "Model: \"sequential\"\n",
            "_________________________________________________________________\n",
            "Layer (type)                 Output Shape              Param #   \n",
            "=================================================================\n",
            "dense (Dense)                (None, 30)                480       \n",
            "_________________________________________________________________\n",
            "dense_1 (Dense)              (None, 1)                 31        \n",
            "=================================================================\n",
            "Total params: 511\n",
            "Trainable params: 511\n",
            "Non-trainable params: 0\n",
            "_________________________________________________________________\n"
          ],
          "name": "stdout"
        }
      ]
    },
    {
      "cell_type": "code",
      "metadata": {
        "id": "axJMH8xjiNe0"
      },
      "source": [
        "# 6. 모델 학습\n",
        "history = model.fit(train_X, train_Y, epochs = 10, validation_split=0.25)"
      ],
      "execution_count": null,
      "outputs": []
    },
    {
      "cell_type": "code",
      "metadata": {
        "id": "BwjrmcH4iQcM"
      },
      "source": [
        "# 7. 모델 검증\n",
        "model.evaluate(test_X, test_Y)"
      ],
      "execution_count": null,
      "outputs": []
    },
    {
      "cell_type": "code",
      "metadata": {
        "id": "OQvbblCHi0NT"
      },
      "source": [
        "# 8. 모델 예측\n",
        "predict = "
      ],
      "execution_count": null,
      "outputs": []
    },
    {
      "cell_type": "code",
      "metadata": {
        "id": "pW2fkjlcdVPC"
      },
      "source": [
        ""
      ],
      "execution_count": null,
      "outputs": []
    }
  ]
}