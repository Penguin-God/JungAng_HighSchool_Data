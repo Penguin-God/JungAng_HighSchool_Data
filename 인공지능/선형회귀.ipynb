{
  "nbformat": 4,
  "nbformat_minor": 0,
  "metadata": {
    "colab": {
      "name": "선형회귀.ipynb",
      "provenance": []
    },
    "kernelspec": {
      "name": "python3",
      "display_name": "Python 3"
    }
  },
  "cells": [
    {
      "cell_type": "code",
      "metadata": {
        "id": "ZAXjiJfIClSE"
      },
      "source": [
        "import tensorflow as tf\n",
        "import numpy as np\n",
        "import matplotlib.pyplot as plt"
      ],
      "execution_count": 2,
      "outputs": []
    },
    {
      "cell_type": "markdown",
      "metadata": {
        "id": "EI8PVKuNfCoO"
      },
      "source": [
        "# 회귀 모델에 대한 성능 평가 지표들\n",
        "https://partrita.github.io/posts/regression-error/\n",
        "https://dailyheumsi.tistory.com/167"
      ]
    },
    {
      "cell_type": "markdown",
      "metadata": {
        "id": "W3PcM1QSHgN2"
      },
      "source": [
        "# 선형회귀\n",
        " ## 2018년 지역별 인구증가율과 고령인구비율"
      ]
    },
    {
      "cell_type": "code",
      "metadata": {
        "id": "w8Bc4fFCCyUY",
        "outputId": "6aab3036-4e64-4bae-a4d5-7b58671f28cb",
        "colab": {
          "base_uri": "https://localhost:8080/",
          "height": 298
        }
      },
      "source": [
        "#선형회귀 (Linear Regression)\n",
        "pop_inc = [0.3,-0.78,-1.26,0.03,1.11,\n",
        "           15.17,0.24,-0.24,-0.47,-0.77,\n",
        "           -0.37,-0.85,-0.41,-0.27,0.02,\n",
        "           -0.76,2.66]\n",
        "pop_old = [12.27,14.44,11.87,18.75,17.52,\n",
        "           9.29,16.37,19.78,19.51,12.65,\n",
        "           14.74,10.72,21.94,12.83,15.51,\n",
        "           17.14,14.42]\n",
        "print(len(pop_inc), len(pop_old))\n",
        "\n",
        "plt.plot(pop_inc, pop_old, 'bo')\n",
        "plt.xlabel('Population Growth Rate')\n",
        "plt.ylabel('Elderly population Rate')\n",
        "plt.show()"
      ],
      "execution_count": 3,
      "outputs": [
        {
          "output_type": "stream",
          "text": [
            "17 17\n"
          ],
          "name": "stdout"
        },
        {
          "output_type": "display_data",
          "data": {
            "image/png": "[encoded data removed]",
            "text/plain": [
              "<Figure size 432x288 with 1 Axes>"
            ]
          },
          "metadata": {
            "tags": [],
            "needs_background": "light"
          }
        }
      ]
    },
    {
      "cell_type": "code",
      "metadata": {
        "id": "jJXDpfOfEc6s",
        "outputId": "935c045c-5ad9-4afc-a636-ba4c06311779",
        "colab": {
          "base_uri": "https://localhost:8080/",
          "height": 279
        }
      },
      "source": [
        "#극단치 데이터 제거\n",
        "pop_inc = pop_inc[:5] + pop_inc[6:]\n",
        "pop_old = pop_old[:5] + pop_old[6:]\n",
        "\n",
        "plt.plot(pop_inc, pop_old, 'bo')\n",
        "plt.xlabel('Population Growth Rate')\n",
        "plt.ylabel('Elderly population Rate')\n",
        "plt.show()"
      ],
      "execution_count": 4,
      "outputs": [
        {
          "output_type": "display_data",
          "data": {
            "image/png": "[encoded data removed]",
            "text/plain": [
              "<Figure size 432x288 with 1 Axes>"
            ]
          },
          "metadata": {
            "tags": [],
            "needs_background": "light"
          }
        }
      ]
    },
    {
      "cell_type": "markdown",
      "metadata": {
        "id": "jKXuq55VV0QD"
      },
      "source": [
        "### 회귀와 최소 제곱법\n",
        "- https://terms.naver.com/entry.nhn?docId=3569970&cid=58944&categoryId=58970\n",
        "- 예측함수 y =ax + b\n",
        "- 오차는 yi-f(xi)를 최소화하는 것이 좋으며, 이를 위해 최소제곱법 1~n의합(yi-f(xi)^2 = (yi - (axi+b))^2이 되며\n",
        "- 손실함수의 최소값은 편미분이 0이므로 a, b에 대한 편미분을 실시하면\n",
        "- 단, xm, ym은 xi, yi들의 평균값이다.\n",
        "\n",
        "![a, b의 손실함수](https://ncc-phinf.pstatic.net/20130312_19/yksysh_1363052767956xl10F_JPEG/%BF%B9%C0%FC%C4%C1%C5%D9%C3%F7-%BC%F6%C1%A4.jpg?type=w646)\n",
        "\n",
        "\n"
      ]
    },
    {
      "cell_type": "code",
      "metadata": {
        "id": "di9lTeODHe9T",
        "outputId": "d6edef4f-9963-48b8-abc5-34c4e5d12d8d",
        "colab": {
          "base_uri": "https://localhost:8080/",
          "height": 279
        }
      },
      "source": [
        "#최소제곱법으로 회귀선 구하기\n",
        "#1 - train data\n",
        "x = np.array(pop_inc)\n",
        "y = np.array(pop_old)\n",
        "\n",
        "#2 - 최소제곱법 w,b\n",
        "w = np.sum((y - np.mean(y)) * (x - np.mean(x))) / np.sum((x - np.mean(x)) ** 2) # 위에 시그마 있는 식으로 가중치 구함\n",
        "b = np.mean(y) - w * np.mean(x) # 편향수치 구함\n",
        "\n",
        "#3 - 회귀선 구하기\n",
        "line_x = np.arange(min(x), max(x), 0.01)\n",
        "line_y = w * line_x + b\n",
        "\n",
        "#4 - 그래프 그리기\n",
        "plt.plot(line_x, line_y, 'r-')\n",
        "plt.plot(x, y, 'bo')\n",
        "plt.xlabel('Population Growth Rate')\n",
        "plt.ylabel('Elderly population Rate')\n",
        "plt.show()"
      ],
      "execution_count": 5,
      "outputs": [
        {
          "output_type": "display_data",
          "data": {
            "image/png": "[encoded data removed]",
            "text/plain": [
              "<Figure size 432x288 with 1 Axes>"
            ]
          },
          "metadata": {
            "tags": [],
            "needs_background": "light"
          }
        }
      ]
    },
    {
      "cell_type": "markdown",
      "metadata": {
        "id": "UFDfHtVebjPX"
      },
      "source": [
        "# 머신러닝으로 회귀선 구하기\n",
        "## 1차 가설함수 y = wx+b"
      ]
    },
    {
      "cell_type": "code",
      "metadata": {
        "id": "0nnpXPn7ZPaP",
        "outputId": "2bb15583-a485-4126-d7f1-6d5b942dafa7",
        "colab": {
          "base_uri": "https://localhost:8080/",
          "height": 482
        }
      },
      "source": [
        "# 텐서플로우로 회귀선 구하기\n",
        "import tensorflow as tf\n",
        "import random\n",
        "\n",
        "#1 - train data\n",
        "x = np.array(pop_inc)\n",
        "y = np.array(pop_old)\n",
        "\n",
        "#2 - w, b의 랜덤 초기값\n",
        "w = tf.Variable(random.random())\n",
        "b = tf.Variable(random.random())\n",
        "\n",
        "#3 - 손실함수(MSE)\n",
        "def compute_loss():\n",
        "    y_pred = w * x + b\n",
        "    loss = tf.reduce_mean((y - y_pred) ** 2)\n",
        "    return loss # 오차를 리턴\n",
        "\n",
        "#4 - 최적화함수\n",
        "optimizer = tf.optimizers.Adam(lr = 0.07)\n",
        "for i in range(1001):\n",
        "    optimizer.minimize(compute_loss, var_list = [w, b])\n",
        "    if(i % 100 == 0):\n",
        "        print(i, 'w:', w.numpy(), '  b:', b.numpy(), '  loss:', compute_loss().numpy())\n",
        "\n",
        "#5 - 회귀선 구하기\n",
        "line_x = np.arange(min(x), max(x), 0.01)\n",
        "line_y = w * line_x + b\n",
        "\n",
        "#6 - 그래프 그리기\n",
        "plt.plot(line_x, line_y, 'r-')\n",
        "plt.plot(x,y,'bo')\n",
        "plt.xlabel('Population Growth Rate')\n",
        "plt.ylabel('Elderly population Rate')\n",
        "plt.show()"
      ],
      "execution_count": 9,
      "outputs": [
        {
          "output_type": "stream",
          "text": [
            "0 w: 0.46235502   b: 0.9131015   loss: 228.61844\n",
            "100 w: -0.8524574   b: 7.2292123   loss: 80.34029\n",
            "200 w: -0.22261165   b: 11.600818   loss: 26.281841\n",
            "300 w: 0.13643104   b: 14.067082   loss: 12.384476\n",
            "400 w: 0.29675418   b: 15.170646   loss: 10.043863\n",
            "500 w: 0.3532126   b: 15.559366   loss: 9.790415\n",
            "600 w: 0.36893106   b: 15.66759   loss: 9.772793\n",
            "700 w: 0.37239388   b: 15.691432   loss: 9.772009\n",
            "800 w: 0.3729947   b: 15.695568   loss: 9.771987\n",
            "900 w: 0.3730756   b: 15.696127   loss: 9.771986\n",
            "1000 w: 0.37308267   b: 15.696174   loss: 9.771988\n"
          ],
          "name": "stdout"
        },
        {
          "output_type": "display_data",
          "data": {
            "image/png": "[encoded data removed]",
            "text/plain": [
              "<Figure size 432x288 with 1 Axes>"
            ]
          },
          "metadata": {
            "tags": [],
            "needs_background": "light"
          }
        }
      ]
    },
    {
      "cell_type": "code",
      "metadata": {
        "id": "yNikZbcTbiZT"
      },
      "source": [
        "# 텐서플로우로 2차 회귀선 구하기\n",
        "# h(x) = w1*x*x + w2*x + b\n",
        "import tensorflow as tf\n",
        "import random\n"
      ],
      "execution_count": null,
      "outputs": []
    },
    {
      "cell_type": "code",
      "metadata": {
        "id": "ZNDTjbJ_cFrm",
        "outputId": "405d1c30-d2c5-42ae-8936-1568e3099605",
        "colab": {
          "base_uri": "https://localhost:8080/",
          "height": 455
        }
      },
      "source": [
        "# 텐서플로우로 3차 다항식 회귀선 구하기\n",
        "\n",
        "import tensorflow as tf\n",
        "import numpy as np\n",
        "import matplotlib.pyplot as plt\n",
        "import random\n",
        "\n",
        "X = [0.3,-0.78,-1.26,0.03,1.11,0.24,-0.24,-0.47,-0.77,-0.37,-0.85,-0.41,-0.27,0.02,-0.76,2.66]\n",
        "Y = [12.27,14.44,11.87,18.75,17.52,16.37,19.78,19.51,12.65,14.74,10.72,21.94,12.83,15.51,17.14,14.42]\n",
        "\n",
        "#a, b의 랜덤 초기값\n",
        "a = tf.Variable(random.random())\n",
        "b = tf.Variable(random.random())\n",
        "c = tf.Variable(random.random())\n",
        "d = tf.Variable(random.random())\n",
        "\n",
        "#손실함수 : 잔차의 제곱의 평균을 반환하는 함수\n",
        "def compute_loss():\n",
        "    y_pred = a*X*X*X  + b*X*X + c*X + d\n",
        "    loss = tf.reduce_mean((Y-y_pred)**2)\n",
        "    return loss\n",
        "\n",
        "#최적화함수\n",
        "optimizer = tf.optimizers.Adam(lr=0.07)\n",
        "for i in range(1000):\n",
        "    optimizer.minimize(compute_loss, var_list=[a,b,c,d])\n",
        "\n",
        "    if i%100==99:\n",
        "        print(i, 'a:',a.numpy(), 'b:', b.numpy(), 'c:',c.numpy(), 'd:',d.numpy(), 'loss:', compute_loss().numpy())\n",
        "\n",
        "#회귀선 구하기\n",
        "line_x = np.arange(min(X), max(X), 0.01)\n",
        "line_y = a*line_x*line_x + b*line_x*line_x + c*line_x + d\n",
        "\n",
        "#그래프 그리기\n",
        "plt.plot(line_x, line_y, 'r-')\n",
        "plt.plot(X,Y,'bo')\n",
        "plt.xlabel('Population Growth Rate')\n",
        "plt.ylabel('Elderly population Rate')\n",
        "plt.show()"
      ],
      "execution_count": null,
      "outputs": [
        {
          "output_type": "stream",
          "text": [
            "99 a: -0.976277 b: 5.2168646 c: -3.3214083 d: 6.157243 loss: 71.50748\n",
            "199 a: -0.86972666 b: 3.7762454 c: -1.7288661 d: 9.913631 loss: 35.56514\n",
            "299 a: -0.48069263 b: 1.723852 c: -0.25588834 d: 12.724324 loss: 17.926634\n",
            "399 a: -0.07887799 b: 0.09713867 c: 0.39623034 d: 14.64322 loss: 10.891918\n",
            "499 a: 0.24514773 b: -1.0214546 c: 0.58283436 d: 15.800578 loss: 8.59802\n",
            "599 a: 0.45940825 b: -1.6919687 c: 0.5850682 d: 16.425339 loss: 7.9813066\n",
            "699 a: 0.5790425 b: -2.044238 c: 0.5475867 d: 16.729155 loss: 7.8448133\n",
            "799 a: 0.63655543 b: -2.2073889 c: 0.5187119 d: 16.862595 loss: 7.8200636\n",
            "899 a: 0.6606673 b: -2.274287 c: 0.50397676 d: 16.915482 loss: 7.816407\n",
            "999 a: 0.6695537 b: -2.2986343 c: 0.49800953 d: 16.934347 loss: 7.8159704\n"
          ],
          "name": "stdout"
        },
        {
          "output_type": "display_data",
          "data": {
            "image/png": "[encoded data removed]",
            "text/plain": [
              "<Figure size 432x288 with 1 Axes>"
            ]
          },
          "metadata": {
            "tags": [],
            "needs_background": "light"
          }
        }
      ]
    },
    {
      "cell_type": "code",
      "metadata": {
        "id": "1ucwE6iIcsP6"
      },
      "source": [
        "#딥러닝을 이용한 회귀분석\n",
        "#1 - 모델 구성\n",
        "import tensorflow as tf\n",
        "import random\n",
        "\n",
        "x = np.array(pop_inc)\n",
        "y = np.array(pop_old)\n",
        "\n",
        "model = tf.keras.Sequential([\n",
        "    tf.keras.layers.Dense(units = 6, activation = 'sigmoid', input_dim = 1),\n",
        "    tf.keras.layers.Dense(units = 1)\n",
        "])\n",
        "\n",
        "model.compile(optimizer = , loss = '')"
      ],
      "execution_count": 11,
      "outputs": []
    },
    {
      "cell_type": "code",
      "metadata": {
        "id": "d7apk4gadb7G"
      },
      "source": [
        "#2 - 모델 학습\n",
        "model.fit(x, y, epochs = 500)"
      ],
      "execution_count": null,
      "outputs": []
    },
    {
      "cell_type": "code",
      "metadata": {
        "id": "-xVDV7LSdgYP"
      },
      "source": [
        "#3 - 모델 예측\n",
        "model.predict(x)"
      ],
      "execution_count": null,
      "outputs": []
    },
    {
      "cell_type": "code",
      "metadata": {
        "id": "UwsH3YWHdjpD",
        "outputId": "4f256e6e-e5bb-4874-a977-1319031ce157",
        "colab": {
          "base_uri": "https://localhost:8080/",
          "height": 279
        }
      },
      "source": [
        "#4 - 학습 후 회귀선 확인\n",
        "import matplotlib.pyplot as plt\n",
        "\n",
        "line_x = np.arange(min(x), max(x), 0.01)\n",
        "line_y = model.predict(line_x)\n",
        "\n",
        "#5 -그래프 그리기\n",
        "plt.plot(line_x, line_y, 'r-')\n",
        "plt.plot(x,y,'bo')\n",
        "plt.xlabel('Population Growth Rate')\n",
        "plt.ylabel('Elderly population Rate')\n",
        "plt.show()"
      ],
      "execution_count": 14,
      "outputs": [
        {
          "output_type": "display_data",
          "data": {
            "image/png": "[encoded data removed]",
            "text/plain": [
              "<Figure size 432x288 with 1 Axes>"
            ]
          },
          "metadata": {
            "tags": [],
            "needs_background": "light"
          }
        }
      ]
    },
    {
      "cell_type": "code",
      "metadata": {
        "id": "8XOzs5_cZogF"
      },
      "source": [
        "#6 -모델 가중치 확인\n"
      ],
      "execution_count": null,
      "outputs": []
    },
    {
      "cell_type": "code",
      "metadata": {
        "id": "t3C8EL1bZ2jT",
        "outputId": "797b559f-8c05-45e8-84b2-dc26dce10f2d",
        "colab": {
          "base_uri": "https://localhost:8080/",
          "height": 17
        }
      },
      "source": [
        "#7 - 모델 저장\n",
        "# 참고 : https://datascienceschool.net/view-notebook/51e147088d474fe1bf32e394394eaea7/\n"
      ],
      "execution_count": null,
      "outputs": [
        {
          "output_type": "display_data",
          "data": {
            "application/javascript": [
              "\n",
              "    async function download(id, filename, size) {\n",
              "      if (!google.colab.kernel.accessAllowed) {\n",
              "        return;\n",
              "      }\n",
              "      const div = document.createElement('div');\n",
              "      const label = document.createElement('label');\n",
              "      label.textContent = `Downloading \"${filename}\": `;\n",
              "      div.appendChild(label);\n",
              "      const progress = document.createElement('progress');\n",
              "      progress.max = size;\n",
              "      div.appendChild(progress);\n",
              "      document.body.appendChild(div);\n",
              "\n",
              "      const buffers = [];\n",
              "      let downloaded = 0;\n",
              "\n",
              "      const channel = await google.colab.kernel.comms.open(id);\n",
              "      // Send a message to notify the kernel that we're ready.\n",
              "      channel.send({})\n",
              "\n",
              "      for await (const message of channel.messages) {\n",
              "        // Send a message to notify the kernel that we're ready.\n",
              "        channel.send({})\n",
              "        if (message.buffers) {\n",
              "          for (const buffer of message.buffers) {\n",
              "            buffers.push(buffer);\n",
              "            downloaded += buffer.byteLength;\n",
              "            progress.value = downloaded;\n",
              "          }\n",
              "        }\n",
              "      }\n",
              "      const blob = new Blob(buffers, {type: 'application/binary'});\n",
              "      const a = document.createElement('a');\n",
              "      a.href = window.URL.createObjectURL(blob);\n",
              "      a.download = filename;\n",
              "      div.appendChild(a);\n",
              "      a.click();\n",
              "      div.remove();\n",
              "    }\n",
              "  "
            ],
            "text/plain": [
              "<IPython.core.display.Javascript object>"
            ]
          },
          "metadata": {
            "tags": []
          }
        },
        {
          "output_type": "display_data",
          "data": {
            "application/javascript": [
              "download(\"download_0b75750e-4fb1-4362-9146-ae94ed6115b4\", \"my_model.h5\", 16968)"
            ],
            "text/plain": [
              "<IPython.core.display.Javascript object>"
            ]
          },
          "metadata": {
            "tags": []
          }
        }
      ]
    },
    {
      "cell_type": "code",
      "metadata": {
        "id": "CxKsWDAjlpsE"
      },
      "source": [
        "#8 -모델 불러오기\n",
        "from google.colab import files\n",
        "uploaded = files.upload()\n"
      ],
      "execution_count": null,
      "outputs": []
    },
    {
      "cell_type": "code",
      "metadata": {
        "id": "SzJ-b9d4p29X"
      },
      "source": [
        "#9 - 모델 사용하기\n",
        "from tensorflow.keras.models import load_model\n"
      ],
      "execution_count": null,
      "outputs": []
    }
  ]
}