{
  "nbformat": 4,
  "nbformat_minor": 0,
  "metadata": {
    "colab": {
      "name": "제주기온.ipynb",
      "provenance": [],
      "collapsed_sections": []
    },
    "kernelspec": {
      "name": "python3",
      "display_name": "Python 3"
    }
  },
  "cells": [
    {
      "cell_type": "code",
      "metadata": {
        "id": "aWGCrNNzHuLf"
      },
      "source": [
        "import pandas as pd\n",
        "import matplotlib.pyplot as plt\n",
        "%matplotlib inline"
      ],
      "execution_count": 1,
      "outputs": []
    },
    {
      "cell_type": "code",
      "metadata": {
        "id": "eWbYlx1yJeqT"
      },
      "source": [
        "jeju = pd.read_csv('/content/제주기후.csv', encoding=\"CP949\")"
      ],
      "execution_count": 2,
      "outputs": []
    },
    {
      "cell_type": "code",
      "metadata": {
        "id": "0F6UDa64MCjj",
        "outputId": "aaa654b7-b25a-42af-c7f3-e0137ccbb1ad",
        "colab": {
          "base_uri": "https://localhost:8080/",
          "height": 402
        }
      },
      "source": [
        "jeju"
      ],
      "execution_count": 3,
      "outputs": [
        {
          "output_type": "execute_result",
          "data": {
            "text/html": [
              "<div>\n",
              "<style scoped>\n",
              "    .dataframe tbody tr th:only-of-type {\n",
              "        vertical-align: middle;\n",
              "    }\n",
              "\n",
              "    .dataframe tbody tr th {\n",
              "        vertical-align: top;\n",
              "    }\n",
              "\n",
              "    .dataframe thead th {\n",
              "        text-align: right;\n",
              "    }\n",
              "</style>\n",
              "<table border=\"1\" class=\"dataframe\">\n",
              "  <thead>\n",
              "    <tr style=\"text-align: right;\">\n",
              "      <th></th>\n",
              "      <th>날짜</th>\n",
              "      <th>지점</th>\n",
              "      <th>평균기온(℃)</th>\n",
              "      <th>최저기온(℃)</th>\n",
              "      <th>최고기온(℃)</th>\n",
              "    </tr>\n",
              "  </thead>\n",
              "  <tbody>\n",
              "    <tr>\n",
              "      <th>0</th>\n",
              "      <td>1970-01-01</td>\n",
              "      <td>184</td>\n",
              "      <td>5.3</td>\n",
              "      <td>1.5</td>\n",
              "      <td>10.3</td>\n",
              "    </tr>\n",
              "    <tr>\n",
              "      <th>1</th>\n",
              "      <td>1970-01-02</td>\n",
              "      <td>184</td>\n",
              "      <td>6.4</td>\n",
              "      <td>3.2</td>\n",
              "      <td>9.0</td>\n",
              "    </tr>\n",
              "    <tr>\n",
              "      <th>2</th>\n",
              "      <td>1970-01-03</td>\n",
              "      <td>184</td>\n",
              "      <td>5.1</td>\n",
              "      <td>3.2</td>\n",
              "      <td>6.6</td>\n",
              "    </tr>\n",
              "    <tr>\n",
              "      <th>3</th>\n",
              "      <td>1970-01-04</td>\n",
              "      <td>184</td>\n",
              "      <td>1.1</td>\n",
              "      <td>-2.5</td>\n",
              "      <td>4.2</td>\n",
              "    </tr>\n",
              "    <tr>\n",
              "      <th>4</th>\n",
              "      <td>1970-01-05</td>\n",
              "      <td>184</td>\n",
              "      <td>-0.7</td>\n",
              "      <td>-4.6</td>\n",
              "      <td>2.0</td>\n",
              "    </tr>\n",
              "    <tr>\n",
              "      <th>...</th>\n",
              "      <td>...</td>\n",
              "      <td>...</td>\n",
              "      <td>...</td>\n",
              "      <td>...</td>\n",
              "      <td>...</td>\n",
              "    </tr>\n",
              "    <tr>\n",
              "      <th>18568</th>\n",
              "      <td>2020-11-02</td>\n",
              "      <td>184</td>\n",
              "      <td>15.7</td>\n",
              "      <td>12.8</td>\n",
              "      <td>18.5</td>\n",
              "    </tr>\n",
              "    <tr>\n",
              "      <th>18569</th>\n",
              "      <td>2020-11-03</td>\n",
              "      <td>184</td>\n",
              "      <td>13.1</td>\n",
              "      <td>11.8</td>\n",
              "      <td>16.0</td>\n",
              "    </tr>\n",
              "    <tr>\n",
              "      <th>18570</th>\n",
              "      <td>2020-11-04</td>\n",
              "      <td>184</td>\n",
              "      <td>12.0</td>\n",
              "      <td>9.2</td>\n",
              "      <td>15.1</td>\n",
              "    </tr>\n",
              "    <tr>\n",
              "      <th>18571</th>\n",
              "      <td>2020-11-05</td>\n",
              "      <td>184</td>\n",
              "      <td>14.0</td>\n",
              "      <td>8.2</td>\n",
              "      <td>17.9</td>\n",
              "    </tr>\n",
              "    <tr>\n",
              "      <th>18572</th>\n",
              "      <td>2020-11-06</td>\n",
              "      <td>184</td>\n",
              "      <td>17.8</td>\n",
              "      <td>13.8</td>\n",
              "      <td>21.7</td>\n",
              "    </tr>\n",
              "  </tbody>\n",
              "</table>\n",
              "<p>18573 rows × 5 columns</p>\n",
              "</div>"
            ],
            "text/plain": [
              "               날짜   지점  평균기온(℃)  최저기온(℃)  최고기온(℃)\n",
              "0      1970-01-01  184      5.3      1.5     10.3\n",
              "1      1970-01-02  184      6.4      3.2      9.0\n",
              "2      1970-01-03  184      5.1      3.2      6.6\n",
              "3      1970-01-04  184      1.1     -2.5      4.2\n",
              "4      1970-01-05  184     -0.7     -4.6      2.0\n",
              "...           ...  ...      ...      ...      ...\n",
              "18568  2020-11-02  184     15.7     12.8     18.5\n",
              "18569  2020-11-03  184     13.1     11.8     16.0\n",
              "18570  2020-11-04  184     12.0      9.2     15.1\n",
              "18571  2020-11-05  184     14.0      8.2     17.9\n",
              "18572  2020-11-06  184     17.8     13.8     21.7\n",
              "\n",
              "[18573 rows x 5 columns]"
            ]
          },
          "metadata": {
            "tags": []
          },
          "execution_count": 3
        }
      ]
    },
    {
      "cell_type": "code",
      "metadata": {
        "id": "GjoUHKenNCKZ"
      },
      "source": [
        "jeju.columns = ['날짜', '지점', '평균', '최저', '최고']"
      ],
      "execution_count": 4,
      "outputs": []
    },
    {
      "cell_type": "code",
      "metadata": {
        "id": "tISVFTX7SerJ",
        "outputId": "8c3abaf8-4655-4cfe-e299-68bfeb493ebe",
        "colab": {
          "base_uri": "https://localhost:8080/"
        }
      },
      "source": [
        "jeju.count()"
      ],
      "execution_count": 19,
      "outputs": [
        {
          "output_type": "execute_result",
          "data": {
            "text/plain": [
              "날짜    18573\n",
              "지점    18573\n",
              "평균    18573\n",
              "최저    18573\n",
              "최고    18573\n",
              "dtype: int64"
            ]
          },
          "metadata": {
            "tags": []
          },
          "execution_count": 19
        }
      ]
    },
    {
      "cell_type": "code",
      "metadata": {
        "id": "JgvX3SGrSfVw",
        "outputId": "1b045bf6-f5e3-4356-dee8-342449c16f5f",
        "colab": {
          "base_uri": "https://localhost:8080/"
        }
      },
      "source": [
        "import math\n",
        "# 원하는 달의 평균 기온\n",
        "total = 0 \n",
        "index = 0\n",
        "divisionValue = 0\n",
        "for 날짜 in jeju['날짜']:\n",
        "    날짜구분 = 날짜.split('-')\n",
        "    if(날짜구분[1] == '08' and int(날짜구분[0]) >= 2000):\n",
        "        total += jeju['평균'][index]\n",
        "        divisionValue += 1\n",
        "    index += 1\n",
        "total / divisionValue"
      ],
      "execution_count": 6,
      "outputs": [
        {
          "output_type": "execute_result",
          "data": {
            "text/plain": [
              "27.401536098310324"
            ]
          },
          "metadata": {
            "tags": []
          },
          "execution_count": 6
        }
      ]
    },
    {
      "cell_type": "code",
      "metadata": {
        "id": "RtpYtLqQS3JP",
        "outputId": "93d3301c-6c9d-4d0c-d5b3-8892993e8671",
        "colab": {
          "base_uri": "https://localhost:8080/"
        }
      },
      "source": [
        "valueArray = [] # 2000 ~ 2020 년 월 평균값을 넣을 배열\n",
        "total = 0 \n",
        "index = 0\n",
        "divisionValue = 0\n",
        "for Month in range(1,13):\n",
        "    for 날짜 in jeju['날짜']:\n",
        "        날짜구분 = 날짜.split('-')\n",
        "        if(int(날짜구분[1]) == Month and int(날짜구분[0]) >= 2000):\n",
        "            #print(jeju['날짜'][index], Month)\n",
        "            total += jeju['평균'][index]\n",
        "            divisionValue += 1\n",
        "        index += 1\n",
        "    monthAverage = total / divisionValue\n",
        "    index = 0\n",
        "    total = 0\n",
        "    divisionValue = 0\n",
        "    appendValue = \"%0.2f\" % monthAverage\n",
        "    valueArray.append(float(appendValue))\n",
        "valueArray # 월 평균 리스트"
      ],
      "execution_count": 7,
      "outputs": [
        {
          "output_type": "execute_result",
          "data": {
            "text/plain": [
              "[6.06, 6.87, 9.98, 14.29, 18.41, 21.84, 26.28, 27.4, 23.35, 18.75, 13.34, 8.18]"
            ]
          },
          "metadata": {
            "tags": []
          },
          "execution_count": 7
        }
      ]
    },
    {
      "cell_type": "code",
      "metadata": {
        "id": "6yA1kb9sZQWP",
        "outputId": "3a152567-9648-411d-da88-00369aff3f03",
        "colab": {
          "base_uri": "https://localhost:8080/"
        }
      },
      "source": [
        "칼럼 = []\n",
        "일교차 = [] # 1 - 12, 2 - 1, .....순서대로 연교차를 담는 배열 \n",
        "for i in range(len(valueArray)):\n",
        "    # 월교차 구하기\n",
        "    Value = valueArray[i]\n",
        "    subValue = valueArray[i - 1]\n",
        "    월교차 = Value - subValue\n",
        "    월교차편집 = \"%0.2f\" % 월교차\n",
        "    일교차.append(float(월교차편집))\n",
        "    # 편의성 글\n",
        "    ValueIndex = valueArray.index(Value) + 1\n",
        "    subValueIndex = valueArray.index(subValue) + 1\n",
        "    print(str(ValueIndex) + \"월\", \"-\", str(subValueIndex) + \"월\", \" = \", 일교차[i])\n",
        "    칼럼.append(str(ValueIndex) + \"월\" + \" - \" + str(subValueIndex) + \"월\")\n",
        "print(일교차, 칼럼)"
      ],
      "execution_count": 8,
      "outputs": [
        {
          "output_type": "stream",
          "text": [
            "1월 - 12월  =  -2.12\n",
            "2월 - 1월  =  0.81\n",
            "3월 - 2월  =  3.11\n",
            "4월 - 3월  =  4.31\n",
            "5월 - 4월  =  4.12\n",
            "6월 - 5월  =  3.43\n",
            "7월 - 6월  =  4.44\n",
            "8월 - 7월  =  1.12\n",
            "9월 - 8월  =  -4.05\n",
            "10월 - 9월  =  -4.6\n",
            "11월 - 10월  =  -5.41\n",
            "12월 - 11월  =  -5.16\n",
            "[-2.12, 0.81, 3.11, 4.31, 4.12, 3.43, 4.44, 1.12, -4.05, -4.6, -5.41, -5.16] ['1월 - 12월', '2월 - 1월', '3월 - 2월', '4월 - 3월', '5월 - 4월', '6월 - 5월', '7월 - 6월', '8월 - 7월', '9월 - 8월', '10월 - 9월', '11월 - 10월', '12월 - 11월']\n"
          ],
          "name": "stdout"
        }
      ]
    },
    {
      "cell_type": "code",
      "metadata": {
        "id": "u_8t7zqYxK7H",
        "outputId": "8b51e9cf-20d3-4028-f04e-d2c4ced68d3e",
        "colab": {
          "base_uri": "https://localhost:8080/"
        }
      },
      "source": [
        "#한글폰트 설치하기\n",
        "!sudo apt-get install -y fonts-nanum\n",
        "!sudo fc-cache -fv\n",
        "!rm ~/.cache/matplotlib -rf"
      ],
      "execution_count": 9,
      "outputs": [
        {
          "output_type": "stream",
          "text": [
            "Reading package lists... Done\n",
            "Building dependency tree       \n",
            "Reading state information... Done\n",
            "fonts-nanum is already the newest version (20170925-1).\n",
            "0 upgraded, 0 newly installed, 0 to remove and 12 not upgraded.\n",
            "/usr/share/fonts: caching, new cache contents: 0 fonts, 1 dirs\n",
            "/usr/share/fonts/truetype: caching, new cache contents: 0 fonts, 3 dirs\n",
            "/usr/share/fonts/truetype/humor-sans: caching, new cache contents: 1 fonts, 0 dirs\n",
            "/usr/share/fonts/truetype/liberation: caching, new cache contents: 16 fonts, 0 dirs\n",
            "/usr/share/fonts/truetype/nanum: caching, new cache contents: 10 fonts, 0 dirs\n",
            "/usr/local/share/fonts: caching, new cache contents: 0 fonts, 0 dirs\n",
            "/root/.local/share/fonts: skipping, no such directory\n",
            "/root/.fonts: skipping, no such directory\n",
            "/var/cache/fontconfig: cleaning cache directory\n",
            "/root/.cache/fontconfig: not cleaning non-existent cache directory\n",
            "/root/.fontconfig: not cleaning non-existent cache directory\n",
            "fc-cache: succeeded\n"
          ],
          "name": "stdout"
        }
      ]
    },
    {
      "cell_type": "code",
      "metadata": {
        "id": "azMZeOtkyAdx",
        "outputId": "665eba4b-a3b6-407c-dbad-6dfd7ea7a345",
        "colab": {
          "base_uri": "https://localhost:8080/",
          "height": 305
        }
      },
      "source": [
        "\n",
        "#나눔 글꼴 설치하기\n",
        "import matplotlib.pyplot as plt\n",
        "plt.rc('font', family='NanumBarunGothic')\n",
        "\n",
        "월교차 = pd.DataFrame(일교차, index = 칼럼, columns = ['월교차']) # 데이터시각화를 위한 데이터프레임 제작\n",
        "\n",
        "# 선그래프 \n",
        "plt.figure(figsize=(12, 3))\n",
        "plt.plot(칼럼, 일교차, c = 'red')"
      ],
      "execution_count": 10,
      "outputs": [
        {
          "output_type": "execute_result",
          "data": {
            "text/plain": [
              "[<matplotlib.lines.Line2D at 0x7ff0a2c0cb00>]"
            ]
          },
          "metadata": {
            "tags": []
          },
          "execution_count": 10
        },
        {
          "output_type": "stream",
          "text": [
            "/usr/local/lib/python3.6/dist-packages/matplotlib/backends/backend_agg.py:214: RuntimeWarning: Glyph 8722 missing from current font.\n",
            "  font.set_text(s, 0.0, flags=flags)\n",
            "/usr/local/lib/python3.6/dist-packages/matplotlib/backends/backend_agg.py:183: RuntimeWarning: Glyph 8722 missing from current font.\n",
            "  font.set_text(s, 0, flags=flags)\n"
          ],
          "name": "stderr"
        },
        {
          "output_type": "display_data",
          "data": {
            "image/png": "[encoded data removed]",
            "text/plain": [
              "<Figure size 864x216 with 1 Axes>"
            ]
          },
          "metadata": {
            "tags": [],
            "needs_background": "light"
          }
        }
      ]
    },
    {
      "cell_type": "code",
      "metadata": {
        "id": "QbhmR61_0yWB",
        "outputId": "ab886c2b-3d7e-426d-da92-c64f8d5ee94f",
        "colab": {
          "base_uri": "https://localhost:8080/",
          "height": 373
        }
      },
      "source": [
        "# 막대 그래프\n",
        "plt.bar(월교차.index, 월교차['월교차'])\n",
        "plt.xticks(rotation = 45)\n",
        "plt.show()"
      ],
      "execution_count": 11,
      "outputs": [
        {
          "output_type": "stream",
          "text": [
            "/usr/local/lib/python3.6/dist-packages/matplotlib/backends/backend_agg.py:214: RuntimeWarning: Glyph 8722 missing from current font.\n",
            "  font.set_text(s, 0.0, flags=flags)\n",
            "/usr/local/lib/python3.6/dist-packages/matplotlib/backends/backend_agg.py:183: RuntimeWarning: Glyph 8722 missing from current font.\n",
            "  font.set_text(s, 0, flags=flags)\n"
          ],
          "name": "stderr"
        },
        {
          "output_type": "display_data",
          "data": {
            "image/png": "[encoded data removed]",
            "text/plain": [
              "<Figure size 432x288 with 1 Axes>"
            ]
          },
          "metadata": {
            "tags": [],
            "needs_background": "light"
          }
        }
      ]
    },
    {
      "cell_type": "code",
      "metadata": {
        "id": "2QZE7Tgj39lU",
        "outputId": "b4905465-543b-4c24-cf09-1235bee32839",
        "colab": {
          "base_uri": "https://localhost:8080/"
        }
      },
      "source": [
        "absValue = [] # 월 평균 기온차에 절댓값 취하기\n",
        "for i in 일교차:\n",
        "    absValue.append(abs(i))\n",
        "absValue\n"
      ],
      "execution_count": 13,
      "outputs": [
        {
          "output_type": "execute_result",
          "data": {
            "text/plain": [
              "[2.12, 0.81, 3.11, 4.31, 4.12, 3.43, 4.44, 1.12, 4.05, 4.6, 5.41, 5.16]"
            ]
          },
          "metadata": {
            "tags": []
          },
          "execution_count": 13
        }
      ]
    },
    {
      "cell_type": "code",
      "metadata": {
        "id": "ec_m3-vBIB51",
        "outputId": "a1b0b98a-32a7-4843-c799-5a9f4e06c684",
        "colab": {
          "base_uri": "https://localhost:8080/",
          "height": 305
        }
      },
      "source": [
        "plt.figure(figsize=(12, 3))\n",
        "plt.plot(칼럼, absValue, c = 'green')"
      ],
      "execution_count": 14,
      "outputs": [
        {
          "output_type": "execute_result",
          "data": {
            "text/plain": [
              "[<matplotlib.lines.Line2D at 0x7ff0a2697f60>]"
            ]
          },
          "metadata": {
            "tags": []
          },
          "execution_count": 14
        },
        {
          "output_type": "stream",
          "text": [
            "/usr/local/lib/python3.6/dist-packages/matplotlib/backends/backend_agg.py:214: RuntimeWarning: Glyph 8722 missing from current font.\n",
            "  font.set_text(s, 0.0, flags=flags)\n",
            "/usr/local/lib/python3.6/dist-packages/matplotlib/backends/backend_agg.py:183: RuntimeWarning: Glyph 8722 missing from current font.\n",
            "  font.set_text(s, 0, flags=flags)\n"
          ],
          "name": "stderr"
        },
        {
          "output_type": "display_data",
          "data": {
            "image/png": "[encoded data removed]",
            "text/plain": [
              "<Figure size 864x216 with 1 Axes>"
            ]
          },
          "metadata": {
            "tags": [],
            "needs_background": "light"
          }
        }
      ]
    },
    {
      "cell_type": "code",
      "metadata": {
        "id": "qTUWL3HCL9Ti",
        "outputId": "839523e8-5c2e-4bf4-c744-75515bf30b4e",
        "colab": {
          "base_uri": "https://localhost:8080/",
          "height": 299
        }
      },
      "source": [
        "월교차 = pd.DataFrame(일교차, index = 칼럼, columns = ['월교차'])\n",
        "plt.bar(월교차.index, absValue)\n",
        "plt.xticks(rotation = 45)\n",
        "plt.show()"
      ],
      "execution_count": 16,
      "outputs": [
        {
          "output_type": "display_data",
          "data": {
            "image/png": "[encoded data removed]",
            "text/plain": [
              "<Figure size 432x288 with 1 Axes>"
            ]
          },
          "metadata": {
            "tags": [],
            "needs_background": "light"
          }
        }
      ]
    },
    {
      "cell_type": "code",
      "metadata": {
        "id": "CjLX3vsIMAXs"
      },
      "source": [
        ""
      ],
      "execution_count": null,
      "outputs": []
    }
  ]
}