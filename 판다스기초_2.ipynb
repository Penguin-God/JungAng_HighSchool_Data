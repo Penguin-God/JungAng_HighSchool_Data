{
  "nbformat": 4,
  "nbformat_minor": 0,
  "metadata": {
    "colab": {
      "name": "펭귄갓 - 빅데이터분석6-pandas2(수업용)-",
      "provenance": [],
      "collapsed_sections": [],
      "toc_visible": true
    },
    "kernelspec": {
      "name": "python3",
      "display_name": "Python 3"
    }
  },
  "cells": [
    {
      "cell_type": "markdown",
      "metadata": {
        "id": "WdsaGMi1gud5",
        "colab_type": "text"
      },
      "source": [
        "#판다스"
      ]
    },
    {
      "cell_type": "code",
      "metadata": {
        "id": "M2vpntkJg3hD",
        "colab_type": "code",
        "colab": {}
      },
      "source": [
        "import pandas as pd"
      ],
      "execution_count": null,
      "outputs": []
    },
    {
      "cell_type": "code",
      "metadata": {
        "id": "QSucR-68hDgx",
        "colab_type": "code",
        "colab": {}
      },
      "source": [
        "#데이터프레임 - 2차원\n",
        "df=pd.DataFrame({'날짜':['2000-01-01','2000-01-02','2000-01-03'],\n",
        "                 '지점':[108, 108, 108],\n",
        "                 '평균기온':[13.5, 16.2, 16.2],\n",
        "                 '최저기온':[7.9, 7.9, 13.1],       \n",
        "                 '최고기온':[20.7, 22, 21.3]})"
      ],
      "execution_count": null,
      "outputs": []
    },
    {
      "cell_type": "code",
      "metadata": {
        "id": "AwbFlOYYhIjn",
        "colab_type": "code",
        "colab": {}
      },
      "source": [
        "df"
      ],
      "execution_count": null,
      "outputs": []
    },
    {
      "cell_type": "code",
      "metadata": {
        "id": "UcP2oLvHJLJe",
        "colab_type": "code",
        "colab": {}
      },
      "source": [
        "#데이터의 모양살펴보기 -shape"
      ],
      "execution_count": null,
      "outputs": []
    },
    {
      "cell_type": "code",
      "metadata": {
        "id": "ru6QVmXHI6Dc",
        "colab_type": "code",
        "colab": {}
      },
      "source": [
        "df.shape"
      ],
      "execution_count": null,
      "outputs": []
    },
    {
      "cell_type": "code",
      "metadata": {
        "id": "1UbxnUWIJNzp",
        "colab_type": "code",
        "colab": {}
      },
      "source": [
        "# 앞의 n개 데이터 살펴보기(기본값은 5)- head"
      ],
      "execution_count": null,
      "outputs": []
    },
    {
      "cell_type": "code",
      "metadata": {
        "id": "DwR13c5MJPPd",
        "colab_type": "code",
        "colab": {}
      },
      "source": [
        "df.head(3)"
      ],
      "execution_count": null,
      "outputs": []
    },
    {
      "cell_type": "code",
      "metadata": {
        "id": "3IQiANN6JQVz",
        "colab_type": "code",
        "colab": {}
      },
      "source": [
        "# 뒤의 n개 데이터 살펴보기(기본값은 5) tail"
      ],
      "execution_count": null,
      "outputs": []
    },
    {
      "cell_type": "code",
      "metadata": {
        "id": "Cc0RMjrwJSVL",
        "colab_type": "code",
        "colab": {}
      },
      "source": [
        "df.tail()"
      ],
      "execution_count": null,
      "outputs": []
    },
    {
      "cell_type": "code",
      "metadata": {
        "id": "UM2m_aMoJTGC",
        "colab_type": "code",
        "colab": {}
      },
      "source": [
        "#인덱스 ('날짜')로 변경하기(set_index)"
      ],
      "execution_count": null,
      "outputs": []
    },
    {
      "cell_type": "code",
      "metadata": {
        "id": "7L-wi3tlJZe4",
        "colab_type": "code",
        "colab": {}
      },
      "source": [
        "df=df.set_index('날짜')"
      ],
      "execution_count": null,
      "outputs": []
    },
    {
      "cell_type": "code",
      "metadata": {
        "id": "z6EqNjM7JnCh",
        "colab_type": "code",
        "colab": {}
      },
      "source": [
        "df"
      ],
      "execution_count": null,
      "outputs": []
    },
    {
      "cell_type": "code",
      "metadata": {
        "id": "b4UbN0c2MP3X",
        "colab_type": "code",
        "colab": {}
      },
      "source": [
        "#인덱스 리셋하기"
      ],
      "execution_count": null,
      "outputs": []
    },
    {
      "cell_type": "code",
      "metadata": {
        "id": "3nY2cxsPMRjv",
        "colab_type": "code",
        "colab": {}
      },
      "source": [
        "df=df.reset_index()"
      ],
      "execution_count": null,
      "outputs": []
    },
    {
      "cell_type": "code",
      "metadata": {
        "id": "el-KCqK1MScR",
        "colab_type": "code",
        "colab": {}
      },
      "source": [
        "df"
      ],
      "execution_count": null,
      "outputs": []
    },
    {
      "cell_type": "code",
      "metadata": {
        "id": "0dsTk_M-MWxM",
        "colab_type": "code",
        "colab": {}
      },
      "source": [
        "#df.reset_index()가 두번 눌렸다면,\n",
        "df=df.drop(['index'],axis=1)"
      ],
      "execution_count": null,
      "outputs": []
    },
    {
      "cell_type": "code",
      "metadata": {
        "id": "w7a1PcYtMiT7",
        "colab_type": "code",
        "colab": {}
      },
      "source": [
        "# 특정 '날짜' 컬럼 선택하기"
      ],
      "execution_count": null,
      "outputs": []
    },
    {
      "cell_type": "code",
      "metadata": {
        "id": "YR9OlVBOMjIj",
        "colab_type": "code",
        "colab": {}
      },
      "source": [
        "df['날짜']"
      ],
      "execution_count": null,
      "outputs": []
    },
    {
      "cell_type": "code",
      "metadata": {
        "id": "5LU4Au_ZMlqb",
        "colab_type": "code",
        "colab": {}
      },
      "source": [
        "df.날짜"
      ],
      "execution_count": null,
      "outputs": []
    },
    {
      "cell_type": "code",
      "metadata": {
        "id": "7HSkvHxlMnOr",
        "colab_type": "code",
        "colab": {}
      },
      "source": [
        "# 데이터 프레임 컬럼 이름 바꾸기['날짜','지점','평균','최저','최고']"
      ],
      "execution_count": null,
      "outputs": []
    },
    {
      "cell_type": "code",
      "metadata": {
        "id": "e1rYdtITMqf-",
        "colab_type": "code",
        "colab": {}
      },
      "source": [
        "df.columns=['날짜','지점','평균','최저','최고']"
      ],
      "execution_count": null,
      "outputs": []
    },
    {
      "cell_type": "code",
      "metadata": {
        "id": "DDnkJpsjMtUQ",
        "colab_type": "code",
        "colab": {}
      },
      "source": [
        "df"
      ],
      "execution_count": null,
      "outputs": []
    },
    {
      "cell_type": "code",
      "metadata": {
        "id": "_sCMkTF1Mvk9",
        "colab_type": "code",
        "colab": {}
      },
      "source": [
        "#변경한 컬럼 중 '최고' 출력하기"
      ],
      "execution_count": null,
      "outputs": []
    },
    {
      "cell_type": "code",
      "metadata": {
        "id": "WOTxqea8Mx0f",
        "colab_type": "code",
        "colab": {}
      },
      "source": [
        "max=df['최고']"
      ],
      "execution_count": null,
      "outputs": []
    },
    {
      "cell_type": "code",
      "metadata": {
        "id": "BE2paFNTM3bB",
        "colab_type": "code",
        "colab": {}
      },
      "source": [
        "max"
      ],
      "execution_count": null,
      "outputs": []
    },
    {
      "cell_type": "code",
      "metadata": {
        "id": "_d3mzpxdM848",
        "colab_type": "code",
        "colab": {}
      },
      "source": [
        "# ['최저','최고'] 2개 이상의 컬럼 선택하기(리스트 활용)\n",
        "df"
      ],
      "execution_count": null,
      "outputs": []
    },
    {
      "cell_type": "code",
      "metadata": {
        "id": "Bu6qHSJYM_Ht",
        "colab_type": "code",
        "colab": {}
      },
      "source": [
        "df[['최저','최고']]"
      ],
      "execution_count": null,
      "outputs": []
    },
    {
      "cell_type": "markdown",
      "metadata": {
        "id": "xv0MD5CSNw5F",
        "colab_type": "text"
      },
      "source": [
        "#스스로 실습하기"
      ]
    },
    {
      "cell_type": "code",
      "metadata": {
        "id": "B_QabmVTNRbU",
        "colab_type": "code",
        "colab": {}
      },
      "source": [
        "#데이터프레임 - 2차원\n",
        "te=pd.DataFrame({'이름':['지윤','동수','민규'],\n",
        "                 '국어':[100, 98.1, 96],\n",
        "                 '수학':[23.5, 16.2, 75],\n",
        "                 '과학':[88, 95, 100],       \n",
        "                 '정보':[50, 50, 90]})"
      ],
      "execution_count": null,
      "outputs": []
    },
    {
      "cell_type": "code",
      "metadata": {
        "id": "yhqZzF_5NyeW",
        "colab_type": "code",
        "colab": {
          "base_uri": "https://localhost:8080/",
          "height": 52
        },
        "outputId": "0bf6a130-2af4-4836-db9a-10abc4c08bbb"
      },
      "source": [
        "#데이터의 모양살펴보기 -shape\n",
        "te[te['정보'] > 50]['정보']"
      ],
      "execution_count": null,
      "outputs": [
        {
          "output_type": "execute_result",
          "data": {
            "text/plain": [
              "2    90\n",
              "Name: 정보, dtype: int64"
            ]
          },
          "metadata": {
            "tags": []
          },
          "execution_count": 79
        }
      ]
    },
    {
      "cell_type": "code",
      "metadata": {
        "id": "zk6YyWTcN-Ek",
        "colab_type": "code",
        "colab": {}
      },
      "source": [
        "# 앞의 n개 데이터 살펴보기(기본값은 5)- head()"
      ],
      "execution_count": null,
      "outputs": []
    },
    {
      "cell_type": "code",
      "metadata": {
        "id": "f22loEG2N_ih",
        "colab_type": "code",
        "colab": {}
      },
      "source": [
        ""
      ],
      "execution_count": null,
      "outputs": []
    },
    {
      "cell_type": "code",
      "metadata": {
        "id": "dK3n037TOAbA",
        "colab_type": "code",
        "colab": {}
      },
      "source": [
        "# 뒤의 n개 데이터 살펴보기(기본값은 5) tail()"
      ],
      "execution_count": null,
      "outputs": []
    },
    {
      "cell_type": "code",
      "metadata": {
        "id": "Vf5g8nDxOCt6",
        "colab_type": "code",
        "colab": {}
      },
      "source": [
        ""
      ],
      "execution_count": null,
      "outputs": []
    },
    {
      "cell_type": "code",
      "metadata": {
        "id": "6ft0c0aHOEmu",
        "colab_type": "code",
        "colab": {}
      },
      "source": [
        "#전체출력해보기"
      ],
      "execution_count": null,
      "outputs": []
    },
    {
      "cell_type": "code",
      "metadata": {
        "id": "ZdlNn5ssOKsr",
        "colab_type": "code",
        "colab": {}
      },
      "source": [
        ""
      ],
      "execution_count": null,
      "outputs": []
    },
    {
      "cell_type": "code",
      "metadata": {
        "id": "kRzHgezxOHU4",
        "colab_type": "code",
        "colab": {}
      },
      "source": [
        "#인덱스 ('이름')로 변경하기(set_index)"
      ],
      "execution_count": null,
      "outputs": []
    },
    {
      "cell_type": "code",
      "metadata": {
        "id": "7yORvB2xON3D",
        "colab_type": "code",
        "colab": {}
      },
      "source": [
        ""
      ],
      "execution_count": null,
      "outputs": []
    },
    {
      "cell_type": "code",
      "metadata": {
        "id": "40SZKy5NOPCj",
        "colab_type": "code",
        "colab": {}
      },
      "source": [
        "#전체출력해보기"
      ],
      "execution_count": null,
      "outputs": []
    },
    {
      "cell_type": "code",
      "metadata": {
        "id": "uNCwT9HFOQ0s",
        "colab_type": "code",
        "colab": {}
      },
      "source": [
        ""
      ],
      "execution_count": null,
      "outputs": []
    },
    {
      "cell_type": "code",
      "metadata": {
        "id": "IdfijsgMORM3",
        "colab_type": "code",
        "colab": {}
      },
      "source": [
        "#인덱스 리셋하기"
      ],
      "execution_count": null,
      "outputs": []
    },
    {
      "cell_type": "code",
      "metadata": {
        "id": "HakAz-aAOUfm",
        "colab_type": "code",
        "colab": {}
      },
      "source": [
        ""
      ],
      "execution_count": null,
      "outputs": []
    },
    {
      "cell_type": "code",
      "metadata": {
        "id": "gyPyWNjLOU4l",
        "colab_type": "code",
        "colab": {}
      },
      "source": [
        "#전체출력해보기"
      ],
      "execution_count": null,
      "outputs": []
    },
    {
      "cell_type": "code",
      "metadata": {
        "id": "ha1e8If0OW0m",
        "colab_type": "code",
        "colab": {}
      },
      "source": [
        ""
      ],
      "execution_count": null,
      "outputs": []
    },
    {
      "cell_type": "code",
      "metadata": {
        "id": "XQzdxQOGOXUK",
        "colab_type": "code",
        "colab": {}
      },
      "source": [
        "# 특정 '국어' 컬럼 선택하기"
      ],
      "execution_count": null,
      "outputs": []
    },
    {
      "cell_type": "code",
      "metadata": {
        "id": "ZeQ4bLCmOaut",
        "colab_type": "code",
        "colab": {}
      },
      "source": [
        ""
      ],
      "execution_count": null,
      "outputs": []
    },
    {
      "cell_type": "code",
      "metadata": {
        "id": "B4YSxPx8ObCq",
        "colab_type": "code",
        "colab": {}
      },
      "source": [
        ""
      ],
      "execution_count": null,
      "outputs": []
    },
    {
      "cell_type": "code",
      "metadata": {
        "id": "m47WPWI_Obbe",
        "colab_type": "code",
        "colab": {}
      },
      "source": [
        "# 데이터 프레임 컬럼 이름 바꾸기['이름','국','수','과','정']"
      ],
      "execution_count": null,
      "outputs": []
    },
    {
      "cell_type": "code",
      "metadata": {
        "id": "RO1l0BwpOiRk",
        "colab_type": "code",
        "colab": {}
      },
      "source": [
        ""
      ],
      "execution_count": null,
      "outputs": []
    },
    {
      "cell_type": "code",
      "metadata": {
        "id": "nudZpCXwOiyZ",
        "colab_type": "code",
        "colab": {}
      },
      "source": [
        "#변경한 컬럼 중 '정보' 출력하기"
      ],
      "execution_count": null,
      "outputs": []
    },
    {
      "cell_type": "code",
      "metadata": {
        "id": "gmevpQYlOsOr",
        "colab_type": "code",
        "colab": {}
      },
      "source": [
        ""
      ],
      "execution_count": null,
      "outputs": []
    },
    {
      "cell_type": "code",
      "metadata": {
        "id": "79yHrnb9Osz3",
        "colab_type": "code",
        "colab": {}
      },
      "source": [
        "# 물론 특정 컬럼('정보')을 따로 떼어서 저장할 수도 있음"
      ],
      "execution_count": null,
      "outputs": []
    },
    {
      "cell_type": "code",
      "metadata": {
        "id": "uMH6yX0ZO3A4",
        "colab_type": "code",
        "colab": {}
      },
      "source": [
        ""
      ],
      "execution_count": null,
      "outputs": []
    },
    {
      "cell_type": "code",
      "metadata": {
        "id": "95D6RqiJO3a4",
        "colab_type": "code",
        "colab": {}
      },
      "source": [
        "#('정보')데이터 확인하기"
      ],
      "execution_count": null,
      "outputs": []
    },
    {
      "cell_type": "code",
      "metadata": {
        "id": "dDg8v01fO8cP",
        "colab_type": "code",
        "colab": {}
      },
      "source": [
        ""
      ],
      "execution_count": null,
      "outputs": []
    },
    {
      "cell_type": "code",
      "metadata": {
        "id": "UhBpVy1DO8z6",
        "colab_type": "code",
        "colab": {}
      },
      "source": [
        "# ['수학','정보'] 2개 이상의 컬럼 선택하기(리스트 활용)"
      ],
      "execution_count": null,
      "outputs": []
    },
    {
      "cell_type": "markdown",
      "metadata": {
        "id": "zY_vylj7PD1X",
        "colab_type": "text"
      },
      "source": [
        "#파이썬 특정 조건 적용하기"
      ]
    },
    {
      "cell_type": "code",
      "metadata": {
        "id": "CUxm9ZK1PKcj",
        "colab_type": "code",
        "colab": {}
      },
      "source": [
        "df"
      ],
      "execution_count": null,
      "outputs": []
    },
    {
      "cell_type": "code",
      "metadata": {
        "id": "_ABUVNUhPHTY",
        "colab_type": "code",
        "colab": {}
      },
      "source": [
        "#['최고']컬럼의 값이 21보다 큰지 확인"
      ],
      "execution_count": null,
      "outputs": []
    },
    {
      "cell_type": "code",
      "metadata": {
        "id": "lwKwKNWDPNyz",
        "colab_type": "code",
        "colab": {}
      },
      "source": [
        "df['최고']>21"
      ],
      "execution_count": null,
      "outputs": []
    },
    {
      "cell_type": "code",
      "metadata": {
        "id": "ZMgA8BQ8PQWI",
        "colab_type": "code",
        "colab": {}
      },
      "source": [
        "#['최고']컬럼의 값이 21보다 큰 True값만 출력"
      ],
      "execution_count": null,
      "outputs": []
    },
    {
      "cell_type": "code",
      "metadata": {
        "id": "qZdUa10qPUVA",
        "colab_type": "code",
        "colab": {}
      },
      "source": [
        "df[df['최고']>21]"
      ],
      "execution_count": null,
      "outputs": []
    },
    {
      "cell_type": "code",
      "metadata": {
        "id": "mb48sU4gPXKg",
        "colab_type": "code",
        "colab": {}
      },
      "source": [
        "#인덱스 ('날짜')로 다시 바꾸기"
      ],
      "execution_count": null,
      "outputs": []
    },
    {
      "cell_type": "code",
      "metadata": {
        "id": "1A9qhKb-PdJU",
        "colab_type": "code",
        "colab": {}
      },
      "source": [
        "df1=df.set_index('날짜')"
      ],
      "execution_count": null,
      "outputs": []
    },
    {
      "cell_type": "code",
      "metadata": {
        "id": "ydIIASr9Phiu",
        "colab_type": "code",
        "colab": {}
      },
      "source": [
        "df1"
      ],
      "execution_count": null,
      "outputs": []
    },
    {
      "cell_type": "code",
      "metadata": {
        "id": "92UThz69PsxC",
        "colab_type": "code",
        "colab": {}
      },
      "source": [
        "# 특정 인덱스 선택하기(loc)\n",
        "#'2000-01-01' 인덱스 선택하기"
      ],
      "execution_count": null,
      "outputs": []
    },
    {
      "cell_type": "code",
      "metadata": {
        "id": "GZzxz1qePuAN",
        "colab_type": "code",
        "colab": {}
      },
      "source": [
        "df1.loc['2000-01-01']"
      ],
      "execution_count": null,
      "outputs": []
    },
    {
      "cell_type": "code",
      "metadata": {
        "id": "Ej6xt8s6Pw_N",
        "colab_type": "code",
        "colab": {}
      },
      "source": [
        "# 특정 인덱스로 슬라이싱하기\n",
        "# '2000-01-01\t'부터 '2000-01-03\t'까지 인덱스 슬라이싱\n",
        "# a이상 b이하! , b도 포함 !"
      ],
      "execution_count": null,
      "outputs": []
    },
    {
      "cell_type": "code",
      "metadata": {
        "id": "0c7yEKwuPzao",
        "colab_type": "code",
        "colab": {}
      },
      "source": [
        "df1.loc['2000-01-01':'2000-01-03']"
      ],
      "execution_count": null,
      "outputs": []
    },
    {
      "cell_type": "code",
      "metadata": {
        "id": "EjPazNW9P06Q",
        "colab_type": "code",
        "colab": {}
      },
      "source": [
        "# '2020-01-01'부터 끝까지 인덱스 슬라이싱"
      ],
      "execution_count": null,
      "outputs": []
    },
    {
      "cell_type": "code",
      "metadata": {
        "id": "L8rh34pJQA4S",
        "colab_type": "code",
        "colab": {}
      },
      "source": [
        "df1.loc['2000-01-01':]"
      ],
      "execution_count": null,
      "outputs": []
    },
    {
      "cell_type": "code",
      "metadata": {
        "id": "ni1O6sHkQMsi",
        "colab_type": "code",
        "colab": {}
      },
      "source": [
        "# '2020-01-01'인덱스, '2020-01-03'인덱스 추출하기 (2개 이상 일때 리스트 사용)"
      ],
      "execution_count": null,
      "outputs": []
    },
    {
      "cell_type": "code",
      "metadata": {
        "id": "Bv6kxSL5Qj5o",
        "colab_type": "code",
        "colab": {}
      },
      "source": [
        "df1.loc[['2000-01-01','2000-01-03']]"
      ],
      "execution_count": null,
      "outputs": []
    },
    {
      "cell_type": "code",
      "metadata": {
        "id": "qgMCmjD5Qr9j",
        "colab_type": "code",
        "colab": {}
      },
      "source": [
        "#인덱스, 컬럼 아니고 특정 데이터 추출하기"
      ],
      "execution_count": null,
      "outputs": []
    },
    {
      "cell_type": "code",
      "metadata": {
        "id": "vvfDnuS8RJkr",
        "colab_type": "code",
        "colab": {}
      },
      "source": [
        "df1.loc['2000-01-01','최고']"
      ],
      "execution_count": null,
      "outputs": []
    },
    {
      "cell_type": "code",
      "metadata": {
        "id": "m4NwGalZRd6S",
        "colab_type": "code",
        "colab": {}
      },
      "source": [
        "# 데이터 위치에 따른 선택(iloc)-index location\n",
        "# 인덱스 -2번째 데이터 출력"
      ],
      "execution_count": null,
      "outputs": []
    },
    {
      "cell_type": "code",
      "metadata": {
        "id": "AIh9PP3lRfSb",
        "colab_type": "code",
        "colab": {}
      },
      "source": [
        "df1.iloc[-2]"
      ],
      "execution_count": null,
      "outputs": []
    },
    {
      "cell_type": "code",
      "metadata": {
        "id": "QWmGSgb0RlWd",
        "colab_type": "code",
        "colab": {}
      },
      "source": [
        "# 인덱스 -2번째부터 끝까지 데이터 슬라이싱"
      ],
      "execution_count": null,
      "outputs": []
    },
    {
      "cell_type": "code",
      "metadata": {
        "id": "utrRkBuxRnYM",
        "colab_type": "code",
        "colab": {}
      },
      "source": [
        "df1.iloc[-2:]"
      ],
      "execution_count": null,
      "outputs": []
    },
    {
      "cell_type": "code",
      "metadata": {
        "id": "_MhbcqcrRv5E",
        "colab_type": "code",
        "colab": {}
      },
      "source": [
        "#인덱스 -2번째부터 끝까지, 컬럼 -1번째 데이터 출력"
      ],
      "execution_count": null,
      "outputs": []
    },
    {
      "cell_type": "code",
      "metadata": {
        "id": "A2jSzH-8R033",
        "colab_type": "code",
        "colab": {}
      },
      "source": [
        "df.iloc[-2:,-1]"
      ],
      "execution_count": null,
      "outputs": []
    },
    {
      "cell_type": "markdown",
      "metadata": {
        "id": "d2MwBqhHR7x5",
        "colab_type": "text"
      },
      "source": [
        "#실습해보기2"
      ]
    },
    {
      "cell_type": "code",
      "metadata": {
        "id": "aELVS6CPR7PR",
        "colab_type": "code",
        "colab": {}
      },
      "source": [
        "#데이터프레임 - 2차원\n",
        "te=pd.DataFrame({'이름':['지윤','동수','민규'],\n",
        "                 '국어':[100, 98.1, 96],\n",
        "                 '수학':[23.5, 16.2, 75],\n",
        "                 '과학':[88, 95, 100],       \n",
        "                 '정보':[50, 50, 90]})"
      ],
      "execution_count": null,
      "outputs": []
    },
    {
      "cell_type": "code",
      "metadata": {
        "id": "njiIk4Q9SCI_",
        "colab_type": "code",
        "colab": {}
      },
      "source": [
        "# 특정 컬럼에 조건 적용하기\n",
        "#['수학']컬럼의 값이 20보다 큰지 확인"
      ],
      "execution_count": null,
      "outputs": []
    },
    {
      "cell_type": "code",
      "metadata": {
        "id": "NGT0Zk4RSN4U",
        "colab_type": "code",
        "colab": {}
      },
      "source": [
        ""
      ],
      "execution_count": null,
      "outputs": []
    },
    {
      "cell_type": "code",
      "metadata": {
        "id": "UKnxHO1sSOZW",
        "colab_type": "code",
        "colab": {}
      },
      "source": [
        "# 특정 컬럼에 조건이 참인 데이터만 추리기\n",
        "#['수학']컬럼의 값이 20보다 큰 True값만 출력"
      ],
      "execution_count": null,
      "outputs": []
    },
    {
      "cell_type": "code",
      "metadata": {
        "id": "3daN46ltSSSH",
        "colab_type": "code",
        "colab": {}
      },
      "source": [
        ""
      ],
      "execution_count": null,
      "outputs": []
    },
    {
      "cell_type": "code",
      "metadata": {
        "id": "uwYd1g9JSnzr",
        "colab_type": "code",
        "colab": {}
      },
      "source": [
        "#인덱스 ('이름')으로 바꾸기"
      ],
      "execution_count": null,
      "outputs": []
    },
    {
      "cell_type": "code",
      "metadata": {
        "id": "gEdTFBW9Sq5I",
        "colab_type": "code",
        "colab": {
          "base_uri": "https://localhost:8080/",
          "height": 431
        },
        "outputId": "03133f7f-a467-4452-a9fa-fc27d163c54f"
      },
      "source": [
        "df.set_index('날짜')"
      ],
      "execution_count": null,
      "outputs": [
        {
          "output_type": "execute_result",
          "data": {
            "text/html": [
              "<div>\n",
              "<style scoped>\n",
              "    .dataframe tbody tr th:only-of-type {\n",
              "        vertical-align: middle;\n",
              "    }\n",
              "\n",
              "    .dataframe tbody tr th {\n",
              "        vertical-align: top;\n",
              "    }\n",
              "\n",
              "    .dataframe thead th {\n",
              "        text-align: right;\n",
              "    }\n",
              "</style>\n",
              "<table border=\"1\" class=\"dataframe\">\n",
              "  <thead>\n",
              "    <tr style=\"text-align: right;\">\n",
              "      <th></th>\n",
              "      <th>지점</th>\n",
              "      <th>평균기온(℃)</th>\n",
              "      <th>최저기온(℃)</th>\n",
              "      <th>최고기온(℃)</th>\n",
              "    </tr>\n",
              "    <tr>\n",
              "      <th>날짜</th>\n",
              "      <th></th>\n",
              "      <th></th>\n",
              "      <th></th>\n",
              "      <th></th>\n",
              "    </tr>\n",
              "  </thead>\n",
              "  <tbody>\n",
              "    <tr>\n",
              "      <th>2000-01-01</th>\n",
              "      <td>184</td>\n",
              "      <td>12.2</td>\n",
              "      <td>8.3</td>\n",
              "      <td>16.0</td>\n",
              "    </tr>\n",
              "    <tr>\n",
              "      <th>2000-01-02</th>\n",
              "      <td>184</td>\n",
              "      <td>10.8</td>\n",
              "      <td>7.5</td>\n",
              "      <td>17.2</td>\n",
              "    </tr>\n",
              "    <tr>\n",
              "      <th>2000-01-03</th>\n",
              "      <td>184</td>\n",
              "      <td>6.6</td>\n",
              "      <td>3.6</td>\n",
              "      <td>8.9</td>\n",
              "    </tr>\n",
              "    <tr>\n",
              "      <th>2000-01-04</th>\n",
              "      <td>184</td>\n",
              "      <td>9.4</td>\n",
              "      <td>3.2</td>\n",
              "      <td>15.5</td>\n",
              "    </tr>\n",
              "    <tr>\n",
              "      <th>2000-01-05</th>\n",
              "      <td>184</td>\n",
              "      <td>14.2</td>\n",
              "      <td>8.9</td>\n",
              "      <td>17.5</td>\n",
              "    </tr>\n",
              "    <tr>\n",
              "      <th>...</th>\n",
              "      <td>...</td>\n",
              "      <td>...</td>\n",
              "      <td>...</td>\n",
              "      <td>...</td>\n",
              "    </tr>\n",
              "    <tr>\n",
              "      <th>2020-09-12</th>\n",
              "      <td>184</td>\n",
              "      <td>23.1</td>\n",
              "      <td>21.6</td>\n",
              "      <td>25.5</td>\n",
              "    </tr>\n",
              "    <tr>\n",
              "      <th>2020-09-13</th>\n",
              "      <td>184</td>\n",
              "      <td>23.0</td>\n",
              "      <td>21.7</td>\n",
              "      <td>26.1</td>\n",
              "    </tr>\n",
              "    <tr>\n",
              "      <th>2020-09-14</th>\n",
              "      <td>184</td>\n",
              "      <td>23.3</td>\n",
              "      <td>21.8</td>\n",
              "      <td>25.9</td>\n",
              "    </tr>\n",
              "    <tr>\n",
              "      <th>2020-09-15</th>\n",
              "      <td>184</td>\n",
              "      <td>23.7</td>\n",
              "      <td>21.0</td>\n",
              "      <td>25.8</td>\n",
              "    </tr>\n",
              "    <tr>\n",
              "      <th>2020-09-16</th>\n",
              "      <td>184</td>\n",
              "      <td>23.5</td>\n",
              "      <td>21.5</td>\n",
              "      <td>28.3</td>\n",
              "    </tr>\n",
              "  </tbody>\n",
              "</table>\n",
              "<p>7565 rows × 4 columns</p>\n",
              "</div>"
            ],
            "text/plain": [
              "             지점  평균기온(℃)  최저기온(℃)  최고기온(℃)\n",
              "날짜                                        \n",
              "2000-01-01  184     12.2      8.3     16.0\n",
              "2000-01-02  184     10.8      7.5     17.2\n",
              "2000-01-03  184      6.6      3.6      8.9\n",
              "2000-01-04  184      9.4      3.2     15.5\n",
              "2000-01-05  184     14.2      8.9     17.5\n",
              "...         ...      ...      ...      ...\n",
              "2020-09-12  184     23.1     21.6     25.5\n",
              "2020-09-13  184     23.0     21.7     26.1\n",
              "2020-09-14  184     23.3     21.8     25.9\n",
              "2020-09-15  184     23.7     21.0     25.8\n",
              "2020-09-16  184     23.5     21.5     28.3\n",
              "\n",
              "[7565 rows x 4 columns]"
            ]
          },
          "metadata": {
            "tags": []
          },
          "execution_count": 65
        }
      ]
    },
    {
      "cell_type": "code",
      "metadata": {
        "id": "-SXYvPQHSsmt",
        "colab_type": "code",
        "colab": {}
      },
      "source": [
        "# 특정 인덱스 선택하기(loc)\n",
        "#'지윤' 인덱스 선택하기"
      ],
      "execution_count": null,
      "outputs": []
    },
    {
      "cell_type": "code",
      "metadata": {
        "id": "hrUF-QcXSxUG",
        "colab_type": "code",
        "colab": {
          "base_uri": "https://localhost:8080/",
          "height": 47
        },
        "outputId": "c3519a18-7ae5-4681-c4e3-080945ebeef2"
      },
      "source": [
        "df.loc['2020-08-01' : '2020-08-31']"
      ],
      "execution_count": null,
      "outputs": [
        {
          "output_type": "execute_result",
          "data": {
            "text/html": [
              "<div>\n",
              "<style scoped>\n",
              "    .dataframe tbody tr th:only-of-type {\n",
              "        vertical-align: middle;\n",
              "    }\n",
              "\n",
              "    .dataframe tbody tr th {\n",
              "        vertical-align: top;\n",
              "    }\n",
              "\n",
              "    .dataframe thead th {\n",
              "        text-align: right;\n",
              "    }\n",
              "</style>\n",
              "<table border=\"1\" class=\"dataframe\">\n",
              "  <thead>\n",
              "    <tr style=\"text-align: right;\">\n",
              "      <th></th>\n",
              "      <th>날짜</th>\n",
              "      <th>지점</th>\n",
              "      <th>평균기온(℃)</th>\n",
              "      <th>최저기온(℃)</th>\n",
              "      <th>최고기온(℃)</th>\n",
              "    </tr>\n",
              "  </thead>\n",
              "  <tbody>\n",
              "  </tbody>\n",
              "</table>\n",
              "</div>"
            ],
            "text/plain": [
              "Empty DataFrame\n",
              "Columns: [날짜, 지점, 평균기온(℃), 최저기온(℃), 최고기온(℃)]\n",
              "Index: []"
            ]
          },
          "metadata": {
            "tags": []
          },
          "execution_count": 66
        }
      ]
    },
    {
      "cell_type": "code",
      "metadata": {
        "id": "8-9h8eDnSzFh",
        "colab_type": "code",
        "colab": {}
      },
      "source": [
        "# 특정 인덱스로 슬라이싱하기\n",
        "# '지윤'부터 '동수'까지 인덱스 슬라이싱\n",
        "# a이상 b이하! , b도 포함 !"
      ],
      "execution_count": null,
      "outputs": []
    },
    {
      "cell_type": "code",
      "metadata": {
        "id": "sPrEf4xgSzCY",
        "colab_type": "code",
        "colab": {}
      },
      "source": [
        ""
      ],
      "execution_count": null,
      "outputs": []
    },
    {
      "cell_type": "code",
      "metadata": {
        "id": "K9AXcBaETdX1",
        "colab_type": "code",
        "colab": {}
      },
      "source": [
        "# '지윤'부터 끝까지 인덱스 슬라이싱"
      ],
      "execution_count": null,
      "outputs": []
    },
    {
      "cell_type": "code",
      "metadata": {
        "id": "5YlvkkuKTge1",
        "colab_type": "code",
        "colab": {}
      },
      "source": [
        ""
      ],
      "execution_count": null,
      "outputs": []
    },
    {
      "cell_type": "code",
      "metadata": {
        "id": "izmWm-M8ThTn",
        "colab_type": "code",
        "colab": {}
      },
      "source": [
        "# '지윤'인덱스, '민규'인덱스 추출하기 (2개 이상 일때 리스트 사용)"
      ],
      "execution_count": null,
      "outputs": []
    },
    {
      "cell_type": "code",
      "metadata": {
        "id": "KxNY7WZmTqhM",
        "colab_type": "code",
        "colab": {}
      },
      "source": [
        ""
      ],
      "execution_count": null,
      "outputs": []
    },
    {
      "cell_type": "code",
      "metadata": {
        "id": "8iVqZ1AMTrLk",
        "colab_type": "code",
        "colab": {}
      },
      "source": [
        "# 데이터 위치에 따른 선택(iloc)-index location\n",
        "# 인덱스 -2번째 데이터 출력"
      ],
      "execution_count": null,
      "outputs": []
    },
    {
      "cell_type": "code",
      "metadata": {
        "id": "WNuAmlGATwMA",
        "colab_type": "code",
        "colab": {}
      },
      "source": [
        ""
      ],
      "execution_count": null,
      "outputs": []
    },
    {
      "cell_type": "code",
      "metadata": {
        "id": "PNtbJoEwTwwD",
        "colab_type": "code",
        "colab": {}
      },
      "source": [
        "# 인덱스 -3번째부터 끝까지 데이터 슬라이싱"
      ],
      "execution_count": null,
      "outputs": []
    },
    {
      "cell_type": "code",
      "metadata": {
        "id": "eLc_j-qZTzfd",
        "colab_type": "code",
        "colab": {}
      },
      "source": [
        ""
      ],
      "execution_count": null,
      "outputs": []
    },
    {
      "cell_type": "code",
      "metadata": {
        "id": "Hj2rsCWbT1sm",
        "colab_type": "code",
        "colab": {}
      },
      "source": [
        "#인덱스 -5번째부터 끝까지, 컬럼 -1번째 데이터 출력"
      ],
      "execution_count": null,
      "outputs": []
    },
    {
      "cell_type": "code",
      "metadata": {
        "id": "irYYv9FgT2wn",
        "colab_type": "code",
        "colab": {}
      },
      "source": [
        ""
      ],
      "execution_count": null,
      "outputs": []
    },
    {
      "cell_type": "markdown",
      "metadata": {
        "id": "kHD-XQ5LT4wg",
        "colab_type": "text"
      },
      "source": [
        "#데이터 정보 확인하기"
      ]
    },
    {
      "cell_type": "code",
      "metadata": {
        "id": "mnU3k-tRVd80",
        "colab_type": "code",
        "colab": {}
      },
      "source": [
        "#데이터프레임 - 2차원\n",
        "디에프=pd.DataFrame({'날짜':['2000-01-01','2000-01-02','2000-01-03'],\n",
        "                 '지점':[108, 108, 108],\n",
        "                 '평균기온':[13.5, 16.2, 16.2],\n",
        "                 '최저기온':[7.9, 7.9, 13.1],       \n",
        "                 '최고기온':[20.7, 22, 21.3]})"
      ],
      "execution_count": null,
      "outputs": []
    },
    {
      "cell_type": "code",
      "metadata": {
        "id": "-wB8-UzBT7YM",
        "colab_type": "code",
        "colab": {}
      },
      "source": [
        "# 데이터 정보 확인하기"
      ],
      "execution_count": null,
      "outputs": []
    },
    {
      "cell_type": "code",
      "metadata": {
        "id": "N8ydkXvqT_ko",
        "colab_type": "code",
        "colab": {
          "base_uri": "https://localhost:8080/",
          "height": 228
        },
        "outputId": "f63ac0f0-eb45-4eb0-8951-980d62641c3f"
      },
      "source": [
        "디에프.info()"
      ],
      "execution_count": null,
      "outputs": [
        {
          "output_type": "stream",
          "text": [
            "<class 'pandas.core.frame.DataFrame'>\n",
            "RangeIndex: 3 entries, 0 to 2\n",
            "Data columns (total 5 columns):\n",
            " #   Column  Non-Null Count  Dtype  \n",
            "---  ------  --------------  -----  \n",
            " 0   날짜      3 non-null      object \n",
            " 1   지점      3 non-null      int64  \n",
            " 2   평균기온    3 non-null      float64\n",
            " 3   최저기온    3 non-null      float64\n",
            " 4   최고기온    3 non-null      float64\n",
            "dtypes: float64(3), int64(1), object(1)\n",
            "memory usage: 248.0+ bytes\n"
          ],
          "name": "stdout"
        }
      ]
    },
    {
      "cell_type": "code",
      "metadata": {
        "id": "L8HrAEDpUAeI",
        "colab_type": "code",
        "colab": {}
      },
      "source": [
        "# 통계적 특성 확인하기"
      ],
      "execution_count": null,
      "outputs": []
    },
    {
      "cell_type": "code",
      "metadata": {
        "id": "YqRxPw2mUE8e",
        "colab_type": "code",
        "colab": {
          "base_uri": "https://localhost:8080/",
          "height": 284
        },
        "outputId": "d5fc291a-b424-48b2-86ce-9912c9567105"
      },
      "source": [
        "디에프.describe()"
      ],
      "execution_count": null,
      "outputs": [
        {
          "output_type": "execute_result",
          "data": {
            "text/html": [
              "<div>\n",
              "<style scoped>\n",
              "    .dataframe tbody tr th:only-of-type {\n",
              "        vertical-align: middle;\n",
              "    }\n",
              "\n",
              "    .dataframe tbody tr th {\n",
              "        vertical-align: top;\n",
              "    }\n",
              "\n",
              "    .dataframe thead th {\n",
              "        text-align: right;\n",
              "    }\n",
              "</style>\n",
              "<table border=\"1\" class=\"dataframe\">\n",
              "  <thead>\n",
              "    <tr style=\"text-align: right;\">\n",
              "      <th></th>\n",
              "      <th>지점</th>\n",
              "      <th>평균기온</th>\n",
              "      <th>최저기온</th>\n",
              "      <th>최고기온</th>\n",
              "    </tr>\n",
              "  </thead>\n",
              "  <tbody>\n",
              "    <tr>\n",
              "      <th>count</th>\n",
              "      <td>3.0</td>\n",
              "      <td>3.000000</td>\n",
              "      <td>3.000000</td>\n",
              "      <td>3.000000</td>\n",
              "    </tr>\n",
              "    <tr>\n",
              "      <th>mean</th>\n",
              "      <td>108.0</td>\n",
              "      <td>15.300000</td>\n",
              "      <td>9.633333</td>\n",
              "      <td>21.333333</td>\n",
              "    </tr>\n",
              "    <tr>\n",
              "      <th>std</th>\n",
              "      <td>0.0</td>\n",
              "      <td>1.558846</td>\n",
              "      <td>3.002221</td>\n",
              "      <td>0.650641</td>\n",
              "    </tr>\n",
              "    <tr>\n",
              "      <th>min</th>\n",
              "      <td>108.0</td>\n",
              "      <td>13.500000</td>\n",
              "      <td>7.900000</td>\n",
              "      <td>20.700000</td>\n",
              "    </tr>\n",
              "    <tr>\n",
              "      <th>25%</th>\n",
              "      <td>108.0</td>\n",
              "      <td>14.850000</td>\n",
              "      <td>7.900000</td>\n",
              "      <td>21.000000</td>\n",
              "    </tr>\n",
              "    <tr>\n",
              "      <th>50%</th>\n",
              "      <td>108.0</td>\n",
              "      <td>16.200000</td>\n",
              "      <td>7.900000</td>\n",
              "      <td>21.300000</td>\n",
              "    </tr>\n",
              "    <tr>\n",
              "      <th>75%</th>\n",
              "      <td>108.0</td>\n",
              "      <td>16.200000</td>\n",
              "      <td>10.500000</td>\n",
              "      <td>21.650000</td>\n",
              "    </tr>\n",
              "    <tr>\n",
              "      <th>max</th>\n",
              "      <td>108.0</td>\n",
              "      <td>16.200000</td>\n",
              "      <td>13.100000</td>\n",
              "      <td>22.000000</td>\n",
              "    </tr>\n",
              "  </tbody>\n",
              "</table>\n",
              "</div>"
            ],
            "text/plain": [
              "          지점       평균기온       최저기온       최고기온\n",
              "count    3.0   3.000000   3.000000   3.000000\n",
              "mean   108.0  15.300000   9.633333  21.333333\n",
              "std      0.0   1.558846   3.002221   0.650641\n",
              "min    108.0  13.500000   7.900000  20.700000\n",
              "25%    108.0  14.850000   7.900000  21.000000\n",
              "50%    108.0  16.200000   7.900000  21.300000\n",
              "75%    108.0  16.200000  10.500000  21.650000\n",
              "max    108.0  16.200000  13.100000  22.000000"
            ]
          },
          "metadata": {
            "tags": []
          },
          "execution_count": 84
        }
      ]
    },
    {
      "cell_type": "code",
      "metadata": {
        "id": "L9MndTXKUhKb",
        "colab_type": "code",
        "colab": {}
      },
      "source": [
        "# ['최고'] 컬럼의 최대값 구하기"
      ],
      "execution_count": null,
      "outputs": []
    },
    {
      "cell_type": "code",
      "metadata": {
        "id": "oEKxtFJLUscB",
        "colab_type": "code",
        "colab": {
          "base_uri": "https://localhost:8080/",
          "height": 34
        },
        "outputId": "6c3ccd19-54a3-453f-f268-fd1324439626"
      },
      "source": [
        "디에프['최고기온'].max()"
      ],
      "execution_count": null,
      "outputs": [
        {
          "output_type": "execute_result",
          "data": {
            "text/plain": [
              "22.0"
            ]
          },
          "metadata": {
            "tags": []
          },
          "execution_count": 91
        }
      ]
    },
    {
      "cell_type": "code",
      "metadata": {
        "id": "2RtUUsnnUth7",
        "colab_type": "code",
        "colab": {}
      },
      "source": [
        "# ['최고'] 컬럼의 최소값 구하기"
      ],
      "execution_count": null,
      "outputs": []
    },
    {
      "cell_type": "code",
      "metadata": {
        "id": "UTJGKcA2U6FQ",
        "colab_type": "code",
        "colab": {}
      },
      "source": [
        ""
      ],
      "execution_count": null,
      "outputs": []
    },
    {
      "cell_type": "markdown",
      "metadata": {
        "id": "mItAjrYdVkgu",
        "colab_type": "text"
      },
      "source": [
        "#실습해보기3"
      ]
    },
    {
      "cell_type": "code",
      "metadata": {
        "id": "fogYW9FyVmoh",
        "colab_type": "code",
        "colab": {}
      },
      "source": [
        "#데이터프레임 - 2차원\n",
        "te=pd.DataFrame({'이름':['지윤','동수','민규'],\n",
        "                 '국어':[100, 98.1, 96],\n",
        "                 '수학':[23.5, 16.2, 75],\n",
        "                 '과학':[88, 95, 100],       \n",
        "                 '정보':[50, 50, 90]})"
      ],
      "execution_count": null,
      "outputs": []
    },
    {
      "cell_type": "code",
      "metadata": {
        "id": "QqaD8-_WVxEr",
        "colab_type": "code",
        "colab": {}
      },
      "source": [
        "# 데이터 정보 확인하기"
      ],
      "execution_count": null,
      "outputs": []
    },
    {
      "cell_type": "code",
      "metadata": {
        "id": "Y974P135VykD",
        "colab_type": "code",
        "colab": {}
      },
      "source": [
        ""
      ],
      "execution_count": null,
      "outputs": []
    },
    {
      "cell_type": "code",
      "metadata": {
        "id": "aobuTVLZVzqn",
        "colab_type": "code",
        "colab": {}
      },
      "source": [
        "# 통계적 특성 확인하기"
      ],
      "execution_count": null,
      "outputs": []
    },
    {
      "cell_type": "code",
      "metadata": {
        "id": "Y24pqE-KV2Gf",
        "colab_type": "code",
        "colab": {}
      },
      "source": [
        ""
      ],
      "execution_count": null,
      "outputs": []
    },
    {
      "cell_type": "code",
      "metadata": {
        "id": "FbAFNI9SV4Cr",
        "colab_type": "code",
        "colab": {}
      },
      "source": [
        "# ['정보'] 컬럼의 최대값 구하기"
      ],
      "execution_count": null,
      "outputs": []
    },
    {
      "cell_type": "code",
      "metadata": {
        "id": "Ub8bpWgEV5-h",
        "colab_type": "code",
        "colab": {}
      },
      "source": [
        ""
      ],
      "execution_count": null,
      "outputs": []
    },
    {
      "cell_type": "code",
      "metadata": {
        "id": "z-ippvE4V6cP",
        "colab_type": "code",
        "colab": {}
      },
      "source": [
        "# ['정보'] 컬럼의 최소값 구하기"
      ],
      "execution_count": null,
      "outputs": []
    },
    {
      "cell_type": "code",
      "metadata": {
        "id": "QoZ_bI6nV5XH",
        "colab_type": "code",
        "colab": {}
      },
      "source": [
        ""
      ],
      "execution_count": null,
      "outputs": []
    },
    {
      "cell_type": "markdown",
      "metadata": {
        "id": "O9Dbih4v27KE",
        "colab_type": "text"
      },
      "source": [
        "#제주 기온 데이터 실습"
      ]
    },
    {
      "cell_type": "markdown",
      "metadata": {
        "id": "Xe3NC4moshuD",
        "colab_type": "text"
      },
      "source": [
        "**제주 기온 데이터에서 2000-01-01부터 가장 최고기온이 높은 온도와 날짜를 구하세요.**\n",
        "\n",
        " - pandas를 사용해서. "
      ]
    },
    {
      "cell_type": "code",
      "metadata": {
        "id": "GKxhMt28sxbR",
        "colab_type": "code",
        "colab": {}
      },
      "source": [
        "#jeju_temp.csv파일을 코랩에 불러오기"
      ],
      "execution_count": null,
      "outputs": []
    },
    {
      "cell_type": "code",
      "metadata": {
        "id": "V463eXKLtAy4",
        "colab_type": "code",
        "colab": {
          "resources": {
            "http://localhost:8080/nbextensions/google.colab/files.js": {
              "data": "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",
              "ok": true,
              "headers": [
                [
                  "content-type",
                  "application/javascript"
                ]
              ],
              "status": 200,
              "status_text": ""
            }
          },
          "base_uri": "https://localhost:8080/",
          "height": 76
        },
        "outputId": "cf92910d-f408-4b10-be9b-05301f923b4a"
      },
      "source": [
        "from google.colab import files\n",
        "uploaded=files.upload()"
      ],
      "execution_count": null,
      "outputs": [
        {
          "output_type": "display_data",
          "data": {
            "text/html": [
              "\n",
              "     <input type=\"file\" id=\"files-2922e5b8-7a8d-40cc-a506-bb28c12b73b0\" name=\"files[]\" multiple disabled\n",
              "        style=\"border:none\" />\n",
              "     <output id=\"result-2922e5b8-7a8d-40cc-a506-bb28c12b73b0\">\n",
              "      Upload widget is only available when the cell has been executed in the\n",
              "      current browser session. Please rerun this cell to enable.\n",
              "      </output>\n",
              "      <script src=\"/nbextensions/google.colab/files.js\"></script> "
            ],
            "text/plain": [
              "<IPython.core.display.HTML object>"
            ]
          },
          "metadata": {
            "tags": []
          }
        },
        {
          "output_type": "stream",
          "text": [
            "Saving jeju_temp.csv to jeju_temp.csv\n"
          ],
          "name": "stdout"
        }
      ]
    },
    {
      "cell_type": "code",
      "metadata": {
        "id": "j3ab2K3NtAig",
        "colab_type": "code",
        "colab": {}
      },
      "source": [
        "# 판다스에서 csv 데이터 읽어오기 (판다스 별명은 pd)"
      ],
      "execution_count": null,
      "outputs": []
    },
    {
      "cell_type": "code",
      "metadata": {
        "id": "BA27JQvZtL7g",
        "colab_type": "code",
        "colab": {
          "base_uri": "https://localhost:8080/",
          "height": 402
        },
        "outputId": "c7efa801-e9d2-4643-c9b6-bac1f58a97e1"
      },
      "source": [
        "import pandas as pd\n",
        "df = pd.read_csv('jeju_temp.csv', encoding = 'cp949')\n",
        "df"
      ],
      "execution_count": null,
      "outputs": [
        {
          "output_type": "execute_result",
          "data": {
            "text/html": [
              "<div>\n",
              "<style scoped>\n",
              "    .dataframe tbody tr th:only-of-type {\n",
              "        vertical-align: middle;\n",
              "    }\n",
              "\n",
              "    .dataframe tbody tr th {\n",
              "        vertical-align: top;\n",
              "    }\n",
              "\n",
              "    .dataframe thead th {\n",
              "        text-align: right;\n",
              "    }\n",
              "</style>\n",
              "<table border=\"1\" class=\"dataframe\">\n",
              "  <thead>\n",
              "    <tr style=\"text-align: right;\">\n",
              "      <th></th>\n",
              "      <th>날짜</th>\n",
              "      <th>지점</th>\n",
              "      <th>평균기온(℃)</th>\n",
              "      <th>최저기온(℃)</th>\n",
              "      <th>최고기온(℃)</th>\n",
              "    </tr>\n",
              "  </thead>\n",
              "  <tbody>\n",
              "    <tr>\n",
              "      <th>0</th>\n",
              "      <td>2000-01-01</td>\n",
              "      <td>184</td>\n",
              "      <td>12.2</td>\n",
              "      <td>8.3</td>\n",
              "      <td>16.0</td>\n",
              "    </tr>\n",
              "    <tr>\n",
              "      <th>1</th>\n",
              "      <td>2000-01-02</td>\n",
              "      <td>184</td>\n",
              "      <td>10.8</td>\n",
              "      <td>7.5</td>\n",
              "      <td>17.2</td>\n",
              "    </tr>\n",
              "    <tr>\n",
              "      <th>2</th>\n",
              "      <td>2000-01-03</td>\n",
              "      <td>184</td>\n",
              "      <td>6.6</td>\n",
              "      <td>3.6</td>\n",
              "      <td>8.9</td>\n",
              "    </tr>\n",
              "    <tr>\n",
              "      <th>3</th>\n",
              "      <td>2000-01-04</td>\n",
              "      <td>184</td>\n",
              "      <td>9.4</td>\n",
              "      <td>3.2</td>\n",
              "      <td>15.5</td>\n",
              "    </tr>\n",
              "    <tr>\n",
              "      <th>4</th>\n",
              "      <td>2000-01-05</td>\n",
              "      <td>184</td>\n",
              "      <td>14.2</td>\n",
              "      <td>8.9</td>\n",
              "      <td>17.5</td>\n",
              "    </tr>\n",
              "    <tr>\n",
              "      <th>...</th>\n",
              "      <td>...</td>\n",
              "      <td>...</td>\n",
              "      <td>...</td>\n",
              "      <td>...</td>\n",
              "      <td>...</td>\n",
              "    </tr>\n",
              "    <tr>\n",
              "      <th>7560</th>\n",
              "      <td>2020-09-12</td>\n",
              "      <td>184</td>\n",
              "      <td>23.1</td>\n",
              "      <td>21.6</td>\n",
              "      <td>25.5</td>\n",
              "    </tr>\n",
              "    <tr>\n",
              "      <th>7561</th>\n",
              "      <td>2020-09-13</td>\n",
              "      <td>184</td>\n",
              "      <td>23.0</td>\n",
              "      <td>21.7</td>\n",
              "      <td>26.1</td>\n",
              "    </tr>\n",
              "    <tr>\n",
              "      <th>7562</th>\n",
              "      <td>2020-09-14</td>\n",
              "      <td>184</td>\n",
              "      <td>23.3</td>\n",
              "      <td>21.8</td>\n",
              "      <td>25.9</td>\n",
              "    </tr>\n",
              "    <tr>\n",
              "      <th>7563</th>\n",
              "      <td>2020-09-15</td>\n",
              "      <td>184</td>\n",
              "      <td>23.7</td>\n",
              "      <td>21.0</td>\n",
              "      <td>25.8</td>\n",
              "    </tr>\n",
              "    <tr>\n",
              "      <th>7564</th>\n",
              "      <td>2020-09-16</td>\n",
              "      <td>184</td>\n",
              "      <td>23.5</td>\n",
              "      <td>21.5</td>\n",
              "      <td>28.3</td>\n",
              "    </tr>\n",
              "  </tbody>\n",
              "</table>\n",
              "<p>7565 rows × 5 columns</p>\n",
              "</div>"
            ],
            "text/plain": [
              "              날짜   지점  평균기온(℃)  최저기온(℃)  최고기온(℃)\n",
              "0     2000-01-01  184     12.2      8.3     16.0\n",
              "1     2000-01-02  184     10.8      7.5     17.2\n",
              "2     2000-01-03  184      6.6      3.6      8.9\n",
              "3     2000-01-04  184      9.4      3.2     15.5\n",
              "4     2000-01-05  184     14.2      8.9     17.5\n",
              "...          ...  ...      ...      ...      ...\n",
              "7560  2020-09-12  184     23.1     21.6     25.5\n",
              "7561  2020-09-13  184     23.0     21.7     26.1\n",
              "7562  2020-09-14  184     23.3     21.8     25.9\n",
              "7563  2020-09-15  184     23.7     21.0     25.8\n",
              "7564  2020-09-16  184     23.5     21.5     28.3\n",
              "\n",
              "[7565 rows x 5 columns]"
            ]
          },
          "metadata": {
            "tags": []
          },
          "execution_count": 92
        }
      ]
    },
    {
      "cell_type": "code",
      "metadata": {
        "id": "Uv-iuGnetKiJ",
        "colab_type": "code",
        "colab": {}
      },
      "source": [
        "# 데이터 모양 살펴보기"
      ],
      "execution_count": null,
      "outputs": []
    },
    {
      "cell_type": "code",
      "metadata": {
        "id": "lEhdM3S3tS9I",
        "colab_type": "code",
        "colab": {
          "base_uri": "https://localhost:8080/",
          "height": 228
        },
        "outputId": "061075b2-f439-44f7-d47e-53fca84cfd1a"
      },
      "source": [
        "df.info()"
      ],
      "execution_count": null,
      "outputs": [
        {
          "output_type": "stream",
          "text": [
            "<class 'pandas.core.frame.DataFrame'>\n",
            "RangeIndex: 7565 entries, 0 to 7564\n",
            "Data columns (total 5 columns):\n",
            " #   Column   Non-Null Count  Dtype  \n",
            "---  ------   --------------  -----  \n",
            " 0   날짜       7565 non-null   object \n",
            " 1   지점       7565 non-null   int64  \n",
            " 2   평균기온(℃)  7565 non-null   float64\n",
            " 3   최저기온(℃)  7564 non-null   float64\n",
            " 4   최고기온(℃)  7564 non-null   float64\n",
            "dtypes: float64(3), int64(1), object(1)\n",
            "memory usage: 295.6+ KB\n"
          ],
          "name": "stdout"
        }
      ]
    },
    {
      "cell_type": "code",
      "metadata": {
        "id": "KtiTuSl_tTTw",
        "colab_type": "code",
        "colab": {}
      },
      "source": [
        "#데이터 살펴보기-head"
      ],
      "execution_count": null,
      "outputs": []
    },
    {
      "cell_type": "code",
      "metadata": {
        "id": "t7eRk_WWtXWh",
        "colab_type": "code",
        "colab": {}
      },
      "source": [
        ""
      ],
      "execution_count": null,
      "outputs": []
    },
    {
      "cell_type": "code",
      "metadata": {
        "id": "dtqhlU1NtY35",
        "colab_type": "code",
        "colab": {}
      },
      "source": [
        "# 데이터 프레임 컬럼 이름 바꾸기 ['날짜','지점', '평균', '최저', '최고']"
      ],
      "execution_count": null,
      "outputs": []
    },
    {
      "cell_type": "code",
      "metadata": {
        "id": "Gd6z4RFXtruu",
        "colab_type": "code",
        "colab": {}
      },
      "source": [
        "df.columns = ['날짜', '지점', '평균', '최저', '최고']"
      ],
      "execution_count": null,
      "outputs": []
    },
    {
      "cell_type": "code",
      "metadata": {
        "id": "w6kDMrv1dBfE",
        "colab_type": "code",
        "colab": {}
      },
      "source": [
        "df"
      ],
      "execution_count": null,
      "outputs": []
    },
    {
      "cell_type": "code",
      "metadata": {
        "id": "7RUhAJ0htrdG",
        "colab_type": "code",
        "colab": {}
      },
      "source": [
        "# ['최고'] 컬럼만 선택하기"
      ],
      "execution_count": null,
      "outputs": []
    },
    {
      "cell_type": "code",
      "metadata": {
        "id": "JHIVrMeQuGc8",
        "colab_type": "code",
        "colab": {
          "base_uri": "https://localhost:8080/",
          "height": 228
        },
        "outputId": "308377e0-ac99-4bb6-e53e-bcad98861c5c"
      },
      "source": [
        "df['최고']"
      ],
      "execution_count": null,
      "outputs": [
        {
          "output_type": "execute_result",
          "data": {
            "text/plain": [
              "0       16.0\n",
              "1       17.2\n",
              "2        8.9\n",
              "3       15.5\n",
              "4       17.5\n",
              "        ... \n",
              "7560    25.5\n",
              "7561    26.1\n",
              "7562    25.9\n",
              "7563    25.8\n",
              "7564    28.3\n",
              "Name: 최고, Length: 7565, dtype: float64"
            ]
          },
          "metadata": {
            "tags": []
          },
          "execution_count": 95
        }
      ]
    },
    {
      "cell_type": "code",
      "metadata": {
        "id": "MOOD1KjLuG_Z",
        "colab_type": "code",
        "colab": {}
      },
      "source": [
        "#['최고'] 컬럼 중 최고값 찾아 max_temp에 저장하기"
      ],
      "execution_count": null,
      "outputs": []
    },
    {
      "cell_type": "code",
      "metadata": {
        "id": "R_gyBHsYuQF3",
        "colab_type": "code",
        "colab": {}
      },
      "source": [
        "max_temp = df['최고'].max()"
      ],
      "execution_count": null,
      "outputs": []
    },
    {
      "cell_type": "code",
      "metadata": {
        "id": "rrVjit7HuQVx",
        "colab_type": "code",
        "colab": {}
      },
      "source": [
        "# ['최고'] 컬럼에서 max_temp와 같은 조건의 데이터만 추출하여 df1에 저장하기"
      ],
      "execution_count": null,
      "outputs": []
    },
    {
      "cell_type": "code",
      "metadata": {
        "id": "gXpZFhHsujF9",
        "colab_type": "code",
        "colab": {}
      },
      "source": [
        "df1 = df[df['최고'] == max_temp]"
      ],
      "execution_count": null,
      "outputs": []
    },
    {
      "cell_type": "code",
      "metadata": {
        "id": "l-oDEQWraSh_",
        "colab_type": "code",
        "colab": {
          "base_uri": "https://localhost:8080/",
          "height": 106
        },
        "outputId": "7ce20e5b-a614-45fd-89d0-ec802eca805c"
      },
      "source": [
        "df2 = df1.set_index('최고')\n",
        "df2"
      ],
      "execution_count": null,
      "outputs": [
        {
          "output_type": "execute_result",
          "data": {
            "text/html": [
              "<div>\n",
              "<style scoped>\n",
              "    .dataframe tbody tr th:only-of-type {\n",
              "        vertical-align: middle;\n",
              "    }\n",
              "\n",
              "    .dataframe tbody tr th {\n",
              "        vertical-align: top;\n",
              "    }\n",
              "\n",
              "    .dataframe thead th {\n",
              "        text-align: right;\n",
              "    }\n",
              "</style>\n",
              "<table border=\"1\" class=\"dataframe\">\n",
              "  <thead>\n",
              "    <tr style=\"text-align: right;\">\n",
              "      <th></th>\n",
              "      <th>날짜</th>\n",
              "      <th>지점</th>\n",
              "      <th>평균</th>\n",
              "      <th>최저</th>\n",
              "    </tr>\n",
              "    <tr>\n",
              "      <th>최고</th>\n",
              "      <th></th>\n",
              "      <th></th>\n",
              "      <th></th>\n",
              "      <th></th>\n",
              "    </tr>\n",
              "  </thead>\n",
              "  <tbody>\n",
              "    <tr>\n",
              "      <th>37.0</th>\n",
              "      <td>2017-07-21</td>\n",
              "      <td>184</td>\n",
              "      <td>32.1</td>\n",
              "      <td>28.6</td>\n",
              "    </tr>\n",
              "  </tbody>\n",
              "</table>\n",
              "</div>"
            ],
            "text/plain": [
              "              날짜   지점    평균    최저\n",
              "최고                               \n",
              "37.0  2017-07-21  184  32.1  28.6"
            ]
          },
          "metadata": {
            "tags": []
          },
          "execution_count": 102
        }
      ]
    },
    {
      "cell_type": "code",
      "metadata": {
        "id": "rBbsNSRJujre",
        "colab_type": "code",
        "colab": {}
      },
      "source": [
        "# df1의 인덱스를 ('최고')로 변경하고 df2에 저장하기"
      ],
      "execution_count": null,
      "outputs": []
    },
    {
      "cell_type": "code",
      "metadata": {
        "id": "3WIhn1OlurHL",
        "colab_type": "code",
        "colab": {}
      },
      "source": [
        "df"
      ],
      "execution_count": null,
      "outputs": []
    },
    {
      "cell_type": "code",
      "metadata": {
        "id": "Dwiyby_SurZ6",
        "colab_type": "code",
        "colab": {}
      },
      "source": [
        "# df2의 최고기온의 날짜를 max_date에 저장하기"
      ],
      "execution_count": null,
      "outputs": []
    },
    {
      "cell_type": "code",
      "metadata": {
        "id": "29mLfrPiuw2i",
        "colab_type": "code",
        "colab": {}
      },
      "source": [
        ""
      ],
      "execution_count": null,
      "outputs": []
    },
    {
      "cell_type": "code",
      "metadata": {
        "id": "P1enZ3y-uxMM",
        "colab_type": "code",
        "colab": {}
      },
      "source": [
        "#최종 데이터 출력하기"
      ],
      "execution_count": null,
      "outputs": []
    },
    {
      "cell_type": "code",
      "metadata": {
        "id": "4ep43OzS6vz_",
        "colab_type": "code",
        "colab": {}
      },
      "source": [
        ""
      ],
      "execution_count": null,
      "outputs": []
    },
    {
      "cell_type": "code",
      "metadata": {
        "id": "tRibdTGRuzSB",
        "colab_type": "code",
        "colab": {}
      },
      "source": [
        "#print('제주의 최고 기온이 가장 높은 온도는', max_temp,'이고, 날짜는', max_date,'이다')"
      ],
      "execution_count": null,
      "outputs": []
    },
    {
      "cell_type": "code",
      "metadata": {
        "id": "zeyH7E7H6xsE",
        "colab_type": "code",
        "colab": {}
      },
      "source": [
        "df.columns=['날짜','지점','평균','최저','최고']"
      ],
      "execution_count": null,
      "outputs": []
    },
    {
      "cell_type": "code",
      "metadata": {
        "id": "MeKBPo0b94JF",
        "colab_type": "code",
        "colab": {
          "base_uri": "https://localhost:8080/",
          "height": 402
        },
        "outputId": "0509f2fc-26f3-4dac-e682-f43d86c6a02b"
      },
      "source": [
        "import re\n",
        "df"
      ],
      "execution_count": null,
      "outputs": [
        {
          "output_type": "execute_result",
          "data": {
            "text/html": [
              "<div>\n",
              "<style scoped>\n",
              "    .dataframe tbody tr th:only-of-type {\n",
              "        vertical-align: middle;\n",
              "    }\n",
              "\n",
              "    .dataframe tbody tr th {\n",
              "        vertical-align: top;\n",
              "    }\n",
              "\n",
              "    .dataframe thead th {\n",
              "        text-align: right;\n",
              "    }\n",
              "</style>\n",
              "<table border=\"1\" class=\"dataframe\">\n",
              "  <thead>\n",
              "    <tr style=\"text-align: right;\">\n",
              "      <th></th>\n",
              "      <th>날짜</th>\n",
              "      <th>지점</th>\n",
              "      <th>평균</th>\n",
              "      <th>최저</th>\n",
              "      <th>최고</th>\n",
              "    </tr>\n",
              "  </thead>\n",
              "  <tbody>\n",
              "    <tr>\n",
              "      <th>0</th>\n",
              "      <td>2000-01-01</td>\n",
              "      <td>184</td>\n",
              "      <td>12.2</td>\n",
              "      <td>8.3</td>\n",
              "      <td>16.0</td>\n",
              "    </tr>\n",
              "    <tr>\n",
              "      <th>1</th>\n",
              "      <td>2000-01-02</td>\n",
              "      <td>184</td>\n",
              "      <td>10.8</td>\n",
              "      <td>7.5</td>\n",
              "      <td>17.2</td>\n",
              "    </tr>\n",
              "    <tr>\n",
              "      <th>2</th>\n",
              "      <td>2000-01-03</td>\n",
              "      <td>184</td>\n",
              "      <td>6.6</td>\n",
              "      <td>3.6</td>\n",
              "      <td>8.9</td>\n",
              "    </tr>\n",
              "    <tr>\n",
              "      <th>3</th>\n",
              "      <td>2000-01-04</td>\n",
              "      <td>184</td>\n",
              "      <td>9.4</td>\n",
              "      <td>3.2</td>\n",
              "      <td>15.5</td>\n",
              "    </tr>\n",
              "    <tr>\n",
              "      <th>4</th>\n",
              "      <td>2000-01-05</td>\n",
              "      <td>184</td>\n",
              "      <td>14.2</td>\n",
              "      <td>8.9</td>\n",
              "      <td>17.5</td>\n",
              "    </tr>\n",
              "    <tr>\n",
              "      <th>...</th>\n",
              "      <td>...</td>\n",
              "      <td>...</td>\n",
              "      <td>...</td>\n",
              "      <td>...</td>\n",
              "      <td>...</td>\n",
              "    </tr>\n",
              "    <tr>\n",
              "      <th>7560</th>\n",
              "      <td>2020-09-12</td>\n",
              "      <td>184</td>\n",
              "      <td>23.1</td>\n",
              "      <td>21.6</td>\n",
              "      <td>25.5</td>\n",
              "    </tr>\n",
              "    <tr>\n",
              "      <th>7561</th>\n",
              "      <td>2020-09-13</td>\n",
              "      <td>184</td>\n",
              "      <td>23.0</td>\n",
              "      <td>21.7</td>\n",
              "      <td>26.1</td>\n",
              "    </tr>\n",
              "    <tr>\n",
              "      <th>7562</th>\n",
              "      <td>2020-09-14</td>\n",
              "      <td>184</td>\n",
              "      <td>23.3</td>\n",
              "      <td>21.8</td>\n",
              "      <td>25.9</td>\n",
              "    </tr>\n",
              "    <tr>\n",
              "      <th>7563</th>\n",
              "      <td>2020-09-15</td>\n",
              "      <td>184</td>\n",
              "      <td>23.7</td>\n",
              "      <td>21.0</td>\n",
              "      <td>25.8</td>\n",
              "    </tr>\n",
              "    <tr>\n",
              "      <th>7564</th>\n",
              "      <td>2020-09-16</td>\n",
              "      <td>184</td>\n",
              "      <td>23.5</td>\n",
              "      <td>21.5</td>\n",
              "      <td>28.3</td>\n",
              "    </tr>\n",
              "  </tbody>\n",
              "</table>\n",
              "<p>7565 rows × 5 columns</p>\n",
              "</div>"
            ],
            "text/plain": [
              "              날짜   지점    평균    최저    최고\n",
              "0     2000-01-01  184  12.2   8.3  16.0\n",
              "1     2000-01-02  184  10.8   7.5  17.2\n",
              "2     2000-01-03  184   6.6   3.6   8.9\n",
              "3     2000-01-04  184   9.4   3.2  15.5\n",
              "4     2000-01-05  184  14.2   8.9  17.5\n",
              "...          ...  ...   ...   ...   ...\n",
              "7560  2020-09-12  184  23.1  21.6  25.5\n",
              "7561  2020-09-13  184  23.0  21.7  26.1\n",
              "7562  2020-09-14  184  23.3  21.8  25.9\n",
              "7563  2020-09-15  184  23.7  21.0  25.8\n",
              "7564  2020-09-16  184  23.5  21.5  28.3\n",
              "\n",
              "[7565 rows x 5 columns]"
            ]
          },
          "metadata": {
            "tags": []
          },
          "execution_count": 71
        }
      ]
    },
    {
      "cell_type": "code",
      "metadata": {
        "id": "zPWxjRfI61yh",
        "colab_type": "code",
        "colab": {
          "base_uri": "https://localhost:8080/",
          "height": 402
        },
        "outputId": "ea36d7ce-f889-4007-cd0e-3ffd6b9900a7"
      },
      "source": [
        "#df[df['날짜'] == '^2020-08']['평균'].sum()\n",
        "df"
      ],
      "execution_count": null,
      "outputs": [
        {
          "output_type": "execute_result",
          "data": {
            "text/html": [
              "<div>\n",
              "<style scoped>\n",
              "    .dataframe tbody tr th:only-of-type {\n",
              "        vertical-align: middle;\n",
              "    }\n",
              "\n",
              "    .dataframe tbody tr th {\n",
              "        vertical-align: top;\n",
              "    }\n",
              "\n",
              "    .dataframe thead th {\n",
              "        text-align: right;\n",
              "    }\n",
              "</style>\n",
              "<table border=\"1\" class=\"dataframe\">\n",
              "  <thead>\n",
              "    <tr style=\"text-align: right;\">\n",
              "      <th></th>\n",
              "      <th>날짜</th>\n",
              "      <th>지점</th>\n",
              "      <th>평균</th>\n",
              "      <th>최저</th>\n",
              "      <th>최고</th>\n",
              "    </tr>\n",
              "  </thead>\n",
              "  <tbody>\n",
              "    <tr>\n",
              "      <th>0</th>\n",
              "      <td>2000-01-01</td>\n",
              "      <td>184</td>\n",
              "      <td>12.2</td>\n",
              "      <td>8.3</td>\n",
              "      <td>16.0</td>\n",
              "    </tr>\n",
              "    <tr>\n",
              "      <th>1</th>\n",
              "      <td>2000-01-02</td>\n",
              "      <td>184</td>\n",
              "      <td>10.8</td>\n",
              "      <td>7.5</td>\n",
              "      <td>17.2</td>\n",
              "    </tr>\n",
              "    <tr>\n",
              "      <th>2</th>\n",
              "      <td>2000-01-03</td>\n",
              "      <td>184</td>\n",
              "      <td>6.6</td>\n",
              "      <td>3.6</td>\n",
              "      <td>8.9</td>\n",
              "    </tr>\n",
              "    <tr>\n",
              "      <th>3</th>\n",
              "      <td>2000-01-04</td>\n",
              "      <td>184</td>\n",
              "      <td>9.4</td>\n",
              "      <td>3.2</td>\n",
              "      <td>15.5</td>\n",
              "    </tr>\n",
              "    <tr>\n",
              "      <th>4</th>\n",
              "      <td>2000-01-05</td>\n",
              "      <td>184</td>\n",
              "      <td>14.2</td>\n",
              "      <td>8.9</td>\n",
              "      <td>17.5</td>\n",
              "    </tr>\n",
              "    <tr>\n",
              "      <th>...</th>\n",
              "      <td>...</td>\n",
              "      <td>...</td>\n",
              "      <td>...</td>\n",
              "      <td>...</td>\n",
              "      <td>...</td>\n",
              "    </tr>\n",
              "    <tr>\n",
              "      <th>7560</th>\n",
              "      <td>2020-09-12</td>\n",
              "      <td>184</td>\n",
              "      <td>23.1</td>\n",
              "      <td>21.6</td>\n",
              "      <td>25.5</td>\n",
              "    </tr>\n",
              "    <tr>\n",
              "      <th>7561</th>\n",
              "      <td>2020-09-13</td>\n",
              "      <td>184</td>\n",
              "      <td>23.0</td>\n",
              "      <td>21.7</td>\n",
              "      <td>26.1</td>\n",
              "    </tr>\n",
              "    <tr>\n",
              "      <th>7562</th>\n",
              "      <td>2020-09-14</td>\n",
              "      <td>184</td>\n",
              "      <td>23.3</td>\n",
              "      <td>21.8</td>\n",
              "      <td>25.9</td>\n",
              "    </tr>\n",
              "    <tr>\n",
              "      <th>7563</th>\n",
              "      <td>2020-09-15</td>\n",
              "      <td>184</td>\n",
              "      <td>23.7</td>\n",
              "      <td>21.0</td>\n",
              "      <td>25.8</td>\n",
              "    </tr>\n",
              "    <tr>\n",
              "      <th>7564</th>\n",
              "      <td>2020-09-16</td>\n",
              "      <td>184</td>\n",
              "      <td>23.5</td>\n",
              "      <td>21.5</td>\n",
              "      <td>28.3</td>\n",
              "    </tr>\n",
              "  </tbody>\n",
              "</table>\n",
              "<p>7565 rows × 5 columns</p>\n",
              "</div>"
            ],
            "text/plain": [
              "              날짜   지점    평균    최저    최고\n",
              "0     2000-01-01  184  12.2   8.3  16.0\n",
              "1     2000-01-02  184  10.8   7.5  17.2\n",
              "2     2000-01-03  184   6.6   3.6   8.9\n",
              "3     2000-01-04  184   9.4   3.2  15.5\n",
              "4     2000-01-05  184  14.2   8.9  17.5\n",
              "...          ...  ...   ...   ...   ...\n",
              "7560  2020-09-12  184  23.1  21.6  25.5\n",
              "7561  2020-09-13  184  23.0  21.7  26.1\n",
              "7562  2020-09-14  184  23.3  21.8  25.9\n",
              "7563  2020-09-15  184  23.7  21.0  25.8\n",
              "7564  2020-09-16  184  23.5  21.5  28.3\n",
              "\n",
              "[7565 rows x 5 columns]"
            ]
          },
          "metadata": {
            "tags": []
          },
          "execution_count": 103
        }
      ]
    },
    {
      "cell_type": "code",
      "metadata": {
        "id": "K6DJiM9h6-_K",
        "colab_type": "code",
        "colab": {
          "base_uri": "https://localhost:8080/",
          "height": 34
        },
        "outputId": "90d21b19-f6af-412b-c702-40a9ca1e43b1"
      },
      "source": [
        "#정규식을 사용한 8월 평균\n",
        "kk = 0\n",
        "asd = re.compile(\"^2020-08\")\n",
        "for i in df['날짜']:\n",
        "    if asd.search(i):\n",
        "        aa = df[df['날짜'] == str(i)]['평균']\n",
        "        kk += float(aa)\n",
        "kk\n",
        "print(kk / 31)"
      ],
      "execution_count": null,
      "outputs": [
        {
          "output_type": "stream",
          "text": [
            "29.43225806451612\n"
          ],
          "name": "stdout"
        }
      ]
    },
    {
      "cell_type": "code",
      "metadata": {
        "id": "uyCAdD-y7zsg",
        "colab_type": "code",
        "colab": {}
      },
      "source": [
        "#df.loc['2020-08-01' : '2020-08-31']"
      ],
      "execution_count": null,
      "outputs": []
    },
    {
      "cell_type": "code",
      "metadata": {
        "id": "HEkReHNWCItX",
        "colab_type": "code",
        "colab": {}
      },
      "source": [
        ""
      ],
      "execution_count": null,
      "outputs": []
    }
  ]
}