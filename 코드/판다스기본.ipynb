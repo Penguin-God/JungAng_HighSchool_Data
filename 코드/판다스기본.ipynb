{
  "nbformat": 4,
  "nbformat_minor": 0,
  "metadata": {
    "colab": {
      "name": "펭귄갓 - 빅데이터분석5, 6-pandas(수업용)",
      "provenance": [],
      "collapsed_sections": []
    },
    "kernelspec": {
      "name": "python3",
      "display_name": "Python 3"
    }
  },
  "cells": [
    {
      "cell_type": "markdown",
      "metadata": {
        "id": "9BZfwLc7gc82",
        "colab_type": "text"
      },
      "source": [
        "#리스트"
      ]
    },
    {
      "cell_type": "code",
      "metadata": {
        "id": "fTw9TVPi7_aN",
        "colab_type": "code",
        "colab": {}
      },
      "source": [
        "s=['날짜','지점','평균기온','최저기온','최고기온']\n",
        "s1=['2000-01-01',\t108, 13.5, 7.9,\t20.7]"
      ],
      "execution_count": null,
      "outputs": []
    },
    {
      "cell_type": "code",
      "metadata": {
        "id": "1ikEEgsM8IBI",
        "colab_type": "code",
        "colab": {}
      },
      "source": [
        "print(seoul)\n",
        "print(seoul1)"
      ],
      "execution_count": null,
      "outputs": []
    },
    {
      "cell_type": "markdown",
      "metadata": {
        "id": "x1vMq2-Oghns",
        "colab_type": "text"
      },
      "source": [
        "#딕셔너리"
      ]
    },
    {
      "cell_type": "code",
      "metadata": {
        "id": "KSdvd03B8MPi",
        "colab_type": "code",
        "colab": {}
      },
      "source": [
        "seoul={'날짜':['2000-01-01','2000-01-02','2000-01-03'],\n",
        "       '지점':[108, 108, 108],\n",
        "       '평균기온':[13.5, 16.2, 16.2],\n",
        "       '최저기온':[7.9, 7.9, 13.1],\n",
        "       '최고기온':[20.7, 22, 21.3]}"
      ],
      "execution_count": null,
      "outputs": []
    },
    {
      "cell_type": "code",
      "metadata": {
        "id": "e8Z-h1Te9uAt",
        "colab_type": "code",
        "colab": {}
      },
      "source": [
        "print(seoul)\n",
        "print(seoul['날짜'])"
      ],
      "execution_count": null,
      "outputs": []
    },
    {
      "cell_type": "markdown",
      "metadata": {
        "id": "WdsaGMi1gud5",
        "colab_type": "text"
      },
      "source": [
        "#판다스"
      ]
    },
    {
      "cell_type": "code",
      "metadata": {
        "id": "M2vpntkJg3hD",
        "colab_type": "code",
        "colab": {}
      },
      "source": [
        "import pandas as pd"
      ],
      "execution_count": null,
      "outputs": []
    },
    {
      "cell_type": "code",
      "metadata": {
        "id": "QSucR-68hDgx",
        "colab_type": "code",
        "colab": {}
      },
      "source": [
        "#데이터프레임 - 2차원\n",
        "df=pd.DataFrame({'날짜':['2000-01-01','2000-01-02','2000-01-03'],\n",
        "                 '지점':[108, 108, 108],\n",
        "                 '평균기온':[13.5, 16.2, 16.2],\n",
        "                 '최저기온':[7.9, 7.9, 13.1],       \n",
        "                 '최고기온':[20.7, 22, 21.3]})"
      ],
      "execution_count": null,
      "outputs": []
    },
    {
      "cell_type": "code",
      "metadata": {
        "id": "AwbFlOYYhIjn",
        "colab_type": "code",
        "colab": {}
      },
      "source": [
        "df"
      ],
      "execution_count": null,
      "outputs": []
    },
    {
      "cell_type": "markdown",
      "metadata": {
        "id": "12YGC7QjmhAw",
        "colab_type": "text"
      },
      "source": [
        "#제주의 최고기온, 날짜 분석하기"
      ]
    },
    {
      "cell_type": "code",
      "metadata": {
        "id": "vm9ZUpnnd91i",
        "colab_type": "code",
        "colab": {
          "base_uri": "https://localhost:8080/",
          "height": 34
        },
        "outputId": "6db75c74-742a-4d8b-bc09-ef4f1dba7c54"
      },
      "source": [
        "import pandas as pd\n",
        "df = pd.read_csv('jeju_temp.csv', encoding = 'cp949')\n",
        "df.columns=['날짜','지점','평균기온','최저기온','최고기온']\n",
        "\n",
        "max_temp=df['최고기온'].max()\n",
        "df2=df[df['최고기온']==max_temp]\n",
        "\n",
        "df3=df2.set_index('최고기온')\n",
        "\n",
        "max_date=df3.loc[max_temp,'날짜']\n",
        "print('제주의 최고기온이 가장 높은 온도는', max_temp,'이고, 날짜는', max_date,'이다')"
      ],
      "execution_count": null,
      "outputs": [
        {
          "output_type": "stream",
          "text": [
            "제주의 최고기온이 가장 높은 온도는 37.0 이고, 날짜는 2017-07-21 이다\n"
          ],
          "name": "stdout"
        }
      ]
    },
    {
      "cell_type": "markdown",
      "metadata": {
        "id": "bbW-toc7dH4N",
        "colab_type": "text"
      },
      "source": [
        "#판다스 사용하기\n",
        "pandas 라이브러리는 판다스는 고수준의 자료 구조와 빠르고 쉬운 데이터 분석 도구를 제공하는 파이썬의 라이브러리 입니다.\n",
        "\n",
        "판다스 참고url : https://pandas.pydata.org"
      ]
    },
    {
      "cell_type": "markdown",
      "metadata": {
        "id": "9zJBsCvOvkPy",
        "colab_type": "text"
      },
      "source": [
        "#데이터읽어오기"
      ]
    },
    {
      "cell_type": "code",
      "metadata": {
        "id": "jWyWuGztdQpI",
        "colab_type": "code",
        "colab": {
          "resources": {
            "http://localhost:8080/nbextensions/google.colab/files.js": {
              "data": "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",
              "ok": true,
              "headers": [
                [
                  "content-type",
                  "application/javascript"
                ]
              ],
              "status": 200,
              "status_text": ""
            }
          },
          "base_uri": "https://localhost:8080/",
          "height": 76
        },
        "outputId": "87426c8d-be79-44f1-e3a8-8ffc40d50763"
      },
      "source": [
        "from google.colab import files\n",
        "uploaded=files.upload()"
      ],
      "execution_count": 1,
      "outputs": [
        {
          "output_type": "display_data",
          "data": {
            "text/html": [
              "\n",
              "     <input type=\"file\" id=\"files-6961f55f-0466-44b7-a667-5c0f0dd4d83d\" name=\"files[]\" multiple disabled\n",
              "        style=\"border:none\" />\n",
              "     <output id=\"result-6961f55f-0466-44b7-a667-5c0f0dd4d83d\">\n",
              "      Upload widget is only available when the cell has been executed in the\n",
              "      current browser session. Please rerun this cell to enable.\n",
              "      </output>\n",
              "      <script src=\"/nbextensions/google.colab/files.js\"></script> "
            ],
            "text/plain": [
              "<IPython.core.display.HTML object>"
            ]
          },
          "metadata": {
            "tags": []
          }
        },
        {
          "output_type": "stream",
          "text": [
            "Saving jeju_temp.csv to jeju_temp.csv\n"
          ],
          "name": "stdout"
        }
      ]
    },
    {
      "cell_type": "code",
      "metadata": {
        "id": "ImfNEjCgrpJb",
        "colab_type": "code",
        "colab": {
          "base_uri": "https://localhost:8080/",
          "height": 34
        },
        "outputId": "d92e56a2-3f62-409b-fa5b-f75a6ef3440f"
      },
      "source": [
        "ls"
      ],
      "execution_count": 4,
      "outputs": [
        {
          "output_type": "stream",
          "text": [
            "jeju_temp.csv  \u001b[0m\u001b[01;34msample_data\u001b[0m/\n"
          ],
          "name": "stdout"
        }
      ]
    },
    {
      "cell_type": "markdown",
      "metadata": {
        "id": "XjBO-jwYv1H9",
        "colab_type": "text"
      },
      "source": [
        "# 판다스에서 csv 데이터 읽어오기"
      ]
    },
    {
      "cell_type": "code",
      "metadata": {
        "id": "ihsweHNxrpmm",
        "colab_type": "code",
        "colab": {
          "base_uri": "https://localhost:8080/",
          "height": 402
        },
        "outputId": "5c0d9423-e8fe-40ab-dd89-d6a6c23fc5b9"
      },
      "source": [
        "import pandas\n",
        "df = pandas.read_csv('jeju_temp.csv', encoding = 'cp949')\n",
        "df"
      ],
      "execution_count": 6,
      "outputs": [
        {
          "output_type": "execute_result",
          "data": {
            "text/html": [
              "<div>\n",
              "<style scoped>\n",
              "    .dataframe tbody tr th:only-of-type {\n",
              "        vertical-align: middle;\n",
              "    }\n",
              "\n",
              "    .dataframe tbody tr th {\n",
              "        vertical-align: top;\n",
              "    }\n",
              "\n",
              "    .dataframe thead th {\n",
              "        text-align: right;\n",
              "    }\n",
              "</style>\n",
              "<table border=\"1\" class=\"dataframe\">\n",
              "  <thead>\n",
              "    <tr style=\"text-align: right;\">\n",
              "      <th></th>\n",
              "      <th>날짜</th>\n",
              "      <th>지점</th>\n",
              "      <th>평균기온(℃)</th>\n",
              "      <th>최저기온(℃)</th>\n",
              "      <th>최고기온(℃)</th>\n",
              "    </tr>\n",
              "  </thead>\n",
              "  <tbody>\n",
              "    <tr>\n",
              "      <th>0</th>\n",
              "      <td>2000-01-01</td>\n",
              "      <td>184</td>\n",
              "      <td>12.2</td>\n",
              "      <td>8.3</td>\n",
              "      <td>16.0</td>\n",
              "    </tr>\n",
              "    <tr>\n",
              "      <th>1</th>\n",
              "      <td>2000-01-02</td>\n",
              "      <td>184</td>\n",
              "      <td>10.8</td>\n",
              "      <td>7.5</td>\n",
              "      <td>17.2</td>\n",
              "    </tr>\n",
              "    <tr>\n",
              "      <th>2</th>\n",
              "      <td>2000-01-03</td>\n",
              "      <td>184</td>\n",
              "      <td>6.6</td>\n",
              "      <td>3.6</td>\n",
              "      <td>8.9</td>\n",
              "    </tr>\n",
              "    <tr>\n",
              "      <th>3</th>\n",
              "      <td>2000-01-04</td>\n",
              "      <td>184</td>\n",
              "      <td>9.4</td>\n",
              "      <td>3.2</td>\n",
              "      <td>15.5</td>\n",
              "    </tr>\n",
              "    <tr>\n",
              "      <th>4</th>\n",
              "      <td>2000-01-05</td>\n",
              "      <td>184</td>\n",
              "      <td>14.2</td>\n",
              "      <td>8.9</td>\n",
              "      <td>17.5</td>\n",
              "    </tr>\n",
              "    <tr>\n",
              "      <th>...</th>\n",
              "      <td>...</td>\n",
              "      <td>...</td>\n",
              "      <td>...</td>\n",
              "      <td>...</td>\n",
              "      <td>...</td>\n",
              "    </tr>\n",
              "    <tr>\n",
              "      <th>7560</th>\n",
              "      <td>2020-09-12</td>\n",
              "      <td>184</td>\n",
              "      <td>23.1</td>\n",
              "      <td>21.6</td>\n",
              "      <td>25.5</td>\n",
              "    </tr>\n",
              "    <tr>\n",
              "      <th>7561</th>\n",
              "      <td>2020-09-13</td>\n",
              "      <td>184</td>\n",
              "      <td>23.0</td>\n",
              "      <td>21.7</td>\n",
              "      <td>26.1</td>\n",
              "    </tr>\n",
              "    <tr>\n",
              "      <th>7562</th>\n",
              "      <td>2020-09-14</td>\n",
              "      <td>184</td>\n",
              "      <td>23.3</td>\n",
              "      <td>21.8</td>\n",
              "      <td>25.9</td>\n",
              "    </tr>\n",
              "    <tr>\n",
              "      <th>7563</th>\n",
              "      <td>2020-09-15</td>\n",
              "      <td>184</td>\n",
              "      <td>23.7</td>\n",
              "      <td>21.0</td>\n",
              "      <td>25.8</td>\n",
              "    </tr>\n",
              "    <tr>\n",
              "      <th>7564</th>\n",
              "      <td>2020-09-16</td>\n",
              "      <td>184</td>\n",
              "      <td>23.5</td>\n",
              "      <td>21.5</td>\n",
              "      <td>28.3</td>\n",
              "    </tr>\n",
              "  </tbody>\n",
              "</table>\n",
              "<p>7565 rows × 5 columns</p>\n",
              "</div>"
            ],
            "text/plain": [
              "              날짜   지점  평균기온(℃)  최저기온(℃)  최고기온(℃)\n",
              "0     2000-01-01  184     12.2      8.3     16.0\n",
              "1     2000-01-02  184     10.8      7.5     17.2\n",
              "2     2000-01-03  184      6.6      3.6      8.9\n",
              "3     2000-01-04  184      9.4      3.2     15.5\n",
              "4     2000-01-05  184     14.2      8.9     17.5\n",
              "...          ...  ...      ...      ...      ...\n",
              "7560  2020-09-12  184     23.1     21.6     25.5\n",
              "7561  2020-09-13  184     23.0     21.7     26.1\n",
              "7562  2020-09-14  184     23.3     21.8     25.9\n",
              "7563  2020-09-15  184     23.7     21.0     25.8\n",
              "7564  2020-09-16  184     23.5     21.5     28.3\n",
              "\n",
              "[7565 rows x 5 columns]"
            ]
          },
          "metadata": {
            "tags": []
          },
          "execution_count": 6
        }
      ]
    },
    {
      "cell_type": "code",
      "metadata": {
        "id": "TacalG0772Oz",
        "colab_type": "code",
        "colab": {}
      },
      "source": [
        "# 판다스의 별명은 pd"
      ],
      "execution_count": 7,
      "outputs": []
    },
    {
      "cell_type": "code",
      "metadata": {
        "id": "0Y3hGiLtryPQ",
        "colab_type": "code",
        "colab": {
          "base_uri": "https://localhost:8080/",
          "height": 402
        },
        "outputId": "f3bfcfb0-bed4-44c2-f565-f152deabd7df"
      },
      "source": [
        "import pandas as pd\n",
        "df = pd.read_csv('jeju_temp.csv', encoding = 'cp949')\n",
        "df"
      ],
      "execution_count": 8,
      "outputs": [
        {
          "output_type": "execute_result",
          "data": {
            "text/html": [
              "<div>\n",
              "<style scoped>\n",
              "    .dataframe tbody tr th:only-of-type {\n",
              "        vertical-align: middle;\n",
              "    }\n",
              "\n",
              "    .dataframe tbody tr th {\n",
              "        vertical-align: top;\n",
              "    }\n",
              "\n",
              "    .dataframe thead th {\n",
              "        text-align: right;\n",
              "    }\n",
              "</style>\n",
              "<table border=\"1\" class=\"dataframe\">\n",
              "  <thead>\n",
              "    <tr style=\"text-align: right;\">\n",
              "      <th></th>\n",
              "      <th>날짜</th>\n",
              "      <th>지점</th>\n",
              "      <th>평균기온(℃)</th>\n",
              "      <th>최저기온(℃)</th>\n",
              "      <th>최고기온(℃)</th>\n",
              "    </tr>\n",
              "  </thead>\n",
              "  <tbody>\n",
              "    <tr>\n",
              "      <th>0</th>\n",
              "      <td>2000-01-01</td>\n",
              "      <td>184</td>\n",
              "      <td>12.2</td>\n",
              "      <td>8.3</td>\n",
              "      <td>16.0</td>\n",
              "    </tr>\n",
              "    <tr>\n",
              "      <th>1</th>\n",
              "      <td>2000-01-02</td>\n",
              "      <td>184</td>\n",
              "      <td>10.8</td>\n",
              "      <td>7.5</td>\n",
              "      <td>17.2</td>\n",
              "    </tr>\n",
              "    <tr>\n",
              "      <th>2</th>\n",
              "      <td>2000-01-03</td>\n",
              "      <td>184</td>\n",
              "      <td>6.6</td>\n",
              "      <td>3.6</td>\n",
              "      <td>8.9</td>\n",
              "    </tr>\n",
              "    <tr>\n",
              "      <th>3</th>\n",
              "      <td>2000-01-04</td>\n",
              "      <td>184</td>\n",
              "      <td>9.4</td>\n",
              "      <td>3.2</td>\n",
              "      <td>15.5</td>\n",
              "    </tr>\n",
              "    <tr>\n",
              "      <th>4</th>\n",
              "      <td>2000-01-05</td>\n",
              "      <td>184</td>\n",
              "      <td>14.2</td>\n",
              "      <td>8.9</td>\n",
              "      <td>17.5</td>\n",
              "    </tr>\n",
              "    <tr>\n",
              "      <th>...</th>\n",
              "      <td>...</td>\n",
              "      <td>...</td>\n",
              "      <td>...</td>\n",
              "      <td>...</td>\n",
              "      <td>...</td>\n",
              "    </tr>\n",
              "    <tr>\n",
              "      <th>7560</th>\n",
              "      <td>2020-09-12</td>\n",
              "      <td>184</td>\n",
              "      <td>23.1</td>\n",
              "      <td>21.6</td>\n",
              "      <td>25.5</td>\n",
              "    </tr>\n",
              "    <tr>\n",
              "      <th>7561</th>\n",
              "      <td>2020-09-13</td>\n",
              "      <td>184</td>\n",
              "      <td>23.0</td>\n",
              "      <td>21.7</td>\n",
              "      <td>26.1</td>\n",
              "    </tr>\n",
              "    <tr>\n",
              "      <th>7562</th>\n",
              "      <td>2020-09-14</td>\n",
              "      <td>184</td>\n",
              "      <td>23.3</td>\n",
              "      <td>21.8</td>\n",
              "      <td>25.9</td>\n",
              "    </tr>\n",
              "    <tr>\n",
              "      <th>7563</th>\n",
              "      <td>2020-09-15</td>\n",
              "      <td>184</td>\n",
              "      <td>23.7</td>\n",
              "      <td>21.0</td>\n",
              "      <td>25.8</td>\n",
              "    </tr>\n",
              "    <tr>\n",
              "      <th>7564</th>\n",
              "      <td>2020-09-16</td>\n",
              "      <td>184</td>\n",
              "      <td>23.5</td>\n",
              "      <td>21.5</td>\n",
              "      <td>28.3</td>\n",
              "    </tr>\n",
              "  </tbody>\n",
              "</table>\n",
              "<p>7565 rows × 5 columns</p>\n",
              "</div>"
            ],
            "text/plain": [
              "              날짜   지점  평균기온(℃)  최저기온(℃)  최고기온(℃)\n",
              "0     2000-01-01  184     12.2      8.3     16.0\n",
              "1     2000-01-02  184     10.8      7.5     17.2\n",
              "2     2000-01-03  184      6.6      3.6      8.9\n",
              "3     2000-01-04  184      9.4      3.2     15.5\n",
              "4     2000-01-05  184     14.2      8.9     17.5\n",
              "...          ...  ...      ...      ...      ...\n",
              "7560  2020-09-12  184     23.1     21.6     25.5\n",
              "7561  2020-09-13  184     23.0     21.7     26.1\n",
              "7562  2020-09-14  184     23.3     21.8     25.9\n",
              "7563  2020-09-15  184     23.7     21.0     25.8\n",
              "7564  2020-09-16  184     23.5     21.5     28.3\n",
              "\n",
              "[7565 rows x 5 columns]"
            ]
          },
          "metadata": {
            "tags": []
          },
          "execution_count": 8
        }
      ]
    },
    {
      "cell_type": "markdown",
      "metadata": {
        "id": "YjeNeCLzwA0M",
        "colab_type": "text"
      },
      "source": [
        "#데이터 살펴보기"
      ]
    },
    {
      "cell_type": "code",
      "metadata": {
        "id": "ZuL9bZobv9cN",
        "colab_type": "code",
        "colab": {}
      },
      "source": [
        "#데이터의 모양살펴보기 -shape"
      ],
      "execution_count": 13,
      "outputs": []
    },
    {
      "cell_type": "code",
      "metadata": {
        "id": "y10fnnGmr1eW",
        "colab_type": "code",
        "colab": {
          "base_uri": "https://localhost:8080/",
          "height": 34
        },
        "outputId": "d0fabbdb-e6bb-4513-9832-1d7ea26575d4"
      },
      "source": [
        "df.shape # 행, 열 개수"
      ],
      "execution_count": 14,
      "outputs": [
        {
          "output_type": "execute_result",
          "data": {
            "text/plain": [
              "(7565, 5)"
            ]
          },
          "metadata": {
            "tags": []
          },
          "execution_count": 14
        }
      ]
    },
    {
      "cell_type": "code",
      "metadata": {
        "id": "0lv0bCKJ7-IK",
        "colab_type": "code",
        "colab": {}
      },
      "source": [
        "# 앞의 n개 데이터 살펴보기(기본값은 5)- head"
      ],
      "execution_count": 15,
      "outputs": []
    },
    {
      "cell_type": "code",
      "metadata": {
        "id": "l_nVxB3sr7qI",
        "colab_type": "code",
        "colab": {
          "base_uri": "https://localhost:8080/",
          "height": 136
        },
        "outputId": "a6671240-02fc-42f3-e462-8f5e03c7605a"
      },
      "source": [
        "df.head(3) "
      ],
      "execution_count": 19,
      "outputs": [
        {
          "output_type": "execute_result",
          "data": {
            "text/html": [
              "<div>\n",
              "<style scoped>\n",
              "    .dataframe tbody tr th:only-of-type {\n",
              "        vertical-align: middle;\n",
              "    }\n",
              "\n",
              "    .dataframe tbody tr th {\n",
              "        vertical-align: top;\n",
              "    }\n",
              "\n",
              "    .dataframe thead th {\n",
              "        text-align: right;\n",
              "    }\n",
              "</style>\n",
              "<table border=\"1\" class=\"dataframe\">\n",
              "  <thead>\n",
              "    <tr style=\"text-align: right;\">\n",
              "      <th></th>\n",
              "      <th>날짜</th>\n",
              "      <th>지점</th>\n",
              "      <th>평균기온(℃)</th>\n",
              "      <th>최저기온(℃)</th>\n",
              "      <th>최고기온(℃)</th>\n",
              "    </tr>\n",
              "  </thead>\n",
              "  <tbody>\n",
              "    <tr>\n",
              "      <th>0</th>\n",
              "      <td>2000-01-01</td>\n",
              "      <td>184</td>\n",
              "      <td>12.2</td>\n",
              "      <td>8.3</td>\n",
              "      <td>16.0</td>\n",
              "    </tr>\n",
              "    <tr>\n",
              "      <th>1</th>\n",
              "      <td>2000-01-02</td>\n",
              "      <td>184</td>\n",
              "      <td>10.8</td>\n",
              "      <td>7.5</td>\n",
              "      <td>17.2</td>\n",
              "    </tr>\n",
              "    <tr>\n",
              "      <th>2</th>\n",
              "      <td>2000-01-03</td>\n",
              "      <td>184</td>\n",
              "      <td>6.6</td>\n",
              "      <td>3.6</td>\n",
              "      <td>8.9</td>\n",
              "    </tr>\n",
              "  </tbody>\n",
              "</table>\n",
              "</div>"
            ],
            "text/plain": [
              "           날짜   지점  평균기온(℃)  최저기온(℃)  최고기온(℃)\n",
              "0  2000-01-01  184     12.2      8.3     16.0\n",
              "1  2000-01-02  184     10.8      7.5     17.2\n",
              "2  2000-01-03  184      6.6      3.6      8.9"
            ]
          },
          "metadata": {
            "tags": []
          },
          "execution_count": 19
        }
      ]
    },
    {
      "cell_type": "code",
      "metadata": {
        "id": "bCIcD-yq8ET4",
        "colab_type": "code",
        "colab": {}
      },
      "source": [
        "# 뒤의 n개 데이터 살펴보기(기본값은 5) - tail"
      ],
      "execution_count": 20,
      "outputs": []
    },
    {
      "cell_type": "code",
      "metadata": {
        "id": "h8n1hzP7r8hw",
        "colab_type": "code",
        "colab": {
          "base_uri": "https://localhost:8080/",
          "height": 195
        },
        "outputId": "2407a95a-9a7d-4af4-9f0c-9fa77b0473bd"
      },
      "source": [
        "df.tail() # 뒤에꺼 출력"
      ],
      "execution_count": 22,
      "outputs": [
        {
          "output_type": "execute_result",
          "data": {
            "text/html": [
              "<div>\n",
              "<style scoped>\n",
              "    .dataframe tbody tr th:only-of-type {\n",
              "        vertical-align: middle;\n",
              "    }\n",
              "\n",
              "    .dataframe tbody tr th {\n",
              "        vertical-align: top;\n",
              "    }\n",
              "\n",
              "    .dataframe thead th {\n",
              "        text-align: right;\n",
              "    }\n",
              "</style>\n",
              "<table border=\"1\" class=\"dataframe\">\n",
              "  <thead>\n",
              "    <tr style=\"text-align: right;\">\n",
              "      <th></th>\n",
              "      <th>날짜</th>\n",
              "      <th>지점</th>\n",
              "      <th>평균기온(℃)</th>\n",
              "      <th>최저기온(℃)</th>\n",
              "      <th>최고기온(℃)</th>\n",
              "    </tr>\n",
              "  </thead>\n",
              "  <tbody>\n",
              "    <tr>\n",
              "      <th>7560</th>\n",
              "      <td>2020-09-12</td>\n",
              "      <td>184</td>\n",
              "      <td>23.1</td>\n",
              "      <td>21.6</td>\n",
              "      <td>25.5</td>\n",
              "    </tr>\n",
              "    <tr>\n",
              "      <th>7561</th>\n",
              "      <td>2020-09-13</td>\n",
              "      <td>184</td>\n",
              "      <td>23.0</td>\n",
              "      <td>21.7</td>\n",
              "      <td>26.1</td>\n",
              "    </tr>\n",
              "    <tr>\n",
              "      <th>7562</th>\n",
              "      <td>2020-09-14</td>\n",
              "      <td>184</td>\n",
              "      <td>23.3</td>\n",
              "      <td>21.8</td>\n",
              "      <td>25.9</td>\n",
              "    </tr>\n",
              "    <tr>\n",
              "      <th>7563</th>\n",
              "      <td>2020-09-15</td>\n",
              "      <td>184</td>\n",
              "      <td>23.7</td>\n",
              "      <td>21.0</td>\n",
              "      <td>25.8</td>\n",
              "    </tr>\n",
              "    <tr>\n",
              "      <th>7564</th>\n",
              "      <td>2020-09-16</td>\n",
              "      <td>184</td>\n",
              "      <td>23.5</td>\n",
              "      <td>21.5</td>\n",
              "      <td>28.3</td>\n",
              "    </tr>\n",
              "  </tbody>\n",
              "</table>\n",
              "</div>"
            ],
            "text/plain": [
              "              날짜   지점  평균기온(℃)  최저기온(℃)  최고기온(℃)\n",
              "7560  2020-09-12  184     23.1     21.6     25.5\n",
              "7561  2020-09-13  184     23.0     21.7     26.1\n",
              "7562  2020-09-14  184     23.3     21.8     25.9\n",
              "7563  2020-09-15  184     23.7     21.0     25.8\n",
              "7564  2020-09-16  184     23.5     21.5     28.3"
            ]
          },
          "metadata": {
            "tags": []
          },
          "execution_count": 22
        }
      ]
    },
    {
      "cell_type": "markdown",
      "metadata": {
        "id": "yzYmxQp-wKd2",
        "colab_type": "text"
      },
      "source": [
        "#■특정 컬럼 인덱스 변경하기"
      ]
    },
    {
      "cell_type": "code",
      "metadata": {
        "id": "exEoc1lDGe4T",
        "colab_type": "code",
        "colab": {
          "base_uri": "https://localhost:8080/",
          "height": 402
        },
        "outputId": "c31fde9c-ae88-4c9e-a77f-51121bbeccd4"
      },
      "source": [
        "#원본 데이터 인덱스 확인하기 위한 전체출력\n",
        "df"
      ],
      "execution_count": 23,
      "outputs": [
        {
          "output_type": "execute_result",
          "data": {
            "text/html": [
              "<div>\n",
              "<style scoped>\n",
              "    .dataframe tbody tr th:only-of-type {\n",
              "        vertical-align: middle;\n",
              "    }\n",
              "\n",
              "    .dataframe tbody tr th {\n",
              "        vertical-align: top;\n",
              "    }\n",
              "\n",
              "    .dataframe thead th {\n",
              "        text-align: right;\n",
              "    }\n",
              "</style>\n",
              "<table border=\"1\" class=\"dataframe\">\n",
              "  <thead>\n",
              "    <tr style=\"text-align: right;\">\n",
              "      <th></th>\n",
              "      <th>날짜</th>\n",
              "      <th>지점</th>\n",
              "      <th>평균기온(℃)</th>\n",
              "      <th>최저기온(℃)</th>\n",
              "      <th>최고기온(℃)</th>\n",
              "    </tr>\n",
              "  </thead>\n",
              "  <tbody>\n",
              "    <tr>\n",
              "      <th>0</th>\n",
              "      <td>2000-01-01</td>\n",
              "      <td>184</td>\n",
              "      <td>12.2</td>\n",
              "      <td>8.3</td>\n",
              "      <td>16.0</td>\n",
              "    </tr>\n",
              "    <tr>\n",
              "      <th>1</th>\n",
              "      <td>2000-01-02</td>\n",
              "      <td>184</td>\n",
              "      <td>10.8</td>\n",
              "      <td>7.5</td>\n",
              "      <td>17.2</td>\n",
              "    </tr>\n",
              "    <tr>\n",
              "      <th>2</th>\n",
              "      <td>2000-01-03</td>\n",
              "      <td>184</td>\n",
              "      <td>6.6</td>\n",
              "      <td>3.6</td>\n",
              "      <td>8.9</td>\n",
              "    </tr>\n",
              "    <tr>\n",
              "      <th>3</th>\n",
              "      <td>2000-01-04</td>\n",
              "      <td>184</td>\n",
              "      <td>9.4</td>\n",
              "      <td>3.2</td>\n",
              "      <td>15.5</td>\n",
              "    </tr>\n",
              "    <tr>\n",
              "      <th>4</th>\n",
              "      <td>2000-01-05</td>\n",
              "      <td>184</td>\n",
              "      <td>14.2</td>\n",
              "      <td>8.9</td>\n",
              "      <td>17.5</td>\n",
              "    </tr>\n",
              "    <tr>\n",
              "      <th>...</th>\n",
              "      <td>...</td>\n",
              "      <td>...</td>\n",
              "      <td>...</td>\n",
              "      <td>...</td>\n",
              "      <td>...</td>\n",
              "    </tr>\n",
              "    <tr>\n",
              "      <th>7560</th>\n",
              "      <td>2020-09-12</td>\n",
              "      <td>184</td>\n",
              "      <td>23.1</td>\n",
              "      <td>21.6</td>\n",
              "      <td>25.5</td>\n",
              "    </tr>\n",
              "    <tr>\n",
              "      <th>7561</th>\n",
              "      <td>2020-09-13</td>\n",
              "      <td>184</td>\n",
              "      <td>23.0</td>\n",
              "      <td>21.7</td>\n",
              "      <td>26.1</td>\n",
              "    </tr>\n",
              "    <tr>\n",
              "      <th>7562</th>\n",
              "      <td>2020-09-14</td>\n",
              "      <td>184</td>\n",
              "      <td>23.3</td>\n",
              "      <td>21.8</td>\n",
              "      <td>25.9</td>\n",
              "    </tr>\n",
              "    <tr>\n",
              "      <th>7563</th>\n",
              "      <td>2020-09-15</td>\n",
              "      <td>184</td>\n",
              "      <td>23.7</td>\n",
              "      <td>21.0</td>\n",
              "      <td>25.8</td>\n",
              "    </tr>\n",
              "    <tr>\n",
              "      <th>7564</th>\n",
              "      <td>2020-09-16</td>\n",
              "      <td>184</td>\n",
              "      <td>23.5</td>\n",
              "      <td>21.5</td>\n",
              "      <td>28.3</td>\n",
              "    </tr>\n",
              "  </tbody>\n",
              "</table>\n",
              "<p>7565 rows × 5 columns</p>\n",
              "</div>"
            ],
            "text/plain": [
              "              날짜   지점  평균기온(℃)  최저기온(℃)  최고기온(℃)\n",
              "0     2000-01-01  184     12.2      8.3     16.0\n",
              "1     2000-01-02  184     10.8      7.5     17.2\n",
              "2     2000-01-03  184      6.6      3.6      8.9\n",
              "3     2000-01-04  184      9.4      3.2     15.5\n",
              "4     2000-01-05  184     14.2      8.9     17.5\n",
              "...          ...  ...      ...      ...      ...\n",
              "7560  2020-09-12  184     23.1     21.6     25.5\n",
              "7561  2020-09-13  184     23.0     21.7     26.1\n",
              "7562  2020-09-14  184     23.3     21.8     25.9\n",
              "7563  2020-09-15  184     23.7     21.0     25.8\n",
              "7564  2020-09-16  184     23.5     21.5     28.3\n",
              "\n",
              "[7565 rows x 5 columns]"
            ]
          },
          "metadata": {
            "tags": []
          },
          "execution_count": 23
        }
      ]
    },
    {
      "cell_type": "code",
      "metadata": {
        "id": "ckNKZosyH-FI",
        "colab_type": "code",
        "colab": {}
      },
      "source": [
        "#인덱스 ('날짜')로 변경하기 - set_index"
      ],
      "execution_count": null,
      "outputs": []
    },
    {
      "cell_type": "code",
      "metadata": {
        "id": "luDdnzmL59ov",
        "colab_type": "code",
        "colab": {
          "base_uri": "https://localhost:8080/",
          "height": 431
        },
        "outputId": "287c138c-92ed-4208-9804-e6743d7e7c03"
      },
      "source": [
        "df.set_index('날짜')"
      ],
      "execution_count": 24,
      "outputs": [
        {
          "output_type": "execute_result",
          "data": {
            "text/html": [
              "<div>\n",
              "<style scoped>\n",
              "    .dataframe tbody tr th:only-of-type {\n",
              "        vertical-align: middle;\n",
              "    }\n",
              "\n",
              "    .dataframe tbody tr th {\n",
              "        vertical-align: top;\n",
              "    }\n",
              "\n",
              "    .dataframe thead th {\n",
              "        text-align: right;\n",
              "    }\n",
              "</style>\n",
              "<table border=\"1\" class=\"dataframe\">\n",
              "  <thead>\n",
              "    <tr style=\"text-align: right;\">\n",
              "      <th></th>\n",
              "      <th>지점</th>\n",
              "      <th>평균기온(℃)</th>\n",
              "      <th>최저기온(℃)</th>\n",
              "      <th>최고기온(℃)</th>\n",
              "    </tr>\n",
              "    <tr>\n",
              "      <th>날짜</th>\n",
              "      <th></th>\n",
              "      <th></th>\n",
              "      <th></th>\n",
              "      <th></th>\n",
              "    </tr>\n",
              "  </thead>\n",
              "  <tbody>\n",
              "    <tr>\n",
              "      <th>2000-01-01</th>\n",
              "      <td>184</td>\n",
              "      <td>12.2</td>\n",
              "      <td>8.3</td>\n",
              "      <td>16.0</td>\n",
              "    </tr>\n",
              "    <tr>\n",
              "      <th>2000-01-02</th>\n",
              "      <td>184</td>\n",
              "      <td>10.8</td>\n",
              "      <td>7.5</td>\n",
              "      <td>17.2</td>\n",
              "    </tr>\n",
              "    <tr>\n",
              "      <th>2000-01-03</th>\n",
              "      <td>184</td>\n",
              "      <td>6.6</td>\n",
              "      <td>3.6</td>\n",
              "      <td>8.9</td>\n",
              "    </tr>\n",
              "    <tr>\n",
              "      <th>2000-01-04</th>\n",
              "      <td>184</td>\n",
              "      <td>9.4</td>\n",
              "      <td>3.2</td>\n",
              "      <td>15.5</td>\n",
              "    </tr>\n",
              "    <tr>\n",
              "      <th>2000-01-05</th>\n",
              "      <td>184</td>\n",
              "      <td>14.2</td>\n",
              "      <td>8.9</td>\n",
              "      <td>17.5</td>\n",
              "    </tr>\n",
              "    <tr>\n",
              "      <th>...</th>\n",
              "      <td>...</td>\n",
              "      <td>...</td>\n",
              "      <td>...</td>\n",
              "      <td>...</td>\n",
              "    </tr>\n",
              "    <tr>\n",
              "      <th>2020-09-12</th>\n",
              "      <td>184</td>\n",
              "      <td>23.1</td>\n",
              "      <td>21.6</td>\n",
              "      <td>25.5</td>\n",
              "    </tr>\n",
              "    <tr>\n",
              "      <th>2020-09-13</th>\n",
              "      <td>184</td>\n",
              "      <td>23.0</td>\n",
              "      <td>21.7</td>\n",
              "      <td>26.1</td>\n",
              "    </tr>\n",
              "    <tr>\n",
              "      <th>2020-09-14</th>\n",
              "      <td>184</td>\n",
              "      <td>23.3</td>\n",
              "      <td>21.8</td>\n",
              "      <td>25.9</td>\n",
              "    </tr>\n",
              "    <tr>\n",
              "      <th>2020-09-15</th>\n",
              "      <td>184</td>\n",
              "      <td>23.7</td>\n",
              "      <td>21.0</td>\n",
              "      <td>25.8</td>\n",
              "    </tr>\n",
              "    <tr>\n",
              "      <th>2020-09-16</th>\n",
              "      <td>184</td>\n",
              "      <td>23.5</td>\n",
              "      <td>21.5</td>\n",
              "      <td>28.3</td>\n",
              "    </tr>\n",
              "  </tbody>\n",
              "</table>\n",
              "<p>7565 rows × 4 columns</p>\n",
              "</div>"
            ],
            "text/plain": [
              "             지점  평균기온(℃)  최저기온(℃)  최고기온(℃)\n",
              "날짜                                        \n",
              "2000-01-01  184     12.2      8.3     16.0\n",
              "2000-01-02  184     10.8      7.5     17.2\n",
              "2000-01-03  184      6.6      3.6      8.9\n",
              "2000-01-04  184      9.4      3.2     15.5\n",
              "2000-01-05  184     14.2      8.9     17.5\n",
              "...         ...      ...      ...      ...\n",
              "2020-09-12  184     23.1     21.6     25.5\n",
              "2020-09-13  184     23.0     21.7     26.1\n",
              "2020-09-14  184     23.3     21.8     25.9\n",
              "2020-09-15  184     23.7     21.0     25.8\n",
              "2020-09-16  184     23.5     21.5     28.3\n",
              "\n",
              "[7565 rows x 4 columns]"
            ]
          },
          "metadata": {
            "tags": []
          },
          "execution_count": 24
        }
      ]
    },
    {
      "cell_type": "code",
      "metadata": {
        "id": "3Y3d5_61HKvj",
        "colab_type": "code",
        "colab": {}
      },
      "source": [
        "#변경 되었는지 확인"
      ],
      "execution_count": null,
      "outputs": []
    },
    {
      "cell_type": "code",
      "metadata": {
        "id": "V-Xtm0TvIDPI",
        "colab_type": "code",
        "colab": {}
      },
      "source": [
        "df"
      ],
      "execution_count": null,
      "outputs": []
    },
    {
      "cell_type": "code",
      "metadata": {
        "id": "EH7QhhyZIEvc",
        "colab_type": "code",
        "colab": {}
      },
      "source": [
        "#인덱스 변경하고 df에 덮어쓰기"
      ],
      "execution_count": null,
      "outputs": []
    },
    {
      "cell_type": "code",
      "metadata": {
        "id": "FOGGaUItsPJS",
        "colab_type": "code",
        "colab": {}
      },
      "source": [
        "df = df.set_index('날짜')"
      ],
      "execution_count": 25,
      "outputs": []
    },
    {
      "cell_type": "code",
      "metadata": {
        "id": "fL8DPKjMsSN1",
        "colab_type": "code",
        "colab": {}
      },
      "source": [
        "#df 변경 되었는지 확인"
      ],
      "execution_count": 26,
      "outputs": []
    },
    {
      "cell_type": "code",
      "metadata": {
        "id": "CfrIp0zvILQx",
        "colab_type": "code",
        "colab": {
          "base_uri": "https://localhost:8080/",
          "height": 431
        },
        "outputId": "c0b38a0a-59ea-4b77-8f26-b23cf20d0d1f"
      },
      "source": [
        "df"
      ],
      "execution_count": 27,
      "outputs": [
        {
          "output_type": "execute_result",
          "data": {
            "text/html": [
              "<div>\n",
              "<style scoped>\n",
              "    .dataframe tbody tr th:only-of-type {\n",
              "        vertical-align: middle;\n",
              "    }\n",
              "\n",
              "    .dataframe tbody tr th {\n",
              "        vertical-align: top;\n",
              "    }\n",
              "\n",
              "    .dataframe thead th {\n",
              "        text-align: right;\n",
              "    }\n",
              "</style>\n",
              "<table border=\"1\" class=\"dataframe\">\n",
              "  <thead>\n",
              "    <tr style=\"text-align: right;\">\n",
              "      <th></th>\n",
              "      <th>지점</th>\n",
              "      <th>평균기온(℃)</th>\n",
              "      <th>최저기온(℃)</th>\n",
              "      <th>최고기온(℃)</th>\n",
              "    </tr>\n",
              "    <tr>\n",
              "      <th>날짜</th>\n",
              "      <th></th>\n",
              "      <th></th>\n",
              "      <th></th>\n",
              "      <th></th>\n",
              "    </tr>\n",
              "  </thead>\n",
              "  <tbody>\n",
              "    <tr>\n",
              "      <th>2000-01-01</th>\n",
              "      <td>184</td>\n",
              "      <td>12.2</td>\n",
              "      <td>8.3</td>\n",
              "      <td>16.0</td>\n",
              "    </tr>\n",
              "    <tr>\n",
              "      <th>2000-01-02</th>\n",
              "      <td>184</td>\n",
              "      <td>10.8</td>\n",
              "      <td>7.5</td>\n",
              "      <td>17.2</td>\n",
              "    </tr>\n",
              "    <tr>\n",
              "      <th>2000-01-03</th>\n",
              "      <td>184</td>\n",
              "      <td>6.6</td>\n",
              "      <td>3.6</td>\n",
              "      <td>8.9</td>\n",
              "    </tr>\n",
              "    <tr>\n",
              "      <th>2000-01-04</th>\n",
              "      <td>184</td>\n",
              "      <td>9.4</td>\n",
              "      <td>3.2</td>\n",
              "      <td>15.5</td>\n",
              "    </tr>\n",
              "    <tr>\n",
              "      <th>2000-01-05</th>\n",
              "      <td>184</td>\n",
              "      <td>14.2</td>\n",
              "      <td>8.9</td>\n",
              "      <td>17.5</td>\n",
              "    </tr>\n",
              "    <tr>\n",
              "      <th>...</th>\n",
              "      <td>...</td>\n",
              "      <td>...</td>\n",
              "      <td>...</td>\n",
              "      <td>...</td>\n",
              "    </tr>\n",
              "    <tr>\n",
              "      <th>2020-09-12</th>\n",
              "      <td>184</td>\n",
              "      <td>23.1</td>\n",
              "      <td>21.6</td>\n",
              "      <td>25.5</td>\n",
              "    </tr>\n",
              "    <tr>\n",
              "      <th>2020-09-13</th>\n",
              "      <td>184</td>\n",
              "      <td>23.0</td>\n",
              "      <td>21.7</td>\n",
              "      <td>26.1</td>\n",
              "    </tr>\n",
              "    <tr>\n",
              "      <th>2020-09-14</th>\n",
              "      <td>184</td>\n",
              "      <td>23.3</td>\n",
              "      <td>21.8</td>\n",
              "      <td>25.9</td>\n",
              "    </tr>\n",
              "    <tr>\n",
              "      <th>2020-09-15</th>\n",
              "      <td>184</td>\n",
              "      <td>23.7</td>\n",
              "      <td>21.0</td>\n",
              "      <td>25.8</td>\n",
              "    </tr>\n",
              "    <tr>\n",
              "      <th>2020-09-16</th>\n",
              "      <td>184</td>\n",
              "      <td>23.5</td>\n",
              "      <td>21.5</td>\n",
              "      <td>28.3</td>\n",
              "    </tr>\n",
              "  </tbody>\n",
              "</table>\n",
              "<p>7565 rows × 4 columns</p>\n",
              "</div>"
            ],
            "text/plain": [
              "             지점  평균기온(℃)  최저기온(℃)  최고기온(℃)\n",
              "날짜                                        \n",
              "2000-01-01  184     12.2      8.3     16.0\n",
              "2000-01-02  184     10.8      7.5     17.2\n",
              "2000-01-03  184      6.6      3.6      8.9\n",
              "2000-01-04  184      9.4      3.2     15.5\n",
              "2000-01-05  184     14.2      8.9     17.5\n",
              "...         ...      ...      ...      ...\n",
              "2020-09-12  184     23.1     21.6     25.5\n",
              "2020-09-13  184     23.0     21.7     26.1\n",
              "2020-09-14  184     23.3     21.8     25.9\n",
              "2020-09-15  184     23.7     21.0     25.8\n",
              "2020-09-16  184     23.5     21.5     28.3\n",
              "\n",
              "[7565 rows x 4 columns]"
            ]
          },
          "metadata": {
            "tags": []
          },
          "execution_count": 27
        }
      ]
    },
    {
      "cell_type": "code",
      "metadata": {
        "id": "_q1OKrl0Rsub",
        "colab_type": "code",
        "colab": {}
      },
      "source": [
        "#인덱스 리셋하기 - reset_index()"
      ],
      "execution_count": null,
      "outputs": []
    },
    {
      "cell_type": "code",
      "metadata": {
        "id": "8eYzxgpyRph_",
        "colab_type": "code",
        "colab": {}
      },
      "source": [
        "df = df.reset_index()"
      ],
      "execution_count": 30,
      "outputs": []
    },
    {
      "cell_type": "code",
      "metadata": {
        "id": "A-Hs3gPwSeAd",
        "colab_type": "code",
        "colab": {
          "base_uri": "https://localhost:8080/",
          "height": 402
        },
        "outputId": "3ed3ee60-e31c-4d73-fd21-55016e45cddd"
      },
      "source": [
        "df"
      ],
      "execution_count": 31,
      "outputs": [
        {
          "output_type": "execute_result",
          "data": {
            "text/html": [
              "<div>\n",
              "<style scoped>\n",
              "    .dataframe tbody tr th:only-of-type {\n",
              "        vertical-align: middle;\n",
              "    }\n",
              "\n",
              "    .dataframe tbody tr th {\n",
              "        vertical-align: top;\n",
              "    }\n",
              "\n",
              "    .dataframe thead th {\n",
              "        text-align: right;\n",
              "    }\n",
              "</style>\n",
              "<table border=\"1\" class=\"dataframe\">\n",
              "  <thead>\n",
              "    <tr style=\"text-align: right;\">\n",
              "      <th></th>\n",
              "      <th>날짜</th>\n",
              "      <th>지점</th>\n",
              "      <th>평균기온(℃)</th>\n",
              "      <th>최저기온(℃)</th>\n",
              "      <th>최고기온(℃)</th>\n",
              "    </tr>\n",
              "  </thead>\n",
              "  <tbody>\n",
              "    <tr>\n",
              "      <th>0</th>\n",
              "      <td>2000-01-01</td>\n",
              "      <td>184</td>\n",
              "      <td>12.2</td>\n",
              "      <td>8.3</td>\n",
              "      <td>16.0</td>\n",
              "    </tr>\n",
              "    <tr>\n",
              "      <th>1</th>\n",
              "      <td>2000-01-02</td>\n",
              "      <td>184</td>\n",
              "      <td>10.8</td>\n",
              "      <td>7.5</td>\n",
              "      <td>17.2</td>\n",
              "    </tr>\n",
              "    <tr>\n",
              "      <th>2</th>\n",
              "      <td>2000-01-03</td>\n",
              "      <td>184</td>\n",
              "      <td>6.6</td>\n",
              "      <td>3.6</td>\n",
              "      <td>8.9</td>\n",
              "    </tr>\n",
              "    <tr>\n",
              "      <th>3</th>\n",
              "      <td>2000-01-04</td>\n",
              "      <td>184</td>\n",
              "      <td>9.4</td>\n",
              "      <td>3.2</td>\n",
              "      <td>15.5</td>\n",
              "    </tr>\n",
              "    <tr>\n",
              "      <th>4</th>\n",
              "      <td>2000-01-05</td>\n",
              "      <td>184</td>\n",
              "      <td>14.2</td>\n",
              "      <td>8.9</td>\n",
              "      <td>17.5</td>\n",
              "    </tr>\n",
              "    <tr>\n",
              "      <th>...</th>\n",
              "      <td>...</td>\n",
              "      <td>...</td>\n",
              "      <td>...</td>\n",
              "      <td>...</td>\n",
              "      <td>...</td>\n",
              "    </tr>\n",
              "    <tr>\n",
              "      <th>7560</th>\n",
              "      <td>2020-09-12</td>\n",
              "      <td>184</td>\n",
              "      <td>23.1</td>\n",
              "      <td>21.6</td>\n",
              "      <td>25.5</td>\n",
              "    </tr>\n",
              "    <tr>\n",
              "      <th>7561</th>\n",
              "      <td>2020-09-13</td>\n",
              "      <td>184</td>\n",
              "      <td>23.0</td>\n",
              "      <td>21.7</td>\n",
              "      <td>26.1</td>\n",
              "    </tr>\n",
              "    <tr>\n",
              "      <th>7562</th>\n",
              "      <td>2020-09-14</td>\n",
              "      <td>184</td>\n",
              "      <td>23.3</td>\n",
              "      <td>21.8</td>\n",
              "      <td>25.9</td>\n",
              "    </tr>\n",
              "    <tr>\n",
              "      <th>7563</th>\n",
              "      <td>2020-09-15</td>\n",
              "      <td>184</td>\n",
              "      <td>23.7</td>\n",
              "      <td>21.0</td>\n",
              "      <td>25.8</td>\n",
              "    </tr>\n",
              "    <tr>\n",
              "      <th>7564</th>\n",
              "      <td>2020-09-16</td>\n",
              "      <td>184</td>\n",
              "      <td>23.5</td>\n",
              "      <td>21.5</td>\n",
              "      <td>28.3</td>\n",
              "    </tr>\n",
              "  </tbody>\n",
              "</table>\n",
              "<p>7565 rows × 5 columns</p>\n",
              "</div>"
            ],
            "text/plain": [
              "              날짜   지점  평균기온(℃)  최저기온(℃)  최고기온(℃)\n",
              "0     2000-01-01  184     12.2      8.3     16.0\n",
              "1     2000-01-02  184     10.8      7.5     17.2\n",
              "2     2000-01-03  184      6.6      3.6      8.9\n",
              "3     2000-01-04  184      9.4      3.2     15.5\n",
              "4     2000-01-05  184     14.2      8.9     17.5\n",
              "...          ...  ...      ...      ...      ...\n",
              "7560  2020-09-12  184     23.1     21.6     25.5\n",
              "7561  2020-09-13  184     23.0     21.7     26.1\n",
              "7562  2020-09-14  184     23.3     21.8     25.9\n",
              "7563  2020-09-15  184     23.7     21.0     25.8\n",
              "7564  2020-09-16  184     23.5     21.5     28.3\n",
              "\n",
              "[7565 rows x 5 columns]"
            ]
          },
          "metadata": {
            "tags": []
          },
          "execution_count": 31
        }
      ]
    },
    {
      "cell_type": "markdown",
      "metadata": {
        "id": "jwE0ZsmDwHkz",
        "colab_type": "text"
      },
      "source": [
        "#■특정 컬럼 선택하기"
      ]
    },
    {
      "cell_type": "code",
      "metadata": {
        "id": "AOU_Owlj8GFM",
        "colab_type": "code",
        "colab": {}
      },
      "source": [
        "# 특정 '날짜' 컬럼 선택하기"
      ],
      "execution_count": null,
      "outputs": []
    },
    {
      "cell_type": "code",
      "metadata": {
        "id": "2qdMv-A_r9WI",
        "colab_type": "code",
        "colab": {
          "base_uri": "https://localhost:8080/",
          "height": 402
        },
        "outputId": "47f08b06-765f-430a-f8c2-54f424c8bdee"
      },
      "source": [
        "df[['날짜', '지점']]"
      ],
      "execution_count": 35,
      "outputs": [
        {
          "output_type": "execute_result",
          "data": {
            "text/html": [
              "<div>\n",
              "<style scoped>\n",
              "    .dataframe tbody tr th:only-of-type {\n",
              "        vertical-align: middle;\n",
              "    }\n",
              "\n",
              "    .dataframe tbody tr th {\n",
              "        vertical-align: top;\n",
              "    }\n",
              "\n",
              "    .dataframe thead th {\n",
              "        text-align: right;\n",
              "    }\n",
              "</style>\n",
              "<table border=\"1\" class=\"dataframe\">\n",
              "  <thead>\n",
              "    <tr style=\"text-align: right;\">\n",
              "      <th></th>\n",
              "      <th>날짜</th>\n",
              "      <th>지점</th>\n",
              "    </tr>\n",
              "  </thead>\n",
              "  <tbody>\n",
              "    <tr>\n",
              "      <th>0</th>\n",
              "      <td>2000-01-01</td>\n",
              "      <td>184</td>\n",
              "    </tr>\n",
              "    <tr>\n",
              "      <th>1</th>\n",
              "      <td>2000-01-02</td>\n",
              "      <td>184</td>\n",
              "    </tr>\n",
              "    <tr>\n",
              "      <th>2</th>\n",
              "      <td>2000-01-03</td>\n",
              "      <td>184</td>\n",
              "    </tr>\n",
              "    <tr>\n",
              "      <th>3</th>\n",
              "      <td>2000-01-04</td>\n",
              "      <td>184</td>\n",
              "    </tr>\n",
              "    <tr>\n",
              "      <th>4</th>\n",
              "      <td>2000-01-05</td>\n",
              "      <td>184</td>\n",
              "    </tr>\n",
              "    <tr>\n",
              "      <th>...</th>\n",
              "      <td>...</td>\n",
              "      <td>...</td>\n",
              "    </tr>\n",
              "    <tr>\n",
              "      <th>7560</th>\n",
              "      <td>2020-09-12</td>\n",
              "      <td>184</td>\n",
              "    </tr>\n",
              "    <tr>\n",
              "      <th>7561</th>\n",
              "      <td>2020-09-13</td>\n",
              "      <td>184</td>\n",
              "    </tr>\n",
              "    <tr>\n",
              "      <th>7562</th>\n",
              "      <td>2020-09-14</td>\n",
              "      <td>184</td>\n",
              "    </tr>\n",
              "    <tr>\n",
              "      <th>7563</th>\n",
              "      <td>2020-09-15</td>\n",
              "      <td>184</td>\n",
              "    </tr>\n",
              "    <tr>\n",
              "      <th>7564</th>\n",
              "      <td>2020-09-16</td>\n",
              "      <td>184</td>\n",
              "    </tr>\n",
              "  </tbody>\n",
              "</table>\n",
              "<p>7565 rows × 2 columns</p>\n",
              "</div>"
            ],
            "text/plain": [
              "              날짜   지점\n",
              "0     2000-01-01  184\n",
              "1     2000-01-02  184\n",
              "2     2000-01-03  184\n",
              "3     2000-01-04  184\n",
              "4     2000-01-05  184\n",
              "...          ...  ...\n",
              "7560  2020-09-12  184\n",
              "7561  2020-09-13  184\n",
              "7562  2020-09-14  184\n",
              "7563  2020-09-15  184\n",
              "7564  2020-09-16  184\n",
              "\n",
              "[7565 rows x 2 columns]"
            ]
          },
          "metadata": {
            "tags": []
          },
          "execution_count": 35
        }
      ]
    },
    {
      "cell_type": "code",
      "metadata": {
        "id": "2MILz15NftDf",
        "colab_type": "code",
        "colab": {}
      },
      "source": [
        ""
      ],
      "execution_count": null,
      "outputs": []
    },
    {
      "cell_type": "markdown",
      "metadata": {
        "id": "sZXP3P42wUzJ",
        "colab_type": "text"
      },
      "source": [
        "#■컬럼 이름 바꾸기"
      ]
    },
    {
      "cell_type": "code",
      "metadata": {
        "id": "sntQcSZe-Wgh",
        "colab_type": "code",
        "colab": {}
      },
      "source": [
        "# 최고기온(℃) 컬럼 선택하기\n",
        "# 이렇게 특수문자나 띄어쓰기가 있으면 안됨"
      ],
      "execution_count": null,
      "outputs": []
    },
    {
      "cell_type": "code",
      "metadata": {
        "id": "Ez4y7_uSsce2",
        "colab_type": "code",
        "colab": {}
      },
      "source": [
        ""
      ],
      "execution_count": null,
      "outputs": []
    },
    {
      "cell_type": "code",
      "metadata": {
        "id": "yUyuT6FxSbNk",
        "colab_type": "code",
        "colab": {
          "base_uri": "https://localhost:8080/",
          "height": 402
        },
        "outputId": "cbd4afa9-1adf-48f2-fb4d-4000f78cff37"
      },
      "source": [
        "df"
      ],
      "execution_count": 44,
      "outputs": [
        {
          "output_type": "execute_result",
          "data": {
            "text/html": [
              "<div>\n",
              "<style scoped>\n",
              "    .dataframe tbody tr th:only-of-type {\n",
              "        vertical-align: middle;\n",
              "    }\n",
              "\n",
              "    .dataframe tbody tr th {\n",
              "        vertical-align: top;\n",
              "    }\n",
              "\n",
              "    .dataframe thead th {\n",
              "        text-align: right;\n",
              "    }\n",
              "</style>\n",
              "<table border=\"1\" class=\"dataframe\">\n",
              "  <thead>\n",
              "    <tr style=\"text-align: right;\">\n",
              "      <th></th>\n",
              "      <th>날짜</th>\n",
              "      <th>지점</th>\n",
              "      <th>평균기온(℃)</th>\n",
              "      <th>최저기온(℃)</th>\n",
              "      <th>최고기온(℃)</th>\n",
              "    </tr>\n",
              "  </thead>\n",
              "  <tbody>\n",
              "    <tr>\n",
              "      <th>0</th>\n",
              "      <td>2000-01-01</td>\n",
              "      <td>184</td>\n",
              "      <td>12.2</td>\n",
              "      <td>8.3</td>\n",
              "      <td>16.0</td>\n",
              "    </tr>\n",
              "    <tr>\n",
              "      <th>1</th>\n",
              "      <td>2000-01-02</td>\n",
              "      <td>184</td>\n",
              "      <td>10.8</td>\n",
              "      <td>7.5</td>\n",
              "      <td>17.2</td>\n",
              "    </tr>\n",
              "    <tr>\n",
              "      <th>2</th>\n",
              "      <td>2000-01-03</td>\n",
              "      <td>184</td>\n",
              "      <td>6.6</td>\n",
              "      <td>3.6</td>\n",
              "      <td>8.9</td>\n",
              "    </tr>\n",
              "    <tr>\n",
              "      <th>3</th>\n",
              "      <td>2000-01-04</td>\n",
              "      <td>184</td>\n",
              "      <td>9.4</td>\n",
              "      <td>3.2</td>\n",
              "      <td>15.5</td>\n",
              "    </tr>\n",
              "    <tr>\n",
              "      <th>4</th>\n",
              "      <td>2000-01-05</td>\n",
              "      <td>184</td>\n",
              "      <td>14.2</td>\n",
              "      <td>8.9</td>\n",
              "      <td>17.5</td>\n",
              "    </tr>\n",
              "    <tr>\n",
              "      <th>...</th>\n",
              "      <td>...</td>\n",
              "      <td>...</td>\n",
              "      <td>...</td>\n",
              "      <td>...</td>\n",
              "      <td>...</td>\n",
              "    </tr>\n",
              "    <tr>\n",
              "      <th>7560</th>\n",
              "      <td>2020-09-12</td>\n",
              "      <td>184</td>\n",
              "      <td>23.1</td>\n",
              "      <td>21.6</td>\n",
              "      <td>25.5</td>\n",
              "    </tr>\n",
              "    <tr>\n",
              "      <th>7561</th>\n",
              "      <td>2020-09-13</td>\n",
              "      <td>184</td>\n",
              "      <td>23.0</td>\n",
              "      <td>21.7</td>\n",
              "      <td>26.1</td>\n",
              "    </tr>\n",
              "    <tr>\n",
              "      <th>7562</th>\n",
              "      <td>2020-09-14</td>\n",
              "      <td>184</td>\n",
              "      <td>23.3</td>\n",
              "      <td>21.8</td>\n",
              "      <td>25.9</td>\n",
              "    </tr>\n",
              "    <tr>\n",
              "      <th>7563</th>\n",
              "      <td>2020-09-15</td>\n",
              "      <td>184</td>\n",
              "      <td>23.7</td>\n",
              "      <td>21.0</td>\n",
              "      <td>25.8</td>\n",
              "    </tr>\n",
              "    <tr>\n",
              "      <th>7564</th>\n",
              "      <td>2020-09-16</td>\n",
              "      <td>184</td>\n",
              "      <td>23.5</td>\n",
              "      <td>21.5</td>\n",
              "      <td>28.3</td>\n",
              "    </tr>\n",
              "  </tbody>\n",
              "</table>\n",
              "<p>7565 rows × 5 columns</p>\n",
              "</div>"
            ],
            "text/plain": [
              "              날짜   지점  평균기온(℃)  최저기온(℃)  최고기온(℃)\n",
              "0     2000-01-01  184     12.2      8.3     16.0\n",
              "1     2000-01-02  184     10.8      7.5     17.2\n",
              "2     2000-01-03  184      6.6      3.6      8.9\n",
              "3     2000-01-04  184      9.4      3.2     15.5\n",
              "4     2000-01-05  184     14.2      8.9     17.5\n",
              "...          ...  ...      ...      ...      ...\n",
              "7560  2020-09-12  184     23.1     21.6     25.5\n",
              "7561  2020-09-13  184     23.0     21.7     26.1\n",
              "7562  2020-09-14  184     23.3     21.8     25.9\n",
              "7563  2020-09-15  184     23.7     21.0     25.8\n",
              "7564  2020-09-16  184     23.5     21.5     28.3\n",
              "\n",
              "[7565 rows x 5 columns]"
            ]
          },
          "metadata": {
            "tags": []
          },
          "execution_count": 44
        }
      ]
    },
    {
      "cell_type": "code",
      "metadata": {
        "id": "iFs5Wcyn-Zxx",
        "colab_type": "code",
        "colab": {}
      },
      "source": [
        "# 데이터 프레임 컬럼 이름 바꾸기['날짜','지점','평균','최저','최고'] "
      ],
      "execution_count": 45,
      "outputs": []
    },
    {
      "cell_type": "code",
      "metadata": {
        "id": "vPmMYJk4trV2",
        "colab_type": "code",
        "colab": {}
      },
      "source": [
        "df.columns=['날짜','지점','평균','최저','최고']"
      ],
      "execution_count": 49,
      "outputs": []
    },
    {
      "cell_type": "code",
      "metadata": {
        "id": "rodtm-dMI_Hh",
        "colab_type": "code",
        "colab": {}
      },
      "source": [
        "#변경한 컬럼 중 '평균' 출력하기"
      ],
      "execution_count": 50,
      "outputs": []
    },
    {
      "cell_type": "code",
      "metadata": {
        "id": "u2YQ_SD_skD9",
        "colab_type": "code",
        "colab": {
          "base_uri": "https://localhost:8080/",
          "height": 228
        },
        "outputId": "1f6b2189-d062-49df-92e1-7cfa5c86cce5"
      },
      "source": [
        "df['평균']"
      ],
      "execution_count": 52,
      "outputs": [
        {
          "output_type": "execute_result",
          "data": {
            "text/plain": [
              "0       12.2\n",
              "1       10.8\n",
              "2        6.6\n",
              "3        9.4\n",
              "4       14.2\n",
              "        ... \n",
              "7560    23.1\n",
              "7561    23.0\n",
              "7562    23.3\n",
              "7563    23.7\n",
              "7564    23.5\n",
              "Name: 평균, Length: 7565, dtype: float64"
            ]
          },
          "metadata": {
            "tags": []
          },
          "execution_count": 52
        }
      ]
    },
    {
      "cell_type": "code",
      "metadata": {
        "id": "qunFbsPb-eKa",
        "colab_type": "code",
        "colab": {}
      },
      "source": [
        "# 물론 특정 컬럼을 따로 떼어서 저장할 수도 있음"
      ],
      "execution_count": null,
      "outputs": []
    },
    {
      "cell_type": "code",
      "metadata": {
        "id": "mh9hDzcjskzw",
        "colab_type": "code",
        "colab": {}
      },
      "source": [
        "avg=df['평균']"
      ],
      "execution_count": 54,
      "outputs": []
    },
    {
      "cell_type": "code",
      "metadata": {
        "id": "uUAjWhuKsvQd",
        "colab_type": "code",
        "colab": {}
      },
      "source": [
        "#따로 저장한 데이터 확인하기"
      ],
      "execution_count": 55,
      "outputs": []
    },
    {
      "cell_type": "code",
      "metadata": {
        "id": "ujyIqBn3JKR9",
        "colab_type": "code",
        "colab": {
          "base_uri": "https://localhost:8080/",
          "height": 228
        },
        "outputId": "94299ccb-50bc-4f34-e115-d6b35d81a4c9"
      },
      "source": [
        "avg"
      ],
      "execution_count": 56,
      "outputs": [
        {
          "output_type": "execute_result",
          "data": {
            "text/plain": [
              "0       12.2\n",
              "1       10.8\n",
              "2        6.6\n",
              "3        9.4\n",
              "4       14.2\n",
              "        ... \n",
              "7560    23.1\n",
              "7561    23.0\n",
              "7562    23.3\n",
              "7563    23.7\n",
              "7564    23.5\n",
              "Name: 평균, Length: 7565, dtype: float64"
            ]
          },
          "metadata": {
            "tags": []
          },
          "execution_count": 56
        }
      ]
    },
    {
      "cell_type": "markdown",
      "metadata": {
        "id": "IaeCzdVd1n-Q",
        "colab_type": "text"
      },
      "source": [
        "#■2개 이상의 컬럼 선택하기"
      ]
    },
    {
      "cell_type": "code",
      "metadata": {
        "id": "LZLhV9Y8-toR",
        "colab_type": "code",
        "colab": {}
      },
      "source": [
        "# ['최저','최고'] 2개 이상의 컬럼 선택하기(리스트 활용)"
      ],
      "execution_count": null,
      "outputs": []
    },
    {
      "cell_type": "code",
      "metadata": {
        "id": "IFt3sNT_svpx",
        "colab_type": "code",
        "colab": {
          "base_uri": "https://localhost:8080/",
          "height": 402
        },
        "outputId": "351db026-2a00-4217-9795-319a3bc234d8"
      },
      "source": [
        "df[['최저', '최고']]"
      ],
      "execution_count": 53,
      "outputs": [
        {
          "output_type": "execute_result",
          "data": {
            "text/html": [
              "<div>\n",
              "<style scoped>\n",
              "    .dataframe tbody tr th:only-of-type {\n",
              "        vertical-align: middle;\n",
              "    }\n",
              "\n",
              "    .dataframe tbody tr th {\n",
              "        vertical-align: top;\n",
              "    }\n",
              "\n",
              "    .dataframe thead th {\n",
              "        text-align: right;\n",
              "    }\n",
              "</style>\n",
              "<table border=\"1\" class=\"dataframe\">\n",
              "  <thead>\n",
              "    <tr style=\"text-align: right;\">\n",
              "      <th></th>\n",
              "      <th>최저</th>\n",
              "      <th>최고</th>\n",
              "    </tr>\n",
              "  </thead>\n",
              "  <tbody>\n",
              "    <tr>\n",
              "      <th>0</th>\n",
              "      <td>8.3</td>\n",
              "      <td>16.0</td>\n",
              "    </tr>\n",
              "    <tr>\n",
              "      <th>1</th>\n",
              "      <td>7.5</td>\n",
              "      <td>17.2</td>\n",
              "    </tr>\n",
              "    <tr>\n",
              "      <th>2</th>\n",
              "      <td>3.6</td>\n",
              "      <td>8.9</td>\n",
              "    </tr>\n",
              "    <tr>\n",
              "      <th>3</th>\n",
              "      <td>3.2</td>\n",
              "      <td>15.5</td>\n",
              "    </tr>\n",
              "    <tr>\n",
              "      <th>4</th>\n",
              "      <td>8.9</td>\n",
              "      <td>17.5</td>\n",
              "    </tr>\n",
              "    <tr>\n",
              "      <th>...</th>\n",
              "      <td>...</td>\n",
              "      <td>...</td>\n",
              "    </tr>\n",
              "    <tr>\n",
              "      <th>7560</th>\n",
              "      <td>21.6</td>\n",
              "      <td>25.5</td>\n",
              "    </tr>\n",
              "    <tr>\n",
              "      <th>7561</th>\n",
              "      <td>21.7</td>\n",
              "      <td>26.1</td>\n",
              "    </tr>\n",
              "    <tr>\n",
              "      <th>7562</th>\n",
              "      <td>21.8</td>\n",
              "      <td>25.9</td>\n",
              "    </tr>\n",
              "    <tr>\n",
              "      <th>7563</th>\n",
              "      <td>21.0</td>\n",
              "      <td>25.8</td>\n",
              "    </tr>\n",
              "    <tr>\n",
              "      <th>7564</th>\n",
              "      <td>21.5</td>\n",
              "      <td>28.3</td>\n",
              "    </tr>\n",
              "  </tbody>\n",
              "</table>\n",
              "<p>7565 rows × 2 columns</p>\n",
              "</div>"
            ],
            "text/plain": [
              "        최저    최고\n",
              "0      8.3  16.0\n",
              "1      7.5  17.2\n",
              "2      3.6   8.9\n",
              "3      3.2  15.5\n",
              "4      8.9  17.5\n",
              "...    ...   ...\n",
              "7560  21.6  25.5\n",
              "7561  21.7  26.1\n",
              "7562  21.8  25.9\n",
              "7563  21.0  25.8\n",
              "7564  21.5  28.3\n",
              "\n",
              "[7565 rows x 2 columns]"
            ]
          },
          "metadata": {
            "tags": []
          },
          "execution_count": 53
        }
      ]
    },
    {
      "cell_type": "code",
      "metadata": {
        "id": "0pneLUEV6EUn",
        "colab_type": "code",
        "colab": {}
      },
      "source": [
        "# 그래프 시각화 참고 => 이후에 matplotlib.pyplot라이브러리 사용예정\n",
        "avg.plot()"
      ],
      "execution_count": null,
      "outputs": []
    },
    {
      "cell_type": "markdown",
      "metadata": {
        "id": "_o8UZN4rwc8c",
        "colab_type": "text"
      },
      "source": [
        "# ■특정 컬럼에 조건 적용하기"
      ]
    },
    {
      "cell_type": "code",
      "metadata": {
        "id": "uSbCOQTQ-nrt",
        "colab_type": "code",
        "colab": {}
      },
      "source": [
        "# 특정 컬럼에 조건 적용하기\n",
        "#['최고']컬럼의 값이 20보다 큰지 확인"
      ],
      "execution_count": null,
      "outputs": []
    },
    {
      "cell_type": "code",
      "metadata": {
        "id": "RyZ1QLxRuOnw",
        "colab_type": "code",
        "colab": {
          "base_uri": "https://localhost:8080/",
          "height": 228
        },
        "outputId": "b82b383e-430a-4efe-c248-7013d96894d9"
      },
      "source": [
        "df['최고']>20"
      ],
      "execution_count": 57,
      "outputs": [
        {
          "output_type": "execute_result",
          "data": {
            "text/plain": [
              "0       False\n",
              "1       False\n",
              "2       False\n",
              "3       False\n",
              "4       False\n",
              "        ...  \n",
              "7560     True\n",
              "7561     True\n",
              "7562     True\n",
              "7563     True\n",
              "7564     True\n",
              "Name: 최고, Length: 7565, dtype: bool"
            ]
          },
          "metadata": {
            "tags": []
          },
          "execution_count": 57
        }
      ]
    },
    {
      "cell_type": "code",
      "metadata": {
        "id": "0RT3g6zp-qMb",
        "colab_type": "code",
        "colab": {}
      },
      "source": [
        "# 특정 컬럼에 조건이 참인 데이터만 추리기\n",
        "#['최고']컬럼의 값이 20보다 큰 True값만 출력"
      ],
      "execution_count": null,
      "outputs": []
    },
    {
      "cell_type": "code",
      "metadata": {
        "id": "JQfOH2d4uui9",
        "colab_type": "code",
        "colab": {
          "base_uri": "https://localhost:8080/",
          "height": 228
        },
        "outputId": "66592dee-fddc-4fae-adf8-904f38bec184"
      },
      "source": [
        "df[df['최고']>20]['최고']"
      ],
      "execution_count": 59,
      "outputs": [
        {
          "output_type": "execute_result",
          "data": {
            "text/plain": [
              "86      21.2\n",
              "103     23.8\n",
              "109     22.9\n",
              "112     26.1\n",
              "115     20.1\n",
              "        ... \n",
              "7560    25.5\n",
              "7561    26.1\n",
              "7562    25.9\n",
              "7563    25.8\n",
              "7564    28.3\n",
              "Name: 최고, Length: 3865, dtype: float64"
            ]
          },
          "metadata": {
            "tags": []
          },
          "execution_count": 59
        }
      ]
    },
    {
      "cell_type": "code",
      "metadata": {
        "id": "BTSDyedwT-8Y",
        "colab_type": "code",
        "colab": {}
      },
      "source": [
        "#인덱스 ('날짜')로 바꾸기"
      ],
      "execution_count": null,
      "outputs": []
    },
    {
      "cell_type": "code",
      "metadata": {
        "id": "czkZunGcUEAf",
        "colab_type": "code",
        "colab": {}
      },
      "source": [
        "df = df.set_index('날짜')"
      ],
      "execution_count": 60,
      "outputs": []
    },
    {
      "cell_type": "code",
      "metadata": {
        "id": "f45UyJUSUKic",
        "colab_type": "code",
        "colab": {
          "base_uri": "https://localhost:8080/",
          "height": 431
        },
        "outputId": "d46a55c3-4426-46bc-d82b-78da647115fe"
      },
      "source": [
        "df"
      ],
      "execution_count": 61,
      "outputs": [
        {
          "output_type": "execute_result",
          "data": {
            "text/html": [
              "<div>\n",
              "<style scoped>\n",
              "    .dataframe tbody tr th:only-of-type {\n",
              "        vertical-align: middle;\n",
              "    }\n",
              "\n",
              "    .dataframe tbody tr th {\n",
              "        vertical-align: top;\n",
              "    }\n",
              "\n",
              "    .dataframe thead th {\n",
              "        text-align: right;\n",
              "    }\n",
              "</style>\n",
              "<table border=\"1\" class=\"dataframe\">\n",
              "  <thead>\n",
              "    <tr style=\"text-align: right;\">\n",
              "      <th></th>\n",
              "      <th>지점</th>\n",
              "      <th>평균</th>\n",
              "      <th>최저</th>\n",
              "      <th>최고</th>\n",
              "    </tr>\n",
              "    <tr>\n",
              "      <th>날짜</th>\n",
              "      <th></th>\n",
              "      <th></th>\n",
              "      <th></th>\n",
              "      <th></th>\n",
              "    </tr>\n",
              "  </thead>\n",
              "  <tbody>\n",
              "    <tr>\n",
              "      <th>2000-01-01</th>\n",
              "      <td>184</td>\n",
              "      <td>12.2</td>\n",
              "      <td>8.3</td>\n",
              "      <td>16.0</td>\n",
              "    </tr>\n",
              "    <tr>\n",
              "      <th>2000-01-02</th>\n",
              "      <td>184</td>\n",
              "      <td>10.8</td>\n",
              "      <td>7.5</td>\n",
              "      <td>17.2</td>\n",
              "    </tr>\n",
              "    <tr>\n",
              "      <th>2000-01-03</th>\n",
              "      <td>184</td>\n",
              "      <td>6.6</td>\n",
              "      <td>3.6</td>\n",
              "      <td>8.9</td>\n",
              "    </tr>\n",
              "    <tr>\n",
              "      <th>2000-01-04</th>\n",
              "      <td>184</td>\n",
              "      <td>9.4</td>\n",
              "      <td>3.2</td>\n",
              "      <td>15.5</td>\n",
              "    </tr>\n",
              "    <tr>\n",
              "      <th>2000-01-05</th>\n",
              "      <td>184</td>\n",
              "      <td>14.2</td>\n",
              "      <td>8.9</td>\n",
              "      <td>17.5</td>\n",
              "    </tr>\n",
              "    <tr>\n",
              "      <th>...</th>\n",
              "      <td>...</td>\n",
              "      <td>...</td>\n",
              "      <td>...</td>\n",
              "      <td>...</td>\n",
              "    </tr>\n",
              "    <tr>\n",
              "      <th>2020-09-12</th>\n",
              "      <td>184</td>\n",
              "      <td>23.1</td>\n",
              "      <td>21.6</td>\n",
              "      <td>25.5</td>\n",
              "    </tr>\n",
              "    <tr>\n",
              "      <th>2020-09-13</th>\n",
              "      <td>184</td>\n",
              "      <td>23.0</td>\n",
              "      <td>21.7</td>\n",
              "      <td>26.1</td>\n",
              "    </tr>\n",
              "    <tr>\n",
              "      <th>2020-09-14</th>\n",
              "      <td>184</td>\n",
              "      <td>23.3</td>\n",
              "      <td>21.8</td>\n",
              "      <td>25.9</td>\n",
              "    </tr>\n",
              "    <tr>\n",
              "      <th>2020-09-15</th>\n",
              "      <td>184</td>\n",
              "      <td>23.7</td>\n",
              "      <td>21.0</td>\n",
              "      <td>25.8</td>\n",
              "    </tr>\n",
              "    <tr>\n",
              "      <th>2020-09-16</th>\n",
              "      <td>184</td>\n",
              "      <td>23.5</td>\n",
              "      <td>21.5</td>\n",
              "      <td>28.3</td>\n",
              "    </tr>\n",
              "  </tbody>\n",
              "</table>\n",
              "<p>7565 rows × 4 columns</p>\n",
              "</div>"
            ],
            "text/plain": [
              "             지점    평균    최저    최고\n",
              "날짜                               \n",
              "2000-01-01  184  12.2   8.3  16.0\n",
              "2000-01-02  184  10.8   7.5  17.2\n",
              "2000-01-03  184   6.6   3.6   8.9\n",
              "2000-01-04  184   9.4   3.2  15.5\n",
              "2000-01-05  184  14.2   8.9  17.5\n",
              "...         ...   ...   ...   ...\n",
              "2020-09-12  184  23.1  21.6  25.5\n",
              "2020-09-13  184  23.0  21.7  26.1\n",
              "2020-09-14  184  23.3  21.8  25.9\n",
              "2020-09-15  184  23.7  21.0  25.8\n",
              "2020-09-16  184  23.5  21.5  28.3\n",
              "\n",
              "[7565 rows x 4 columns]"
            ]
          },
          "metadata": {
            "tags": []
          },
          "execution_count": 61
        }
      ]
    },
    {
      "cell_type": "markdown",
      "metadata": {
        "id": "ej65okelwy2T",
        "colab_type": "text"
      },
      "source": [
        "#◇특정 인덱스 선택하기"
      ]
    },
    {
      "cell_type": "code",
      "metadata": {
        "id": "Iiu3TvGX-yGi",
        "colab_type": "code",
        "colab": {}
      },
      "source": [
        "# 특정 인덱스 선택하기(loc)\n",
        "#'2020-09-12' 인덱스 선택하기"
      ],
      "execution_count": null,
      "outputs": []
    },
    {
      "cell_type": "code",
      "metadata": {
        "id": "nu2zg50Ns3Vl",
        "colab_type": "code",
        "colab": {
          "base_uri": "https://localhost:8080/",
          "height": 105
        },
        "outputId": "472972c5-a12c-4615-a731-9c7515d6452e"
      },
      "source": [
        "df.loc['2020-09-13']"
      ],
      "execution_count": 67,
      "outputs": [
        {
          "output_type": "execute_result",
          "data": {
            "text/plain": [
              "지점    184.0\n",
              "평균     23.0\n",
              "최저     21.7\n",
              "최고     26.1\n",
              "Name: 2020-09-13, dtype: float64"
            ]
          },
          "metadata": {
            "tags": []
          },
          "execution_count": 67
        }
      ]
    },
    {
      "cell_type": "markdown",
      "metadata": {
        "id": "a951-7K0w8Fp",
        "colab_type": "text"
      },
      "source": [
        "#◇특정 인덱스로 슬라이싱하기"
      ]
    },
    {
      "cell_type": "code",
      "metadata": {
        "id": "rZDD_bsw-219",
        "colab_type": "code",
        "colab": {}
      },
      "source": [
        "# 특정 인덱스로 슬라이싱하기\n",
        "# '2020-09-12'부터 '2020-09-16'까지 인덱스 슬라이싱\n",
        "# a이상 b이하! , b도 포함 !"
      ],
      "execution_count": null,
      "outputs": []
    },
    {
      "cell_type": "code",
      "metadata": {
        "id": "goWHbmi_u3dY",
        "colab_type": "code",
        "colab": {
          "base_uri": "https://localhost:8080/",
          "height": 225
        },
        "outputId": "ad93ca9a-ba1f-46a3-c8bb-d4cbb69c1322"
      },
      "source": [
        "df.loc['2020-09-12' : '2020-9-16']"
      ],
      "execution_count": 66,
      "outputs": [
        {
          "output_type": "execute_result",
          "data": {
            "text/html": [
              "<div>\n",
              "<style scoped>\n",
              "    .dataframe tbody tr th:only-of-type {\n",
              "        vertical-align: middle;\n",
              "    }\n",
              "\n",
              "    .dataframe tbody tr th {\n",
              "        vertical-align: top;\n",
              "    }\n",
              "\n",
              "    .dataframe thead th {\n",
              "        text-align: right;\n",
              "    }\n",
              "</style>\n",
              "<table border=\"1\" class=\"dataframe\">\n",
              "  <thead>\n",
              "    <tr style=\"text-align: right;\">\n",
              "      <th></th>\n",
              "      <th>지점</th>\n",
              "      <th>평균</th>\n",
              "      <th>최저</th>\n",
              "      <th>최고</th>\n",
              "    </tr>\n",
              "    <tr>\n",
              "      <th>날짜</th>\n",
              "      <th></th>\n",
              "      <th></th>\n",
              "      <th></th>\n",
              "      <th></th>\n",
              "    </tr>\n",
              "  </thead>\n",
              "  <tbody>\n",
              "    <tr>\n",
              "      <th>2020-09-12</th>\n",
              "      <td>184</td>\n",
              "      <td>23.1</td>\n",
              "      <td>21.6</td>\n",
              "      <td>25.5</td>\n",
              "    </tr>\n",
              "    <tr>\n",
              "      <th>2020-09-13</th>\n",
              "      <td>184</td>\n",
              "      <td>23.0</td>\n",
              "      <td>21.7</td>\n",
              "      <td>26.1</td>\n",
              "    </tr>\n",
              "    <tr>\n",
              "      <th>2020-09-14</th>\n",
              "      <td>184</td>\n",
              "      <td>23.3</td>\n",
              "      <td>21.8</td>\n",
              "      <td>25.9</td>\n",
              "    </tr>\n",
              "    <tr>\n",
              "      <th>2020-09-15</th>\n",
              "      <td>184</td>\n",
              "      <td>23.7</td>\n",
              "      <td>21.0</td>\n",
              "      <td>25.8</td>\n",
              "    </tr>\n",
              "    <tr>\n",
              "      <th>2020-09-16</th>\n",
              "      <td>184</td>\n",
              "      <td>23.5</td>\n",
              "      <td>21.5</td>\n",
              "      <td>28.3</td>\n",
              "    </tr>\n",
              "  </tbody>\n",
              "</table>\n",
              "</div>"
            ],
            "text/plain": [
              "             지점    평균    최저    최고\n",
              "날짜                               \n",
              "2020-09-12  184  23.1  21.6  25.5\n",
              "2020-09-13  184  23.0  21.7  26.1\n",
              "2020-09-14  184  23.3  21.8  25.9\n",
              "2020-09-15  184  23.7  21.0  25.8\n",
              "2020-09-16  184  23.5  21.5  28.3"
            ]
          },
          "metadata": {
            "tags": []
          },
          "execution_count": 66
        }
      ]
    },
    {
      "cell_type": "code",
      "metadata": {
        "id": "MnpkROHPKE0X",
        "colab_type": "code",
        "colab": {}
      },
      "source": [
        "# '2020-09-12'부터 끝까지 인덱스 슬라이싱"
      ],
      "execution_count": null,
      "outputs": []
    },
    {
      "cell_type": "code",
      "metadata": {
        "id": "ydBv-Q7HtFVM",
        "colab_type": "code",
        "colab": {
          "base_uri": "https://localhost:8080/",
          "height": 225
        },
        "outputId": "258eed46-77c8-40e1-ee9b-6098195a6252"
      },
      "source": [
        "df.loc['2020-09-12':]"
      ],
      "execution_count": 68,
      "outputs": [
        {
          "output_type": "execute_result",
          "data": {
            "text/html": [
              "<div>\n",
              "<style scoped>\n",
              "    .dataframe tbody tr th:only-of-type {\n",
              "        vertical-align: middle;\n",
              "    }\n",
              "\n",
              "    .dataframe tbody tr th {\n",
              "        vertical-align: top;\n",
              "    }\n",
              "\n",
              "    .dataframe thead th {\n",
              "        text-align: right;\n",
              "    }\n",
              "</style>\n",
              "<table border=\"1\" class=\"dataframe\">\n",
              "  <thead>\n",
              "    <tr style=\"text-align: right;\">\n",
              "      <th></th>\n",
              "      <th>지점</th>\n",
              "      <th>평균</th>\n",
              "      <th>최저</th>\n",
              "      <th>최고</th>\n",
              "    </tr>\n",
              "    <tr>\n",
              "      <th>날짜</th>\n",
              "      <th></th>\n",
              "      <th></th>\n",
              "      <th></th>\n",
              "      <th></th>\n",
              "    </tr>\n",
              "  </thead>\n",
              "  <tbody>\n",
              "    <tr>\n",
              "      <th>2020-09-12</th>\n",
              "      <td>184</td>\n",
              "      <td>23.1</td>\n",
              "      <td>21.6</td>\n",
              "      <td>25.5</td>\n",
              "    </tr>\n",
              "    <tr>\n",
              "      <th>2020-09-13</th>\n",
              "      <td>184</td>\n",
              "      <td>23.0</td>\n",
              "      <td>21.7</td>\n",
              "      <td>26.1</td>\n",
              "    </tr>\n",
              "    <tr>\n",
              "      <th>2020-09-14</th>\n",
              "      <td>184</td>\n",
              "      <td>23.3</td>\n",
              "      <td>21.8</td>\n",
              "      <td>25.9</td>\n",
              "    </tr>\n",
              "    <tr>\n",
              "      <th>2020-09-15</th>\n",
              "      <td>184</td>\n",
              "      <td>23.7</td>\n",
              "      <td>21.0</td>\n",
              "      <td>25.8</td>\n",
              "    </tr>\n",
              "    <tr>\n",
              "      <th>2020-09-16</th>\n",
              "      <td>184</td>\n",
              "      <td>23.5</td>\n",
              "      <td>21.5</td>\n",
              "      <td>28.3</td>\n",
              "    </tr>\n",
              "  </tbody>\n",
              "</table>\n",
              "</div>"
            ],
            "text/plain": [
              "             지점    평균    최저    최고\n",
              "날짜                               \n",
              "2020-09-12  184  23.1  21.6  25.5\n",
              "2020-09-13  184  23.0  21.7  26.1\n",
              "2020-09-14  184  23.3  21.8  25.9\n",
              "2020-09-15  184  23.7  21.0  25.8\n",
              "2020-09-16  184  23.5  21.5  28.3"
            ]
          },
          "metadata": {
            "tags": []
          },
          "execution_count": 68
        }
      ]
    },
    {
      "cell_type": "markdown",
      "metadata": {
        "id": "3gVgRC0u1NYC",
        "colab_type": "text"
      },
      "source": [
        "#◇특정 인덱스 추출하기"
      ]
    },
    {
      "cell_type": "code",
      "metadata": {
        "id": "dSH2ZGuWKKdV",
        "colab_type": "code",
        "colab": {}
      },
      "source": [
        "# '2020-09-12'인덱스, '2020-09-14'인덱스 추출하기 (2개 이상 일때 리스트 사용)"
      ],
      "execution_count": null,
      "outputs": []
    },
    {
      "cell_type": "code",
      "metadata": {
        "id": "YeOj_l1h06CH",
        "colab_type": "code",
        "colab": {
          "base_uri": "https://localhost:8080/",
          "height": 136
        },
        "outputId": "ac21d13c-ec0e-47a0-bf78-250b195f7810"
      },
      "source": [
        "df.loc[['2020-09-12','2020-09-16']]"
      ],
      "execution_count": 73,
      "outputs": [
        {
          "output_type": "execute_result",
          "data": {
            "text/html": [
              "<div>\n",
              "<style scoped>\n",
              "    .dataframe tbody tr th:only-of-type {\n",
              "        vertical-align: middle;\n",
              "    }\n",
              "\n",
              "    .dataframe tbody tr th {\n",
              "        vertical-align: top;\n",
              "    }\n",
              "\n",
              "    .dataframe thead th {\n",
              "        text-align: right;\n",
              "    }\n",
              "</style>\n",
              "<table border=\"1\" class=\"dataframe\">\n",
              "  <thead>\n",
              "    <tr style=\"text-align: right;\">\n",
              "      <th></th>\n",
              "      <th>지점</th>\n",
              "      <th>평균</th>\n",
              "      <th>최저</th>\n",
              "      <th>최고</th>\n",
              "    </tr>\n",
              "    <tr>\n",
              "      <th>날짜</th>\n",
              "      <th></th>\n",
              "      <th></th>\n",
              "      <th></th>\n",
              "      <th></th>\n",
              "    </tr>\n",
              "  </thead>\n",
              "  <tbody>\n",
              "    <tr>\n",
              "      <th>2020-09-12</th>\n",
              "      <td>184</td>\n",
              "      <td>23.1</td>\n",
              "      <td>21.6</td>\n",
              "      <td>25.5</td>\n",
              "    </tr>\n",
              "    <tr>\n",
              "      <th>2020-09-16</th>\n",
              "      <td>184</td>\n",
              "      <td>23.5</td>\n",
              "      <td>21.5</td>\n",
              "      <td>28.3</td>\n",
              "    </tr>\n",
              "  </tbody>\n",
              "</table>\n",
              "</div>"
            ],
            "text/plain": [
              "             지점    평균    최저    최고\n",
              "날짜                               \n",
              "2020-09-12  184  23.1  21.6  25.5\n",
              "2020-09-16  184  23.5  21.5  28.3"
            ]
          },
          "metadata": {
            "tags": []
          },
          "execution_count": 73
        }
      ]
    },
    {
      "cell_type": "markdown",
      "metadata": {
        "id": "7fChuJs8xnjY",
        "colab_type": "text"
      },
      "source": [
        "#♥특정 데이터 추출하기"
      ]
    },
    {
      "cell_type": "code",
      "metadata": {
        "id": "XaZbac6X-6oj",
        "colab_type": "code",
        "colab": {}
      },
      "source": [
        "# 인덱스와 컬럼을 입력하여 데이터 추출하기\n",
        "# 인덱스 : '2020-09-12', 컬럼 : '최고'"
      ],
      "execution_count": null,
      "outputs": []
    },
    {
      "cell_type": "code",
      "metadata": {
        "id": "-iguX1d8tOWV",
        "colab_type": "code",
        "colab": {
          "base_uri": "https://localhost:8080/",
          "height": 34
        },
        "outputId": "c8c3a9c8-c9cd-4c86-b21a-1207b3f8a124"
      },
      "source": [
        "df.loc['2020-09-12','최고']"
      ],
      "execution_count": 74,
      "outputs": [
        {
          "output_type": "execute_result",
          "data": {
            "text/plain": [
              "25.5"
            ]
          },
          "metadata": {
            "tags": []
          },
          "execution_count": 74
        }
      ]
    },
    {
      "cell_type": "markdown",
      "metadata": {
        "id": "qAupHdx8ONFs",
        "colab_type": "text"
      },
      "source": [
        "◇위치 기반 특정 인덱스 추출하기"
      ]
    },
    {
      "cell_type": "code",
      "metadata": {
        "id": "vMZ9owoN_AeT",
        "colab_type": "code",
        "colab": {}
      },
      "source": [
        "# 데이터 위치에 따른 선택(iloc)-index location\n",
        "# 인덱스 -5번째 데이터 출력"
      ],
      "execution_count": null,
      "outputs": []
    },
    {
      "cell_type": "code",
      "metadata": {
        "id": "Cg7ZdU1xtIpB",
        "colab_type": "code",
        "colab": {
          "base_uri": "https://localhost:8080/",
          "height": 105
        },
        "outputId": "73dcb5fd-6656-4b46-f5ca-0da01a3be2d6"
      },
      "source": [
        "df.iloc[-5]"
      ],
      "execution_count": 75,
      "outputs": [
        {
          "output_type": "execute_result",
          "data": {
            "text/plain": [
              "지점    184.0\n",
              "평균     23.1\n",
              "최저     21.6\n",
              "최고     25.5\n",
              "Name: 2020-09-12, dtype: float64"
            ]
          },
          "metadata": {
            "tags": []
          },
          "execution_count": 75
        }
      ]
    },
    {
      "cell_type": "code",
      "metadata": {
        "id": "BfoyXjnlLXTj",
        "colab_type": "code",
        "colab": {}
      },
      "source": [
        "# 인덱스 -5번째부터 끝까지 데이터 슬라이싱"
      ],
      "execution_count": null,
      "outputs": []
    },
    {
      "cell_type": "code",
      "metadata": {
        "id": "XJNoSFVYvEub",
        "colab_type": "code",
        "colab": {
          "base_uri": "https://localhost:8080/",
          "height": 225
        },
        "outputId": "c72d161a-676f-4ade-c370-43c817715fdc"
      },
      "source": [
        "df.iloc[-5:]"
      ],
      "execution_count": 76,
      "outputs": [
        {
          "output_type": "execute_result",
          "data": {
            "text/html": [
              "<div>\n",
              "<style scoped>\n",
              "    .dataframe tbody tr th:only-of-type {\n",
              "        vertical-align: middle;\n",
              "    }\n",
              "\n",
              "    .dataframe tbody tr th {\n",
              "        vertical-align: top;\n",
              "    }\n",
              "\n",
              "    .dataframe thead th {\n",
              "        text-align: right;\n",
              "    }\n",
              "</style>\n",
              "<table border=\"1\" class=\"dataframe\">\n",
              "  <thead>\n",
              "    <tr style=\"text-align: right;\">\n",
              "      <th></th>\n",
              "      <th>지점</th>\n",
              "      <th>평균</th>\n",
              "      <th>최저</th>\n",
              "      <th>최고</th>\n",
              "    </tr>\n",
              "    <tr>\n",
              "      <th>날짜</th>\n",
              "      <th></th>\n",
              "      <th></th>\n",
              "      <th></th>\n",
              "      <th></th>\n",
              "    </tr>\n",
              "  </thead>\n",
              "  <tbody>\n",
              "    <tr>\n",
              "      <th>2020-09-12</th>\n",
              "      <td>184</td>\n",
              "      <td>23.1</td>\n",
              "      <td>21.6</td>\n",
              "      <td>25.5</td>\n",
              "    </tr>\n",
              "    <tr>\n",
              "      <th>2020-09-13</th>\n",
              "      <td>184</td>\n",
              "      <td>23.0</td>\n",
              "      <td>21.7</td>\n",
              "      <td>26.1</td>\n",
              "    </tr>\n",
              "    <tr>\n",
              "      <th>2020-09-14</th>\n",
              "      <td>184</td>\n",
              "      <td>23.3</td>\n",
              "      <td>21.8</td>\n",
              "      <td>25.9</td>\n",
              "    </tr>\n",
              "    <tr>\n",
              "      <th>2020-09-15</th>\n",
              "      <td>184</td>\n",
              "      <td>23.7</td>\n",
              "      <td>21.0</td>\n",
              "      <td>25.8</td>\n",
              "    </tr>\n",
              "    <tr>\n",
              "      <th>2020-09-16</th>\n",
              "      <td>184</td>\n",
              "      <td>23.5</td>\n",
              "      <td>21.5</td>\n",
              "      <td>28.3</td>\n",
              "    </tr>\n",
              "  </tbody>\n",
              "</table>\n",
              "</div>"
            ],
            "text/plain": [
              "             지점    평균    최저    최고\n",
              "날짜                               \n",
              "2020-09-12  184  23.1  21.6  25.5\n",
              "2020-09-13  184  23.0  21.7  26.1\n",
              "2020-09-14  184  23.3  21.8  25.9\n",
              "2020-09-15  184  23.7  21.0  25.8\n",
              "2020-09-16  184  23.5  21.5  28.3"
            ]
          },
          "metadata": {
            "tags": []
          },
          "execution_count": 76
        }
      ]
    },
    {
      "cell_type": "code",
      "metadata": {
        "id": "ZEVhn_55zzKU",
        "colab_type": "code",
        "colab": {}
      },
      "source": [
        "#인덱스 -5번째부터 끝까지, 컬럼 -1번째 데이터 출력"
      ],
      "execution_count": null,
      "outputs": []
    },
    {
      "cell_type": "code",
      "metadata": {
        "id": "Wa_rHaNNLpqY",
        "colab_type": "code",
        "colab": {
          "base_uri": "https://localhost:8080/",
          "height": 140
        },
        "outputId": "faff0b45-f2f0-4f2b-b89e-a7be5610ee58"
      },
      "source": [
        "df.iloc[-5: ,-1] # -1은 컬럼에 맨 뒤쪽 컬럼 즉 '최고'를 의미함"
      ],
      "execution_count": 78,
      "outputs": [
        {
          "output_type": "execute_result",
          "data": {
            "text/plain": [
              "날짜\n",
              "2020-09-12    25.5\n",
              "2020-09-13    26.1\n",
              "2020-09-14    25.9\n",
              "2020-09-15    25.8\n",
              "2020-09-16    28.3\n",
              "Name: 최고, dtype: float64"
            ]
          },
          "metadata": {
            "tags": []
          },
          "execution_count": 78
        }
      ]
    },
    {
      "cell_type": "markdown",
      "metadata": {
        "id": "zCIRteuj4c99",
        "colab_type": "text"
      },
      "source": [
        "#데이터 정보 확인하기"
      ]
    },
    {
      "cell_type": "code",
      "metadata": {
        "id": "NNmOPT-Q_HYQ",
        "colab_type": "code",
        "colab": {}
      },
      "source": [
        "# 데이터 정보 확인하기"
      ],
      "execution_count": null,
      "outputs": []
    },
    {
      "cell_type": "code",
      "metadata": {
        "id": "0hLRzlt0tNPR",
        "colab_type": "code",
        "colab": {
          "base_uri": "https://localhost:8080/",
          "height": 210
        },
        "outputId": "9e3d6555-3049-40ca-dfd5-227d0a2e8850"
      },
      "source": [
        "df.info()"
      ],
      "execution_count": 79,
      "outputs": [
        {
          "output_type": "stream",
          "text": [
            "<class 'pandas.core.frame.DataFrame'>\n",
            "Index: 7565 entries, 2000-01-01 to 2020-09-16\n",
            "Data columns (total 4 columns):\n",
            " #   Column  Non-Null Count  Dtype  \n",
            "---  ------  --------------  -----  \n",
            " 0   지점      7565 non-null   int64  \n",
            " 1   평균      7565 non-null   float64\n",
            " 2   최저      7564 non-null   float64\n",
            " 3   최고      7564 non-null   float64\n",
            "dtypes: float64(3), int64(1)\n",
            "memory usage: 615.5+ KB\n"
          ],
          "name": "stdout"
        }
      ]
    },
    {
      "cell_type": "markdown",
      "metadata": {
        "id": "3U7kv4684fEA",
        "colab_type": "text"
      },
      "source": [
        "#데이터 통계적 특성 확인하기"
      ]
    },
    {
      "cell_type": "code",
      "metadata": {
        "id": "HkfTbaJl_Jno",
        "colab_type": "code",
        "colab": {}
      },
      "source": [
        "# 통계적 특성 확인하기"
      ],
      "execution_count": null,
      "outputs": []
    },
    {
      "cell_type": "code",
      "metadata": {
        "id": "47WyKwWcYr8V",
        "colab_type": "code",
        "colab": {
          "base_uri": "https://localhost:8080/",
          "height": 284
        },
        "outputId": "32be5dc8-e85f-4b1c-fd4b-e49c12836183"
      },
      "source": [
        "df.describe() # 개수, 최솟값, 최대값,평균 등을 구해줌"
      ],
      "execution_count": 80,
      "outputs": [
        {
          "output_type": "execute_result",
          "data": {
            "text/html": [
              "<div>\n",
              "<style scoped>\n",
              "    .dataframe tbody tr th:only-of-type {\n",
              "        vertical-align: middle;\n",
              "    }\n",
              "\n",
              "    .dataframe tbody tr th {\n",
              "        vertical-align: top;\n",
              "    }\n",
              "\n",
              "    .dataframe thead th {\n",
              "        text-align: right;\n",
              "    }\n",
              "</style>\n",
              "<table border=\"1\" class=\"dataframe\">\n",
              "  <thead>\n",
              "    <tr style=\"text-align: right;\">\n",
              "      <th></th>\n",
              "      <th>지점</th>\n",
              "      <th>평균</th>\n",
              "      <th>최저</th>\n",
              "      <th>최고</th>\n",
              "    </tr>\n",
              "  </thead>\n",
              "  <tbody>\n",
              "    <tr>\n",
              "      <th>count</th>\n",
              "      <td>7565.0</td>\n",
              "      <td>7565.000000</td>\n",
              "      <td>7564.000000</td>\n",
              "      <td>7564.000000</td>\n",
              "    </tr>\n",
              "    <tr>\n",
              "      <th>mean</th>\n",
              "      <td>184.0</td>\n",
              "      <td>16.302379</td>\n",
              "      <td>13.553054</td>\n",
              "      <td>19.443046</td>\n",
              "    </tr>\n",
              "    <tr>\n",
              "      <th>std</th>\n",
              "      <td>0.0</td>\n",
              "      <td>7.737548</td>\n",
              "      <td>7.827023</td>\n",
              "      <td>8.020899</td>\n",
              "    </tr>\n",
              "    <tr>\n",
              "      <th>min</th>\n",
              "      <td>184.0</td>\n",
              "      <td>-3.000000</td>\n",
              "      <td>-5.800000</td>\n",
              "      <td>-1.200000</td>\n",
              "    </tr>\n",
              "    <tr>\n",
              "      <th>25%</th>\n",
              "      <td>184.0</td>\n",
              "      <td>9.600000</td>\n",
              "      <td>6.700000</td>\n",
              "      <td>12.800000</td>\n",
              "    </tr>\n",
              "    <tr>\n",
              "      <th>50%</th>\n",
              "      <td>184.0</td>\n",
              "      <td>16.800000</td>\n",
              "      <td>13.600000</td>\n",
              "      <td>20.400000</td>\n",
              "    </tr>\n",
              "    <tr>\n",
              "      <th>75%</th>\n",
              "      <td>184.0</td>\n",
              "      <td>22.600000</td>\n",
              "      <td>20.300000</td>\n",
              "      <td>25.700000</td>\n",
              "    </tr>\n",
              "    <tr>\n",
              "      <th>max</th>\n",
              "      <td>184.0</td>\n",
              "      <td>32.200000</td>\n",
              "      <td>29.700000</td>\n",
              "      <td>37.000000</td>\n",
              "    </tr>\n",
              "  </tbody>\n",
              "</table>\n",
              "</div>"
            ],
            "text/plain": [
              "           지점           평균           최저           최고\n",
              "count  7565.0  7565.000000  7564.000000  7564.000000\n",
              "mean    184.0    16.302379    13.553054    19.443046\n",
              "std       0.0     7.737548     7.827023     8.020899\n",
              "min     184.0    -3.000000    -5.800000    -1.200000\n",
              "25%     184.0     9.600000     6.700000    12.800000\n",
              "50%     184.0    16.800000    13.600000    20.400000\n",
              "75%     184.0    22.600000    20.300000    25.700000\n",
              "max     184.0    32.200000    29.700000    37.000000"
            ]
          },
          "metadata": {
            "tags": []
          },
          "execution_count": 80
        }
      ]
    },
    {
      "cell_type": "code",
      "metadata": {
        "id": "Pe2B75LsL6K8",
        "colab_type": "code",
        "colab": {}
      },
      "source": [
        "#['최고']컬럼 최소값 구하기"
      ],
      "execution_count": 81,
      "outputs": []
    },
    {
      "cell_type": "code",
      "metadata": {
        "id": "fK7BEoYHvd1j",
        "colab_type": "code",
        "colab": {
          "base_uri": "https://localhost:8080/",
          "height": 34
        },
        "outputId": "866f6c9a-c8c1-4c60-d7c7-346567a67680"
      },
      "source": [
        "df['최고'].min()"
      ],
      "execution_count": 82,
      "outputs": [
        {
          "output_type": "execute_result",
          "data": {
            "text/plain": [
              "-1.2"
            ]
          },
          "metadata": {
            "tags": []
          },
          "execution_count": 82
        }
      ]
    },
    {
      "cell_type": "code",
      "metadata": {
        "id": "vXFdp8CBL6nu",
        "colab_type": "code",
        "colab": {}
      },
      "source": [
        "# ['최고']컬럼 최대값 구하기"
      ],
      "execution_count": null,
      "outputs": []
    },
    {
      "cell_type": "code",
      "metadata": {
        "id": "OzHvOvaFv5i0",
        "colab_type": "code",
        "colab": {
          "base_uri": "https://localhost:8080/",
          "height": 34
        },
        "outputId": "27856cd7-a7bd-47a7-8198-3f8bc7301421"
      },
      "source": [
        "df['최고'].max()"
      ],
      "execution_count": 83,
      "outputs": [
        {
          "output_type": "execute_result",
          "data": {
            "text/plain": [
              "37.0"
            ]
          },
          "metadata": {
            "tags": []
          },
          "execution_count": 83
        }
      ]
    },
    {
      "cell_type": "markdown",
      "metadata": {
        "id": "O9Dbih4v27KE",
        "colab_type": "text"
      },
      "source": [
        "#제주 기온 데이터 실습"
      ]
    },
    {
      "cell_type": "markdown",
      "metadata": {
        "id": "Xe3NC4moshuD",
        "colab_type": "text"
      },
      "source": [
        "**제주 기온 데이터에서 2000-01-01부터 가장 최고기온이 높은 온도와 날짜를 구하세요.**\n",
        "\n",
        " - pandas를 사용해서. "
      ]
    },
    {
      "cell_type": "code",
      "metadata": {
        "id": "GKxhMt28sxbR",
        "colab_type": "code",
        "colab": {}
      },
      "source": [
        "#jeju_temp.csv파일을 코랩에 불러오기"
      ],
      "execution_count": null,
      "outputs": []
    },
    {
      "cell_type": "code",
      "metadata": {
        "id": "V463eXKLtAy4",
        "colab_type": "code",
        "colab": {}
      },
      "source": [
        ""
      ],
      "execution_count": null,
      "outputs": []
    },
    {
      "cell_type": "code",
      "metadata": {
        "id": "j3ab2K3NtAig",
        "colab_type": "code",
        "colab": {}
      },
      "source": [
        "# 판다스에서 csv 데이터 읽어오기 (판다스 별명은 pd)"
      ],
      "execution_count": null,
      "outputs": []
    },
    {
      "cell_type": "code",
      "metadata": {
        "id": "BA27JQvZtL7g",
        "colab_type": "code",
        "colab": {}
      },
      "source": [
        ""
      ],
      "execution_count": null,
      "outputs": []
    },
    {
      "cell_type": "code",
      "metadata": {
        "id": "Uv-iuGnetKiJ",
        "colab_type": "code",
        "colab": {}
      },
      "source": [
        "# 데이터 모양 살펴보기"
      ],
      "execution_count": null,
      "outputs": []
    },
    {
      "cell_type": "code",
      "metadata": {
        "id": "lEhdM3S3tS9I",
        "colab_type": "code",
        "colab": {}
      },
      "source": [
        ""
      ],
      "execution_count": null,
      "outputs": []
    },
    {
      "cell_type": "code",
      "metadata": {
        "id": "KtiTuSl_tTTw",
        "colab_type": "code",
        "colab": {}
      },
      "source": [
        "#데이터 살펴보기-head"
      ],
      "execution_count": null,
      "outputs": []
    },
    {
      "cell_type": "code",
      "metadata": {
        "id": "t7eRk_WWtXWh",
        "colab_type": "code",
        "colab": {}
      },
      "source": [
        ""
      ],
      "execution_count": null,
      "outputs": []
    },
    {
      "cell_type": "code",
      "metadata": {
        "id": "dtqhlU1NtY35",
        "colab_type": "code",
        "colab": {}
      },
      "source": [
        "# 데이터 프레임 컬럼 이름 바꾸기 ['날짜','지점', '평균', '최저', '최고']"
      ],
      "execution_count": null,
      "outputs": []
    },
    {
      "cell_type": "code",
      "metadata": {
        "id": "Gd6z4RFXtruu",
        "colab_type": "code",
        "colab": {}
      },
      "source": [
        ""
      ],
      "execution_count": null,
      "outputs": []
    },
    {
      "cell_type": "code",
      "metadata": {
        "id": "7RUhAJ0htrdG",
        "colab_type": "code",
        "colab": {}
      },
      "source": [
        "# ['최고'] 컬럼만 선택하기"
      ],
      "execution_count": null,
      "outputs": []
    },
    {
      "cell_type": "code",
      "metadata": {
        "id": "JHIVrMeQuGc8",
        "colab_type": "code",
        "colab": {}
      },
      "source": [
        ""
      ],
      "execution_count": null,
      "outputs": []
    },
    {
      "cell_type": "code",
      "metadata": {
        "id": "MOOD1KjLuG_Z",
        "colab_type": "code",
        "colab": {}
      },
      "source": [
        "#['최고'] 컬럼 중 최고값 찾아 max_temp에 저장하기"
      ],
      "execution_count": null,
      "outputs": []
    },
    {
      "cell_type": "code",
      "metadata": {
        "id": "R_gyBHsYuQF3",
        "colab_type": "code",
        "colab": {}
      },
      "source": [
        ""
      ],
      "execution_count": null,
      "outputs": []
    },
    {
      "cell_type": "code",
      "metadata": {
        "id": "rrVjit7HuQVx",
        "colab_type": "code",
        "colab": {}
      },
      "source": [
        "# ['최고'] 컬럼에서 max_temp와 같은 조건의 데이터만 추출하여 df1에 저장하기"
      ],
      "execution_count": null,
      "outputs": []
    },
    {
      "cell_type": "code",
      "metadata": {
        "id": "gXpZFhHsujF9",
        "colab_type": "code",
        "colab": {}
      },
      "source": [
        ""
      ],
      "execution_count": null,
      "outputs": []
    },
    {
      "cell_type": "code",
      "metadata": {
        "id": "l-oDEQWraSh_",
        "colab_type": "code",
        "colab": {}
      },
      "source": [
        "df1"
      ],
      "execution_count": null,
      "outputs": []
    },
    {
      "cell_type": "code",
      "metadata": {
        "id": "rBbsNSRJujre",
        "colab_type": "code",
        "colab": {}
      },
      "source": [
        "# df1의 인덱스를 ('최고')로 변경하고 df2에 저장하기"
      ],
      "execution_count": null,
      "outputs": []
    },
    {
      "cell_type": "code",
      "metadata": {
        "id": "svOzubGWcjM8",
        "colab_type": "code",
        "colab": {}
      },
      "source": [
        ""
      ],
      "execution_count": null,
      "outputs": []
    },
    {
      "cell_type": "code",
      "metadata": {
        "id": "3WIhn1OlurHL",
        "colab_type": "code",
        "colab": {
          "base_uri": "https://localhost:8080/",
          "height": 431
        },
        "outputId": "e4019abf-0e50-486a-f44e-85aea817437e"
      },
      "source": [
        "df"
      ],
      "execution_count": 85,
      "outputs": [
        {
          "output_type": "execute_result",
          "data": {
            "text/html": [
              "<div>\n",
              "<style scoped>\n",
              "    .dataframe tbody tr th:only-of-type {\n",
              "        vertical-align: middle;\n",
              "    }\n",
              "\n",
              "    .dataframe tbody tr th {\n",
              "        vertical-align: top;\n",
              "    }\n",
              "\n",
              "    .dataframe thead th {\n",
              "        text-align: right;\n",
              "    }\n",
              "</style>\n",
              "<table border=\"1\" class=\"dataframe\">\n",
              "  <thead>\n",
              "    <tr style=\"text-align: right;\">\n",
              "      <th></th>\n",
              "      <th>지점</th>\n",
              "      <th>평균</th>\n",
              "      <th>최저</th>\n",
              "      <th>최고</th>\n",
              "    </tr>\n",
              "    <tr>\n",
              "      <th>날짜</th>\n",
              "      <th></th>\n",
              "      <th></th>\n",
              "      <th></th>\n",
              "      <th></th>\n",
              "    </tr>\n",
              "  </thead>\n",
              "  <tbody>\n",
              "    <tr>\n",
              "      <th>2000-01-01</th>\n",
              "      <td>184</td>\n",
              "      <td>12.2</td>\n",
              "      <td>8.3</td>\n",
              "      <td>16.0</td>\n",
              "    </tr>\n",
              "    <tr>\n",
              "      <th>2000-01-02</th>\n",
              "      <td>184</td>\n",
              "      <td>10.8</td>\n",
              "      <td>7.5</td>\n",
              "      <td>17.2</td>\n",
              "    </tr>\n",
              "    <tr>\n",
              "      <th>2000-01-03</th>\n",
              "      <td>184</td>\n",
              "      <td>6.6</td>\n",
              "      <td>3.6</td>\n",
              "      <td>8.9</td>\n",
              "    </tr>\n",
              "    <tr>\n",
              "      <th>2000-01-04</th>\n",
              "      <td>184</td>\n",
              "      <td>9.4</td>\n",
              "      <td>3.2</td>\n",
              "      <td>15.5</td>\n",
              "    </tr>\n",
              "    <tr>\n",
              "      <th>2000-01-05</th>\n",
              "      <td>184</td>\n",
              "      <td>14.2</td>\n",
              "      <td>8.9</td>\n",
              "      <td>17.5</td>\n",
              "    </tr>\n",
              "    <tr>\n",
              "      <th>...</th>\n",
              "      <td>...</td>\n",
              "      <td>...</td>\n",
              "      <td>...</td>\n",
              "      <td>...</td>\n",
              "    </tr>\n",
              "    <tr>\n",
              "      <th>2020-09-12</th>\n",
              "      <td>184</td>\n",
              "      <td>23.1</td>\n",
              "      <td>21.6</td>\n",
              "      <td>25.5</td>\n",
              "    </tr>\n",
              "    <tr>\n",
              "      <th>2020-09-13</th>\n",
              "      <td>184</td>\n",
              "      <td>23.0</td>\n",
              "      <td>21.7</td>\n",
              "      <td>26.1</td>\n",
              "    </tr>\n",
              "    <tr>\n",
              "      <th>2020-09-14</th>\n",
              "      <td>184</td>\n",
              "      <td>23.3</td>\n",
              "      <td>21.8</td>\n",
              "      <td>25.9</td>\n",
              "    </tr>\n",
              "    <tr>\n",
              "      <th>2020-09-15</th>\n",
              "      <td>184</td>\n",
              "      <td>23.7</td>\n",
              "      <td>21.0</td>\n",
              "      <td>25.8</td>\n",
              "    </tr>\n",
              "    <tr>\n",
              "      <th>2020-09-16</th>\n",
              "      <td>184</td>\n",
              "      <td>23.5</td>\n",
              "      <td>21.5</td>\n",
              "      <td>28.3</td>\n",
              "    </tr>\n",
              "  </tbody>\n",
              "</table>\n",
              "<p>7565 rows × 4 columns</p>\n",
              "</div>"
            ],
            "text/plain": [
              "             지점    평균    최저    최고\n",
              "날짜                               \n",
              "2000-01-01  184  12.2   8.3  16.0\n",
              "2000-01-02  184  10.8   7.5  17.2\n",
              "2000-01-03  184   6.6   3.6   8.9\n",
              "2000-01-04  184   9.4   3.2  15.5\n",
              "2000-01-05  184  14.2   8.9  17.5\n",
              "...         ...   ...   ...   ...\n",
              "2020-09-12  184  23.1  21.6  25.5\n",
              "2020-09-13  184  23.0  21.7  26.1\n",
              "2020-09-14  184  23.3  21.8  25.9\n",
              "2020-09-15  184  23.7  21.0  25.8\n",
              "2020-09-16  184  23.5  21.5  28.3\n",
              "\n",
              "[7565 rows x 4 columns]"
            ]
          },
          "metadata": {
            "tags": []
          },
          "execution_count": 85
        }
      ]
    },
    {
      "cell_type": "code",
      "metadata": {
        "id": "Dwiyby_SurZ6",
        "colab_type": "code",
        "colab": {}
      },
      "source": [
        "# df2의 최고기온의 날짜를 max_date에 저장하기"
      ],
      "execution_count": null,
      "outputs": []
    },
    {
      "cell_type": "code",
      "metadata": {
        "id": "29mLfrPiuw2i",
        "colab_type": "code",
        "colab": {
          "base_uri": "https://localhost:8080/",
          "height": 52
        },
        "outputId": "2b70a040-6dc2-40ee-ac7f-c9f2707b7cc7"
      },
      "source": [
        "\n",
        "max_temp = df['최고'].max()\n",
        "max_data = df[df['최고'] == max_temp]['날짜']\n",
        "max_data"
      ],
      "execution_count": 103,
      "outputs": [
        {
          "output_type": "execute_result",
          "data": {
            "text/plain": [
              "6411    2017-07-21\n",
              "Name: 날짜, dtype: object"
            ]
          },
          "metadata": {
            "tags": []
          },
          "execution_count": 103
        }
      ]
    },
    {
      "cell_type": "code",
      "metadata": {
        "id": "P1enZ3y-uxMM",
        "colab_type": "code",
        "colab": {}
      },
      "source": [
        "#최종 데이터 출력하기"
      ],
      "execution_count": null,
      "outputs": []
    },
    {
      "cell_type": "code",
      "metadata": {
        "id": "tRibdTGRuzSB",
        "colab_type": "code",
        "colab": {
          "base_uri": "https://localhost:8080/",
          "height": 52
        },
        "outputId": "1acac6d1-61df-4f4d-8e64-8413867bd177"
      },
      "source": [
        "print('제주의 최고 기온이 가장 높은 온도는', max_temp,'이고, 날짜는', max_data,'이다')"
      ],
      "execution_count": 105,
      "outputs": [
        {
          "output_type": "stream",
          "text": [
            "제주의 최고 기온이 가장 높은 온도는 37.0 이고, 날짜는 6411    2017-07-21\n",
            "Name: 날짜, dtype: object 이다\n"
          ],
          "name": "stdout"
        }
      ]
    },
    {
      "cell_type": "code",
      "metadata": {
        "id": "UyAbq8aUAZCV",
        "colab_type": "code",
        "colab": {}
      },
      "source": [
        ""
      ],
      "execution_count": null,
      "outputs": []
    }
  ]
}