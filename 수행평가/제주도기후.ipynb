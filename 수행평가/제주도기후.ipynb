{
  "nbformat": 4,
  "nbformat_minor": 0,
  "metadata": {
    "colab": {
      "name": "Untitled11.ipynb",
      "provenance": [],
      "collapsed_sections": []
    },
    "kernelspec": {
      "name": "python3",
      "display_name": "Python 3"
    }
  },
  "cells": [
    {
      "cell_type": "code",
      "metadata": {
        "id": "aWGCrNNzHuLf"
      },
      "source": [
        "import pandas as pd\n",
        "import matplotlib.pyplot as plt\n",
        "%matplotlib inline"
      ],
      "execution_count": null,
      "outputs": []
    },
    {
      "cell_type": "code",
      "metadata": {
        "id": "eWbYlx1yJeqT"
      },
      "source": [
        "jeju = pd.read_csv('/content/제주도기후.csv', encoding=\"CP949\")\n",
        "seoul = "
      ],
      "execution_count": null,
      "outputs": []
    },
    {
      "cell_type": "code",
      "metadata": {
        "id": "0F6UDa64MCjj",
        "outputId": "aeded2de-ee5e-4fcd-d1cb-57399c8092fd",
        "colab": {
          "base_uri": "https://localhost:8080/",
          "height": 419
        }
      },
      "source": [
        "df"
      ],
      "execution_count": null,
      "outputs": [
        {
          "output_type": "execute_result",
          "data": {
            "text/html": [
              "<div>\n",
              "<style scoped>\n",
              "    .dataframe tbody tr th:only-of-type {\n",
              "        vertical-align: middle;\n",
              "    }\n",
              "\n",
              "    .dataframe tbody tr th {\n",
              "        vertical-align: top;\n",
              "    }\n",
              "\n",
              "    .dataframe thead th {\n",
              "        text-align: right;\n",
              "    }\n",
              "</style>\n",
              "<table border=\"1\" class=\"dataframe\">\n",
              "  <thead>\n",
              "    <tr style=\"text-align: right;\">\n",
              "      <th></th>\n",
              "      <th>날짜</th>\n",
              "      <th>지점</th>\n",
              "      <th>평균기온(℃)</th>\n",
              "      <th>최저기온(℃)</th>\n",
              "      <th>최고기온(℃)</th>\n",
              "    </tr>\n",
              "  </thead>\n",
              "  <tbody>\n",
              "    <tr>\n",
              "      <th>0</th>\n",
              "      <td>1970-10-14</td>\n",
              "      <td>184</td>\n",
              "      <td>19.5</td>\n",
              "      <td>18.1</td>\n",
              "      <td>21.3</td>\n",
              "    </tr>\n",
              "    <tr>\n",
              "      <th>1</th>\n",
              "      <td>1970-10-15</td>\n",
              "      <td>184</td>\n",
              "      <td>19.6</td>\n",
              "      <td>17.9</td>\n",
              "      <td>22.2</td>\n",
              "    </tr>\n",
              "    <tr>\n",
              "      <th>2</th>\n",
              "      <td>1970-10-16</td>\n",
              "      <td>184</td>\n",
              "      <td>19.8</td>\n",
              "      <td>17.7</td>\n",
              "      <td>22.3</td>\n",
              "    </tr>\n",
              "    <tr>\n",
              "      <th>3</th>\n",
              "      <td>1970-10-17</td>\n",
              "      <td>184</td>\n",
              "      <td>19.2</td>\n",
              "      <td>15.6</td>\n",
              "      <td>21.4</td>\n",
              "    </tr>\n",
              "    <tr>\n",
              "      <th>4</th>\n",
              "      <td>1970-10-18</td>\n",
              "      <td>184</td>\n",
              "      <td>17.8</td>\n",
              "      <td>14.2</td>\n",
              "      <td>21.2</td>\n",
              "    </tr>\n",
              "    <tr>\n",
              "      <th>...</th>\n",
              "      <td>...</td>\n",
              "      <td>...</td>\n",
              "      <td>...</td>\n",
              "      <td>...</td>\n",
              "      <td>...</td>\n",
              "    </tr>\n",
              "    <tr>\n",
              "      <th>18281</th>\n",
              "      <td>2020-11-01</td>\n",
              "      <td>184</td>\n",
              "      <td>18.1</td>\n",
              "      <td>13.7</td>\n",
              "      <td>22.3</td>\n",
              "    </tr>\n",
              "    <tr>\n",
              "      <th>18282</th>\n",
              "      <td>2020-11-02</td>\n",
              "      <td>184</td>\n",
              "      <td>15.7</td>\n",
              "      <td>12.8</td>\n",
              "      <td>18.5</td>\n",
              "    </tr>\n",
              "    <tr>\n",
              "      <th>18283</th>\n",
              "      <td>2020-11-03</td>\n",
              "      <td>184</td>\n",
              "      <td>13.1</td>\n",
              "      <td>11.8</td>\n",
              "      <td>16.0</td>\n",
              "    </tr>\n",
              "    <tr>\n",
              "      <th>18284</th>\n",
              "      <td>2020-11-04</td>\n",
              "      <td>184</td>\n",
              "      <td>12.0</td>\n",
              "      <td>9.2</td>\n",
              "      <td>15.1</td>\n",
              "    </tr>\n",
              "    <tr>\n",
              "      <th>18285</th>\n",
              "      <td>2020-11-05</td>\n",
              "      <td>184</td>\n",
              "      <td>14.0</td>\n",
              "      <td>8.2</td>\n",
              "      <td>17.9</td>\n",
              "    </tr>\n",
              "  </tbody>\n",
              "</table>\n",
              "<p>18286 rows × 5 columns</p>\n",
              "</div>"
            ],
            "text/plain": [
              "               날짜   지점  평균기온(℃)  최저기온(℃)  최고기온(℃)\n",
              "0      1970-10-14  184     19.5     18.1     21.3\n",
              "1      1970-10-15  184     19.6     17.9     22.2\n",
              "2      1970-10-16  184     19.8     17.7     22.3\n",
              "3      1970-10-17  184     19.2     15.6     21.4\n",
              "4      1970-10-18  184     17.8     14.2     21.2\n",
              "...           ...  ...      ...      ...      ...\n",
              "18281  2020-11-01  184     18.1     13.7     22.3\n",
              "18282  2020-11-02  184     15.7     12.8     18.5\n",
              "18283  2020-11-03  184     13.1     11.8     16.0\n",
              "18284  2020-11-04  184     12.0      9.2     15.1\n",
              "18285  2020-11-05  184     14.0      8.2     17.9\n",
              "\n",
              "[18286 rows x 5 columns]"
            ]
          },
          "metadata": {
            "tags": []
          },
          "execution_count": 71
        }
      ]
    },
    {
      "cell_type": "code",
      "metadata": {
        "id": "GjoUHKenNCKZ"
      },
      "source": [
        "df.columns = ['날짜', '지점', '평균', '최저', '최고']"
      ],
      "execution_count": null,
      "outputs": []
    },
    {
      "cell_type": "code",
      "metadata": {
        "id": "tISVFTX7SerJ",
        "outputId": "b13a3cb1-77a4-43e9-8fae-3cf217a7f72d",
        "colab": {
          "base_uri": "https://localhost:8080/",
          "height": 419
        }
      },
      "source": [
        "df"
      ],
      "execution_count": null,
      "outputs": [
        {
          "output_type": "execute_result",
          "data": {
            "text/html": [
              "<div>\n",
              "<style scoped>\n",
              "    .dataframe tbody tr th:only-of-type {\n",
              "        vertical-align: middle;\n",
              "    }\n",
              "\n",
              "    .dataframe tbody tr th {\n",
              "        vertical-align: top;\n",
              "    }\n",
              "\n",
              "    .dataframe thead th {\n",
              "        text-align: right;\n",
              "    }\n",
              "</style>\n",
              "<table border=\"1\" class=\"dataframe\">\n",
              "  <thead>\n",
              "    <tr style=\"text-align: right;\">\n",
              "      <th></th>\n",
              "      <th>날짜</th>\n",
              "      <th>지점</th>\n",
              "      <th>평균</th>\n",
              "      <th>최저</th>\n",
              "      <th>최고</th>\n",
              "    </tr>\n",
              "  </thead>\n",
              "  <tbody>\n",
              "    <tr>\n",
              "      <th>0</th>\n",
              "      <td>1970-10-14</td>\n",
              "      <td>184</td>\n",
              "      <td>19.5</td>\n",
              "      <td>18.1</td>\n",
              "      <td>21.3</td>\n",
              "    </tr>\n",
              "    <tr>\n",
              "      <th>1</th>\n",
              "      <td>1970-10-15</td>\n",
              "      <td>184</td>\n",
              "      <td>19.6</td>\n",
              "      <td>17.9</td>\n",
              "      <td>22.2</td>\n",
              "    </tr>\n",
              "    <tr>\n",
              "      <th>2</th>\n",
              "      <td>1970-10-16</td>\n",
              "      <td>184</td>\n",
              "      <td>19.8</td>\n",
              "      <td>17.7</td>\n",
              "      <td>22.3</td>\n",
              "    </tr>\n",
              "    <tr>\n",
              "      <th>3</th>\n",
              "      <td>1970-10-17</td>\n",
              "      <td>184</td>\n",
              "      <td>19.2</td>\n",
              "      <td>15.6</td>\n",
              "      <td>21.4</td>\n",
              "    </tr>\n",
              "    <tr>\n",
              "      <th>4</th>\n",
              "      <td>1970-10-18</td>\n",
              "      <td>184</td>\n",
              "      <td>17.8</td>\n",
              "      <td>14.2</td>\n",
              "      <td>21.2</td>\n",
              "    </tr>\n",
              "    <tr>\n",
              "      <th>...</th>\n",
              "      <td>...</td>\n",
              "      <td>...</td>\n",
              "      <td>...</td>\n",
              "      <td>...</td>\n",
              "      <td>...</td>\n",
              "    </tr>\n",
              "    <tr>\n",
              "      <th>18281</th>\n",
              "      <td>2020-11-01</td>\n",
              "      <td>184</td>\n",
              "      <td>18.1</td>\n",
              "      <td>13.7</td>\n",
              "      <td>22.3</td>\n",
              "    </tr>\n",
              "    <tr>\n",
              "      <th>18282</th>\n",
              "      <td>2020-11-02</td>\n",
              "      <td>184</td>\n",
              "      <td>15.7</td>\n",
              "      <td>12.8</td>\n",
              "      <td>18.5</td>\n",
              "    </tr>\n",
              "    <tr>\n",
              "      <th>18283</th>\n",
              "      <td>2020-11-03</td>\n",
              "      <td>184</td>\n",
              "      <td>13.1</td>\n",
              "      <td>11.8</td>\n",
              "      <td>16.0</td>\n",
              "    </tr>\n",
              "    <tr>\n",
              "      <th>18284</th>\n",
              "      <td>2020-11-04</td>\n",
              "      <td>184</td>\n",
              "      <td>12.0</td>\n",
              "      <td>9.2</td>\n",
              "      <td>15.1</td>\n",
              "    </tr>\n",
              "    <tr>\n",
              "      <th>18285</th>\n",
              "      <td>2020-11-05</td>\n",
              "      <td>184</td>\n",
              "      <td>14.0</td>\n",
              "      <td>8.2</td>\n",
              "      <td>17.9</td>\n",
              "    </tr>\n",
              "  </tbody>\n",
              "</table>\n",
              "<p>18286 rows × 5 columns</p>\n",
              "</div>"
            ],
            "text/plain": [
              "               날짜   지점    평균    최저    최고\n",
              "0      1970-10-14  184  19.5  18.1  21.3\n",
              "1      1970-10-15  184  19.6  17.9  22.2\n",
              "2      1970-10-16  184  19.8  17.7  22.3\n",
              "3      1970-10-17  184  19.2  15.6  21.4\n",
              "4      1970-10-18  184  17.8  14.2  21.2\n",
              "...           ...  ...   ...   ...   ...\n",
              "18281  2020-11-01  184  18.1  13.7  22.3\n",
              "18282  2020-11-02  184  15.7  12.8  18.5\n",
              "18283  2020-11-03  184  13.1  11.8  16.0\n",
              "18284  2020-11-04  184  12.0   9.2  15.1\n",
              "18285  2020-11-05  184  14.0   8.2  17.9\n",
              "\n",
              "[18286 rows x 5 columns]"
            ]
          },
          "metadata": {
            "tags": []
          },
          "execution_count": 73
        }
      ]
    },
    {
      "cell_type": "code",
      "metadata": {
        "id": "JgvX3SGrSfVw",
        "outputId": "c2d4b7cd-894c-4ba1-a86a-a5cf17475894",
        "colab": {
          "base_uri": "https://localhost:8080/"
        }
      },
      "source": [
        "total = 0\n",
        "index = 0\n",
        "divisionValue = 0\n",
        "for 날짜 in df['날짜']:\n",
        "    날짜구분 = 날짜.split('-')\n",
        "    if(날짜구분[1] == '08' and int(날짜구분[0]) >= 2020):\n",
        "        total += df['평균'][index]\n",
        "        divisionValue += 1\n",
        "    index += 1\n",
        "total / divisionValue"
      ],
      "execution_count": null,
      "outputs": [
        {
          "output_type": "execute_result",
          "data": {
            "text/plain": [
              "29.43225806451612"
            ]
          },
          "metadata": {
            "tags": []
          },
          "execution_count": 74
        }
      ]
    },
    {
      "cell_type": "code",
      "metadata": {
        "id": "jUEzt-PuSxLa",
        "outputId": "5b64ff1e-c578-436a-9234-49b11a010c98",
        "colab": {
          "base_uri": "https://localhost:8080/"
        }
      },
      "source": [
        "total = 0\n",
        "index = 0\n",
        "divisionValue = 0\n",
        "ninetotal = 0\n",
        "ninedivisionValue = 0\n",
        "for 날짜 in df['날짜']:\n",
        "    날짜구분 = 날짜.split('-')\n",
        "    if(날짜구분[1] == '08' and int(날짜구분[0]) >= 2020):\n",
        "        total += df['평균'][index]\n",
        "        divisionValue += 1\n",
        "    if(날짜구분[1] == '09' and int(날짜구분[0]) >= 2020):\n",
        "        ninetotal += df['평균'][index]\n",
        "        ninedivisionValue += 1\n",
        "    index += 1\n",
        "middle = total / divisionValue\n",
        "ninemiddle = ninetotal / ninedivisionValue\n",
        "print(middle - ninemiddle)"
      ],
      "execution_count": null,
      "outputs": [
        {
          "output_type": "stream",
          "text": [
            "6.562258064516122\n"
          ],
          "name": "stdout"
        }
      ]
    },
    {
      "cell_type": "code",
      "metadata": {
        "id": "RtpYtLqQS3JP"
      },
      "source": [
        "list = []\n",
        "for year in range(0,21):\n",
        "    for 날짜 in df['날짜']:\n",
        "        구분 = 날짜.split('-')\n",
        "        if(날짜구분[0] == int(year)):\n",
        "            for month in range(1,13):\n",
        "                if(날짜구분[1] == month):\n",
        "                    print(날짜구분[1])"
      ],
      "execution_count": null,
      "outputs": []
    },
    {
      "cell_type": "code",
      "metadata": {
        "id": "6yA1kb9sZQWP"
      },
      "source": [
        ""
      ],
      "execution_count": null,
      "outputs": []
    }
  ]
}