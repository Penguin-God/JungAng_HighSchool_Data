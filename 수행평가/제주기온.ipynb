{
  "nbformat": 4,
  "nbformat_minor": 0,
  "metadata": {
    "colab": {
      "name": "제주기온.ipynb",
      "provenance": [],
      "collapsed_sections": []
    },
    "kernelspec": {
      "name": "python3",
      "display_name": "Python 3"
    }
  },
  "cells": [
    {
      "cell_type": "code",
      "metadata": {
        "id": "aWGCrNNzHuLf"
      },
      "source": [
        "import pandas as pd\n",
        "import matplotlib.pyplot as plt\n",
        "%matplotlib inline"
      ],
      "execution_count": 1,
      "outputs": []
    },
    {
      "cell_type": "code",
      "metadata": {
        "id": "eWbYlx1yJeqT"
      },
      "source": [
        "jeju = pd.read_csv('/content/제주기후.csv', encoding=\"CP949\")"
      ],
      "execution_count": 4,
      "outputs": []
    },
    {
      "cell_type": "code",
      "metadata": {
        "id": "0F6UDa64MCjj",
        "outputId": "69945369-51aa-4c23-85e4-305793fdab62",
        "colab": {
          "base_uri": "https://localhost:8080/",
          "height": 419
        }
      },
      "source": [
        "jeju"
      ],
      "execution_count": 6,
      "outputs": [
        {
          "output_type": "execute_result",
          "data": {
            "text/html": [
              "<div>\n",
              "<style scoped>\n",
              "    .dataframe tbody tr th:only-of-type {\n",
              "        vertical-align: middle;\n",
              "    }\n",
              "\n",
              "    .dataframe tbody tr th {\n",
              "        vertical-align: top;\n",
              "    }\n",
              "\n",
              "    .dataframe thead th {\n",
              "        text-align: right;\n",
              "    }\n",
              "</style>\n",
              "<table border=\"1\" class=\"dataframe\">\n",
              "  <thead>\n",
              "    <tr style=\"text-align: right;\">\n",
              "      <th></th>\n",
              "      <th>날짜</th>\n",
              "      <th>지점</th>\n",
              "      <th>평균기온(℃)</th>\n",
              "      <th>최저기온(℃)</th>\n",
              "      <th>최고기온(℃)</th>\n",
              "    </tr>\n",
              "  </thead>\n",
              "  <tbody>\n",
              "    <tr>\n",
              "      <th>0</th>\n",
              "      <td>1970-01-01</td>\n",
              "      <td>184</td>\n",
              "      <td>5.3</td>\n",
              "      <td>1.5</td>\n",
              "      <td>10.3</td>\n",
              "    </tr>\n",
              "    <tr>\n",
              "      <th>1</th>\n",
              "      <td>1970-01-02</td>\n",
              "      <td>184</td>\n",
              "      <td>6.4</td>\n",
              "      <td>3.2</td>\n",
              "      <td>9.0</td>\n",
              "    </tr>\n",
              "    <tr>\n",
              "      <th>2</th>\n",
              "      <td>1970-01-03</td>\n",
              "      <td>184</td>\n",
              "      <td>5.1</td>\n",
              "      <td>3.2</td>\n",
              "      <td>6.6</td>\n",
              "    </tr>\n",
              "    <tr>\n",
              "      <th>3</th>\n",
              "      <td>1970-01-04</td>\n",
              "      <td>184</td>\n",
              "      <td>1.1</td>\n",
              "      <td>-2.5</td>\n",
              "      <td>4.2</td>\n",
              "    </tr>\n",
              "    <tr>\n",
              "      <th>4</th>\n",
              "      <td>1970-01-05</td>\n",
              "      <td>184</td>\n",
              "      <td>-0.7</td>\n",
              "      <td>-4.6</td>\n",
              "      <td>2.0</td>\n",
              "    </tr>\n",
              "    <tr>\n",
              "      <th>...</th>\n",
              "      <td>...</td>\n",
              "      <td>...</td>\n",
              "      <td>...</td>\n",
              "      <td>...</td>\n",
              "      <td>...</td>\n",
              "    </tr>\n",
              "    <tr>\n",
              "      <th>18568</th>\n",
              "      <td>2020-11-02</td>\n",
              "      <td>184</td>\n",
              "      <td>15.7</td>\n",
              "      <td>12.8</td>\n",
              "      <td>18.5</td>\n",
              "    </tr>\n",
              "    <tr>\n",
              "      <th>18569</th>\n",
              "      <td>2020-11-03</td>\n",
              "      <td>184</td>\n",
              "      <td>13.1</td>\n",
              "      <td>11.8</td>\n",
              "      <td>16.0</td>\n",
              "    </tr>\n",
              "    <tr>\n",
              "      <th>18570</th>\n",
              "      <td>2020-11-04</td>\n",
              "      <td>184</td>\n",
              "      <td>12.0</td>\n",
              "      <td>9.2</td>\n",
              "      <td>15.1</td>\n",
              "    </tr>\n",
              "    <tr>\n",
              "      <th>18571</th>\n",
              "      <td>2020-11-05</td>\n",
              "      <td>184</td>\n",
              "      <td>14.0</td>\n",
              "      <td>8.2</td>\n",
              "      <td>17.9</td>\n",
              "    </tr>\n",
              "    <tr>\n",
              "      <th>18572</th>\n",
              "      <td>2020-11-06</td>\n",
              "      <td>184</td>\n",
              "      <td>17.8</td>\n",
              "      <td>13.8</td>\n",
              "      <td>21.7</td>\n",
              "    </tr>\n",
              "  </tbody>\n",
              "</table>\n",
              "<p>18573 rows × 5 columns</p>\n",
              "</div>"
            ],
            "text/plain": [
              "               날짜   지점  평균기온(℃)  최저기온(℃)  최고기온(℃)\n",
              "0      1970-01-01  184      5.3      1.5     10.3\n",
              "1      1970-01-02  184      6.4      3.2      9.0\n",
              "2      1970-01-03  184      5.1      3.2      6.6\n",
              "3      1970-01-04  184      1.1     -2.5      4.2\n",
              "4      1970-01-05  184     -0.7     -4.6      2.0\n",
              "...           ...  ...      ...      ...      ...\n",
              "18568  2020-11-02  184     15.7     12.8     18.5\n",
              "18569  2020-11-03  184     13.1     11.8     16.0\n",
              "18570  2020-11-04  184     12.0      9.2     15.1\n",
              "18571  2020-11-05  184     14.0      8.2     17.9\n",
              "18572  2020-11-06  184     17.8     13.8     21.7\n",
              "\n",
              "[18573 rows x 5 columns]"
            ]
          },
          "metadata": {
            "tags": []
          },
          "execution_count": 6
        }
      ]
    },
    {
      "cell_type": "code",
      "metadata": {
        "id": "GjoUHKenNCKZ"
      },
      "source": [
        "jeju.columns = ['날짜', '지점', '평균', '최저', '최고']"
      ],
      "execution_count": 7,
      "outputs": []
    },
    {
      "cell_type": "code",
      "metadata": {
        "id": "tISVFTX7SerJ",
        "outputId": "3b0f2128-cb88-4796-9983-82bc0c1564a0",
        "colab": {
          "base_uri": "https://localhost:8080/",
          "height": 419
        }
      },
      "source": [
        "jeju"
      ],
      "execution_count": 8,
      "outputs": [
        {
          "output_type": "execute_result",
          "data": {
            "text/html": [
              "<div>\n",
              "<style scoped>\n",
              "    .dataframe tbody tr th:only-of-type {\n",
              "        vertical-align: middle;\n",
              "    }\n",
              "\n",
              "    .dataframe tbody tr th {\n",
              "        vertical-align: top;\n",
              "    }\n",
              "\n",
              "    .dataframe thead th {\n",
              "        text-align: right;\n",
              "    }\n",
              "</style>\n",
              "<table border=\"1\" class=\"dataframe\">\n",
              "  <thead>\n",
              "    <tr style=\"text-align: right;\">\n",
              "      <th></th>\n",
              "      <th>날짜</th>\n",
              "      <th>지점</th>\n",
              "      <th>평균</th>\n",
              "      <th>최저</th>\n",
              "      <th>최고</th>\n",
              "    </tr>\n",
              "  </thead>\n",
              "  <tbody>\n",
              "    <tr>\n",
              "      <th>0</th>\n",
              "      <td>1970-01-01</td>\n",
              "      <td>184</td>\n",
              "      <td>5.3</td>\n",
              "      <td>1.5</td>\n",
              "      <td>10.3</td>\n",
              "    </tr>\n",
              "    <tr>\n",
              "      <th>1</th>\n",
              "      <td>1970-01-02</td>\n",
              "      <td>184</td>\n",
              "      <td>6.4</td>\n",
              "      <td>3.2</td>\n",
              "      <td>9.0</td>\n",
              "    </tr>\n",
              "    <tr>\n",
              "      <th>2</th>\n",
              "      <td>1970-01-03</td>\n",
              "      <td>184</td>\n",
              "      <td>5.1</td>\n",
              "      <td>3.2</td>\n",
              "      <td>6.6</td>\n",
              "    </tr>\n",
              "    <tr>\n",
              "      <th>3</th>\n",
              "      <td>1970-01-04</td>\n",
              "      <td>184</td>\n",
              "      <td>1.1</td>\n",
              "      <td>-2.5</td>\n",
              "      <td>4.2</td>\n",
              "    </tr>\n",
              "    <tr>\n",
              "      <th>4</th>\n",
              "      <td>1970-01-05</td>\n",
              "      <td>184</td>\n",
              "      <td>-0.7</td>\n",
              "      <td>-4.6</td>\n",
              "      <td>2.0</td>\n",
              "    </tr>\n",
              "    <tr>\n",
              "      <th>...</th>\n",
              "      <td>...</td>\n",
              "      <td>...</td>\n",
              "      <td>...</td>\n",
              "      <td>...</td>\n",
              "      <td>...</td>\n",
              "    </tr>\n",
              "    <tr>\n",
              "      <th>18568</th>\n",
              "      <td>2020-11-02</td>\n",
              "      <td>184</td>\n",
              "      <td>15.7</td>\n",
              "      <td>12.8</td>\n",
              "      <td>18.5</td>\n",
              "    </tr>\n",
              "    <tr>\n",
              "      <th>18569</th>\n",
              "      <td>2020-11-03</td>\n",
              "      <td>184</td>\n",
              "      <td>13.1</td>\n",
              "      <td>11.8</td>\n",
              "      <td>16.0</td>\n",
              "    </tr>\n",
              "    <tr>\n",
              "      <th>18570</th>\n",
              "      <td>2020-11-04</td>\n",
              "      <td>184</td>\n",
              "      <td>12.0</td>\n",
              "      <td>9.2</td>\n",
              "      <td>15.1</td>\n",
              "    </tr>\n",
              "    <tr>\n",
              "      <th>18571</th>\n",
              "      <td>2020-11-05</td>\n",
              "      <td>184</td>\n",
              "      <td>14.0</td>\n",
              "      <td>8.2</td>\n",
              "      <td>17.9</td>\n",
              "    </tr>\n",
              "    <tr>\n",
              "      <th>18572</th>\n",
              "      <td>2020-11-06</td>\n",
              "      <td>184</td>\n",
              "      <td>17.8</td>\n",
              "      <td>13.8</td>\n",
              "      <td>21.7</td>\n",
              "    </tr>\n",
              "  </tbody>\n",
              "</table>\n",
              "<p>18573 rows × 5 columns</p>\n",
              "</div>"
            ],
            "text/plain": [
              "               날짜   지점    평균    최저    최고\n",
              "0      1970-01-01  184   5.3   1.5  10.3\n",
              "1      1970-01-02  184   6.4   3.2   9.0\n",
              "2      1970-01-03  184   5.1   3.2   6.6\n",
              "3      1970-01-04  184   1.1  -2.5   4.2\n",
              "4      1970-01-05  184  -0.7  -4.6   2.0\n",
              "...           ...  ...   ...   ...   ...\n",
              "18568  2020-11-02  184  15.7  12.8  18.5\n",
              "18569  2020-11-03  184  13.1  11.8  16.0\n",
              "18570  2020-11-04  184  12.0   9.2  15.1\n",
              "18571  2020-11-05  184  14.0   8.2  17.9\n",
              "18572  2020-11-06  184  17.8  13.8  21.7\n",
              "\n",
              "[18573 rows x 5 columns]"
            ]
          },
          "metadata": {
            "tags": []
          },
          "execution_count": 8
        }
      ]
    },
    {
      "cell_type": "code",
      "metadata": {
        "id": "JgvX3SGrSfVw",
        "outputId": "463c9bfe-5d72-4990-dd7c-530af7d0865b",
        "colab": {
          "base_uri": "https://localhost:8080/"
        }
      },
      "source": [
        "import math\n",
        "# 원하는 달의 평균 날짜\n",
        "total = 0 \n",
        "index = 0\n",
        "divisionValue = 0\n",
        "for 날짜 in jeju['날짜']:\n",
        "    날짜구분 = 날짜.split('-')\n",
        "    if(날짜구분[1] == '08' and int(날짜구분[0]) >= 2000):\n",
        "        total += jeju['평균'][index]\n",
        "        divisionValue += 1\n",
        "    index += 1\n",
        "total / divisionValue"
      ],
      "execution_count": 37,
      "outputs": [
        {
          "output_type": "execute_result",
          "data": {
            "text/plain": [
              "27.401536098310324"
            ]
          },
          "metadata": {
            "tags": []
          },
          "execution_count": 37
        }
      ]
    },
    {
      "cell_type": "code",
      "metadata": {
        "id": "RtpYtLqQS3JP",
        "outputId": "3290e572-3209-486f-8d46-e2b592318c17",
        "colab": {
          "base_uri": "https://localhost:8080/"
        }
      },
      "source": [
        "valueArray = [] # 2000 ~ 2020 년 월 평균값을 넣을 배열\n",
        "total = 0 \n",
        "index = 0\n",
        "divisionValue = 0\n",
        "for Month in range(1,13):\n",
        "    for 날짜 in jeju['날짜']:\n",
        "        날짜구분 = 날짜.split('-')\n",
        "        if(int(날짜구분[1]) == Month and int(날짜구분[0]) >= 2000):\n",
        "            #print(jeju['날짜'][index], Month)\n",
        "            total += jeju['평균'][index]\n",
        "            divisionValue += 1\n",
        "        index += 1\n",
        "    monthAverage = total / divisionValue\n",
        "    index = 0\n",
        "    total = 0\n",
        "    divisionValue = 0\n",
        "    valueArray.append(\"%0.2f\" % monthAverage)\n",
        "valueArray"
      ],
      "execution_count": 65,
      "outputs": [
        {
          "output_type": "execute_result",
          "data": {
            "text/plain": [
              "['6.06',\n",
              " '6.87',\n",
              " '9.98',\n",
              " '14.29',\n",
              " '18.41',\n",
              " '21.84',\n",
              " '26.28',\n",
              " '27.40',\n",
              " '23.35',\n",
              " '18.75',\n",
              " '13.34',\n",
              " '8.18']"
            ]
          },
          "metadata": {
            "tags": []
          },
          "execution_count": 65
        }
      ]
    },
    {
      "cell_type": "code",
      "metadata": {
        "id": "6yA1kb9sZQWP",
        "outputId": "786a9e37-5559-4733-ea27-d8be5e59d21a",
        "colab": {
          "base_uri": "https://localhost:8080/"
        }
      },
      "source": [
        "일교차 = [] # 12 - 1, 2 - 1, .....순서대로 연교차를 담는 배열 \n",
        "for i in range(len(valueArray)):\n",
        "    Value = float(valueArray[i])\n",
        "    subValue = float(valueArray[i - 1])\n",
        "    월교차 = Value - subValue\n",
        "    월교차편집 = \"%0.2f\" % 월교차\n",
        "    일교차.append(float(월교차편집))\n",
        "일교차\n",
        "    "
      ],
      "execution_count": 67,
      "outputs": [
        {
          "output_type": "execute_result",
          "data": {
            "text/plain": [
              "[-2.12, 0.81, 3.11, 4.31, 4.12, 3.43, 4.44, 1.12, -4.05, -4.6, -5.41, -5.16]"
            ]
          },
          "metadata": {
            "tags": []
          },
          "execution_count": 67
        }
      ]
    },
    {
      "cell_type": "code",
      "metadata": {
        "id": "azMZeOtkyAdx"
      },
      "source": [
        ""
      ],
      "execution_count": null,
      "outputs": []
    }
  ]
}