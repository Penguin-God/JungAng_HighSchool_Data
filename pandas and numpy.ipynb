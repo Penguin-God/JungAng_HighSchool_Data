{
  "nbformat": 4,
  "nbformat_minor": 0,
  "metadata": {
    "colab": {
      "name": "펭귄갓 - 빅데이터분석9,10-pandas2(수업용)",
      "provenance": [],
      "collapsed_sections": [],
      "toc_visible": true
    },
    "kernelspec": {
      "name": "python3",
      "display_name": "Python 3"
    }
  },
  "cells": [
    {
      "cell_type": "markdown",
      "metadata": {
        "id": "WdsaGMi1gud5",
        "colab_type": "text"
      },
      "source": [
        "#판다스"
      ]
    },
    {
      "cell_type": "code",
      "metadata": {
        "id": "M2vpntkJg3hD",
        "colab_type": "code",
        "colab": {}
      },
      "source": [
        "import pandas as pd"
      ],
      "execution_count": 57,
      "outputs": []
    },
    {
      "cell_type": "code",
      "metadata": {
        "id": "QSucR-68hDgx",
        "colab_type": "code",
        "colab": {}
      },
      "source": [
        "#데이터프레임 - 2차원 \n",
        "df=pd.DataFrame({'날짜':['2000-01-01','2000-01-02','2000-01-03'],\n",
        "                 '지점':[108, 108, 108],\n",
        "                 '평균기온':[13.5, 16.2, 16.2],\n",
        "                 '최저기온':[7.9, 7.9, 13.1],       \n",
        "                 '최고기온':[20.7, 22, 21.3]})"
      ],
      "execution_count": 58,
      "outputs": []
    },
    {
      "cell_type": "code",
      "metadata": {
        "id": "qo2kbbnPArc1",
        "colab_type": "code",
        "colab": {
          "base_uri": "https://localhost:8080/",
          "height": 136
        },
        "outputId": "4036b67c-e03c-4ca4-d850-f972277be4b6"
      },
      "source": [
        "df"
      ],
      "execution_count": 3,
      "outputs": [
        {
          "output_type": "execute_result",
          "data": {
            "text/html": [
              "<div>\n",
              "<style scoped>\n",
              "    .dataframe tbody tr th:only-of-type {\n",
              "        vertical-align: middle;\n",
              "    }\n",
              "\n",
              "    .dataframe tbody tr th {\n",
              "        vertical-align: top;\n",
              "    }\n",
              "\n",
              "    .dataframe thead th {\n",
              "        text-align: right;\n",
              "    }\n",
              "</style>\n",
              "<table border=\"1\" class=\"dataframe\">\n",
              "  <thead>\n",
              "    <tr style=\"text-align: right;\">\n",
              "      <th></th>\n",
              "      <th>날짜</th>\n",
              "      <th>지점</th>\n",
              "      <th>평균기온</th>\n",
              "      <th>최저기온</th>\n",
              "      <th>최고기온</th>\n",
              "    </tr>\n",
              "  </thead>\n",
              "  <tbody>\n",
              "    <tr>\n",
              "      <th>0</th>\n",
              "      <td>2000-01-01</td>\n",
              "      <td>108</td>\n",
              "      <td>13.5</td>\n",
              "      <td>7.9</td>\n",
              "      <td>20.7</td>\n",
              "    </tr>\n",
              "    <tr>\n",
              "      <th>1</th>\n",
              "      <td>2000-01-02</td>\n",
              "      <td>108</td>\n",
              "      <td>16.2</td>\n",
              "      <td>7.9</td>\n",
              "      <td>22.0</td>\n",
              "    </tr>\n",
              "    <tr>\n",
              "      <th>2</th>\n",
              "      <td>2000-01-03</td>\n",
              "      <td>108</td>\n",
              "      <td>16.2</td>\n",
              "      <td>13.1</td>\n",
              "      <td>21.3</td>\n",
              "    </tr>\n",
              "  </tbody>\n",
              "</table>\n",
              "</div>"
            ],
            "text/plain": [
              "           날짜   지점  평균기온  최저기온  최고기온\n",
              "0  2000-01-01  108  13.5   7.9  20.7\n",
              "1  2000-01-02  108  16.2   7.9  22.0\n",
              "2  2000-01-03  108  16.2  13.1  21.3"
            ]
          },
          "metadata": {
            "tags": []
          },
          "execution_count": 3
        }
      ]
    },
    {
      "cell_type": "code",
      "metadata": {
        "id": "xetlY05dBKZn",
        "colab_type": "code",
        "colab": {}
      },
      "source": [
        "#데이터프레임 - 리스트, index, column 설정"
      ],
      "execution_count": 4,
      "outputs": []
    },
    {
      "cell_type": "code",
      "metadata": {
        "id": "ZdpAHf2kBM9k",
        "colab_type": "code",
        "colab": {
          "base_uri": "https://localhost:8080/",
          "height": 136
        },
        "outputId": "20488dea-169f-42e4-ce2e-6d928f722e91"
      },
      "source": [
        "import pandas as pd\n",
        "df = pd.DataFrame([[1,2,3],[4,5,6],[7,8,9]], index = ['a','b','c'], columns = ['c0','c1','c2'])\n",
        "df"
      ],
      "execution_count": 59,
      "outputs": [
        {
          "output_type": "execute_result",
          "data": {
            "text/html": [
              "<div>\n",
              "<style scoped>\n",
              "    .dataframe tbody tr th:only-of-type {\n",
              "        vertical-align: middle;\n",
              "    }\n",
              "\n",
              "    .dataframe tbody tr th {\n",
              "        vertical-align: top;\n",
              "    }\n",
              "\n",
              "    .dataframe thead th {\n",
              "        text-align: right;\n",
              "    }\n",
              "</style>\n",
              "<table border=\"1\" class=\"dataframe\">\n",
              "  <thead>\n",
              "    <tr style=\"text-align: right;\">\n",
              "      <th></th>\n",
              "      <th>c0</th>\n",
              "      <th>c1</th>\n",
              "      <th>c2</th>\n",
              "    </tr>\n",
              "  </thead>\n",
              "  <tbody>\n",
              "    <tr>\n",
              "      <th>a</th>\n",
              "      <td>1</td>\n",
              "      <td>2</td>\n",
              "      <td>3</td>\n",
              "    </tr>\n",
              "    <tr>\n",
              "      <th>b</th>\n",
              "      <td>4</td>\n",
              "      <td>5</td>\n",
              "      <td>6</td>\n",
              "    </tr>\n",
              "    <tr>\n",
              "      <th>c</th>\n",
              "      <td>7</td>\n",
              "      <td>8</td>\n",
              "      <td>9</td>\n",
              "    </tr>\n",
              "  </tbody>\n",
              "</table>\n",
              "</div>"
            ],
            "text/plain": [
              "   c0  c1  c2\n",
              "a   1   2   3\n",
              "b   4   5   6\n",
              "c   7   8   9"
            ]
          },
          "metadata": {
            "tags": []
          },
          "execution_count": 59
        }
      ]
    },
    {
      "cell_type": "code",
      "metadata": {
        "id": "3VdPuz_GBgpr",
        "colab_type": "code",
        "colab": {}
      },
      "source": [
        "#인덱스 확인하기"
      ],
      "execution_count": 18,
      "outputs": []
    },
    {
      "cell_type": "code",
      "metadata": {
        "id": "QG6JGy5rBi1l",
        "colab_type": "code",
        "colab": {
          "base_uri": "https://localhost:8080/",
          "height": 35
        },
        "outputId": "18cd2d4b-be70-4ade-97b5-c9ff3a787c3b"
      },
      "source": [
        "df.index"
      ],
      "execution_count": 19,
      "outputs": [
        {
          "output_type": "execute_result",
          "data": {
            "text/plain": [
              "Index(['a', 'b', 'c'], dtype='object')"
            ]
          },
          "metadata": {
            "tags": []
          },
          "execution_count": 19
        }
      ]
    },
    {
      "cell_type": "code",
      "metadata": {
        "id": "nT6ZfqlZBlU7",
        "colab_type": "code",
        "colab": {}
      },
      "source": [
        "#컬럼 확인하기"
      ],
      "execution_count": 8,
      "outputs": []
    },
    {
      "cell_type": "code",
      "metadata": {
        "id": "ovwTuJC7BnEW",
        "colab_type": "code",
        "colab": {
          "base_uri": "https://localhost:8080/",
          "height": 35
        },
        "outputId": "49042872-cda3-472a-9344-b5c210b13ff9"
      },
      "source": [
        "df.columns"
      ],
      "execution_count": 9,
      "outputs": [
        {
          "output_type": "execute_result",
          "data": {
            "text/plain": [
              "Index(['c0', 'c1', 'c2'], dtype='object')"
            ]
          },
          "metadata": {
            "tags": []
          },
          "execution_count": 9
        }
      ]
    },
    {
      "cell_type": "code",
      "metadata": {
        "id": "eotrYnSDBonP",
        "colab_type": "code",
        "colab": {}
      },
      "source": [
        "#행 인덱스 변경"
      ],
      "execution_count": 10,
      "outputs": []
    },
    {
      "cell_type": "code",
      "metadata": {
        "id": "SSnIJcFDBsQv",
        "colab_type": "code",
        "colab": {}
      },
      "source": [
        "df.index=['0번','1번','2번']\n",
        "df.columns=['n0','n1','n2']"
      ],
      "execution_count": 20,
      "outputs": []
    },
    {
      "cell_type": "code",
      "metadata": {
        "id": "AwbFlOYYhIjn",
        "colab_type": "code",
        "colab": {
          "base_uri": "https://localhost:8080/",
          "height": 136
        },
        "outputId": "0a1ed4bc-8cae-4148-93c8-29982de9bf54"
      },
      "source": [
        "df"
      ],
      "execution_count": 21,
      "outputs": [
        {
          "output_type": "execute_result",
          "data": {
            "text/html": [
              "<div>\n",
              "<style scoped>\n",
              "    .dataframe tbody tr th:only-of-type {\n",
              "        vertical-align: middle;\n",
              "    }\n",
              "\n",
              "    .dataframe tbody tr th {\n",
              "        vertical-align: top;\n",
              "    }\n",
              "\n",
              "    .dataframe thead th {\n",
              "        text-align: right;\n",
              "    }\n",
              "</style>\n",
              "<table border=\"1\" class=\"dataframe\">\n",
              "  <thead>\n",
              "    <tr style=\"text-align: right;\">\n",
              "      <th></th>\n",
              "      <th>n0</th>\n",
              "      <th>n1</th>\n",
              "      <th>n2</th>\n",
              "    </tr>\n",
              "  </thead>\n",
              "  <tbody>\n",
              "    <tr>\n",
              "      <th>0번</th>\n",
              "      <td>1</td>\n",
              "      <td>2</td>\n",
              "      <td>3</td>\n",
              "    </tr>\n",
              "    <tr>\n",
              "      <th>1번</th>\n",
              "      <td>4</td>\n",
              "      <td>5</td>\n",
              "      <td>6</td>\n",
              "    </tr>\n",
              "    <tr>\n",
              "      <th>2번</th>\n",
              "      <td>7</td>\n",
              "      <td>8</td>\n",
              "      <td>9</td>\n",
              "    </tr>\n",
              "  </tbody>\n",
              "</table>\n",
              "</div>"
            ],
            "text/plain": [
              "    n0  n1  n2\n",
              "0번   1   2   3\n",
              "1번   4   5   6\n",
              "2번   7   8   9"
            ]
          },
          "metadata": {
            "tags": []
          },
          "execution_count": 21
        }
      ]
    },
    {
      "cell_type": "code",
      "metadata": {
        "id": "x0iBttG-CQAi",
        "colab_type": "code",
        "colab": {}
      },
      "source": [
        "#행/열 삭제"
      ],
      "execution_count": 22,
      "outputs": []
    },
    {
      "cell_type": "code",
      "metadata": {
        "id": "AIOXwmkPCS3h",
        "colab_type": "code",
        "colab": {
          "base_uri": "https://localhost:8080/",
          "height": 106
        },
        "outputId": "738f8261-4fd6-4d02-bb8d-8264573ff295"
      },
      "source": [
        "df1=df.drop('0번',axis=0) #axis=0생략가능\n",
        "df1"
      ],
      "execution_count": 23,
      "outputs": [
        {
          "output_type": "execute_result",
          "data": {
            "text/html": [
              "<div>\n",
              "<style scoped>\n",
              "    .dataframe tbody tr th:only-of-type {\n",
              "        vertical-align: middle;\n",
              "    }\n",
              "\n",
              "    .dataframe tbody tr th {\n",
              "        vertical-align: top;\n",
              "    }\n",
              "\n",
              "    .dataframe thead th {\n",
              "        text-align: right;\n",
              "    }\n",
              "</style>\n",
              "<table border=\"1\" class=\"dataframe\">\n",
              "  <thead>\n",
              "    <tr style=\"text-align: right;\">\n",
              "      <th></th>\n",
              "      <th>n0</th>\n",
              "      <th>n1</th>\n",
              "      <th>n2</th>\n",
              "    </tr>\n",
              "  </thead>\n",
              "  <tbody>\n",
              "    <tr>\n",
              "      <th>1번</th>\n",
              "      <td>4</td>\n",
              "      <td>5</td>\n",
              "      <td>6</td>\n",
              "    </tr>\n",
              "    <tr>\n",
              "      <th>2번</th>\n",
              "      <td>7</td>\n",
              "      <td>8</td>\n",
              "      <td>9</td>\n",
              "    </tr>\n",
              "  </tbody>\n",
              "</table>\n",
              "</div>"
            ],
            "text/plain": [
              "    n0  n1  n2\n",
              "1번   4   5   6\n",
              "2번   7   8   9"
            ]
          },
          "metadata": {
            "tags": []
          },
          "execution_count": 23
        }
      ]
    },
    {
      "cell_type": "code",
      "metadata": {
        "id": "R-mnFLh3Chpf",
        "colab_type": "code",
        "colab": {
          "base_uri": "https://localhost:8080/",
          "height": 136
        },
        "outputId": "04483e0b-829b-46fe-f2ba-5f781c26672e"
      },
      "source": [
        "df2=df.drop('n0',axis=1) # 0은 세로 1은 세로를 삭제\n",
        "df2"
      ],
      "execution_count": 28,
      "outputs": [
        {
          "output_type": "execute_result",
          "data": {
            "text/html": [
              "<div>\n",
              "<style scoped>\n",
              "    .dataframe tbody tr th:only-of-type {\n",
              "        vertical-align: middle;\n",
              "    }\n",
              "\n",
              "    .dataframe tbody tr th {\n",
              "        vertical-align: top;\n",
              "    }\n",
              "\n",
              "    .dataframe thead th {\n",
              "        text-align: right;\n",
              "    }\n",
              "</style>\n",
              "<table border=\"1\" class=\"dataframe\">\n",
              "  <thead>\n",
              "    <tr style=\"text-align: right;\">\n",
              "      <th></th>\n",
              "      <th>n1</th>\n",
              "      <th>n2</th>\n",
              "    </tr>\n",
              "  </thead>\n",
              "  <tbody>\n",
              "    <tr>\n",
              "      <th>0번</th>\n",
              "      <td>2</td>\n",
              "      <td>3</td>\n",
              "    </tr>\n",
              "    <tr>\n",
              "      <th>1번</th>\n",
              "      <td>5</td>\n",
              "      <td>6</td>\n",
              "    </tr>\n",
              "    <tr>\n",
              "      <th>2번</th>\n",
              "      <td>8</td>\n",
              "      <td>9</td>\n",
              "    </tr>\n",
              "  </tbody>\n",
              "</table>\n",
              "</div>"
            ],
            "text/plain": [
              "    n1  n2\n",
              "0번   2   3\n",
              "1번   5   6\n",
              "2번   8   9"
            ]
          },
          "metadata": {
            "tags": []
          },
          "execution_count": 28
        }
      ]
    },
    {
      "cell_type": "code",
      "metadata": {
        "id": "kQDwlWf1CrJK",
        "colab_type": "code",
        "colab": {
          "base_uri": "https://localhost:8080/",
          "height": 77
        },
        "outputId": "68ebcb1d-1515-4151-e26d-989c25011fb7"
      },
      "source": [
        "df3=df.drop(['0번','2번'],axis=0) #axis=0생략가능\n",
        "df3"
      ],
      "execution_count": 26,
      "outputs": [
        {
          "output_type": "execute_result",
          "data": {
            "text/html": [
              "<div>\n",
              "<style scoped>\n",
              "    .dataframe tbody tr th:only-of-type {\n",
              "        vertical-align: middle;\n",
              "    }\n",
              "\n",
              "    .dataframe tbody tr th {\n",
              "        vertical-align: top;\n",
              "    }\n",
              "\n",
              "    .dataframe thead th {\n",
              "        text-align: right;\n",
              "    }\n",
              "</style>\n",
              "<table border=\"1\" class=\"dataframe\">\n",
              "  <thead>\n",
              "    <tr style=\"text-align: right;\">\n",
              "      <th></th>\n",
              "      <th>n0</th>\n",
              "      <th>n1</th>\n",
              "      <th>n2</th>\n",
              "    </tr>\n",
              "  </thead>\n",
              "  <tbody>\n",
              "    <tr>\n",
              "      <th>1번</th>\n",
              "      <td>4</td>\n",
              "      <td>5</td>\n",
              "      <td>6</td>\n",
              "    </tr>\n",
              "  </tbody>\n",
              "</table>\n",
              "</div>"
            ],
            "text/plain": [
              "    n0  n1  n2\n",
              "1번   4   5   6"
            ]
          },
          "metadata": {
            "tags": []
          },
          "execution_count": 26
        }
      ]
    },
    {
      "cell_type": "code",
      "metadata": {
        "id": "6zjJ_OatCuoH",
        "colab_type": "code",
        "colab": {
          "base_uri": "https://localhost:8080/",
          "height": 136
        },
        "outputId": "6a3623c5-d15b-42ac-e5e5-96dad2b7330a"
      },
      "source": [
        "df4=df.drop(['n0','n2'],axis=1)\n",
        "df4"
      ],
      "execution_count": 29,
      "outputs": [
        {
          "output_type": "execute_result",
          "data": {
            "text/html": [
              "<div>\n",
              "<style scoped>\n",
              "    .dataframe tbody tr th:only-of-type {\n",
              "        vertical-align: middle;\n",
              "    }\n",
              "\n",
              "    .dataframe tbody tr th {\n",
              "        vertical-align: top;\n",
              "    }\n",
              "\n",
              "    .dataframe thead th {\n",
              "        text-align: right;\n",
              "    }\n",
              "</style>\n",
              "<table border=\"1\" class=\"dataframe\">\n",
              "  <thead>\n",
              "    <tr style=\"text-align: right;\">\n",
              "      <th></th>\n",
              "      <th>n1</th>\n",
              "    </tr>\n",
              "  </thead>\n",
              "  <tbody>\n",
              "    <tr>\n",
              "      <th>0번</th>\n",
              "      <td>2</td>\n",
              "    </tr>\n",
              "    <tr>\n",
              "      <th>1번</th>\n",
              "      <td>5</td>\n",
              "    </tr>\n",
              "    <tr>\n",
              "      <th>2번</th>\n",
              "      <td>8</td>\n",
              "    </tr>\n",
              "  </tbody>\n",
              "</table>\n",
              "</div>"
            ],
            "text/plain": [
              "    n1\n",
              "0번   2\n",
              "1번   5\n",
              "2번   8"
            ]
          },
          "metadata": {
            "tags": []
          },
          "execution_count": 29
        }
      ]
    },
    {
      "cell_type": "code",
      "metadata": {
        "id": "I99jWhGxDEFs",
        "colab_type": "code",
        "colab": {}
      },
      "source": [
        "#기존의 값을 변경할 때, 원본 데이터를 수정하는 inplace = True 옵션을 사용하여 변경\n",
        "#기존 데이터는 두고, 새로운 데이터에 저장할 때에는 명령어 앞에 df1= 처럼 원하는 이름으로 새로운 객체를 만듦"
      ],
      "execution_count": null,
      "outputs": []
    },
    {
      "cell_type": "code",
      "metadata": {
        "id": "KjRzE0gbC2Yo",
        "colab_type": "code",
        "colab": {}
      },
      "source": [
        "df.drop(['n0','n2'],axis=1, inplace = True)\n",
        "df"
      ],
      "execution_count": null,
      "outputs": []
    },
    {
      "cell_type": "code",
      "metadata": {
        "id": "o6zM9OF2EJh2",
        "colab_type": "code",
        "colab": {}
      },
      "source": [
        "#df 변경하기!"
      ],
      "execution_count": null,
      "outputs": []
    },
    {
      "cell_type": "code",
      "metadata": {
        "id": "gRkq-yHkDBS7",
        "colab_type": "code",
        "colab": {
          "base_uri": "https://localhost:8080/",
          "height": 136
        },
        "outputId": "8fe2844a-3f8c-4b74-893e-dfaae0e84631"
      },
      "source": [
        "import pandas as pd\n",
        "exam_data={'수학':[90,80,70],'영어':[98,85,95],'음악':[85,95,100],'체육':[100,90,90]}\n",
        "df = pd.DataFrame(exam_data, index = ['서준','우현','인아'])\n",
        "df"
      ],
      "execution_count": 80,
      "outputs": [
        {
          "output_type": "execute_result",
          "data": {
            "text/html": [
              "<div>\n",
              "<style scoped>\n",
              "    .dataframe tbody tr th:only-of-type {\n",
              "        vertical-align: middle;\n",
              "    }\n",
              "\n",
              "    .dataframe tbody tr th {\n",
              "        vertical-align: top;\n",
              "    }\n",
              "\n",
              "    .dataframe thead th {\n",
              "        text-align: right;\n",
              "    }\n",
              "</style>\n",
              "<table border=\"1\" class=\"dataframe\">\n",
              "  <thead>\n",
              "    <tr style=\"text-align: right;\">\n",
              "      <th></th>\n",
              "      <th>수학</th>\n",
              "      <th>영어</th>\n",
              "      <th>음악</th>\n",
              "      <th>체육</th>\n",
              "    </tr>\n",
              "  </thead>\n",
              "  <tbody>\n",
              "    <tr>\n",
              "      <th>서준</th>\n",
              "      <td>90</td>\n",
              "      <td>98</td>\n",
              "      <td>85</td>\n",
              "      <td>100</td>\n",
              "    </tr>\n",
              "    <tr>\n",
              "      <th>우현</th>\n",
              "      <td>80</td>\n",
              "      <td>85</td>\n",
              "      <td>95</td>\n",
              "      <td>90</td>\n",
              "    </tr>\n",
              "    <tr>\n",
              "      <th>인아</th>\n",
              "      <td>70</td>\n",
              "      <td>95</td>\n",
              "      <td>100</td>\n",
              "      <td>90</td>\n",
              "    </tr>\n",
              "  </tbody>\n",
              "</table>\n",
              "</div>"
            ],
            "text/plain": [
              "    수학  영어   음악   체육\n",
              "서준  90  98   85  100\n",
              "우현  80  85   95   90\n",
              "인아  70  95  100   90"
            ]
          },
          "metadata": {
            "tags": []
          },
          "execution_count": 80
        }
      ]
    },
    {
      "cell_type": "code",
      "metadata": {
        "id": "UcP2oLvHJLJe",
        "colab_type": "code",
        "colab": {}
      },
      "source": [
        "#column 추가하기"
      ],
      "execution_count": 81,
      "outputs": []
    },
    {
      "cell_type": "code",
      "metadata": {
        "id": "S7WqTkixFO79",
        "colab_type": "code",
        "colab": {
          "base_uri": "https://localhost:8080/",
          "height": 136
        },
        "outputId": "00c1590e-f2da-4854-cdc1-154faa8343b7"
      },
      "source": [
        "df['국어']= 80\n",
        "df"
      ],
      "execution_count": 82,
      "outputs": [
        {
          "output_type": "execute_result",
          "data": {
            "text/html": [
              "<div>\n",
              "<style scoped>\n",
              "    .dataframe tbody tr th:only-of-type {\n",
              "        vertical-align: middle;\n",
              "    }\n",
              "\n",
              "    .dataframe tbody tr th {\n",
              "        vertical-align: top;\n",
              "    }\n",
              "\n",
              "    .dataframe thead th {\n",
              "        text-align: right;\n",
              "    }\n",
              "</style>\n",
              "<table border=\"1\" class=\"dataframe\">\n",
              "  <thead>\n",
              "    <tr style=\"text-align: right;\">\n",
              "      <th></th>\n",
              "      <th>수학</th>\n",
              "      <th>영어</th>\n",
              "      <th>음악</th>\n",
              "      <th>체육</th>\n",
              "      <th>국어</th>\n",
              "    </tr>\n",
              "  </thead>\n",
              "  <tbody>\n",
              "    <tr>\n",
              "      <th>서준</th>\n",
              "      <td>90</td>\n",
              "      <td>98</td>\n",
              "      <td>85</td>\n",
              "      <td>100</td>\n",
              "      <td>80</td>\n",
              "    </tr>\n",
              "    <tr>\n",
              "      <th>우현</th>\n",
              "      <td>80</td>\n",
              "      <td>85</td>\n",
              "      <td>95</td>\n",
              "      <td>90</td>\n",
              "      <td>80</td>\n",
              "    </tr>\n",
              "    <tr>\n",
              "      <th>인아</th>\n",
              "      <td>70</td>\n",
              "      <td>95</td>\n",
              "      <td>100</td>\n",
              "      <td>90</td>\n",
              "      <td>80</td>\n",
              "    </tr>\n",
              "  </tbody>\n",
              "</table>\n",
              "</div>"
            ],
            "text/plain": [
              "    수학  영어   음악   체육  국어\n",
              "서준  90  98   85  100  80\n",
              "우현  80  85   95   90  80\n",
              "인아  70  95  100   90  80"
            ]
          },
          "metadata": {
            "tags": []
          },
          "execution_count": 82
        }
      ]
    },
    {
      "cell_type": "code",
      "metadata": {
        "id": "V5ihTOjbFiL2",
        "colab_type": "code",
        "colab": {}
      },
      "source": [
        "#column값 변경하기"
      ],
      "execution_count": 83,
      "outputs": []
    },
    {
      "cell_type": "code",
      "metadata": {
        "id": "YneqRhISFV-Q",
        "colab_type": "code",
        "colab": {
          "base_uri": "https://localhost:8080/",
          "height": 136
        },
        "outputId": "e608fe85-6c95-409c-cda1-9c712353ee32"
      },
      "source": [
        "df['국어']=[100,100,80]\n",
        "df"
      ],
      "execution_count": 84,
      "outputs": [
        {
          "output_type": "execute_result",
          "data": {
            "text/html": [
              "<div>\n",
              "<style scoped>\n",
              "    .dataframe tbody tr th:only-of-type {\n",
              "        vertical-align: middle;\n",
              "    }\n",
              "\n",
              "    .dataframe tbody tr th {\n",
              "        vertical-align: top;\n",
              "    }\n",
              "\n",
              "    .dataframe thead th {\n",
              "        text-align: right;\n",
              "    }\n",
              "</style>\n",
              "<table border=\"1\" class=\"dataframe\">\n",
              "  <thead>\n",
              "    <tr style=\"text-align: right;\">\n",
              "      <th></th>\n",
              "      <th>수학</th>\n",
              "      <th>영어</th>\n",
              "      <th>음악</th>\n",
              "      <th>체육</th>\n",
              "      <th>국어</th>\n",
              "    </tr>\n",
              "  </thead>\n",
              "  <tbody>\n",
              "    <tr>\n",
              "      <th>서준</th>\n",
              "      <td>90</td>\n",
              "      <td>98</td>\n",
              "      <td>85</td>\n",
              "      <td>100</td>\n",
              "      <td>100</td>\n",
              "    </tr>\n",
              "    <tr>\n",
              "      <th>우현</th>\n",
              "      <td>80</td>\n",
              "      <td>85</td>\n",
              "      <td>95</td>\n",
              "      <td>90</td>\n",
              "      <td>100</td>\n",
              "    </tr>\n",
              "    <tr>\n",
              "      <th>인아</th>\n",
              "      <td>70</td>\n",
              "      <td>95</td>\n",
              "      <td>100</td>\n",
              "      <td>90</td>\n",
              "      <td>80</td>\n",
              "    </tr>\n",
              "  </tbody>\n",
              "</table>\n",
              "</div>"
            ],
            "text/plain": [
              "    수학  영어   음악   체육   국어\n",
              "서준  90  98   85  100  100\n",
              "우현  80  85   95   90  100\n",
              "인아  70  95  100   90   80"
            ]
          },
          "metadata": {
            "tags": []
          },
          "execution_count": 84
        }
      ]
    },
    {
      "cell_type": "code",
      "metadata": {
        "id": "jaY69DVqFnhh",
        "colab_type": "code",
        "colab": {}
      },
      "source": [
        "#행 추가하기"
      ],
      "execution_count": 85,
      "outputs": []
    },
    {
      "cell_type": "code",
      "metadata": {
        "id": "B2d2LfyXFptV",
        "colab_type": "code",
        "colab": {
          "base_uri": "https://localhost:8080/",
          "height": 166
        },
        "outputId": "216ee389-88e0-4990-ba2b-241979c5cd8a"
      },
      "source": [
        "df.loc['수민']= 80\n",
        "df"
      ],
      "execution_count": 86,
      "outputs": [
        {
          "output_type": "execute_result",
          "data": {
            "text/html": [
              "<div>\n",
              "<style scoped>\n",
              "    .dataframe tbody tr th:only-of-type {\n",
              "        vertical-align: middle;\n",
              "    }\n",
              "\n",
              "    .dataframe tbody tr th {\n",
              "        vertical-align: top;\n",
              "    }\n",
              "\n",
              "    .dataframe thead th {\n",
              "        text-align: right;\n",
              "    }\n",
              "</style>\n",
              "<table border=\"1\" class=\"dataframe\">\n",
              "  <thead>\n",
              "    <tr style=\"text-align: right;\">\n",
              "      <th></th>\n",
              "      <th>수학</th>\n",
              "      <th>영어</th>\n",
              "      <th>음악</th>\n",
              "      <th>체육</th>\n",
              "      <th>국어</th>\n",
              "    </tr>\n",
              "  </thead>\n",
              "  <tbody>\n",
              "    <tr>\n",
              "      <th>서준</th>\n",
              "      <td>90</td>\n",
              "      <td>98</td>\n",
              "      <td>85</td>\n",
              "      <td>100</td>\n",
              "      <td>100</td>\n",
              "    </tr>\n",
              "    <tr>\n",
              "      <th>우현</th>\n",
              "      <td>80</td>\n",
              "      <td>85</td>\n",
              "      <td>95</td>\n",
              "      <td>90</td>\n",
              "      <td>100</td>\n",
              "    </tr>\n",
              "    <tr>\n",
              "      <th>인아</th>\n",
              "      <td>70</td>\n",
              "      <td>95</td>\n",
              "      <td>100</td>\n",
              "      <td>90</td>\n",
              "      <td>80</td>\n",
              "    </tr>\n",
              "    <tr>\n",
              "      <th>수민</th>\n",
              "      <td>80</td>\n",
              "      <td>80</td>\n",
              "      <td>80</td>\n",
              "      <td>80</td>\n",
              "      <td>80</td>\n",
              "    </tr>\n",
              "  </tbody>\n",
              "</table>\n",
              "</div>"
            ],
            "text/plain": [
              "    수학  영어   음악   체육   국어\n",
              "서준  90  98   85  100  100\n",
              "우현  80  85   95   90  100\n",
              "인아  70  95  100   90   80\n",
              "수민  80  80   80   80   80"
            ]
          },
          "metadata": {
            "tags": []
          },
          "execution_count": 86
        }
      ]
    },
    {
      "cell_type": "code",
      "metadata": {
        "id": "JxmVMUdoF6yW",
        "colab_type": "code",
        "colab": {}
      },
      "source": [
        "#행 변경하기"
      ],
      "execution_count": 87,
      "outputs": []
    },
    {
      "cell_type": "code",
      "metadata": {
        "id": "Zv0m5xlwFt0x",
        "colab_type": "code",
        "colab": {
          "base_uri": "https://localhost:8080/",
          "height": 166
        },
        "outputId": "1a3c1340-0090-4589-d301-3b69c147c6f4"
      },
      "source": [
        "df.loc['수민']=[80,70,90,100,10]\n",
        "df"
      ],
      "execution_count": 88,
      "outputs": [
        {
          "output_type": "execute_result",
          "data": {
            "text/html": [
              "<div>\n",
              "<style scoped>\n",
              "    .dataframe tbody tr th:only-of-type {\n",
              "        vertical-align: middle;\n",
              "    }\n",
              "\n",
              "    .dataframe tbody tr th {\n",
              "        vertical-align: top;\n",
              "    }\n",
              "\n",
              "    .dataframe thead th {\n",
              "        text-align: right;\n",
              "    }\n",
              "</style>\n",
              "<table border=\"1\" class=\"dataframe\">\n",
              "  <thead>\n",
              "    <tr style=\"text-align: right;\">\n",
              "      <th></th>\n",
              "      <th>수학</th>\n",
              "      <th>영어</th>\n",
              "      <th>음악</th>\n",
              "      <th>체육</th>\n",
              "      <th>국어</th>\n",
              "    </tr>\n",
              "  </thead>\n",
              "  <tbody>\n",
              "    <tr>\n",
              "      <th>서준</th>\n",
              "      <td>90</td>\n",
              "      <td>98</td>\n",
              "      <td>85</td>\n",
              "      <td>100</td>\n",
              "      <td>100</td>\n",
              "    </tr>\n",
              "    <tr>\n",
              "      <th>우현</th>\n",
              "      <td>80</td>\n",
              "      <td>85</td>\n",
              "      <td>95</td>\n",
              "      <td>90</td>\n",
              "      <td>100</td>\n",
              "    </tr>\n",
              "    <tr>\n",
              "      <th>인아</th>\n",
              "      <td>70</td>\n",
              "      <td>95</td>\n",
              "      <td>100</td>\n",
              "      <td>90</td>\n",
              "      <td>80</td>\n",
              "    </tr>\n",
              "    <tr>\n",
              "      <th>수민</th>\n",
              "      <td>80</td>\n",
              "      <td>70</td>\n",
              "      <td>90</td>\n",
              "      <td>100</td>\n",
              "      <td>10</td>\n",
              "    </tr>\n",
              "  </tbody>\n",
              "</table>\n",
              "</div>"
            ],
            "text/plain": [
              "    수학  영어   음악   체육   국어\n",
              "서준  90  98   85  100  100\n",
              "우현  80  85   95   90  100\n",
              "인아  70  95  100   90   80\n",
              "수민  80  70   90  100   10"
            ]
          },
          "metadata": {
            "tags": []
          },
          "execution_count": 88
        }
      ]
    },
    {
      "cell_type": "code",
      "metadata": {
        "id": "VXiHklBwF9GU",
        "colab_type": "code",
        "colab": {}
      },
      "source": [
        "#원소 값 변경"
      ],
      "execution_count": 89,
      "outputs": []
    },
    {
      "cell_type": "code",
      "metadata": {
        "id": "dfE2xwmBF-o0",
        "colab_type": "code",
        "colab": {
          "base_uri": "https://localhost:8080/",
          "height": 166
        },
        "outputId": "f39e29c1-b825-427f-d10a-aef203b13267"
      },
      "source": [
        "df.loc['서준','영어']=1\n",
        "df"
      ],
      "execution_count": 90,
      "outputs": [
        {
          "output_type": "execute_result",
          "data": {
            "text/html": [
              "<div>\n",
              "<style scoped>\n",
              "    .dataframe tbody tr th:only-of-type {\n",
              "        vertical-align: middle;\n",
              "    }\n",
              "\n",
              "    .dataframe tbody tr th {\n",
              "        vertical-align: top;\n",
              "    }\n",
              "\n",
              "    .dataframe thead th {\n",
              "        text-align: right;\n",
              "    }\n",
              "</style>\n",
              "<table border=\"1\" class=\"dataframe\">\n",
              "  <thead>\n",
              "    <tr style=\"text-align: right;\">\n",
              "      <th></th>\n",
              "      <th>수학</th>\n",
              "      <th>영어</th>\n",
              "      <th>음악</th>\n",
              "      <th>체육</th>\n",
              "      <th>국어</th>\n",
              "    </tr>\n",
              "  </thead>\n",
              "  <tbody>\n",
              "    <tr>\n",
              "      <th>서준</th>\n",
              "      <td>90</td>\n",
              "      <td>1</td>\n",
              "      <td>85</td>\n",
              "      <td>100</td>\n",
              "      <td>100</td>\n",
              "    </tr>\n",
              "    <tr>\n",
              "      <th>우현</th>\n",
              "      <td>80</td>\n",
              "      <td>85</td>\n",
              "      <td>95</td>\n",
              "      <td>90</td>\n",
              "      <td>100</td>\n",
              "    </tr>\n",
              "    <tr>\n",
              "      <th>인아</th>\n",
              "      <td>70</td>\n",
              "      <td>95</td>\n",
              "      <td>100</td>\n",
              "      <td>90</td>\n",
              "      <td>80</td>\n",
              "    </tr>\n",
              "    <tr>\n",
              "      <th>수민</th>\n",
              "      <td>80</td>\n",
              "      <td>70</td>\n",
              "      <td>90</td>\n",
              "      <td>100</td>\n",
              "      <td>10</td>\n",
              "    </tr>\n",
              "  </tbody>\n",
              "</table>\n",
              "</div>"
            ],
            "text/plain": [
              "    수학  영어   음악   체육   국어\n",
              "서준  90   1   85  100  100\n",
              "우현  80  85   95   90  100\n",
              "인아  70  95  100   90   80\n",
              "수민  80  70   90  100   10"
            ]
          },
          "metadata": {
            "tags": []
          },
          "execution_count": 90
        }
      ]
    },
    {
      "cell_type": "code",
      "metadata": {
        "id": "VMNNUdw9GVtK",
        "colab_type": "code",
        "colab": {}
      },
      "source": [
        "#행,열 위치 바꾸기(전치)"
      ],
      "execution_count": 91,
      "outputs": []
    },
    {
      "cell_type": "code",
      "metadata": {
        "id": "NUtDta4FGEfV",
        "colab_type": "code",
        "colab": {}
      },
      "source": [
        "df=df.T"
      ],
      "execution_count": 92,
      "outputs": []
    },
    {
      "cell_type": "code",
      "metadata": {
        "id": "yzkFe_7zGPMy",
        "colab_type": "code",
        "colab": {
          "base_uri": "https://localhost:8080/",
          "height": 195
        },
        "outputId": "54fbb84b-470b-49fe-ad15-852ef2cfe5ce"
      },
      "source": [
        "df"
      ],
      "execution_count": 93,
      "outputs": [
        {
          "output_type": "execute_result",
          "data": {
            "text/html": [
              "<div>\n",
              "<style scoped>\n",
              "    .dataframe tbody tr th:only-of-type {\n",
              "        vertical-align: middle;\n",
              "    }\n",
              "\n",
              "    .dataframe tbody tr th {\n",
              "        vertical-align: top;\n",
              "    }\n",
              "\n",
              "    .dataframe thead th {\n",
              "        text-align: right;\n",
              "    }\n",
              "</style>\n",
              "<table border=\"1\" class=\"dataframe\">\n",
              "  <thead>\n",
              "    <tr style=\"text-align: right;\">\n",
              "      <th></th>\n",
              "      <th>서준</th>\n",
              "      <th>우현</th>\n",
              "      <th>인아</th>\n",
              "      <th>수민</th>\n",
              "    </tr>\n",
              "  </thead>\n",
              "  <tbody>\n",
              "    <tr>\n",
              "      <th>수학</th>\n",
              "      <td>90</td>\n",
              "      <td>80</td>\n",
              "      <td>70</td>\n",
              "      <td>80</td>\n",
              "    </tr>\n",
              "    <tr>\n",
              "      <th>영어</th>\n",
              "      <td>1</td>\n",
              "      <td>85</td>\n",
              "      <td>95</td>\n",
              "      <td>70</td>\n",
              "    </tr>\n",
              "    <tr>\n",
              "      <th>음악</th>\n",
              "      <td>85</td>\n",
              "      <td>95</td>\n",
              "      <td>100</td>\n",
              "      <td>90</td>\n",
              "    </tr>\n",
              "    <tr>\n",
              "      <th>체육</th>\n",
              "      <td>100</td>\n",
              "      <td>90</td>\n",
              "      <td>90</td>\n",
              "      <td>100</td>\n",
              "    </tr>\n",
              "    <tr>\n",
              "      <th>국어</th>\n",
              "      <td>100</td>\n",
              "      <td>100</td>\n",
              "      <td>80</td>\n",
              "      <td>10</td>\n",
              "    </tr>\n",
              "  </tbody>\n",
              "</table>\n",
              "</div>"
            ],
            "text/plain": [
              "     서준   우현   인아   수민\n",
              "수학   90   80   70   80\n",
              "영어    1   85   95   70\n",
              "음악   85   95  100   90\n",
              "체육  100   90   90  100\n",
              "국어  100  100   80   10"
            ]
          },
          "metadata": {
            "tags": []
          },
          "execution_count": 93
        }
      ]
    },
    {
      "cell_type": "code",
      "metadata": {
        "id": "DX9LyLjLGkKM",
        "colab_type": "code",
        "colab": {}
      },
      "source": [
        "#제자리로\n",
        "df=df.T"
      ],
      "execution_count": 94,
      "outputs": []
    },
    {
      "cell_type": "code",
      "metadata": {
        "id": "hRCRCNc8Bg_n",
        "colab_type": "code",
        "colab": {
          "base_uri": "https://localhost:8080/",
          "height": 166
        },
        "outputId": "080a2dc5-634e-4941-fb9c-3066d695cb6c"
      },
      "source": [
        "df"
      ],
      "execution_count": 95,
      "outputs": [
        {
          "output_type": "execute_result",
          "data": {
            "text/html": [
              "<div>\n",
              "<style scoped>\n",
              "    .dataframe tbody tr th:only-of-type {\n",
              "        vertical-align: middle;\n",
              "    }\n",
              "\n",
              "    .dataframe tbody tr th {\n",
              "        vertical-align: top;\n",
              "    }\n",
              "\n",
              "    .dataframe thead th {\n",
              "        text-align: right;\n",
              "    }\n",
              "</style>\n",
              "<table border=\"1\" class=\"dataframe\">\n",
              "  <thead>\n",
              "    <tr style=\"text-align: right;\">\n",
              "      <th></th>\n",
              "      <th>수학</th>\n",
              "      <th>영어</th>\n",
              "      <th>음악</th>\n",
              "      <th>체육</th>\n",
              "      <th>국어</th>\n",
              "    </tr>\n",
              "  </thead>\n",
              "  <tbody>\n",
              "    <tr>\n",
              "      <th>서준</th>\n",
              "      <td>90</td>\n",
              "      <td>1</td>\n",
              "      <td>85</td>\n",
              "      <td>100</td>\n",
              "      <td>100</td>\n",
              "    </tr>\n",
              "    <tr>\n",
              "      <th>우현</th>\n",
              "      <td>80</td>\n",
              "      <td>85</td>\n",
              "      <td>95</td>\n",
              "      <td>90</td>\n",
              "      <td>100</td>\n",
              "    </tr>\n",
              "    <tr>\n",
              "      <th>인아</th>\n",
              "      <td>70</td>\n",
              "      <td>95</td>\n",
              "      <td>100</td>\n",
              "      <td>90</td>\n",
              "      <td>80</td>\n",
              "    </tr>\n",
              "    <tr>\n",
              "      <th>수민</th>\n",
              "      <td>80</td>\n",
              "      <td>70</td>\n",
              "      <td>90</td>\n",
              "      <td>100</td>\n",
              "      <td>10</td>\n",
              "    </tr>\n",
              "  </tbody>\n",
              "</table>\n",
              "</div>"
            ],
            "text/plain": [
              "    수학  영어   음악   체육   국어\n",
              "서준  90   1   85  100  100\n",
              "우현  80  85   95   90  100\n",
              "인아  70  95  100   90   80\n",
              "수민  80  70   90  100   10"
            ]
          },
          "metadata": {
            "tags": []
          },
          "execution_count": 95
        }
      ]
    },
    {
      "cell_type": "code",
      "metadata": {
        "id": "JNoFez7gGaMz",
        "colab_type": "code",
        "colab": {}
      },
      "source": [
        "#인덱스 기준 정렬"
      ],
      "execution_count": 96,
      "outputs": []
    },
    {
      "cell_type": "code",
      "metadata": {
        "id": "3osm68SXGujj",
        "colab_type": "code",
        "colab": {
          "base_uri": "https://localhost:8080/",
          "height": 166
        },
        "outputId": "35bcf606-2217-4eca-d46c-2ebcc9125516"
      },
      "source": [
        "df1=df.sort_index()\n",
        "df1"
      ],
      "execution_count": 97,
      "outputs": [
        {
          "output_type": "execute_result",
          "data": {
            "text/html": [
              "<div>\n",
              "<style scoped>\n",
              "    .dataframe tbody tr th:only-of-type {\n",
              "        vertical-align: middle;\n",
              "    }\n",
              "\n",
              "    .dataframe tbody tr th {\n",
              "        vertical-align: top;\n",
              "    }\n",
              "\n",
              "    .dataframe thead th {\n",
              "        text-align: right;\n",
              "    }\n",
              "</style>\n",
              "<table border=\"1\" class=\"dataframe\">\n",
              "  <thead>\n",
              "    <tr style=\"text-align: right;\">\n",
              "      <th></th>\n",
              "      <th>수학</th>\n",
              "      <th>영어</th>\n",
              "      <th>음악</th>\n",
              "      <th>체육</th>\n",
              "      <th>국어</th>\n",
              "    </tr>\n",
              "  </thead>\n",
              "  <tbody>\n",
              "    <tr>\n",
              "      <th>서준</th>\n",
              "      <td>90</td>\n",
              "      <td>1</td>\n",
              "      <td>85</td>\n",
              "      <td>100</td>\n",
              "      <td>100</td>\n",
              "    </tr>\n",
              "    <tr>\n",
              "      <th>수민</th>\n",
              "      <td>80</td>\n",
              "      <td>70</td>\n",
              "      <td>90</td>\n",
              "      <td>100</td>\n",
              "      <td>10</td>\n",
              "    </tr>\n",
              "    <tr>\n",
              "      <th>우현</th>\n",
              "      <td>80</td>\n",
              "      <td>85</td>\n",
              "      <td>95</td>\n",
              "      <td>90</td>\n",
              "      <td>100</td>\n",
              "    </tr>\n",
              "    <tr>\n",
              "      <th>인아</th>\n",
              "      <td>70</td>\n",
              "      <td>95</td>\n",
              "      <td>100</td>\n",
              "      <td>90</td>\n",
              "      <td>80</td>\n",
              "    </tr>\n",
              "  </tbody>\n",
              "</table>\n",
              "</div>"
            ],
            "text/plain": [
              "    수학  영어   음악   체육   국어\n",
              "서준  90   1   85  100  100\n",
              "수민  80  70   90  100   10\n",
              "우현  80  85   95   90  100\n",
              "인아  70  95  100   90   80"
            ]
          },
          "metadata": {
            "tags": []
          },
          "execution_count": 97
        }
      ]
    },
    {
      "cell_type": "code",
      "metadata": {
        "id": "oiAS0jc1HDV7",
        "colab_type": "code",
        "colab": {}
      },
      "source": [
        "#특정 열 기준 정렬"
      ],
      "execution_count": 98,
      "outputs": []
    },
    {
      "cell_type": "code",
      "metadata": {
        "id": "u9oAWgC0G7KX",
        "colab_type": "code",
        "colab": {
          "base_uri": "https://localhost:8080/",
          "height": 166
        },
        "outputId": "1af45d36-496f-4497-c0ba-cf2f7fa1cd36"
      },
      "source": [
        "df2=df.sort_values(by='영어',ascending=True) #ascending : 오름차순 속성\n",
        "df2"
      ],
      "execution_count": 99,
      "outputs": [
        {
          "output_type": "execute_result",
          "data": {
            "text/html": [
              "<div>\n",
              "<style scoped>\n",
              "    .dataframe tbody tr th:only-of-type {\n",
              "        vertical-align: middle;\n",
              "    }\n",
              "\n",
              "    .dataframe tbody tr th {\n",
              "        vertical-align: top;\n",
              "    }\n",
              "\n",
              "    .dataframe thead th {\n",
              "        text-align: right;\n",
              "    }\n",
              "</style>\n",
              "<table border=\"1\" class=\"dataframe\">\n",
              "  <thead>\n",
              "    <tr style=\"text-align: right;\">\n",
              "      <th></th>\n",
              "      <th>수학</th>\n",
              "      <th>영어</th>\n",
              "      <th>음악</th>\n",
              "      <th>체육</th>\n",
              "      <th>국어</th>\n",
              "    </tr>\n",
              "  </thead>\n",
              "  <tbody>\n",
              "    <tr>\n",
              "      <th>서준</th>\n",
              "      <td>90</td>\n",
              "      <td>1</td>\n",
              "      <td>85</td>\n",
              "      <td>100</td>\n",
              "      <td>100</td>\n",
              "    </tr>\n",
              "    <tr>\n",
              "      <th>수민</th>\n",
              "      <td>80</td>\n",
              "      <td>70</td>\n",
              "      <td>90</td>\n",
              "      <td>100</td>\n",
              "      <td>10</td>\n",
              "    </tr>\n",
              "    <tr>\n",
              "      <th>우현</th>\n",
              "      <td>80</td>\n",
              "      <td>85</td>\n",
              "      <td>95</td>\n",
              "      <td>90</td>\n",
              "      <td>100</td>\n",
              "    </tr>\n",
              "    <tr>\n",
              "      <th>인아</th>\n",
              "      <td>70</td>\n",
              "      <td>95</td>\n",
              "      <td>100</td>\n",
              "      <td>90</td>\n",
              "      <td>80</td>\n",
              "    </tr>\n",
              "  </tbody>\n",
              "</table>\n",
              "</div>"
            ],
            "text/plain": [
              "    수학  영어   음악   체육   국어\n",
              "서준  90   1   85  100  100\n",
              "수민  80  70   90  100   10\n",
              "우현  80  85   95   90  100\n",
              "인아  70  95  100   90   80"
            ]
          },
          "metadata": {
            "tags": []
          },
          "execution_count": 99
        }
      ]
    },
    {
      "cell_type": "code",
      "metadata": {
        "id": "_gYkfSvpHMRX",
        "colab_type": "code",
        "colab": {}
      },
      "source": [
        "#df의 평균값 구하기"
      ],
      "execution_count": 100,
      "outputs": []
    },
    {
      "cell_type": "code",
      "metadata": {
        "id": "qU27_KfQHKfd",
        "colab_type": "code",
        "colab": {
          "base_uri": "https://localhost:8080/",
          "height": 127
        },
        "outputId": "25fca6a6-7a79-454d-ca4e-0b5a556df658"
      },
      "source": [
        "df.mean()"
      ],
      "execution_count": 101,
      "outputs": [
        {
          "output_type": "execute_result",
          "data": {
            "text/plain": [
              "수학    80.00\n",
              "영어    62.75\n",
              "음악    92.50\n",
              "체육    95.00\n",
              "국어    72.50\n",
              "dtype: float64"
            ]
          },
          "metadata": {
            "tags": []
          },
          "execution_count": 101
        }
      ]
    },
    {
      "cell_type": "code",
      "metadata": {
        "id": "df6er-4PL-w5",
        "colab_type": "code",
        "colab": {}
      },
      "source": [
        "#df의 중간값 구하기"
      ],
      "execution_count": 102,
      "outputs": []
    },
    {
      "cell_type": "code",
      "metadata": {
        "id": "-cPuIhqAHXq8",
        "colab_type": "code",
        "colab": {
          "base_uri": "https://localhost:8080/",
          "height": 127
        },
        "outputId": "60092155-8f5f-4528-b307-6575fcefa940"
      },
      "source": [
        "df.median()"
      ],
      "execution_count": 103,
      "outputs": [
        {
          "output_type": "execute_result",
          "data": {
            "text/plain": [
              "수학    80.0\n",
              "영어    77.5\n",
              "음악    92.5\n",
              "체육    95.0\n",
              "국어    90.0\n",
              "dtype: float64"
            ]
          },
          "metadata": {
            "tags": []
          },
          "execution_count": 103
        }
      ]
    },
    {
      "cell_type": "code",
      "metadata": {
        "id": "HVXLArW1MBbR",
        "colab_type": "code",
        "colab": {}
      },
      "source": [
        "#df의 상관계수 구하기"
      ],
      "execution_count": 104,
      "outputs": []
    },
    {
      "cell_type": "code",
      "metadata": {
        "id": "OP1AQn56HGKw",
        "colab_type": "code",
        "colab": {
          "base_uri": "https://localhost:8080/",
          "height": 195
        },
        "outputId": "7ee330c2-c82d-4dc9-f677-250f90542778"
      },
      "source": [
        "df.corr()"
      ],
      "execution_count": 105,
      "outputs": [
        {
          "output_type": "execute_result",
          "data": {
            "text/html": [
              "<div>\n",
              "<style scoped>\n",
              "    .dataframe tbody tr th:only-of-type {\n",
              "        vertical-align: middle;\n",
              "    }\n",
              "\n",
              "    .dataframe tbody tr th {\n",
              "        vertical-align: top;\n",
              "    }\n",
              "\n",
              "    .dataframe thead th {\n",
              "        text-align: right;\n",
              "    }\n",
              "</style>\n",
              "<table border=\"1\" class=\"dataframe\">\n",
              "  <thead>\n",
              "    <tr style=\"text-align: right;\">\n",
              "      <th></th>\n",
              "      <th>수학</th>\n",
              "      <th>영어</th>\n",
              "      <th>음악</th>\n",
              "      <th>체육</th>\n",
              "      <th>국어</th>\n",
              "    </tr>\n",
              "  </thead>\n",
              "  <tbody>\n",
              "    <tr>\n",
              "      <th>수학</th>\n",
              "      <td>1.000000</td>\n",
              "      <td>-0.904453</td>\n",
              "      <td>-0.948683</td>\n",
              "      <td>0.707107</td>\n",
              "      <td>0.191127</td>\n",
              "    </tr>\n",
              "    <tr>\n",
              "      <th>영어</th>\n",
              "      <td>-0.904453</td>\n",
              "      <td>1.000000</td>\n",
              "      <td>0.903679</td>\n",
              "      <td>-0.741600</td>\n",
              "      <td>-0.238610</td>\n",
              "    </tr>\n",
              "    <tr>\n",
              "      <th>음악</th>\n",
              "      <td>-0.948683</td>\n",
              "      <td>0.903679</td>\n",
              "      <td>1.000000</td>\n",
              "      <td>-0.894427</td>\n",
              "      <td>0.090660</td>\n",
              "    </tr>\n",
              "    <tr>\n",
              "      <th>체육</th>\n",
              "      <td>0.707107</td>\n",
              "      <td>-0.741600</td>\n",
              "      <td>-0.894427</td>\n",
              "      <td>1.000000</td>\n",
              "      <td>-0.473016</td>\n",
              "    </tr>\n",
              "    <tr>\n",
              "      <th>국어</th>\n",
              "      <td>0.191127</td>\n",
              "      <td>-0.238610</td>\n",
              "      <td>0.090660</td>\n",
              "      <td>-0.473016</td>\n",
              "      <td>1.000000</td>\n",
              "    </tr>\n",
              "  </tbody>\n",
              "</table>\n",
              "</div>"
            ],
            "text/plain": [
              "          수학        영어        음악        체육        국어\n",
              "수학  1.000000 -0.904453 -0.948683  0.707107  0.191127\n",
              "영어 -0.904453  1.000000  0.903679 -0.741600 -0.238610\n",
              "음악 -0.948683  0.903679  1.000000 -0.894427  0.090660\n",
              "체육  0.707107 -0.741600 -0.894427  1.000000 -0.473016\n",
              "국어  0.191127 -0.238610  0.090660 -0.473016  1.000000"
            ]
          },
          "metadata": {
            "tags": []
          },
          "execution_count": 105
        }
      ]
    },
    {
      "cell_type": "markdown",
      "metadata": {
        "id": "KPI6Sz35sm5i",
        "colab_type": "text"
      },
      "source": [
        "실습해보기1"
      ]
    },
    {
      "cell_type": "code",
      "metadata": {
        "id": "b79dJPVbsqFS",
        "colab_type": "code",
        "colab": {}
      },
      "source": [
        "#데이터프레임 - 리스트, index, column 설정"
      ],
      "execution_count": null,
      "outputs": []
    },
    {
      "cell_type": "code",
      "metadata": {
        "id": "pIjMeZB_srY7",
        "colab_type": "code",
        "colab": {
          "base_uri": "https://localhost:8080/",
          "height": 136
        },
        "outputId": "890cf533-a9fa-439d-a79e-2c9314760488"
      },
      "source": [
        "import pandas as pd\n",
        "jj = pd.DataFrame([[20,25,30],[10,10,5],[5,10,15]], index = ['당근판매량','귤판매량','무판매량'], columns = ['9/24','9/25','9/26'])\n",
        "jj"
      ],
      "execution_count": 62,
      "outputs": [
        {
          "output_type": "execute_result",
          "data": {
            "text/html": [
              "<div>\n",
              "<style scoped>\n",
              "    .dataframe tbody tr th:only-of-type {\n",
              "        vertical-align: middle;\n",
              "    }\n",
              "\n",
              "    .dataframe tbody tr th {\n",
              "        vertical-align: top;\n",
              "    }\n",
              "\n",
              "    .dataframe thead th {\n",
              "        text-align: right;\n",
              "    }\n",
              "</style>\n",
              "<table border=\"1\" class=\"dataframe\">\n",
              "  <thead>\n",
              "    <tr style=\"text-align: right;\">\n",
              "      <th></th>\n",
              "      <th>9/24</th>\n",
              "      <th>9/25</th>\n",
              "      <th>9/26</th>\n",
              "    </tr>\n",
              "  </thead>\n",
              "  <tbody>\n",
              "    <tr>\n",
              "      <th>당근판매량</th>\n",
              "      <td>20</td>\n",
              "      <td>25</td>\n",
              "      <td>30</td>\n",
              "    </tr>\n",
              "    <tr>\n",
              "      <th>귤판매량</th>\n",
              "      <td>10</td>\n",
              "      <td>10</td>\n",
              "      <td>5</td>\n",
              "    </tr>\n",
              "    <tr>\n",
              "      <th>무판매량</th>\n",
              "      <td>5</td>\n",
              "      <td>10</td>\n",
              "      <td>15</td>\n",
              "    </tr>\n",
              "  </tbody>\n",
              "</table>\n",
              "</div>"
            ],
            "text/plain": [
              "       9/24  9/25  9/26\n",
              "당근판매량    20    25    30\n",
              "귤판매량     10    10     5\n",
              "무판매량      5    10    15"
            ]
          },
          "metadata": {
            "tags": []
          },
          "execution_count": 62
        }
      ]
    },
    {
      "cell_type": "code",
      "metadata": {
        "id": "s9gzwQuPssi0",
        "colab_type": "code",
        "colab": {}
      },
      "source": [
        "#인덱스 확인하기"
      ],
      "execution_count": null,
      "outputs": []
    },
    {
      "cell_type": "code",
      "metadata": {
        "id": "JGOm1FGpsucG",
        "colab_type": "code",
        "colab": {
          "base_uri": "https://localhost:8080/",
          "height": 35
        },
        "outputId": "0627ee7b-eca3-403e-8ebf-9228e4e1edfa"
      },
      "source": [
        "jj.index"
      ],
      "execution_count": 63,
      "outputs": [
        {
          "output_type": "execute_result",
          "data": {
            "text/plain": [
              "Index(['당근판매량', '귤판매량', '무판매량'], dtype='object')"
            ]
          },
          "metadata": {
            "tags": []
          },
          "execution_count": 63
        }
      ]
    },
    {
      "cell_type": "code",
      "metadata": {
        "id": "XBzeD5xRsu6K",
        "colab_type": "code",
        "colab": {}
      },
      "source": [
        "#컬럼 확인하기"
      ],
      "execution_count": 61,
      "outputs": []
    },
    {
      "cell_type": "code",
      "metadata": {
        "id": "udjmjWuFswo1",
        "colab_type": "code",
        "colab": {
          "base_uri": "https://localhost:8080/",
          "height": 35
        },
        "outputId": "f98c5ebc-9421-43a7-8413-f9de73c5c844"
      },
      "source": [
        "jj.columns"
      ],
      "execution_count": 64,
      "outputs": [
        {
          "output_type": "execute_result",
          "data": {
            "text/plain": [
              "Index(['9/24', '9/25', '9/26'], dtype='object')"
            ]
          },
          "metadata": {
            "tags": []
          },
          "execution_count": 64
        }
      ]
    },
    {
      "cell_type": "code",
      "metadata": {
        "id": "6bqMGg4Jsyc6",
        "colab_type": "code",
        "colab": {}
      },
      "source": [
        "#인덱스, 컬럼 변경\n",
        "#인덱스 :['당근','귤','무']변경\n",
        "#컬럼 : ['09-24','09-25','09-26']변경"
      ],
      "execution_count": null,
      "outputs": []
    },
    {
      "cell_type": "code",
      "metadata": {
        "id": "_M7e_wuWszmC",
        "colab_type": "code",
        "colab": {
          "base_uri": "https://localhost:8080/",
          "height": 136
        },
        "outputId": "9ed4224c-8c0f-435f-c8ce-10262470b540"
      },
      "source": [
        "jj.T\n",
        "jj.index = ['당근', '귤', '무']\n",
        "jj.columns = ['9/1', '13', 'ss']\n",
        "jj"
      ],
      "execution_count": 65,
      "outputs": [
        {
          "output_type": "execute_result",
          "data": {
            "text/html": [
              "<div>\n",
              "<style scoped>\n",
              "    .dataframe tbody tr th:only-of-type {\n",
              "        vertical-align: middle;\n",
              "    }\n",
              "\n",
              "    .dataframe tbody tr th {\n",
              "        vertical-align: top;\n",
              "    }\n",
              "\n",
              "    .dataframe thead th {\n",
              "        text-align: right;\n",
              "    }\n",
              "</style>\n",
              "<table border=\"1\" class=\"dataframe\">\n",
              "  <thead>\n",
              "    <tr style=\"text-align: right;\">\n",
              "      <th></th>\n",
              "      <th>9/1</th>\n",
              "      <th>13</th>\n",
              "      <th>ss</th>\n",
              "    </tr>\n",
              "  </thead>\n",
              "  <tbody>\n",
              "    <tr>\n",
              "      <th>당근</th>\n",
              "      <td>20</td>\n",
              "      <td>25</td>\n",
              "      <td>30</td>\n",
              "    </tr>\n",
              "    <tr>\n",
              "      <th>귤</th>\n",
              "      <td>10</td>\n",
              "      <td>10</td>\n",
              "      <td>5</td>\n",
              "    </tr>\n",
              "    <tr>\n",
              "      <th>무</th>\n",
              "      <td>5</td>\n",
              "      <td>10</td>\n",
              "      <td>15</td>\n",
              "    </tr>\n",
              "  </tbody>\n",
              "</table>\n",
              "</div>"
            ],
            "text/plain": [
              "    9/1  13  ss\n",
              "당근   20  25  30\n",
              "귤    10  10   5\n",
              "무     5  10  15"
            ]
          },
          "metadata": {
            "tags": []
          },
          "execution_count": 65
        }
      ]
    },
    {
      "cell_type": "code",
      "metadata": {
        "id": "_CE9UDC1s5Rd",
        "colab_type": "code",
        "colab": {}
      },
      "source": [
        "#'당근'행 삭제 후 jj1저장"
      ],
      "execution_count": null,
      "outputs": []
    },
    {
      "cell_type": "code",
      "metadata": {
        "id": "XHc2IxYhs6FD",
        "colab_type": "code",
        "colab": {
          "base_uri": "https://localhost:8080/",
          "height": 106
        },
        "outputId": "69506869-2913-4d45-c839-404937227fc1"
      },
      "source": [
        "jj1 = jj.drop(['당근'], axis = 0)\n",
        "jj1"
      ],
      "execution_count": 67,
      "outputs": [
        {
          "output_type": "execute_result",
          "data": {
            "text/html": [
              "<div>\n",
              "<style scoped>\n",
              "    .dataframe tbody tr th:only-of-type {\n",
              "        vertical-align: middle;\n",
              "    }\n",
              "\n",
              "    .dataframe tbody tr th {\n",
              "        vertical-align: top;\n",
              "    }\n",
              "\n",
              "    .dataframe thead th {\n",
              "        text-align: right;\n",
              "    }\n",
              "</style>\n",
              "<table border=\"1\" class=\"dataframe\">\n",
              "  <thead>\n",
              "    <tr style=\"text-align: right;\">\n",
              "      <th></th>\n",
              "      <th>9/1</th>\n",
              "      <th>13</th>\n",
              "      <th>ss</th>\n",
              "    </tr>\n",
              "  </thead>\n",
              "  <tbody>\n",
              "    <tr>\n",
              "      <th>귤</th>\n",
              "      <td>10</td>\n",
              "      <td>10</td>\n",
              "      <td>5</td>\n",
              "    </tr>\n",
              "    <tr>\n",
              "      <th>무</th>\n",
              "      <td>5</td>\n",
              "      <td>10</td>\n",
              "      <td>15</td>\n",
              "    </tr>\n",
              "  </tbody>\n",
              "</table>\n",
              "</div>"
            ],
            "text/plain": [
              "   9/1  13  ss\n",
              "귤   10  10   5\n",
              "무    5  10  15"
            ]
          },
          "metadata": {
            "tags": []
          },
          "execution_count": 67
        }
      ]
    },
    {
      "cell_type": "code",
      "metadata": {
        "id": "6QQQsKxgs6fh",
        "colab_type": "code",
        "colab": {}
      },
      "source": [
        "#'09-24','09-26' 열 삭제 후 jj2저장"
      ],
      "execution_count": null,
      "outputs": []
    },
    {
      "cell_type": "code",
      "metadata": {
        "id": "FJIA4n7ds7zl",
        "colab_type": "code",
        "colab": {
          "base_uri": "https://localhost:8080/",
          "height": 136
        },
        "outputId": "74c74449-f74b-4b40-a7a8-372a8e81f969"
      },
      "source": [
        "jj2 = jj.drop(['9/1', '13'], axis = 1)\n",
        "jj2"
      ],
      "execution_count": 73,
      "outputs": [
        {
          "output_type": "execute_result",
          "data": {
            "text/html": [
              "<div>\n",
              "<style scoped>\n",
              "    .dataframe tbody tr th:only-of-type {\n",
              "        vertical-align: middle;\n",
              "    }\n",
              "\n",
              "    .dataframe tbody tr th {\n",
              "        vertical-align: top;\n",
              "    }\n",
              "\n",
              "    .dataframe thead th {\n",
              "        text-align: right;\n",
              "    }\n",
              "</style>\n",
              "<table border=\"1\" class=\"dataframe\">\n",
              "  <thead>\n",
              "    <tr style=\"text-align: right;\">\n",
              "      <th></th>\n",
              "      <th>ss</th>\n",
              "    </tr>\n",
              "  </thead>\n",
              "  <tbody>\n",
              "    <tr>\n",
              "      <th>당근</th>\n",
              "      <td>30</td>\n",
              "    </tr>\n",
              "    <tr>\n",
              "      <th>귤</th>\n",
              "      <td>5</td>\n",
              "    </tr>\n",
              "    <tr>\n",
              "      <th>무</th>\n",
              "      <td>15</td>\n",
              "    </tr>\n",
              "  </tbody>\n",
              "</table>\n",
              "</div>"
            ],
            "text/plain": [
              "    ss\n",
              "당근  30\n",
              "귤    5\n",
              "무   15"
            ]
          },
          "metadata": {
            "tags": []
          },
          "execution_count": 73
        }
      ]
    },
    {
      "cell_type": "code",
      "metadata": {
        "id": "BZsS8_o5s8J3",
        "colab_type": "code",
        "colab": {}
      },
      "source": [
        "#jj 다시 불러오기"
      ],
      "execution_count": null,
      "outputs": []
    },
    {
      "cell_type": "code",
      "metadata": {
        "id": "mi2SuGWrs_q5",
        "colab_type": "code",
        "colab": {
          "base_uri": "https://localhost:8080/",
          "height": 136
        },
        "outputId": "28d003bb-d181-4ead-d3ef-e1b668868ec0"
      },
      "source": [
        "import pandas as pd\n",
        "jj = pd.DataFrame([[20,25,30],[10,10,5],[5,10,15]], index = ['당근판매량','귤판매량','무판매량'], columns = ['9/24','9/25','9/26'])\n",
        "jj"
      ],
      "execution_count": 74,
      "outputs": [
        {
          "output_type": "execute_result",
          "data": {
            "text/html": [
              "<div>\n",
              "<style scoped>\n",
              "    .dataframe tbody tr th:only-of-type {\n",
              "        vertical-align: middle;\n",
              "    }\n",
              "\n",
              "    .dataframe tbody tr th {\n",
              "        vertical-align: top;\n",
              "    }\n",
              "\n",
              "    .dataframe thead th {\n",
              "        text-align: right;\n",
              "    }\n",
              "</style>\n",
              "<table border=\"1\" class=\"dataframe\">\n",
              "  <thead>\n",
              "    <tr style=\"text-align: right;\">\n",
              "      <th></th>\n",
              "      <th>9/24</th>\n",
              "      <th>9/25</th>\n",
              "      <th>9/26</th>\n",
              "    </tr>\n",
              "  </thead>\n",
              "  <tbody>\n",
              "    <tr>\n",
              "      <th>당근판매량</th>\n",
              "      <td>20</td>\n",
              "      <td>25</td>\n",
              "      <td>30</td>\n",
              "    </tr>\n",
              "    <tr>\n",
              "      <th>귤판매량</th>\n",
              "      <td>10</td>\n",
              "      <td>10</td>\n",
              "      <td>5</td>\n",
              "    </tr>\n",
              "    <tr>\n",
              "      <th>무판매량</th>\n",
              "      <td>5</td>\n",
              "      <td>10</td>\n",
              "      <td>15</td>\n",
              "    </tr>\n",
              "  </tbody>\n",
              "</table>\n",
              "</div>"
            ],
            "text/plain": [
              "       9/24  9/25  9/26\n",
              "당근판매량    20    25    30\n",
              "귤판매량     10    10     5\n",
              "무판매량      5    10    15"
            ]
          },
          "metadata": {
            "tags": []
          },
          "execution_count": 74
        }
      ]
    },
    {
      "cell_type": "code",
      "metadata": {
        "id": "_trSbkrJtD4L",
        "colab_type": "code",
        "colab": {}
      },
      "source": [
        "#jj에 '9/22' column 추가하기, 판매량은 [40,3,20]"
      ],
      "execution_count": null,
      "outputs": []
    },
    {
      "cell_type": "code",
      "metadata": {
        "id": "w5izDDTdtETm",
        "colab_type": "code",
        "colab": {
          "base_uri": "https://localhost:8080/",
          "height": 136
        },
        "outputId": "4b8038ec-6a48-45d0-d148-11c85ac26834"
      },
      "source": [
        "jj['9/22'] = [40,3,20]\n",
        "jj"
      ],
      "execution_count": 76,
      "outputs": [
        {
          "output_type": "execute_result",
          "data": {
            "text/html": [
              "<div>\n",
              "<style scoped>\n",
              "    .dataframe tbody tr th:only-of-type {\n",
              "        vertical-align: middle;\n",
              "    }\n",
              "\n",
              "    .dataframe tbody tr th {\n",
              "        vertical-align: top;\n",
              "    }\n",
              "\n",
              "    .dataframe thead th {\n",
              "        text-align: right;\n",
              "    }\n",
              "</style>\n",
              "<table border=\"1\" class=\"dataframe\">\n",
              "  <thead>\n",
              "    <tr style=\"text-align: right;\">\n",
              "      <th></th>\n",
              "      <th>9/24</th>\n",
              "      <th>9/25</th>\n",
              "      <th>9/26</th>\n",
              "      <th>9/22</th>\n",
              "    </tr>\n",
              "  </thead>\n",
              "  <tbody>\n",
              "    <tr>\n",
              "      <th>당근판매량</th>\n",
              "      <td>20</td>\n",
              "      <td>25</td>\n",
              "      <td>30</td>\n",
              "      <td>40</td>\n",
              "    </tr>\n",
              "    <tr>\n",
              "      <th>귤판매량</th>\n",
              "      <td>10</td>\n",
              "      <td>10</td>\n",
              "      <td>5</td>\n",
              "      <td>3</td>\n",
              "    </tr>\n",
              "    <tr>\n",
              "      <th>무판매량</th>\n",
              "      <td>5</td>\n",
              "      <td>10</td>\n",
              "      <td>15</td>\n",
              "      <td>20</td>\n",
              "    </tr>\n",
              "  </tbody>\n",
              "</table>\n",
              "</div>"
            ],
            "text/plain": [
              "       9/24  9/25  9/26  9/22\n",
              "당근판매량    20    25    30    40\n",
              "귤판매량     10    10     5     3\n",
              "무판매량      5    10    15    20"
            ]
          },
          "metadata": {
            "tags": []
          },
          "execution_count": 76
        }
      ]
    },
    {
      "cell_type": "code",
      "metadata": {
        "id": "N6kh2KUEtEuD",
        "colab_type": "code",
        "colab": {}
      },
      "source": [
        "#'포도판매량' index 추가하기, 판매량은 전체 30"
      ],
      "execution_count": null,
      "outputs": []
    },
    {
      "cell_type": "code",
      "metadata": {
        "id": "66A6oOJItGV4",
        "colab_type": "code",
        "colab": {}
      },
      "source": [
        "jj.loc['포도판매량'] =30"
      ],
      "execution_count": 106,
      "outputs": []
    },
    {
      "cell_type": "code",
      "metadata": {
        "id": "Oaj_0ggXtHv0",
        "colab_type": "code",
        "colab": {}
      },
      "source": [
        "#'무판매량' index값 [10,10,15,20]으로 변경하기"
      ],
      "execution_count": null,
      "outputs": []
    },
    {
      "cell_type": "code",
      "metadata": {
        "id": "ibfTUzgbtIMZ",
        "colab_type": "code",
        "colab": {
          "base_uri": "https://localhost:8080/",
          "height": 166
        },
        "outputId": "1f2791d4-0143-4e85-9eb0-83af3b84ece7"
      },
      "source": [
        "jj.loc['무판매량'] = [10, 10, 15, 20, 20]\n",
        "jj"
      ],
      "execution_count": 126,
      "outputs": [
        {
          "output_type": "execute_result",
          "data": {
            "text/html": [
              "<div>\n",
              "<style scoped>\n",
              "    .dataframe tbody tr th:only-of-type {\n",
              "        vertical-align: middle;\n",
              "    }\n",
              "\n",
              "    .dataframe tbody tr th {\n",
              "        vertical-align: top;\n",
              "    }\n",
              "\n",
              "    .dataframe thead th {\n",
              "        text-align: right;\n",
              "    }\n",
              "</style>\n",
              "<table border=\"1\" class=\"dataframe\">\n",
              "  <thead>\n",
              "    <tr style=\"text-align: right;\">\n",
              "      <th></th>\n",
              "      <th>9/24</th>\n",
              "      <th>9/25</th>\n",
              "      <th>9/26</th>\n",
              "      <th>9/22</th>\n",
              "      <th>무판매량</th>\n",
              "    </tr>\n",
              "  </thead>\n",
              "  <tbody>\n",
              "    <tr>\n",
              "      <th>당근판매량</th>\n",
              "      <td>20</td>\n",
              "      <td>25</td>\n",
              "      <td>30</td>\n",
              "      <td>40</td>\n",
              "      <td>10</td>\n",
              "    </tr>\n",
              "    <tr>\n",
              "      <th>귤판매량</th>\n",
              "      <td>10</td>\n",
              "      <td>10</td>\n",
              "      <td>5</td>\n",
              "      <td>3</td>\n",
              "      <td>10</td>\n",
              "    </tr>\n",
              "    <tr>\n",
              "      <th>포도판매량</th>\n",
              "      <td>30</td>\n",
              "      <td>25</td>\n",
              "      <td>30</td>\n",
              "      <td>30</td>\n",
              "      <td>20</td>\n",
              "    </tr>\n",
              "    <tr>\n",
              "      <th>무판매량</th>\n",
              "      <td>10</td>\n",
              "      <td>10</td>\n",
              "      <td>15</td>\n",
              "      <td>20</td>\n",
              "      <td>20</td>\n",
              "    </tr>\n",
              "  </tbody>\n",
              "</table>\n",
              "</div>"
            ],
            "text/plain": [
              "       9/24  9/25  9/26  9/22  무판매량\n",
              "당근판매량    20    25    30    40    10\n",
              "귤판매량     10    10     5     3    10\n",
              "포도판매량    30    25    30    30    20\n",
              "무판매량     10    10    15    20    20"
            ]
          },
          "metadata": {
            "tags": []
          },
          "execution_count": 126
        }
      ]
    },
    {
      "cell_type": "code",
      "metadata": {
        "id": "oCBURuyktKc8",
        "colab_type": "code",
        "colab": {}
      },
      "source": [
        "#'포도판매량','9/25' 원소 값 25로 변경"
      ],
      "execution_count": 122,
      "outputs": []
    },
    {
      "cell_type": "code",
      "metadata": {
        "id": "ZDBn5Y33tK3C",
        "colab_type": "code",
        "colab": {}
      },
      "source": [
        "jj.loc['포도판매량', '9/25'] = 25"
      ],
      "execution_count": 125,
      "outputs": []
    },
    {
      "cell_type": "code",
      "metadata": {
        "id": "tzfuIvYztLdQ",
        "colab_type": "code",
        "colab": {}
      },
      "source": [
        "#행,열 위치 바꾸기(전치)하여 jj에 저장"
      ],
      "execution_count": 119,
      "outputs": []
    },
    {
      "cell_type": "code",
      "metadata": {
        "id": "Gp3NLLM5tNBQ",
        "colab_type": "code",
        "colab": {}
      },
      "source": [
        "jj.drop(['무판매량'], axis = 1, inplace = True)"
      ],
      "execution_count": 127,
      "outputs": []
    },
    {
      "cell_type": "code",
      "metadata": {
        "id": "4QgH_pmBtPZK",
        "colab_type": "code",
        "colab": {
          "base_uri": "https://localhost:8080/",
          "height": 166
        },
        "outputId": "efa38420-be9a-43e0-e1ee-95a1f027bd19"
      },
      "source": [
        "jj"
      ],
      "execution_count": 128,
      "outputs": [
        {
          "output_type": "execute_result",
          "data": {
            "text/html": [
              "<div>\n",
              "<style scoped>\n",
              "    .dataframe tbody tr th:only-of-type {\n",
              "        vertical-align: middle;\n",
              "    }\n",
              "\n",
              "    .dataframe tbody tr th {\n",
              "        vertical-align: top;\n",
              "    }\n",
              "\n",
              "    .dataframe thead th {\n",
              "        text-align: right;\n",
              "    }\n",
              "</style>\n",
              "<table border=\"1\" class=\"dataframe\">\n",
              "  <thead>\n",
              "    <tr style=\"text-align: right;\">\n",
              "      <th></th>\n",
              "      <th>9/24</th>\n",
              "      <th>9/25</th>\n",
              "      <th>9/26</th>\n",
              "      <th>9/22</th>\n",
              "    </tr>\n",
              "  </thead>\n",
              "  <tbody>\n",
              "    <tr>\n",
              "      <th>당근판매량</th>\n",
              "      <td>20</td>\n",
              "      <td>25</td>\n",
              "      <td>30</td>\n",
              "      <td>40</td>\n",
              "    </tr>\n",
              "    <tr>\n",
              "      <th>귤판매량</th>\n",
              "      <td>10</td>\n",
              "      <td>10</td>\n",
              "      <td>5</td>\n",
              "      <td>3</td>\n",
              "    </tr>\n",
              "    <tr>\n",
              "      <th>포도판매량</th>\n",
              "      <td>30</td>\n",
              "      <td>25</td>\n",
              "      <td>30</td>\n",
              "      <td>30</td>\n",
              "    </tr>\n",
              "    <tr>\n",
              "      <th>무판매량</th>\n",
              "      <td>10</td>\n",
              "      <td>10</td>\n",
              "      <td>15</td>\n",
              "      <td>20</td>\n",
              "    </tr>\n",
              "  </tbody>\n",
              "</table>\n",
              "</div>"
            ],
            "text/plain": [
              "       9/24  9/25  9/26  9/22\n",
              "당근판매량    20    25    30    40\n",
              "귤판매량     10    10     5     3\n",
              "포도판매량    30    25    30    30\n",
              "무판매량     10    10    15    20"
            ]
          },
          "metadata": {
            "tags": []
          },
          "execution_count": 128
        }
      ]
    },
    {
      "cell_type": "code",
      "metadata": {
        "id": "cyjtuH6PtQbi",
        "colab_type": "code",
        "colab": {}
      },
      "source": [
        "#인덱스 기준 오름차순 정렬하고 jj1에 저장"
      ],
      "execution_count": null,
      "outputs": []
    },
    {
      "cell_type": "code",
      "metadata": {
        "id": "ioX7eqCCtQ3E",
        "colab_type": "code",
        "colab": {
          "base_uri": "https://localhost:8080/",
          "height": 166
        },
        "outputId": "f8e44b22-a8e3-49b4-9abb-c7d3b3635f68"
      },
      "source": [
        "jj1=jj.sort_values(by='9/22',ascending=False)\n",
        "jj1"
      ],
      "execution_count": 142,
      "outputs": [
        {
          "output_type": "execute_result",
          "data": {
            "text/html": [
              "<div>\n",
              "<style scoped>\n",
              "    .dataframe tbody tr th:only-of-type {\n",
              "        vertical-align: middle;\n",
              "    }\n",
              "\n",
              "    .dataframe tbody tr th {\n",
              "        vertical-align: top;\n",
              "    }\n",
              "\n",
              "    .dataframe thead th {\n",
              "        text-align: right;\n",
              "    }\n",
              "</style>\n",
              "<table border=\"1\" class=\"dataframe\">\n",
              "  <thead>\n",
              "    <tr style=\"text-align: right;\">\n",
              "      <th></th>\n",
              "      <th>9/24</th>\n",
              "      <th>9/25</th>\n",
              "      <th>9/26</th>\n",
              "      <th>9/22</th>\n",
              "    </tr>\n",
              "  </thead>\n",
              "  <tbody>\n",
              "    <tr>\n",
              "      <th>당근판매량</th>\n",
              "      <td>20</td>\n",
              "      <td>25</td>\n",
              "      <td>30</td>\n",
              "      <td>40</td>\n",
              "    </tr>\n",
              "    <tr>\n",
              "      <th>포도판매량</th>\n",
              "      <td>30</td>\n",
              "      <td>25</td>\n",
              "      <td>30</td>\n",
              "      <td>30</td>\n",
              "    </tr>\n",
              "    <tr>\n",
              "      <th>무판매량</th>\n",
              "      <td>10</td>\n",
              "      <td>10</td>\n",
              "      <td>15</td>\n",
              "      <td>20</td>\n",
              "    </tr>\n",
              "    <tr>\n",
              "      <th>귤판매량</th>\n",
              "      <td>10</td>\n",
              "      <td>10</td>\n",
              "      <td>5</td>\n",
              "      <td>3</td>\n",
              "    </tr>\n",
              "  </tbody>\n",
              "</table>\n",
              "</div>"
            ],
            "text/plain": [
              "       9/24  9/25  9/26  9/22\n",
              "당근판매량    20    25    30    40\n",
              "포도판매량    30    25    30    30\n",
              "무판매량     10    10    15    20\n",
              "귤판매량     10    10     5     3"
            ]
          },
          "metadata": {
            "tags": []
          },
          "execution_count": 142
        }
      ]
    },
    {
      "cell_type": "code",
      "metadata": {
        "id": "Yn0qgtVGtRSD",
        "colab_type": "code",
        "colab": {}
      },
      "source": [
        "#'당근판매량' 컬럼 기준 오름차순 정렬후 jj2에 저장"
      ],
      "execution_count": null,
      "outputs": []
    },
    {
      "cell_type": "code",
      "metadata": {
        "id": "CYrhUNxmtUZh",
        "colab_type": "code",
        "colab": {
          "base_uri": "https://localhost:8080/",
          "height": 166
        },
        "outputId": "c97b84ff-9494-44a3-8824-d99426017259"
      },
      "source": [
        "jj.sort_index()"
      ],
      "execution_count": 136,
      "outputs": [
        {
          "output_type": "execute_result",
          "data": {
            "text/html": [
              "<div>\n",
              "<style scoped>\n",
              "    .dataframe tbody tr th:only-of-type {\n",
              "        vertical-align: middle;\n",
              "    }\n",
              "\n",
              "    .dataframe tbody tr th {\n",
              "        vertical-align: top;\n",
              "    }\n",
              "\n",
              "    .dataframe thead th {\n",
              "        text-align: right;\n",
              "    }\n",
              "</style>\n",
              "<table border=\"1\" class=\"dataframe\">\n",
              "  <thead>\n",
              "    <tr style=\"text-align: right;\">\n",
              "      <th></th>\n",
              "      <th>9/24</th>\n",
              "      <th>9/25</th>\n",
              "      <th>9/26</th>\n",
              "      <th>9/22</th>\n",
              "    </tr>\n",
              "  </thead>\n",
              "  <tbody>\n",
              "    <tr>\n",
              "      <th>귤판매량</th>\n",
              "      <td>10</td>\n",
              "      <td>10</td>\n",
              "      <td>5</td>\n",
              "      <td>3</td>\n",
              "    </tr>\n",
              "    <tr>\n",
              "      <th>당근판매량</th>\n",
              "      <td>20</td>\n",
              "      <td>25</td>\n",
              "      <td>30</td>\n",
              "      <td>40</td>\n",
              "    </tr>\n",
              "    <tr>\n",
              "      <th>무판매량</th>\n",
              "      <td>10</td>\n",
              "      <td>10</td>\n",
              "      <td>15</td>\n",
              "      <td>20</td>\n",
              "    </tr>\n",
              "    <tr>\n",
              "      <th>포도판매량</th>\n",
              "      <td>30</td>\n",
              "      <td>25</td>\n",
              "      <td>30</td>\n",
              "      <td>30</td>\n",
              "    </tr>\n",
              "  </tbody>\n",
              "</table>\n",
              "</div>"
            ],
            "text/plain": [
              "       9/24  9/25  9/26  9/22\n",
              "귤판매량     10    10     5     3\n",
              "당근판매량    20    25    30    40\n",
              "무판매량     10    10    15    20\n",
              "포도판매량    30    25    30    30"
            ]
          },
          "metadata": {
            "tags": []
          },
          "execution_count": 136
        }
      ]
    },
    {
      "cell_type": "code",
      "metadata": {
        "id": "CrL8KoU9tV6X",
        "colab_type": "code",
        "colab": {}
      },
      "source": [
        "#jj의 평균값 구하기"
      ],
      "execution_count": null,
      "outputs": []
    },
    {
      "cell_type": "code",
      "metadata": {
        "id": "upY0A9-0tWYb",
        "colab_type": "code",
        "colab": {
          "base_uri": "https://localhost:8080/",
          "height": 109
        },
        "outputId": "e40e4ae9-9239-4657-b567-b7aad3bf8ba5"
      },
      "source": [
        "jj.mean()"
      ],
      "execution_count": 134,
      "outputs": [
        {
          "output_type": "execute_result",
          "data": {
            "text/plain": [
              "9/24    17.50\n",
              "9/25    17.50\n",
              "9/26    20.00\n",
              "9/22    23.25\n",
              "dtype: float64"
            ]
          },
          "metadata": {
            "tags": []
          },
          "execution_count": 134
        }
      ]
    },
    {
      "cell_type": "code",
      "metadata": {
        "id": "qWFmQGZntXpG",
        "colab_type": "code",
        "colab": {}
      },
      "source": [
        "#jj의 중간값 구하기"
      ],
      "execution_count": null,
      "outputs": []
    },
    {
      "cell_type": "code",
      "metadata": {
        "id": "LcrZubPytYLh",
        "colab_type": "code",
        "colab": {}
      },
      "source": [
        ""
      ],
      "execution_count": null,
      "outputs": []
    },
    {
      "cell_type": "code",
      "metadata": {
        "id": "NY10yx6gtYml",
        "colab_type": "code",
        "colab": {
          "base_uri": "https://localhost:8080/",
          "height": 109
        },
        "outputId": "cd7ce7da-4419-4e05-9cd5-f5ac46593c60"
      },
      "source": [
        "#jj의 상관계수 구하기\n",
        "jj.median()"
      ],
      "execution_count": 141,
      "outputs": [
        {
          "output_type": "execute_result",
          "data": {
            "text/plain": [
              "9/24    15.0\n",
              "9/25    17.5\n",
              "9/26    22.5\n",
              "9/22    25.0\n",
              "dtype: float64"
            ]
          },
          "metadata": {
            "tags": []
          },
          "execution_count": 141
        }
      ]
    },
    {
      "cell_type": "code",
      "metadata": {
        "id": "ixbNiBf4tb6R",
        "colab_type": "code",
        "colab": {
          "base_uri": "https://localhost:8080/",
          "height": 166
        },
        "outputId": "d6d7fa13-856c-4459-df9c-014f49a9251b"
      },
      "source": [
        "jj.corr()"
      ],
      "execution_count": 138,
      "outputs": [
        {
          "output_type": "execute_result",
          "data": {
            "text/html": [
              "<div>\n",
              "<style scoped>\n",
              "    .dataframe tbody tr th:only-of-type {\n",
              "        vertical-align: middle;\n",
              "    }\n",
              "\n",
              "    .dataframe tbody tr th {\n",
              "        vertical-align: top;\n",
              "    }\n",
              "\n",
              "    .dataframe thead th {\n",
              "        text-align: right;\n",
              "    }\n",
              "</style>\n",
              "<table border=\"1\" class=\"dataframe\">\n",
              "  <thead>\n",
              "    <tr style=\"text-align: right;\">\n",
              "      <th></th>\n",
              "      <th>9/24</th>\n",
              "      <th>9/25</th>\n",
              "      <th>9/26</th>\n",
              "      <th>9/22</th>\n",
              "    </tr>\n",
              "  </thead>\n",
              "  <tbody>\n",
              "    <tr>\n",
              "      <th>9/24</th>\n",
              "      <td>1.000000</td>\n",
              "      <td>0.904534</td>\n",
              "      <td>0.852803</td>\n",
              "      <td>0.667531</td>\n",
              "    </tr>\n",
              "    <tr>\n",
              "      <th>9/25</th>\n",
              "      <td>0.904534</td>\n",
              "      <td>1.000000</td>\n",
              "      <td>0.942809</td>\n",
              "      <td>0.859964</td>\n",
              "    </tr>\n",
              "    <tr>\n",
              "      <th>9/26</th>\n",
              "      <td>0.852803</td>\n",
              "      <td>0.942809</td>\n",
              "      <td>1.000000</td>\n",
              "      <td>0.957413</td>\n",
              "    </tr>\n",
              "    <tr>\n",
              "      <th>9/22</th>\n",
              "      <td>0.667531</td>\n",
              "      <td>0.859964</td>\n",
              "      <td>0.957413</td>\n",
              "      <td>1.000000</td>\n",
              "    </tr>\n",
              "  </tbody>\n",
              "</table>\n",
              "</div>"
            ],
            "text/plain": [
              "          9/24      9/25      9/26      9/22\n",
              "9/24  1.000000  0.904534  0.852803  0.667531\n",
              "9/25  0.904534  1.000000  0.942809  0.859964\n",
              "9/26  0.852803  0.942809  1.000000  0.957413\n",
              "9/22  0.667531  0.859964  0.957413  1.000000"
            ]
          },
          "metadata": {
            "tags": []
          },
          "execution_count": 138
        }
      ]
    },
    {
      "cell_type": "markdown",
      "metadata": {
        "id": "vhB4LaLswVEp",
        "colab_type": "text"
      },
      "source": [
        "산술연산 - 리스트, 배열 , numpy라이브러리, pandas라이브러리"
      ]
    },
    {
      "cell_type": "code",
      "metadata": {
        "id": "SDh9Vxokwa1v",
        "colab_type": "code",
        "colab": {}
      },
      "source": [
        "#리스트 연산하기"
      ],
      "execution_count": null,
      "outputs": []
    },
    {
      "cell_type": "code",
      "metadata": {
        "id": "7_0xYGzDwuFc",
        "colab_type": "code",
        "colab": {
          "base_uri": "https://localhost:8080/",
          "height": 193
        },
        "outputId": "fa7a7679-67c5-45c0-96c3-b74fcc879dc7"
      },
      "source": [
        "a=[1,2,3,4,5]\n",
        "a=a+3"
      ],
      "execution_count": 139,
      "outputs": [
        {
          "output_type": "error",
          "ename": "TypeError",
          "evalue": "ignored",
          "traceback": [
            "\u001b[0;31m---------------------------------------------------------------------------\u001b[0m",
            "\u001b[0;31mTypeError\u001b[0m                                 Traceback (most recent call last)",
            "\u001b[0;32m<ipython-input-139-b4f805a1653f>\u001b[0m in \u001b[0;36m<module>\u001b[0;34m()\u001b[0m\n\u001b[1;32m      1\u001b[0m \u001b[0ma\u001b[0m\u001b[0;34m=\u001b[0m\u001b[0;34m[\u001b[0m\u001b[0;36m1\u001b[0m\u001b[0;34m,\u001b[0m\u001b[0;36m2\u001b[0m\u001b[0;34m,\u001b[0m\u001b[0;36m3\u001b[0m\u001b[0;34m,\u001b[0m\u001b[0;36m4\u001b[0m\u001b[0;34m,\u001b[0m\u001b[0;36m5\u001b[0m\u001b[0;34m]\u001b[0m\u001b[0;34m\u001b[0m\u001b[0;34m\u001b[0m\u001b[0m\n\u001b[0;32m----> 2\u001b[0;31m \u001b[0ma\u001b[0m\u001b[0;34m=\u001b[0m\u001b[0ma\u001b[0m\u001b[0;34m+\u001b[0m\u001b[0;36m3\u001b[0m\u001b[0;34m\u001b[0m\u001b[0;34m\u001b[0m\u001b[0m\n\u001b[0m",
            "\u001b[0;31mTypeError\u001b[0m: can only concatenate list (not \"int\") to list"
          ]
        }
      ]
    },
    {
      "cell_type": "code",
      "metadata": {
        "id": "mKVXYtCXxAEa",
        "colab_type": "code",
        "colab": {
          "base_uri": "https://localhost:8080/",
          "height": 35
        },
        "outputId": "b6873bff-8aca-4375-a2a2-eaa1ff11a9db"
      },
      "source": [
        "a*3"
      ],
      "execution_count": 140,
      "outputs": [
        {
          "output_type": "execute_result",
          "data": {
            "text/plain": [
              "[1, 2, 3, 4, 5, 1, 2, 3, 4, 5, 1, 2, 3, 4, 5]"
            ]
          },
          "metadata": {
            "tags": []
          },
          "execution_count": 140
        }
      ]
    },
    {
      "cell_type": "code",
      "metadata": {
        "id": "Qnn4LcU0xCYY",
        "colab_type": "code",
        "colab": {}
      },
      "source": [
        "#넘파이 배열 사용하기"
      ],
      "execution_count": null,
      "outputs": []
    },
    {
      "cell_type": "code",
      "metadata": {
        "id": "sKoxFrCi8DST",
        "colab_type": "code",
        "colab": {}
      },
      "source": [
        "import numpy as np"
      ],
      "execution_count": 143,
      "outputs": []
    },
    {
      "cell_type": "code",
      "metadata": {
        "id": "iChGpjonxEwB",
        "colab_type": "code",
        "colab": {
          "base_uri": "https://localhost:8080/",
          "height": 35
        },
        "outputId": "7ec6aab9-1088-4820-85d6-d8e3ad721f13"
      },
      "source": [
        "b=np.array([1,2,3,4,5]) # np.array : numpy 배열 사용가능\n",
        "b"
      ],
      "execution_count": 155,
      "outputs": [
        {
          "output_type": "execute_result",
          "data": {
            "text/plain": [
              "array([1, 2, 3, 4, 5])"
            ]
          },
          "metadata": {
            "tags": []
          },
          "execution_count": 155
        }
      ]
    },
    {
      "cell_type": "code",
      "metadata": {
        "id": "yn19I5907V0y",
        "colab_type": "code",
        "colab": {}
      },
      "source": [
        "#b배열 모든 원소에 3더하기"
      ],
      "execution_count": 156,
      "outputs": []
    },
    {
      "cell_type": "code",
      "metadata": {
        "id": "hhPFakbBxO84",
        "colab_type": "code",
        "colab": {
          "base_uri": "https://localhost:8080/",
          "height": 35
        },
        "outputId": "7847cb2a-638a-4439-ba79-ed6b2a7c3245"
      },
      "source": [
        "b+3"
      ],
      "execution_count": 157,
      "outputs": [
        {
          "output_type": "execute_result",
          "data": {
            "text/plain": [
              "array([4, 5, 6, 7, 8])"
            ]
          },
          "metadata": {
            "tags": []
          },
          "execution_count": 157
        }
      ]
    },
    {
      "cell_type": "code",
      "metadata": {
        "id": "GD7jMhWj7ai0",
        "colab_type": "code",
        "colab": {}
      },
      "source": [
        "#b배열 모든 원소에 3곱하기"
      ],
      "execution_count": 152,
      "outputs": []
    },
    {
      "cell_type": "code",
      "metadata": {
        "id": "EZBpeO1pxQno",
        "colab_type": "code",
        "colab": {
          "base_uri": "https://localhost:8080/",
          "height": 35
        },
        "outputId": "a29d7625-591b-4498-ba1a-b5176d61854d"
      },
      "source": [
        "b*3"
      ],
      "execution_count": 153,
      "outputs": [
        {
          "output_type": "execute_result",
          "data": {
            "text/plain": [
              "array([ 3,  6,  9, 12, 15])"
            ]
          },
          "metadata": {
            "tags": []
          },
          "execution_count": 153
        }
      ]
    },
    {
      "cell_type": "code",
      "metadata": {
        "id": "F1cHsx577dbT",
        "colab_type": "code",
        "colab": {}
      },
      "source": [
        "#np.arange()함수로 6부터 10까지의 c배열 만들기"
      ],
      "execution_count": 154,
      "outputs": []
    },
    {
      "cell_type": "code",
      "metadata": {
        "id": "25vl2VGqxT_P",
        "colab_type": "code",
        "colab": {
          "base_uri": "https://localhost:8080/",
          "height": 35
        },
        "outputId": "2a265926-254e-4909-fe08-4cb30983e22c"
      },
      "source": [
        "c=np.arange(6,11)\n",
        "c"
      ],
      "execution_count": 158,
      "outputs": [
        {
          "output_type": "execute_result",
          "data": {
            "text/plain": [
              "array([ 6,  7,  8,  9, 10])"
            ]
          },
          "metadata": {
            "tags": []
          },
          "execution_count": 158
        }
      ]
    },
    {
      "cell_type": "code",
      "metadata": {
        "id": "z4ituN387lDY",
        "colab_type": "code",
        "colab": {}
      },
      "source": [
        "#2차원 배열 만들기"
      ],
      "execution_count": null,
      "outputs": []
    },
    {
      "cell_type": "code",
      "metadata": {
        "id": "IAL_cyj1xv09",
        "colab_type": "code",
        "colab": {
          "base_uri": "https://localhost:8080/",
          "height": 54
        },
        "outputId": "66f58165-c662-43e1-8ea9-4bcc5ea401ea"
      },
      "source": [
        "d=np.array([[1,2,3,4,5],[6,7,8,9, 10]])\n",
        "d"
      ],
      "execution_count": 164,
      "outputs": [
        {
          "output_type": "execute_result",
          "data": {
            "text/plain": [
              "array([[ 1,  2,  3,  4,  5],\n",
              "       [ 6,  7,  8,  9, 10]])"
            ]
          },
          "metadata": {
            "tags": []
          },
          "execution_count": 164
        }
      ]
    },
    {
      "cell_type": "code",
      "metadata": {
        "id": "ciWX5Cc_7nI1",
        "colab_type": "code",
        "colab": {}
      },
      "source": [
        "#d배열 모양 확인하기"
      ],
      "execution_count": 165,
      "outputs": []
    },
    {
      "cell_type": "code",
      "metadata": {
        "id": "ZsrqU9ZbyD4H",
        "colab_type": "code",
        "colab": {
          "base_uri": "https://localhost:8080/",
          "height": 35
        },
        "outputId": "a08d326f-2729-4844-934d-28ba746d63a3"
      },
      "source": [
        "d.shape"
      ],
      "execution_count": 166,
      "outputs": [
        {
          "output_type": "execute_result",
          "data": {
            "text/plain": [
              "(2, 5)"
            ]
          },
          "metadata": {
            "tags": []
          },
          "execution_count": 166
        }
      ]
    },
    {
      "cell_type": "code",
      "metadata": {
        "id": "uwO1Njrb7qdC",
        "colab_type": "code",
        "colab": {}
      },
      "source": [
        "#배열 b,c 더하기 함수 add"
      ],
      "execution_count": 167,
      "outputs": []
    },
    {
      "cell_type": "code",
      "metadata": {
        "id": "pgpacRtsygCp",
        "colab_type": "code",
        "colab": {
          "base_uri": "https://localhost:8080/",
          "height": 35
        },
        "outputId": "56a2600d-d552-4685-924b-9d503da44361"
      },
      "source": [
        "np.add(b,c)"
      ],
      "execution_count": 168,
      "outputs": [
        {
          "output_type": "execute_result",
          "data": {
            "text/plain": [
              "array([ 7,  9, 11, 13, 15])"
            ]
          },
          "metadata": {
            "tags": []
          },
          "execution_count": 168
        }
      ]
    },
    {
      "cell_type": "code",
      "metadata": {
        "id": "yhfWcdz37tCE",
        "colab_type": "code",
        "colab": {}
      },
      "source": [
        "#배열 b,c 빼기함수 subtract"
      ],
      "execution_count": null,
      "outputs": []
    },
    {
      "cell_type": "code",
      "metadata": {
        "id": "jQwqUqI42BvN",
        "colab_type": "code",
        "colab": {
          "base_uri": "https://localhost:8080/",
          "height": 35
        },
        "outputId": "f3ee82b8-dde0-4ffc-832f-ef3393a3dce1"
      },
      "source": [
        "np.subtract(b,c)"
      ],
      "execution_count": 169,
      "outputs": [
        {
          "output_type": "execute_result",
          "data": {
            "text/plain": [
              "array([-5, -5, -5, -5, -5])"
            ]
          },
          "metadata": {
            "tags": []
          },
          "execution_count": 169
        }
      ]
    },
    {
      "cell_type": "code",
      "metadata": {
        "id": "9_pljn937zvJ",
        "colab_type": "code",
        "colab": {}
      },
      "source": [
        "#배열 b,c 곱하기함수 multiply"
      ],
      "execution_count": 170,
      "outputs": []
    },
    {
      "cell_type": "code",
      "metadata": {
        "id": "n4rP8rsE2JmV",
        "colab_type": "code",
        "colab": {
          "base_uri": "https://localhost:8080/",
          "height": 35
        },
        "outputId": "58d7ee77-7cd8-4b06-cf95-12b768196a58"
      },
      "source": [
        "np.multiply(b,c)"
      ],
      "execution_count": 171,
      "outputs": [
        {
          "output_type": "execute_result",
          "data": {
            "text/plain": [
              "array([ 6, 14, 24, 36, 50])"
            ]
          },
          "metadata": {
            "tags": []
          },
          "execution_count": 171
        }
      ]
    },
    {
      "cell_type": "code",
      "metadata": {
        "id": "V66E6HW-724_",
        "colab_type": "code",
        "colab": {}
      },
      "source": [
        "#배열 b,c 나누기함수 divide"
      ],
      "execution_count": 172,
      "outputs": []
    },
    {
      "cell_type": "code",
      "metadata": {
        "id": "IC2b8oTv2NWn",
        "colab_type": "code",
        "colab": {
          "base_uri": "https://localhost:8080/",
          "height": 35
        },
        "outputId": "8ad6da3f-2995-4a46-880a-e32b303be395"
      },
      "source": [
        "np.divide(b,c)"
      ],
      "execution_count": 173,
      "outputs": [
        {
          "output_type": "execute_result",
          "data": {
            "text/plain": [
              "array([0.16666667, 0.28571429, 0.375     , 0.44444444, 0.5       ])"
            ]
          },
          "metadata": {
            "tags": []
          },
          "execution_count": 173
        }
      ]
    },
    {
      "cell_type": "code",
      "metadata": {
        "id": "xh6et77j2dFF",
        "colab_type": "code",
        "colab": {}
      },
      "source": [
        "#numpy 같은 위치의 원소의 계산함."
      ],
      "execution_count": 174,
      "outputs": []
    },
    {
      "cell_type": "markdown",
      "metadata": {
        "id": "i9sf3pQU7-Cc",
        "colab_type": "text"
      },
      "source": [
        "스스로해보기2"
      ]
    },
    {
      "cell_type": "code",
      "metadata": {
        "id": "BeSisR5N79qj",
        "colab_type": "code",
        "colab": {}
      },
      "source": [
        "import numpy as np"
      ],
      "execution_count": null,
      "outputs": []
    },
    {
      "cell_type": "code",
      "metadata": {
        "id": "v1iIshxs8PBe",
        "colab_type": "code",
        "colab": {
          "base_uri": "https://localhost:8080/",
          "height": 35
        },
        "outputId": "befb1401-969d-41a8-f4d9-4890fd8dd321"
      },
      "source": [
        "b=np.array([10,20,30,40,50])\n",
        "b"
      ],
      "execution_count": 175,
      "outputs": [
        {
          "output_type": "execute_result",
          "data": {
            "text/plain": [
              "array([10, 20, 30, 40, 50])"
            ]
          },
          "metadata": {
            "tags": []
          },
          "execution_count": 175
        }
      ]
    },
    {
      "cell_type": "code",
      "metadata": {
        "id": "ecvH9t3X8TzP",
        "colab_type": "code",
        "colab": {}
      },
      "source": [
        "#b배열 모든 원소에 3곱하기"
      ],
      "execution_count": null,
      "outputs": []
    },
    {
      "cell_type": "code",
      "metadata": {
        "id": "yJN76_eD8XNj",
        "colab_type": "code",
        "colab": {}
      },
      "source": [
        "b*3"
      ],
      "execution_count": null,
      "outputs": []
    },
    {
      "cell_type": "code",
      "metadata": {
        "id": "76GmVqWb8ZQn",
        "colab_type": "code",
        "colab": {}
      },
      "source": [
        "#np.arange()함수로 1부터 5까지의 c배열 만들기"
      ],
      "execution_count": null,
      "outputs": []
    },
    {
      "cell_type": "code",
      "metadata": {
        "id": "LZZZn5Ft8bz8",
        "colab_type": "code",
        "colab": {
          "base_uri": "https://localhost:8080/",
          "height": 35
        },
        "outputId": "098e235c-9910-4236-c876-eadc82b7f532"
      },
      "source": [
        "c = np.arange(1,6)\n",
        "c"
      ],
      "execution_count": 180,
      "outputs": [
        {
          "output_type": "execute_result",
          "data": {
            "text/plain": [
              "array([1, 2, 3, 4, 5])"
            ]
          },
          "metadata": {
            "tags": []
          },
          "execution_count": 180
        }
      ]
    },
    {
      "cell_type": "code",
      "metadata": {
        "id": "LFlhLv_d8qST",
        "colab_type": "code",
        "colab": {}
      },
      "source": [
        "#배열 c,b 더하기 함수 add"
      ],
      "execution_count": null,
      "outputs": []
    },
    {
      "cell_type": "code",
      "metadata": {
        "id": "f-j20dw48s3U",
        "colab_type": "code",
        "colab": {
          "base_uri": "https://localhost:8080/",
          "height": 35
        },
        "outputId": "e04a1802-389b-4dbc-da8b-9b0929852dfc"
      },
      "source": [
        "np.add(b,c)"
      ],
      "execution_count": 181,
      "outputs": [
        {
          "output_type": "execute_result",
          "data": {
            "text/plain": [
              "array([11, 22, 33, 44, 55])"
            ]
          },
          "metadata": {
            "tags": []
          },
          "execution_count": 181
        }
      ]
    },
    {
      "cell_type": "code",
      "metadata": {
        "id": "qPxD_vXA8u2k",
        "colab_type": "code",
        "colab": {}
      },
      "source": [
        "#배열 c,b 빼기함수 subtract"
      ],
      "execution_count": null,
      "outputs": []
    },
    {
      "cell_type": "code",
      "metadata": {
        "id": "VdQIkiqC8wg-",
        "colab_type": "code",
        "colab": {
          "base_uri": "https://localhost:8080/",
          "height": 35
        },
        "outputId": "71d1ddb4-662c-4007-9c88-fc28e37e3666"
      },
      "source": [
        "np.subtract(c,b)"
      ],
      "execution_count": 182,
      "outputs": [
        {
          "output_type": "execute_result",
          "data": {
            "text/plain": [
              "array([ -9, -18, -27, -36, -45])"
            ]
          },
          "metadata": {
            "tags": []
          },
          "execution_count": 182
        }
      ]
    },
    {
      "cell_type": "code",
      "metadata": {
        "id": "dP6mHiwT8w9o",
        "colab_type": "code",
        "colab": {}
      },
      "source": [
        "#배열 b,c 곱하기함수 multiply"
      ],
      "execution_count": null,
      "outputs": []
    },
    {
      "cell_type": "code",
      "metadata": {
        "id": "q6W0J8Ci8zRT",
        "colab_type": "code",
        "colab": {
          "base_uri": "https://localhost:8080/",
          "height": 35
        },
        "outputId": "26b97d75-13d6-4930-adb0-4013307c7957"
      },
      "source": [
        "np.multiply(b,c)"
      ],
      "execution_count": 183,
      "outputs": [
        {
          "output_type": "execute_result",
          "data": {
            "text/plain": [
              "array([ 10,  40,  90, 160, 250])"
            ]
          },
          "metadata": {
            "tags": []
          },
          "execution_count": 183
        }
      ]
    },
    {
      "cell_type": "code",
      "metadata": {
        "id": "b0_TBqyW8zpJ",
        "colab_type": "code",
        "colab": {}
      },
      "source": [
        "#배열 b,c 나누기함수 divide"
      ],
      "execution_count": null,
      "outputs": []
    },
    {
      "cell_type": "code",
      "metadata": {
        "id": "_-GAGSwC81nQ",
        "colab_type": "code",
        "colab": {
          "base_uri": "https://localhost:8080/",
          "height": 35
        },
        "outputId": "e061242f-0a41-4598-ad67-894b19a5f40f"
      },
      "source": [
        "np.divide(b,c)"
      ],
      "execution_count": 184,
      "outputs": [
        {
          "output_type": "execute_result",
          "data": {
            "text/plain": [
              "array([10., 10., 10., 10., 10.])"
            ]
          },
          "metadata": {
            "tags": []
          },
          "execution_count": 184
        }
      ]
    },
    {
      "cell_type": "markdown",
      "metadata": {
        "id": "CZkXai3n82Hk",
        "colab_type": "text"
      },
      "source": [
        "판다스 산술연산"
      ]
    },
    {
      "cell_type": "code",
      "metadata": {
        "id": "g02Tc5SG67dS",
        "colab_type": "code",
        "colab": {}
      },
      "source": [
        "#시리즈vs숫자 연산"
      ],
      "execution_count": null,
      "outputs": []
    },
    {
      "cell_type": "code",
      "metadata": {
        "id": "4abSCTBc682B",
        "colab_type": "code",
        "colab": {
          "base_uri": "https://localhost:8080/",
          "height": 90
        },
        "outputId": "5c7a5761-68b8-4abd-f595-1a5a7bef6b3a"
      },
      "source": [
        "sr1=pd.Series({'a':1,'b':2,'c':3}) #시리즈1\n",
        "sr1"
      ],
      "execution_count": 185,
      "outputs": [
        {
          "output_type": "execute_result",
          "data": {
            "text/plain": [
              "a    1\n",
              "b    2\n",
              "c    3\n",
              "dtype: int64"
            ]
          },
          "metadata": {
            "tags": []
          },
          "execution_count": 185
        }
      ]
    },
    {
      "cell_type": "code",
      "metadata": {
        "id": "c2bjY2CG7gFQ",
        "colab_type": "code",
        "colab": {
          "base_uri": "https://localhost:8080/",
          "height": 90
        },
        "outputId": "d433b7e8-93ec-4e4d-9569-4d08c725ce1b"
      },
      "source": [
        "sr2=pd.Series({'a':4,'b':5,'c':6}) #시리즈1\n",
        "sr2"
      ],
      "execution_count": 186,
      "outputs": [
        {
          "output_type": "execute_result",
          "data": {
            "text/plain": [
              "a    4\n",
              "b    5\n",
              "c    6\n",
              "dtype: int64"
            ]
          },
          "metadata": {
            "tags": []
          },
          "execution_count": 186
        }
      ]
    },
    {
      "cell_type": "code",
      "metadata": {
        "id": "qy9C6gmh7l4B",
        "colab_type": "code",
        "colab": {}
      },
      "source": [
        "#sr1에 5 더하기"
      ],
      "execution_count": null,
      "outputs": []
    },
    {
      "cell_type": "code",
      "metadata": {
        "id": "Bfz8QIiU7sww",
        "colab_type": "code",
        "colab": {
          "base_uri": "https://localhost:8080/",
          "height": 90
        },
        "outputId": "4de43464-3e93-4e38-bb5c-7d230d69dff6"
      },
      "source": [
        "sr1+5"
      ],
      "execution_count": 187,
      "outputs": [
        {
          "output_type": "execute_result",
          "data": {
            "text/plain": [
              "a    6\n",
              "b    7\n",
              "c    8\n",
              "dtype: int64"
            ]
          },
          "metadata": {
            "tags": []
          },
          "execution_count": 187
        }
      ]
    },
    {
      "cell_type": "code",
      "metadata": {
        "id": "pNB_NC6U7tIf",
        "colab_type": "code",
        "colab": {}
      },
      "source": [
        "#시리즈vs시리즈 연산 합구하기"
      ],
      "execution_count": null,
      "outputs": []
    },
    {
      "cell_type": "code",
      "metadata": {
        "id": "bGqglNjm7uzW",
        "colab_type": "code",
        "colab": {
          "base_uri": "https://localhost:8080/",
          "height": 90
        },
        "outputId": "d952559e-792c-4426-9ca5-c30f582dfc2e"
      },
      "source": [
        "sr1+sr2"
      ],
      "execution_count": 188,
      "outputs": [
        {
          "output_type": "execute_result",
          "data": {
            "text/plain": [
              "a    5\n",
              "b    7\n",
              "c    9\n",
              "dtype: int64"
            ]
          },
          "metadata": {
            "tags": []
          },
          "execution_count": 188
        }
      ]
    },
    {
      "cell_type": "code",
      "metadata": {
        "id": "csSJd0r074T0",
        "colab_type": "code",
        "colab": {}
      },
      "source": [
        "#NaN이 있는 시리즈 연산"
      ],
      "execution_count": null,
      "outputs": []
    },
    {
      "cell_type": "code",
      "metadata": {
        "id": "Sp-cJsPm75NE",
        "colab_type": "code",
        "colab": {}
      },
      "source": [
        "import numpy as np\n",
        "sr3=pd.Series({'a':np.nan,'b':1,'c':1}) \n",
        "sr3"
      ],
      "execution_count": null,
      "outputs": []
    },
    {
      "cell_type": "code",
      "metadata": {
        "id": "DbjQeZMn8d3c",
        "colab_type": "code",
        "colab": {}
      },
      "source": [
        "#sr2 와 sr3 데이터 합하기"
      ],
      "execution_count": null,
      "outputs": []
    },
    {
      "cell_type": "code",
      "metadata": {
        "id": "O2eaVGgT8jHZ",
        "colab_type": "code",
        "colab": {}
      },
      "source": [
        "sr2+sr3"
      ],
      "execution_count": null,
      "outputs": []
    },
    {
      "cell_type": "code",
      "metadata": {
        "id": "zchuQ6bD8mzC",
        "colab_type": "code",
        "colab": {}
      },
      "source": [
        "#데이터 프레임 vs 숫자"
      ],
      "execution_count": null,
      "outputs": []
    },
    {
      "cell_type": "code",
      "metadata": {
        "id": "pTHR1SE88pBW",
        "colab_type": "code",
        "colab": {
          "base_uri": "https://localhost:8080/",
          "height": 137
        },
        "outputId": "9c3c5277-4c7d-48d2-ab7c-9911ae743187"
      },
      "source": [
        "import pandas as pd\n",
        "df1 = pd.DataFrame({'a':[1,2,3],'b':[4,5,6],'c':[7,8,9]}, index = ['one','two','three'])\n",
        "df1"
      ],
      "execution_count": null,
      "outputs": [
        {
          "output_type": "execute_result",
          "data": {
            "text/html": [
              "<div>\n",
              "<style scoped>\n",
              "    .dataframe tbody tr th:only-of-type {\n",
              "        vertical-align: middle;\n",
              "    }\n",
              "\n",
              "    .dataframe tbody tr th {\n",
              "        vertical-align: top;\n",
              "    }\n",
              "\n",
              "    .dataframe thead th {\n",
              "        text-align: right;\n",
              "    }\n",
              "</style>\n",
              "<table border=\"1\" class=\"dataframe\">\n",
              "  <thead>\n",
              "    <tr style=\"text-align: right;\">\n",
              "      <th></th>\n",
              "      <th>a</th>\n",
              "      <th>b</th>\n",
              "      <th>c</th>\n",
              "    </tr>\n",
              "  </thead>\n",
              "  <tbody>\n",
              "    <tr>\n",
              "      <th>one</th>\n",
              "      <td>1</td>\n",
              "      <td>4</td>\n",
              "      <td>7</td>\n",
              "    </tr>\n",
              "    <tr>\n",
              "      <th>two</th>\n",
              "      <td>2</td>\n",
              "      <td>5</td>\n",
              "      <td>8</td>\n",
              "    </tr>\n",
              "    <tr>\n",
              "      <th>three</th>\n",
              "      <td>3</td>\n",
              "      <td>6</td>\n",
              "      <td>9</td>\n",
              "    </tr>\n",
              "  </tbody>\n",
              "</table>\n",
              "</div>"
            ],
            "text/plain": [
              "       a  b  c\n",
              "one    1  4  7\n",
              "two    2  5  8\n",
              "three  3  6  9"
            ]
          },
          "metadata": {
            "tags": []
          },
          "execution_count": 22
        }
      ]
    },
    {
      "cell_type": "code",
      "metadata": {
        "id": "6KeB6jPM9U0w",
        "colab_type": "code",
        "colab": {
          "base_uri": "https://localhost:8080/",
          "height": 136
        },
        "outputId": "a9dc317e-8ed4-4c8c-996a-ecdb33a1f45c"
      },
      "source": [
        "import pandas as pd\n",
        "df2 = pd.DataFrame({'a':[3,2,1],'b':[6,5,4],'c':[9,8,7]}, index = ['one','two','three'])\n",
        "df2"
      ],
      "execution_count": 189,
      "outputs": [
        {
          "output_type": "execute_result",
          "data": {
            "text/html": [
              "<div>\n",
              "<style scoped>\n",
              "    .dataframe tbody tr th:only-of-type {\n",
              "        vertical-align: middle;\n",
              "    }\n",
              "\n",
              "    .dataframe tbody tr th {\n",
              "        vertical-align: top;\n",
              "    }\n",
              "\n",
              "    .dataframe thead th {\n",
              "        text-align: right;\n",
              "    }\n",
              "</style>\n",
              "<table border=\"1\" class=\"dataframe\">\n",
              "  <thead>\n",
              "    <tr style=\"text-align: right;\">\n",
              "      <th></th>\n",
              "      <th>a</th>\n",
              "      <th>b</th>\n",
              "      <th>c</th>\n",
              "    </tr>\n",
              "  </thead>\n",
              "  <tbody>\n",
              "    <tr>\n",
              "      <th>one</th>\n",
              "      <td>3</td>\n",
              "      <td>6</td>\n",
              "      <td>9</td>\n",
              "    </tr>\n",
              "    <tr>\n",
              "      <th>two</th>\n",
              "      <td>2</td>\n",
              "      <td>5</td>\n",
              "      <td>8</td>\n",
              "    </tr>\n",
              "    <tr>\n",
              "      <th>three</th>\n",
              "      <td>1</td>\n",
              "      <td>4</td>\n",
              "      <td>7</td>\n",
              "    </tr>\n",
              "  </tbody>\n",
              "</table>\n",
              "</div>"
            ],
            "text/plain": [
              "       a  b  c\n",
              "one    3  6  9\n",
              "two    2  5  8\n",
              "three  1  4  7"
            ]
          },
          "metadata": {
            "tags": []
          },
          "execution_count": 189
        }
      ]
    },
    {
      "cell_type": "code",
      "metadata": {
        "id": "CLeENNtX9gX3",
        "colab_type": "code",
        "colab": {}
      },
      "source": [
        "#df1에서 1 빼기"
      ],
      "execution_count": null,
      "outputs": []
    },
    {
      "cell_type": "code",
      "metadata": {
        "id": "Vidof4z49kKy",
        "colab_type": "code",
        "colab": {}
      },
      "source": [
        "df-1"
      ],
      "execution_count": null,
      "outputs": []
    },
    {
      "cell_type": "code",
      "metadata": {
        "id": "dUrlCDpI9kho",
        "colab_type": "code",
        "colab": {}
      },
      "source": [
        "#데이터프레임vs데이터프레임"
      ],
      "execution_count": null,
      "outputs": []
    },
    {
      "cell_type": "code",
      "metadata": {
        "id": "5C6Biyns9nDW",
        "colab_type": "code",
        "colab": {}
      },
      "source": [
        "#데이터 프레임 간 데이터 합하기"
      ],
      "execution_count": null,
      "outputs": []
    },
    {
      "cell_type": "code",
      "metadata": {
        "id": "EOhPTcCR9txh",
        "colab_type": "code",
        "colab": {}
      },
      "source": [
        "df1+df2"
      ],
      "execution_count": null,
      "outputs": []
    },
    {
      "cell_type": "code",
      "metadata": {
        "id": "NgzwMahQ9xuN",
        "colab_type": "code",
        "colab": {}
      },
      "source": [
        "#Nan이 있는 데이터 프레임 연산"
      ],
      "execution_count": null,
      "outputs": []
    },
    {
      "cell_type": "code",
      "metadata": {
        "id": "ADHZYZ9_93Ml",
        "colab_type": "code",
        "colab": {
          "base_uri": "https://localhost:8080/",
          "height": 136
        },
        "outputId": "4bc098f8-f91f-4087-8fb3-2a0879d91449"
      },
      "source": [
        "import pandas as pd\n",
        "df3 = pd.DataFrame({'a':[1,2,3],'b':[4,5,6],'d':[7,8,9]}, index = ['one','two','three'])\n",
        "df3"
      ],
      "execution_count": 190,
      "outputs": [
        {
          "output_type": "execute_result",
          "data": {
            "text/html": [
              "<div>\n",
              "<style scoped>\n",
              "    .dataframe tbody tr th:only-of-type {\n",
              "        vertical-align: middle;\n",
              "    }\n",
              "\n",
              "    .dataframe tbody tr th {\n",
              "        vertical-align: top;\n",
              "    }\n",
              "\n",
              "    .dataframe thead th {\n",
              "        text-align: right;\n",
              "    }\n",
              "</style>\n",
              "<table border=\"1\" class=\"dataframe\">\n",
              "  <thead>\n",
              "    <tr style=\"text-align: right;\">\n",
              "      <th></th>\n",
              "      <th>a</th>\n",
              "      <th>b</th>\n",
              "      <th>d</th>\n",
              "    </tr>\n",
              "  </thead>\n",
              "  <tbody>\n",
              "    <tr>\n",
              "      <th>one</th>\n",
              "      <td>1</td>\n",
              "      <td>4</td>\n",
              "      <td>7</td>\n",
              "    </tr>\n",
              "    <tr>\n",
              "      <th>two</th>\n",
              "      <td>2</td>\n",
              "      <td>5</td>\n",
              "      <td>8</td>\n",
              "    </tr>\n",
              "    <tr>\n",
              "      <th>three</th>\n",
              "      <td>3</td>\n",
              "      <td>6</td>\n",
              "      <td>9</td>\n",
              "    </tr>\n",
              "  </tbody>\n",
              "</table>\n",
              "</div>"
            ],
            "text/plain": [
              "       a  b  d\n",
              "one    1  4  7\n",
              "two    2  5  8\n",
              "three  3  6  9"
            ]
          },
          "metadata": {
            "tags": []
          },
          "execution_count": 190
        }
      ]
    },
    {
      "cell_type": "code",
      "metadata": {
        "id": "MBvvOP2m-AKH",
        "colab_type": "code",
        "colab": {}
      },
      "source": [
        "#df2와 df3 의 합"
      ],
      "execution_count": null,
      "outputs": []
    },
    {
      "cell_type": "code",
      "metadata": {
        "id": "Dekxyhtt-C24",
        "colab_type": "code",
        "colab": {}
      },
      "source": [
        "df2+df3"
      ],
      "execution_count": null,
      "outputs": []
    },
    {
      "cell_type": "code",
      "metadata": {
        "id": "5W6D9JEM-HPP",
        "colab_type": "code",
        "colab": {}
      },
      "source": [
        "#df3의 a+b 값을 e컬럼을 만들어 df3에 추가하기"
      ],
      "execution_count": null,
      "outputs": []
    },
    {
      "cell_type": "code",
      "metadata": {
        "id": "DLH0UPnE-O5L",
        "colab_type": "code",
        "colab": {
          "base_uri": "https://localhost:8080/",
          "height": 136
        },
        "outputId": "54cf9bfc-9b29-4c4f-b351-0b4168150171"
      },
      "source": [
        "df3['e']=df3['a']+df3['b']\n",
        "df3"
      ],
      "execution_count": 191,
      "outputs": [
        {
          "output_type": "execute_result",
          "data": {
            "text/html": [
              "<div>\n",
              "<style scoped>\n",
              "    .dataframe tbody tr th:only-of-type {\n",
              "        vertical-align: middle;\n",
              "    }\n",
              "\n",
              "    .dataframe tbody tr th {\n",
              "        vertical-align: top;\n",
              "    }\n",
              "\n",
              "    .dataframe thead th {\n",
              "        text-align: right;\n",
              "    }\n",
              "</style>\n",
              "<table border=\"1\" class=\"dataframe\">\n",
              "  <thead>\n",
              "    <tr style=\"text-align: right;\">\n",
              "      <th></th>\n",
              "      <th>a</th>\n",
              "      <th>b</th>\n",
              "      <th>d</th>\n",
              "      <th>e</th>\n",
              "    </tr>\n",
              "  </thead>\n",
              "  <tbody>\n",
              "    <tr>\n",
              "      <th>one</th>\n",
              "      <td>1</td>\n",
              "      <td>4</td>\n",
              "      <td>7</td>\n",
              "      <td>5</td>\n",
              "    </tr>\n",
              "    <tr>\n",
              "      <th>two</th>\n",
              "      <td>2</td>\n",
              "      <td>5</td>\n",
              "      <td>8</td>\n",
              "      <td>7</td>\n",
              "    </tr>\n",
              "    <tr>\n",
              "      <th>three</th>\n",
              "      <td>3</td>\n",
              "      <td>6</td>\n",
              "      <td>9</td>\n",
              "      <td>9</td>\n",
              "    </tr>\n",
              "  </tbody>\n",
              "</table>\n",
              "</div>"
            ],
            "text/plain": [
              "       a  b  d  e\n",
              "one    1  4  7  5\n",
              "two    2  5  8  7\n",
              "three  3  6  9  9"
            ]
          },
          "metadata": {
            "tags": []
          },
          "execution_count": 191
        }
      ]
    },
    {
      "cell_type": "markdown",
      "metadata": {
        "id": "I9G4t0rk-akS",
        "colab_type": "text"
      },
      "source": [
        "스스로해보기"
      ]
    },
    {
      "cell_type": "code",
      "metadata": {
        "id": "lNgAwNHB88QW",
        "colab_type": "code",
        "colab": {}
      },
      "source": [
        "#시리즈vs숫자 연산"
      ],
      "execution_count": null,
      "outputs": []
    },
    {
      "cell_type": "code",
      "metadata": {
        "id": "sSGEPUNt89tE",
        "colab_type": "code",
        "colab": {
          "base_uri": "https://localhost:8080/",
          "height": 90
        },
        "outputId": "83bd8f4d-90e6-4924-9105-0dccbce6875a"
      },
      "source": [
        "lib1=pd.Series({'제주':50,'서울':100,'부산':90}) #도서관의 수\n",
        "lib1"
      ],
      "execution_count": 192,
      "outputs": [
        {
          "output_type": "execute_result",
          "data": {
            "text/plain": [
              "제주     50\n",
              "서울    100\n",
              "부산     90\n",
              "dtype: int64"
            ]
          },
          "metadata": {
            "tags": []
          },
          "execution_count": 192
        }
      ]
    },
    {
      "cell_type": "code",
      "metadata": {
        "id": "o_9oZZgc_Fq7",
        "colab_type": "code",
        "colab": {
          "base_uri": "https://localhost:8080/",
          "height": 90
        },
        "outputId": "94b76fae-514f-43ed-8841-bb4dbb9cd92d"
      },
      "source": [
        "lib2=pd.Series({'제주':2,'서울':10,'부산':7}) #1년뒤 추가된 도서관의 수\n",
        "lib2"
      ],
      "execution_count": 193,
      "outputs": [
        {
          "output_type": "execute_result",
          "data": {
            "text/plain": [
              "제주     2\n",
              "서울    10\n",
              "부산     7\n",
              "dtype: int64"
            ]
          },
          "metadata": {
            "tags": []
          },
          "execution_count": 193
        }
      ]
    },
    {
      "cell_type": "code",
      "metadata": {
        "id": "QQkDiZRCAK1D",
        "colab_type": "code",
        "colab": {}
      },
      "source": [
        "#제주, 서울, 부산 도서관의 비율(lib1/전체도서관의 수)"
      ],
      "execution_count": null,
      "outputs": []
    },
    {
      "cell_type": "code",
      "metadata": {
        "id": "QPyeSgI4_ABw",
        "colab_type": "code",
        "colab": {}
      },
      "source": [
        ""
      ],
      "execution_count": null,
      "outputs": []
    },
    {
      "cell_type": "code",
      "metadata": {
        "id": "qWATLGri-lnd",
        "colab_type": "code",
        "colab": {}
      },
      "source": [
        "#lib1데이터와 lib2데이터 합구하기"
      ],
      "execution_count": null,
      "outputs": []
    },
    {
      "cell_type": "code",
      "metadata": {
        "id": "Tp_OONY39DHq",
        "colab_type": "code",
        "colab": {
          "base_uri": "https://localhost:8080/",
          "height": 90
        },
        "outputId": "137986f7-209d-4f4a-e584-e784d2080edb"
      },
      "source": [
        "lib2 + lib1"
      ],
      "execution_count": 194,
      "outputs": [
        {
          "output_type": "execute_result",
          "data": {
            "text/plain": [
              "제주     52\n",
              "서울    110\n",
              "부산     97\n",
              "dtype: int64"
            ]
          },
          "metadata": {
            "tags": []
          },
          "execution_count": 194
        }
      ]
    },
    {
      "cell_type": "code",
      "metadata": {
        "id": "dJPaV5zuAf1f",
        "colab_type": "code",
        "colab": {}
      },
      "source": [
        "#NaN이 있는 시리즈 연산"
      ],
      "execution_count": null,
      "outputs": []
    },
    {
      "cell_type": "code",
      "metadata": {
        "id": "sf8IH3uQAqVq",
        "colab_type": "code",
        "colab": {
          "base_uri": "https://localhost:8080/",
          "height": 90
        },
        "outputId": "3bdb7379-3791-4abf-a3dd-d2b35ed530ff"
      },
      "source": [
        "lib3=pd.Series({'제주':np.nan,'서울':1,'부산':2}) #2년뒤 추가된 도서관의 수\n",
        "lib3"
      ],
      "execution_count": 195,
      "outputs": [
        {
          "output_type": "execute_result",
          "data": {
            "text/plain": [
              "제주    NaN\n",
              "서울    1.0\n",
              "부산    2.0\n",
              "dtype: float64"
            ]
          },
          "metadata": {
            "tags": []
          },
          "execution_count": 195
        }
      ]
    },
    {
      "cell_type": "code",
      "metadata": {
        "id": "HbsEsnRP-o-r",
        "colab_type": "code",
        "colab": {}
      },
      "source": [
        "#lib2와 lib3데이터 합하기, 결과확인하기"
      ],
      "execution_count": null,
      "outputs": []
    },
    {
      "cell_type": "code",
      "metadata": {
        "id": "0amunr_uA1rU",
        "colab_type": "code",
        "colab": {}
      },
      "source": [
        ""
      ],
      "execution_count": null,
      "outputs": []
    },
    {
      "cell_type": "code",
      "metadata": {
        "id": "1bb55LlNCFGA",
        "colab_type": "code",
        "colab": {}
      },
      "source": [
        "#데이터프레임vs숫자"
      ],
      "execution_count": null,
      "outputs": []
    },
    {
      "cell_type": "code",
      "metadata": {
        "id": "gfNTH8czCHfO",
        "colab_type": "code",
        "colab": {
          "base_uri": "https://localhost:8080/",
          "height": 136
        },
        "outputId": "d8897373-51b9-49b8-e25e-bd4b236494d4"
      },
      "source": [
        "import pandas as pd\n",
        "exam_data={'수학':[90,80,70],'영어':[98,85,95],'음악':[85,95,100],'체육':[100,90,90]}\n",
        "df1 = pd.DataFrame(exam_data, index = ['서준','우현','인아'])\n",
        "df1"
      ],
      "execution_count": 196,
      "outputs": [
        {
          "output_type": "execute_result",
          "data": {
            "text/html": [
              "<div>\n",
              "<style scoped>\n",
              "    .dataframe tbody tr th:only-of-type {\n",
              "        vertical-align: middle;\n",
              "    }\n",
              "\n",
              "    .dataframe tbody tr th {\n",
              "        vertical-align: top;\n",
              "    }\n",
              "\n",
              "    .dataframe thead th {\n",
              "        text-align: right;\n",
              "    }\n",
              "</style>\n",
              "<table border=\"1\" class=\"dataframe\">\n",
              "  <thead>\n",
              "    <tr style=\"text-align: right;\">\n",
              "      <th></th>\n",
              "      <th>수학</th>\n",
              "      <th>영어</th>\n",
              "      <th>음악</th>\n",
              "      <th>체육</th>\n",
              "    </tr>\n",
              "  </thead>\n",
              "  <tbody>\n",
              "    <tr>\n",
              "      <th>서준</th>\n",
              "      <td>90</td>\n",
              "      <td>98</td>\n",
              "      <td>85</td>\n",
              "      <td>100</td>\n",
              "    </tr>\n",
              "    <tr>\n",
              "      <th>우현</th>\n",
              "      <td>80</td>\n",
              "      <td>85</td>\n",
              "      <td>95</td>\n",
              "      <td>90</td>\n",
              "    </tr>\n",
              "    <tr>\n",
              "      <th>인아</th>\n",
              "      <td>70</td>\n",
              "      <td>95</td>\n",
              "      <td>100</td>\n",
              "      <td>90</td>\n",
              "    </tr>\n",
              "  </tbody>\n",
              "</table>\n",
              "</div>"
            ],
            "text/plain": [
              "    수학  영어   음악   체육\n",
              "서준  90  98   85  100\n",
              "우현  80  85   95   90\n",
              "인아  70  95  100   90"
            ]
          },
          "metadata": {
            "tags": []
          },
          "execution_count": 196
        }
      ]
    },
    {
      "cell_type": "code",
      "metadata": {
        "id": "mM0fy2IeCXg2",
        "colab_type": "code",
        "colab": {
          "base_uri": "https://localhost:8080/",
          "height": 136
        },
        "outputId": "316bdea3-804b-4cdf-b113-cb3e523940dc"
      },
      "source": [
        "import pandas as pd\n",
        "exam_data={'수학':[70,70,70],'영어':[10,20,40],'음악':[50,55,100],'체육':[70,80,10]}\n",
        "df2 = pd.DataFrame(exam_data, index = ['서준','우현','인아'])\n",
        "df2"
      ],
      "execution_count": 197,
      "outputs": [
        {
          "output_type": "execute_result",
          "data": {
            "text/html": [
              "<div>\n",
              "<style scoped>\n",
              "    .dataframe tbody tr th:only-of-type {\n",
              "        vertical-align: middle;\n",
              "    }\n",
              "\n",
              "    .dataframe tbody tr th {\n",
              "        vertical-align: top;\n",
              "    }\n",
              "\n",
              "    .dataframe thead th {\n",
              "        text-align: right;\n",
              "    }\n",
              "</style>\n",
              "<table border=\"1\" class=\"dataframe\">\n",
              "  <thead>\n",
              "    <tr style=\"text-align: right;\">\n",
              "      <th></th>\n",
              "      <th>수학</th>\n",
              "      <th>영어</th>\n",
              "      <th>음악</th>\n",
              "      <th>체육</th>\n",
              "    </tr>\n",
              "  </thead>\n",
              "  <tbody>\n",
              "    <tr>\n",
              "      <th>서준</th>\n",
              "      <td>70</td>\n",
              "      <td>10</td>\n",
              "      <td>50</td>\n",
              "      <td>70</td>\n",
              "    </tr>\n",
              "    <tr>\n",
              "      <th>우현</th>\n",
              "      <td>70</td>\n",
              "      <td>20</td>\n",
              "      <td>55</td>\n",
              "      <td>80</td>\n",
              "    </tr>\n",
              "    <tr>\n",
              "      <th>인아</th>\n",
              "      <td>70</td>\n",
              "      <td>40</td>\n",
              "      <td>100</td>\n",
              "      <td>10</td>\n",
              "    </tr>\n",
              "  </tbody>\n",
              "</table>\n",
              "</div>"
            ],
            "text/plain": [
              "    수학  영어   음악  체육\n",
              "서준  70  10   50  70\n",
              "우현  70  20   55  80\n",
              "인아  70  40  100  10"
            ]
          },
          "metadata": {
            "tags": []
          },
          "execution_count": 197
        }
      ]
    },
    {
      "cell_type": "code",
      "metadata": {
        "id": "1N5VwuswCozt",
        "colab_type": "code",
        "colab": {}
      },
      "source": [
        "#df1의 모든 점수에서 -5"
      ],
      "execution_count": null,
      "outputs": []
    },
    {
      "cell_type": "code",
      "metadata": {
        "id": "lwJG7kHHCkLh",
        "colab_type": "code",
        "colab": {
          "base_uri": "https://localhost:8080/",
          "height": 136
        },
        "outputId": "029cdc69-4816-4327-a941-afd128b4058d"
      },
      "source": [
        "df1 -5"
      ],
      "execution_count": 198,
      "outputs": [
        {
          "output_type": "execute_result",
          "data": {
            "text/html": [
              "<div>\n",
              "<style scoped>\n",
              "    .dataframe tbody tr th:only-of-type {\n",
              "        vertical-align: middle;\n",
              "    }\n",
              "\n",
              "    .dataframe tbody tr th {\n",
              "        vertical-align: top;\n",
              "    }\n",
              "\n",
              "    .dataframe thead th {\n",
              "        text-align: right;\n",
              "    }\n",
              "</style>\n",
              "<table border=\"1\" class=\"dataframe\">\n",
              "  <thead>\n",
              "    <tr style=\"text-align: right;\">\n",
              "      <th></th>\n",
              "      <th>수학</th>\n",
              "      <th>영어</th>\n",
              "      <th>음악</th>\n",
              "      <th>체육</th>\n",
              "    </tr>\n",
              "  </thead>\n",
              "  <tbody>\n",
              "    <tr>\n",
              "      <th>서준</th>\n",
              "      <td>85</td>\n",
              "      <td>93</td>\n",
              "      <td>80</td>\n",
              "      <td>95</td>\n",
              "    </tr>\n",
              "    <tr>\n",
              "      <th>우현</th>\n",
              "      <td>75</td>\n",
              "      <td>80</td>\n",
              "      <td>90</td>\n",
              "      <td>85</td>\n",
              "    </tr>\n",
              "    <tr>\n",
              "      <th>인아</th>\n",
              "      <td>65</td>\n",
              "      <td>90</td>\n",
              "      <td>95</td>\n",
              "      <td>85</td>\n",
              "    </tr>\n",
              "  </tbody>\n",
              "</table>\n",
              "</div>"
            ],
            "text/plain": [
              "    수학  영어  음악  체육\n",
              "서준  85  93  80  95\n",
              "우현  75  80  90  85\n",
              "인아  65  90  95  85"
            ]
          },
          "metadata": {
            "tags": []
          },
          "execution_count": 198
        }
      ]
    },
    {
      "cell_type": "code",
      "metadata": {
        "id": "9VW4l4Id-xQ1",
        "colab_type": "code",
        "colab": {}
      },
      "source": [
        "#df1 과 df2 데이터 합구하기"
      ],
      "execution_count": null,
      "outputs": []
    },
    {
      "cell_type": "code",
      "metadata": {
        "id": "hS1YHpzXC3Yb",
        "colab_type": "code",
        "colab": {
          "base_uri": "https://localhost:8080/",
          "height": 136
        },
        "outputId": "d64f9acc-0b66-4f2b-aa3e-ba3c06518bea"
      },
      "source": [
        "df1 + df2 "
      ],
      "execution_count": 199,
      "outputs": [
        {
          "output_type": "execute_result",
          "data": {
            "text/html": [
              "<div>\n",
              "<style scoped>\n",
              "    .dataframe tbody tr th:only-of-type {\n",
              "        vertical-align: middle;\n",
              "    }\n",
              "\n",
              "    .dataframe tbody tr th {\n",
              "        vertical-align: top;\n",
              "    }\n",
              "\n",
              "    .dataframe thead th {\n",
              "        text-align: right;\n",
              "    }\n",
              "</style>\n",
              "<table border=\"1\" class=\"dataframe\">\n",
              "  <thead>\n",
              "    <tr style=\"text-align: right;\">\n",
              "      <th></th>\n",
              "      <th>수학</th>\n",
              "      <th>영어</th>\n",
              "      <th>음악</th>\n",
              "      <th>체육</th>\n",
              "    </tr>\n",
              "  </thead>\n",
              "  <tbody>\n",
              "    <tr>\n",
              "      <th>서준</th>\n",
              "      <td>160</td>\n",
              "      <td>108</td>\n",
              "      <td>135</td>\n",
              "      <td>170</td>\n",
              "    </tr>\n",
              "    <tr>\n",
              "      <th>우현</th>\n",
              "      <td>150</td>\n",
              "      <td>105</td>\n",
              "      <td>150</td>\n",
              "      <td>170</td>\n",
              "    </tr>\n",
              "    <tr>\n",
              "      <th>인아</th>\n",
              "      <td>140</td>\n",
              "      <td>135</td>\n",
              "      <td>200</td>\n",
              "      <td>100</td>\n",
              "    </tr>\n",
              "  </tbody>\n",
              "</table>\n",
              "</div>"
            ],
            "text/plain": [
              "     수학   영어   음악   체육\n",
              "서준  160  108  135  170\n",
              "우현  150  105  150  170\n",
              "인아  140  135  200  100"
            ]
          },
          "metadata": {
            "tags": []
          },
          "execution_count": 199
        }
      ]
    },
    {
      "cell_type": "code",
      "metadata": {
        "id": "mBGBXchYDGpX",
        "colab_type": "code",
        "colab": {}
      },
      "source": [
        "#1차 시험점수, 2차 시험점수 평균 구하기"
      ],
      "execution_count": null,
      "outputs": []
    },
    {
      "cell_type": "code",
      "metadata": {
        "id": "JzCJcHJOC_zT",
        "colab_type": "code",
        "colab": {
          "base_uri": "https://localhost:8080/",
          "height": 136
        },
        "outputId": "6379b35a-343a-46a2-bd43-2fc7d93cd5ae"
      },
      "source": [
        "(df1 + df2) /2"
      ],
      "execution_count": 200,
      "outputs": [
        {
          "output_type": "execute_result",
          "data": {
            "text/html": [
              "<div>\n",
              "<style scoped>\n",
              "    .dataframe tbody tr th:only-of-type {\n",
              "        vertical-align: middle;\n",
              "    }\n",
              "\n",
              "    .dataframe tbody tr th {\n",
              "        vertical-align: top;\n",
              "    }\n",
              "\n",
              "    .dataframe thead th {\n",
              "        text-align: right;\n",
              "    }\n",
              "</style>\n",
              "<table border=\"1\" class=\"dataframe\">\n",
              "  <thead>\n",
              "    <tr style=\"text-align: right;\">\n",
              "      <th></th>\n",
              "      <th>수학</th>\n",
              "      <th>영어</th>\n",
              "      <th>음악</th>\n",
              "      <th>체육</th>\n",
              "    </tr>\n",
              "  </thead>\n",
              "  <tbody>\n",
              "    <tr>\n",
              "      <th>서준</th>\n",
              "      <td>80.0</td>\n",
              "      <td>54.0</td>\n",
              "      <td>67.5</td>\n",
              "      <td>85.0</td>\n",
              "    </tr>\n",
              "    <tr>\n",
              "      <th>우현</th>\n",
              "      <td>75.0</td>\n",
              "      <td>52.5</td>\n",
              "      <td>75.0</td>\n",
              "      <td>85.0</td>\n",
              "    </tr>\n",
              "    <tr>\n",
              "      <th>인아</th>\n",
              "      <td>70.0</td>\n",
              "      <td>67.5</td>\n",
              "      <td>100.0</td>\n",
              "      <td>50.0</td>\n",
              "    </tr>\n",
              "  </tbody>\n",
              "</table>\n",
              "</div>"
            ],
            "text/plain": [
              "      수학    영어     음악    체육\n",
              "서준  80.0  54.0   67.5  85.0\n",
              "우현  75.0  52.5   75.0  85.0\n",
              "인아  70.0  67.5  100.0  50.0"
            ]
          },
          "metadata": {
            "tags": []
          },
          "execution_count": 200
        }
      ]
    },
    {
      "cell_type": "code",
      "metadata": {
        "id": "hsV6RtiWDLOc",
        "colab_type": "code",
        "colab": {}
      },
      "source": [
        "#NaN이 있는 데이터프레임 연산"
      ],
      "execution_count": null,
      "outputs": []
    },
    {
      "cell_type": "code",
      "metadata": {
        "id": "9F7Fv7BcDR2y",
        "colab_type": "code",
        "colab": {
          "base_uri": "https://localhost:8080/",
          "height": 136
        },
        "outputId": "7152d7a9-b429-43dd-dfee-b1cea5808f5b"
      },
      "source": [
        "#Nan이 있는 df3 생성\n",
        "import pandas as pd\n",
        "exam_data={'국어':[10,70,60],'수학':[70,70,70],'영어':[10,20,40],'음악':[50,55,100],'체육':[70,80,10]}\n",
        "df3 = pd.DataFrame(exam_data, index = ['서준','우현','인아'])\n",
        "df3"
      ],
      "execution_count": 201,
      "outputs": [
        {
          "output_type": "execute_result",
          "data": {
            "text/html": [
              "<div>\n",
              "<style scoped>\n",
              "    .dataframe tbody tr th:only-of-type {\n",
              "        vertical-align: middle;\n",
              "    }\n",
              "\n",
              "    .dataframe tbody tr th {\n",
              "        vertical-align: top;\n",
              "    }\n",
              "\n",
              "    .dataframe thead th {\n",
              "        text-align: right;\n",
              "    }\n",
              "</style>\n",
              "<table border=\"1\" class=\"dataframe\">\n",
              "  <thead>\n",
              "    <tr style=\"text-align: right;\">\n",
              "      <th></th>\n",
              "      <th>국어</th>\n",
              "      <th>수학</th>\n",
              "      <th>영어</th>\n",
              "      <th>음악</th>\n",
              "      <th>체육</th>\n",
              "    </tr>\n",
              "  </thead>\n",
              "  <tbody>\n",
              "    <tr>\n",
              "      <th>서준</th>\n",
              "      <td>10</td>\n",
              "      <td>70</td>\n",
              "      <td>10</td>\n",
              "      <td>50</td>\n",
              "      <td>70</td>\n",
              "    </tr>\n",
              "    <tr>\n",
              "      <th>우현</th>\n",
              "      <td>70</td>\n",
              "      <td>70</td>\n",
              "      <td>20</td>\n",
              "      <td>55</td>\n",
              "      <td>80</td>\n",
              "    </tr>\n",
              "    <tr>\n",
              "      <th>인아</th>\n",
              "      <td>60</td>\n",
              "      <td>70</td>\n",
              "      <td>40</td>\n",
              "      <td>100</td>\n",
              "      <td>10</td>\n",
              "    </tr>\n",
              "  </tbody>\n",
              "</table>\n",
              "</div>"
            ],
            "text/plain": [
              "    국어  수학  영어   음악  체육\n",
              "서준  10  70  10   50  70\n",
              "우현  70  70  20   55  80\n",
              "인아  60  70  40  100  10"
            ]
          },
          "metadata": {
            "tags": []
          },
          "execution_count": 201
        }
      ]
    },
    {
      "cell_type": "code",
      "metadata": {
        "id": "jHeH7TLkDdOh",
        "colab_type": "code",
        "colab": {}
      },
      "source": [
        "#df2와 df3 합하여 결과 확인"
      ],
      "execution_count": null,
      "outputs": []
    },
    {
      "cell_type": "code",
      "metadata": {
        "id": "IrgkEpjoHsEf",
        "colab_type": "code",
        "colab": {}
      },
      "source": [
        ""
      ],
      "execution_count": null,
      "outputs": []
    },
    {
      "cell_type": "code",
      "metadata": {
        "id": "J3zLB8weNiXK",
        "colab_type": "code",
        "colab": {}
      },
      "source": [
        "#df3의 수학+영어 합 데이터를 df3['수영']컬럼을 만들어 추가하기"
      ],
      "execution_count": null,
      "outputs": []
    },
    {
      "cell_type": "code",
      "metadata": {
        "id": "4C2bcWHwNkRJ",
        "colab_type": "code",
        "colab": {}
      },
      "source": [
        "df['수영'] = df3['']"
      ],
      "execution_count": null,
      "outputs": []
    },
    {
      "cell_type": "markdown",
      "metadata": {
        "id": "GwOUog0cIm3Y",
        "colab_type": "text"
      },
      "source": [
        "<스스로 해보기 프로젝트>"
      ]
    },
    {
      "cell_type": "markdown",
      "metadata": {
        "id": "x0trowHkMVRi",
        "colab_type": "text"
      },
      "source": [
        "제주 인구데이터 처리하기\n",
        "'2019제주인구수 데이터에서 총 인구수가 많은 동네와 그 인구수를 구해주세요~'"
      ]
    },
    {
      "cell_type": "code",
      "metadata": {
        "id": "GdfKxn1OMiqO",
        "colab_type": "code",
        "colab": {}
      },
      "source": [
        "#판다스 라이브러리 사용하기"
      ],
      "execution_count": null,
      "outputs": []
    },
    {
      "cell_type": "code",
      "metadata": {
        "id": "D6teCv_MMlFz",
        "colab_type": "code",
        "colab": {}
      },
      "source": [
        "import pandas as pd"
      ],
      "execution_count": null,
      "outputs": []
    },
    {
      "cell_type": "code",
      "metadata": {
        "id": "xaWwDouGMn9g",
        "colab_type": "code",
        "colab": {}
      },
      "source": [
        "#엑셀 파일 불러오기"
      ],
      "execution_count": null,
      "outputs": []
    },
    {
      "cell_type": "code",
      "metadata": {
        "id": "NnRv3iPiMsHg",
        "colab_type": "code",
        "colab": {
          "base_uri": "https://localhost:8080/",
          "height": 876
        },
        "outputId": "61688385-fc87-4199-bc94-1769daaa49a5"
      },
      "source": [
        "df=pd.read_excel('/content/제주인구수.xlsx')\n",
        "df"
      ],
      "execution_count": 220,
      "outputs": [
        {
          "output_type": "execute_result",
          "data": {
            "text/html": [
              "<div>\n",
              "<style scoped>\n",
              "    .dataframe tbody tr th:only-of-type {\n",
              "        vertical-align: middle;\n",
              "    }\n",
              "\n",
              "    .dataframe tbody tr th {\n",
              "        vertical-align: top;\n",
              "    }\n",
              "\n",
              "    .dataframe thead th {\n",
              "        text-align: right;\n",
              "    }\n",
              "</style>\n",
              "<table border=\"1\" class=\"dataframe\">\n",
              "  <thead>\n",
              "    <tr style=\"text-align: right;\">\n",
              "      <th></th>\n",
              "      <th>구 분</th>\n",
              "      <th>합 계</th>\n",
              "      <th>Unnamed: 2</th>\n",
              "      <th>Unnamed: 3</th>\n",
              "      <th>내국인</th>\n",
              "      <th>Unnamed: 5</th>\n",
              "      <th>외국인</th>\n",
              "      <th>Unnamed: 7</th>\n",
              "    </tr>\n",
              "  </thead>\n",
              "  <tbody>\n",
              "    <tr>\n",
              "      <th>0</th>\n",
              "      <td>NaN</td>\n",
              "      <td>계</td>\n",
              "      <td>남</td>\n",
              "      <td>여</td>\n",
              "      <td>남</td>\n",
              "      <td>여</td>\n",
              "      <td>남</td>\n",
              "      <td>여</td>\n",
              "    </tr>\n",
              "    <tr>\n",
              "      <th>1</th>\n",
              "      <td>제 주 시</td>\n",
              "      <td>NaN</td>\n",
              "      <td>NaN</td>\n",
              "      <td>NaN</td>\n",
              "      <td>245533</td>\n",
              "      <td>243872</td>\n",
              "      <td>9123</td>\n",
              "      <td>7422</td>\n",
              "    </tr>\n",
              "    <tr>\n",
              "      <th>2</th>\n",
              "      <td>한 림 읍</td>\n",
              "      <td>NaN</td>\n",
              "      <td>NaN</td>\n",
              "      <td>NaN</td>\n",
              "      <td>11011</td>\n",
              "      <td>10354</td>\n",
              "      <td>2383</td>\n",
              "      <td>1332</td>\n",
              "    </tr>\n",
              "    <tr>\n",
              "      <th>3</th>\n",
              "      <td>애 월 읍</td>\n",
              "      <td>NaN</td>\n",
              "      <td>NaN</td>\n",
              "      <td>NaN</td>\n",
              "      <td>18718</td>\n",
              "      <td>17515</td>\n",
              "      <td>571</td>\n",
              "      <td>541</td>\n",
              "    </tr>\n",
              "    <tr>\n",
              "      <th>4</th>\n",
              "      <td>구 좌 읍</td>\n",
              "      <td>NaN</td>\n",
              "      <td>NaN</td>\n",
              "      <td>NaN</td>\n",
              "      <td>8014</td>\n",
              "      <td>7575</td>\n",
              "      <td>440</td>\n",
              "      <td>203</td>\n",
              "    </tr>\n",
              "    <tr>\n",
              "      <th>5</th>\n",
              "      <td>조 천 읍</td>\n",
              "      <td>NaN</td>\n",
              "      <td>NaN</td>\n",
              "      <td>NaN</td>\n",
              "      <td>12666</td>\n",
              "      <td>12004</td>\n",
              "      <td>374</td>\n",
              "      <td>269</td>\n",
              "    </tr>\n",
              "    <tr>\n",
              "      <th>6</th>\n",
              "      <td>한 경 면</td>\n",
              "      <td>NaN</td>\n",
              "      <td>NaN</td>\n",
              "      <td>NaN</td>\n",
              "      <td>4552</td>\n",
              "      <td>4485</td>\n",
              "      <td>261</td>\n",
              "      <td>107</td>\n",
              "    </tr>\n",
              "    <tr>\n",
              "      <th>7</th>\n",
              "      <td>추 자 면</td>\n",
              "      <td>NaN</td>\n",
              "      <td>NaN</td>\n",
              "      <td>NaN</td>\n",
              "      <td>941</td>\n",
              "      <td>792</td>\n",
              "      <td>311</td>\n",
              "      <td>13</td>\n",
              "    </tr>\n",
              "    <tr>\n",
              "      <th>8</th>\n",
              "      <td>우 도 면</td>\n",
              "      <td>NaN</td>\n",
              "      <td>NaN</td>\n",
              "      <td>NaN</td>\n",
              "      <td>974</td>\n",
              "      <td>888</td>\n",
              "      <td>19</td>\n",
              "      <td>11</td>\n",
              "    </tr>\n",
              "    <tr>\n",
              "      <th>9</th>\n",
              "      <td>일도 1동</td>\n",
              "      <td>NaN</td>\n",
              "      <td>NaN</td>\n",
              "      <td>NaN</td>\n",
              "      <td>1423</td>\n",
              "      <td>1301</td>\n",
              "      <td>43</td>\n",
              "      <td>42</td>\n",
              "    </tr>\n",
              "    <tr>\n",
              "      <th>10</th>\n",
              "      <td>일도 2동</td>\n",
              "      <td>NaN</td>\n",
              "      <td>NaN</td>\n",
              "      <td>NaN</td>\n",
              "      <td>16565</td>\n",
              "      <td>17118</td>\n",
              "      <td>102</td>\n",
              "      <td>213</td>\n",
              "    </tr>\n",
              "    <tr>\n",
              "      <th>11</th>\n",
              "      <td>이도 1동</td>\n",
              "      <td>NaN</td>\n",
              "      <td>NaN</td>\n",
              "      <td>NaN</td>\n",
              "      <td>3773</td>\n",
              "      <td>3876</td>\n",
              "      <td>56</td>\n",
              "      <td>91</td>\n",
              "    </tr>\n",
              "    <tr>\n",
              "      <th>12</th>\n",
              "      <td>이도 2동</td>\n",
              "      <td>NaN</td>\n",
              "      <td>NaN</td>\n",
              "      <td>NaN</td>\n",
              "      <td>24554</td>\n",
              "      <td>25410</td>\n",
              "      <td>305</td>\n",
              "      <td>386</td>\n",
              "    </tr>\n",
              "    <tr>\n",
              "      <th>13</th>\n",
              "      <td>삼도 1동</td>\n",
              "      <td>NaN</td>\n",
              "      <td>NaN</td>\n",
              "      <td>NaN</td>\n",
              "      <td>6788</td>\n",
              "      <td>7066</td>\n",
              "      <td>66</td>\n",
              "      <td>85</td>\n",
              "    </tr>\n",
              "    <tr>\n",
              "      <th>14</th>\n",
              "      <td>삼도 2동</td>\n",
              "      <td>NaN</td>\n",
              "      <td>NaN</td>\n",
              "      <td>NaN</td>\n",
              "      <td>4254</td>\n",
              "      <td>3920</td>\n",
              "      <td>160</td>\n",
              "      <td>99</td>\n",
              "    </tr>\n",
              "    <tr>\n",
              "      <th>15</th>\n",
              "      <td>용담 1동</td>\n",
              "      <td>NaN</td>\n",
              "      <td>NaN</td>\n",
              "      <td>NaN</td>\n",
              "      <td>3714</td>\n",
              "      <td>3511</td>\n",
              "      <td>41</td>\n",
              "      <td>49</td>\n",
              "    </tr>\n",
              "    <tr>\n",
              "      <th>16</th>\n",
              "      <td>용담 2동</td>\n",
              "      <td>NaN</td>\n",
              "      <td>NaN</td>\n",
              "      <td>NaN</td>\n",
              "      <td>7580</td>\n",
              "      <td>7494</td>\n",
              "      <td>77</td>\n",
              "      <td>177</td>\n",
              "    </tr>\n",
              "    <tr>\n",
              "      <th>17</th>\n",
              "      <td>건 입 동</td>\n",
              "      <td>NaN</td>\n",
              "      <td>NaN</td>\n",
              "      <td>NaN</td>\n",
              "      <td>4774</td>\n",
              "      <td>4537</td>\n",
              "      <td>163</td>\n",
              "      <td>97</td>\n",
              "    </tr>\n",
              "    <tr>\n",
              "      <th>18</th>\n",
              "      <td>화 북 동</td>\n",
              "      <td>NaN</td>\n",
              "      <td>NaN</td>\n",
              "      <td>NaN</td>\n",
              "      <td>12413</td>\n",
              "      <td>12442</td>\n",
              "      <td>226</td>\n",
              "      <td>190</td>\n",
              "    </tr>\n",
              "    <tr>\n",
              "      <th>19</th>\n",
              "      <td>삼 양 동</td>\n",
              "      <td>NaN</td>\n",
              "      <td>NaN</td>\n",
              "      <td>NaN</td>\n",
              "      <td>12933</td>\n",
              "      <td>12769</td>\n",
              "      <td>101</td>\n",
              "      <td>162</td>\n",
              "    </tr>\n",
              "    <tr>\n",
              "      <th>20</th>\n",
              "      <td>봉 개 동</td>\n",
              "      <td>NaN</td>\n",
              "      <td>NaN</td>\n",
              "      <td>NaN</td>\n",
              "      <td>2740</td>\n",
              "      <td>2530</td>\n",
              "      <td>42</td>\n",
              "      <td>51</td>\n",
              "    </tr>\n",
              "    <tr>\n",
              "      <th>21</th>\n",
              "      <td>아 라 동</td>\n",
              "      <td>NaN</td>\n",
              "      <td>NaN</td>\n",
              "      <td>NaN</td>\n",
              "      <td>17352</td>\n",
              "      <td>17454</td>\n",
              "      <td>615</td>\n",
              "      <td>603</td>\n",
              "    </tr>\n",
              "    <tr>\n",
              "      <th>22</th>\n",
              "      <td>오 라 동</td>\n",
              "      <td>NaN</td>\n",
              "      <td>NaN</td>\n",
              "      <td>NaN</td>\n",
              "      <td>7741</td>\n",
              "      <td>7593</td>\n",
              "      <td>122</td>\n",
              "      <td>132</td>\n",
              "    </tr>\n",
              "    <tr>\n",
              "      <th>23</th>\n",
              "      <td>연 동</td>\n",
              "      <td>NaN</td>\n",
              "      <td>NaN</td>\n",
              "      <td>NaN</td>\n",
              "      <td>20376</td>\n",
              "      <td>21137</td>\n",
              "      <td>1062</td>\n",
              "      <td>1133</td>\n",
              "    </tr>\n",
              "    <tr>\n",
              "      <th>24</th>\n",
              "      <td>노 형 동</td>\n",
              "      <td>NaN</td>\n",
              "      <td>NaN</td>\n",
              "      <td>NaN</td>\n",
              "      <td>26628</td>\n",
              "      <td>27594</td>\n",
              "      <td>1295</td>\n",
              "      <td>1094</td>\n",
              "    </tr>\n",
              "    <tr>\n",
              "      <th>25</th>\n",
              "      <td>외 도 동</td>\n",
              "      <td>NaN</td>\n",
              "      <td>NaN</td>\n",
              "      <td>NaN</td>\n",
              "      <td>11002</td>\n",
              "      <td>10799</td>\n",
              "      <td>125</td>\n",
              "      <td>182</td>\n",
              "    </tr>\n",
              "    <tr>\n",
              "      <th>26</th>\n",
              "      <td>이 호 동</td>\n",
              "      <td>NaN</td>\n",
              "      <td>NaN</td>\n",
              "      <td>NaN</td>\n",
              "      <td>2374</td>\n",
              "      <td>2195</td>\n",
              "      <td>95</td>\n",
              "      <td>100</td>\n",
              "    </tr>\n",
              "    <tr>\n",
              "      <th>27</th>\n",
              "      <td>도 두 동</td>\n",
              "      <td>NaN</td>\n",
              "      <td>NaN</td>\n",
              "      <td>NaN</td>\n",
              "      <td>1673</td>\n",
              "      <td>1513</td>\n",
              "      <td>68</td>\n",
              "      <td>60</td>\n",
              "    </tr>\n",
              "  </tbody>\n",
              "</table>\n",
              "</div>"
            ],
            "text/plain": [
              "      구 분  합 계 Unnamed: 2 Unnamed: 3     내국인 Unnamed: 5   외국인 Unnamed: 7\n",
              "0     NaN    계          남          여       남          여     남          여\n",
              "1   제 주 시  NaN        NaN        NaN  245533     243872  9123       7422\n",
              "2   한 림 읍  NaN        NaN        NaN   11011      10354  2383       1332\n",
              "3   애 월 읍  NaN        NaN        NaN   18718      17515   571        541\n",
              "4   구 좌 읍  NaN        NaN        NaN    8014       7575   440        203\n",
              "5   조 천 읍  NaN        NaN        NaN   12666      12004   374        269\n",
              "6   한 경 면  NaN        NaN        NaN    4552       4485   261        107\n",
              "7   추 자 면  NaN        NaN        NaN     941        792   311         13\n",
              "8   우 도 면  NaN        NaN        NaN     974        888    19         11\n",
              "9   일도 1동  NaN        NaN        NaN    1423       1301    43         42\n",
              "10  일도 2동  NaN        NaN        NaN   16565      17118   102        213\n",
              "11  이도 1동  NaN        NaN        NaN    3773       3876    56         91\n",
              "12  이도 2동  NaN        NaN        NaN   24554      25410   305        386\n",
              "13  삼도 1동  NaN        NaN        NaN    6788       7066    66         85\n",
              "14  삼도 2동  NaN        NaN        NaN    4254       3920   160         99\n",
              "15  용담 1동  NaN        NaN        NaN    3714       3511    41         49\n",
              "16  용담 2동  NaN        NaN        NaN    7580       7494    77        177\n",
              "17  건 입 동  NaN        NaN        NaN    4774       4537   163         97\n",
              "18  화 북 동  NaN        NaN        NaN   12413      12442   226        190\n",
              "19  삼 양 동  NaN        NaN        NaN   12933      12769   101        162\n",
              "20  봉 개 동  NaN        NaN        NaN    2740       2530    42         51\n",
              "21  아 라 동  NaN        NaN        NaN   17352      17454   615        603\n",
              "22  오 라 동  NaN        NaN        NaN    7741       7593   122        132\n",
              "23    연 동  NaN        NaN        NaN   20376      21137  1062       1133\n",
              "24  노 형 동  NaN        NaN        NaN   26628      27594  1295       1094\n",
              "25  외 도 동  NaN        NaN        NaN   11002      10799   125        182\n",
              "26  이 호 동  NaN        NaN        NaN    2374       2195    95        100\n",
              "27  도 두 동  NaN        NaN        NaN    1673       1513    68         60"
            ]
          },
          "metadata": {
            "tags": []
          },
          "execution_count": 220
        }
      ]
    },
    {
      "cell_type": "code",
      "metadata": {
        "id": "qZPHkoEyMsu4",
        "colab_type": "code",
        "colab": {}
      },
      "source": [
        "#컬럼 이름 바꾸기 ['동','계','계(남)','계(여)','내(남)','내(여)','외(남)','외(여)']"
      ],
      "execution_count": null,
      "outputs": []
    },
    {
      "cell_type": "code",
      "metadata": {
        "id": "DnRyQjmUMx_J",
        "colab_type": "code",
        "colab": {
          "base_uri": "https://localhost:8080/",
          "height": 876
        },
        "outputId": "9f29b199-b8a6-4e2a-cd58-3e3c2436b464"
      },
      "source": [
        "df.columns = ['동', '계', '계(남)', '계(여)', '내(남)', '내(여)', '외(남)', '외(여)']\n",
        "df"
      ],
      "execution_count": 221,
      "outputs": [
        {
          "output_type": "execute_result",
          "data": {
            "text/html": [
              "<div>\n",
              "<style scoped>\n",
              "    .dataframe tbody tr th:only-of-type {\n",
              "        vertical-align: middle;\n",
              "    }\n",
              "\n",
              "    .dataframe tbody tr th {\n",
              "        vertical-align: top;\n",
              "    }\n",
              "\n",
              "    .dataframe thead th {\n",
              "        text-align: right;\n",
              "    }\n",
              "</style>\n",
              "<table border=\"1\" class=\"dataframe\">\n",
              "  <thead>\n",
              "    <tr style=\"text-align: right;\">\n",
              "      <th></th>\n",
              "      <th>동</th>\n",
              "      <th>계</th>\n",
              "      <th>계(남)</th>\n",
              "      <th>계(여)</th>\n",
              "      <th>내(남)</th>\n",
              "      <th>내(여)</th>\n",
              "      <th>외(남)</th>\n",
              "      <th>외(여)</th>\n",
              "    </tr>\n",
              "  </thead>\n",
              "  <tbody>\n",
              "    <tr>\n",
              "      <th>0</th>\n",
              "      <td>NaN</td>\n",
              "      <td>계</td>\n",
              "      <td>남</td>\n",
              "      <td>여</td>\n",
              "      <td>남</td>\n",
              "      <td>여</td>\n",
              "      <td>남</td>\n",
              "      <td>여</td>\n",
              "    </tr>\n",
              "    <tr>\n",
              "      <th>1</th>\n",
              "      <td>제 주 시</td>\n",
              "      <td>NaN</td>\n",
              "      <td>NaN</td>\n",
              "      <td>NaN</td>\n",
              "      <td>245533</td>\n",
              "      <td>243872</td>\n",
              "      <td>9123</td>\n",
              "      <td>7422</td>\n",
              "    </tr>\n",
              "    <tr>\n",
              "      <th>2</th>\n",
              "      <td>한 림 읍</td>\n",
              "      <td>NaN</td>\n",
              "      <td>NaN</td>\n",
              "      <td>NaN</td>\n",
              "      <td>11011</td>\n",
              "      <td>10354</td>\n",
              "      <td>2383</td>\n",
              "      <td>1332</td>\n",
              "    </tr>\n",
              "    <tr>\n",
              "      <th>3</th>\n",
              "      <td>애 월 읍</td>\n",
              "      <td>NaN</td>\n",
              "      <td>NaN</td>\n",
              "      <td>NaN</td>\n",
              "      <td>18718</td>\n",
              "      <td>17515</td>\n",
              "      <td>571</td>\n",
              "      <td>541</td>\n",
              "    </tr>\n",
              "    <tr>\n",
              "      <th>4</th>\n",
              "      <td>구 좌 읍</td>\n",
              "      <td>NaN</td>\n",
              "      <td>NaN</td>\n",
              "      <td>NaN</td>\n",
              "      <td>8014</td>\n",
              "      <td>7575</td>\n",
              "      <td>440</td>\n",
              "      <td>203</td>\n",
              "    </tr>\n",
              "    <tr>\n",
              "      <th>5</th>\n",
              "      <td>조 천 읍</td>\n",
              "      <td>NaN</td>\n",
              "      <td>NaN</td>\n",
              "      <td>NaN</td>\n",
              "      <td>12666</td>\n",
              "      <td>12004</td>\n",
              "      <td>374</td>\n",
              "      <td>269</td>\n",
              "    </tr>\n",
              "    <tr>\n",
              "      <th>6</th>\n",
              "      <td>한 경 면</td>\n",
              "      <td>NaN</td>\n",
              "      <td>NaN</td>\n",
              "      <td>NaN</td>\n",
              "      <td>4552</td>\n",
              "      <td>4485</td>\n",
              "      <td>261</td>\n",
              "      <td>107</td>\n",
              "    </tr>\n",
              "    <tr>\n",
              "      <th>7</th>\n",
              "      <td>추 자 면</td>\n",
              "      <td>NaN</td>\n",
              "      <td>NaN</td>\n",
              "      <td>NaN</td>\n",
              "      <td>941</td>\n",
              "      <td>792</td>\n",
              "      <td>311</td>\n",
              "      <td>13</td>\n",
              "    </tr>\n",
              "    <tr>\n",
              "      <th>8</th>\n",
              "      <td>우 도 면</td>\n",
              "      <td>NaN</td>\n",
              "      <td>NaN</td>\n",
              "      <td>NaN</td>\n",
              "      <td>974</td>\n",
              "      <td>888</td>\n",
              "      <td>19</td>\n",
              "      <td>11</td>\n",
              "    </tr>\n",
              "    <tr>\n",
              "      <th>9</th>\n",
              "      <td>일도 1동</td>\n",
              "      <td>NaN</td>\n",
              "      <td>NaN</td>\n",
              "      <td>NaN</td>\n",
              "      <td>1423</td>\n",
              "      <td>1301</td>\n",
              "      <td>43</td>\n",
              "      <td>42</td>\n",
              "    </tr>\n",
              "    <tr>\n",
              "      <th>10</th>\n",
              "      <td>일도 2동</td>\n",
              "      <td>NaN</td>\n",
              "      <td>NaN</td>\n",
              "      <td>NaN</td>\n",
              "      <td>16565</td>\n",
              "      <td>17118</td>\n",
              "      <td>102</td>\n",
              "      <td>213</td>\n",
              "    </tr>\n",
              "    <tr>\n",
              "      <th>11</th>\n",
              "      <td>이도 1동</td>\n",
              "      <td>NaN</td>\n",
              "      <td>NaN</td>\n",
              "      <td>NaN</td>\n",
              "      <td>3773</td>\n",
              "      <td>3876</td>\n",
              "      <td>56</td>\n",
              "      <td>91</td>\n",
              "    </tr>\n",
              "    <tr>\n",
              "      <th>12</th>\n",
              "      <td>이도 2동</td>\n",
              "      <td>NaN</td>\n",
              "      <td>NaN</td>\n",
              "      <td>NaN</td>\n",
              "      <td>24554</td>\n",
              "      <td>25410</td>\n",
              "      <td>305</td>\n",
              "      <td>386</td>\n",
              "    </tr>\n",
              "    <tr>\n",
              "      <th>13</th>\n",
              "      <td>삼도 1동</td>\n",
              "      <td>NaN</td>\n",
              "      <td>NaN</td>\n",
              "      <td>NaN</td>\n",
              "      <td>6788</td>\n",
              "      <td>7066</td>\n",
              "      <td>66</td>\n",
              "      <td>85</td>\n",
              "    </tr>\n",
              "    <tr>\n",
              "      <th>14</th>\n",
              "      <td>삼도 2동</td>\n",
              "      <td>NaN</td>\n",
              "      <td>NaN</td>\n",
              "      <td>NaN</td>\n",
              "      <td>4254</td>\n",
              "      <td>3920</td>\n",
              "      <td>160</td>\n",
              "      <td>99</td>\n",
              "    </tr>\n",
              "    <tr>\n",
              "      <th>15</th>\n",
              "      <td>용담 1동</td>\n",
              "      <td>NaN</td>\n",
              "      <td>NaN</td>\n",
              "      <td>NaN</td>\n",
              "      <td>3714</td>\n",
              "      <td>3511</td>\n",
              "      <td>41</td>\n",
              "      <td>49</td>\n",
              "    </tr>\n",
              "    <tr>\n",
              "      <th>16</th>\n",
              "      <td>용담 2동</td>\n",
              "      <td>NaN</td>\n",
              "      <td>NaN</td>\n",
              "      <td>NaN</td>\n",
              "      <td>7580</td>\n",
              "      <td>7494</td>\n",
              "      <td>77</td>\n",
              "      <td>177</td>\n",
              "    </tr>\n",
              "    <tr>\n",
              "      <th>17</th>\n",
              "      <td>건 입 동</td>\n",
              "      <td>NaN</td>\n",
              "      <td>NaN</td>\n",
              "      <td>NaN</td>\n",
              "      <td>4774</td>\n",
              "      <td>4537</td>\n",
              "      <td>163</td>\n",
              "      <td>97</td>\n",
              "    </tr>\n",
              "    <tr>\n",
              "      <th>18</th>\n",
              "      <td>화 북 동</td>\n",
              "      <td>NaN</td>\n",
              "      <td>NaN</td>\n",
              "      <td>NaN</td>\n",
              "      <td>12413</td>\n",
              "      <td>12442</td>\n",
              "      <td>226</td>\n",
              "      <td>190</td>\n",
              "    </tr>\n",
              "    <tr>\n",
              "      <th>19</th>\n",
              "      <td>삼 양 동</td>\n",
              "      <td>NaN</td>\n",
              "      <td>NaN</td>\n",
              "      <td>NaN</td>\n",
              "      <td>12933</td>\n",
              "      <td>12769</td>\n",
              "      <td>101</td>\n",
              "      <td>162</td>\n",
              "    </tr>\n",
              "    <tr>\n",
              "      <th>20</th>\n",
              "      <td>봉 개 동</td>\n",
              "      <td>NaN</td>\n",
              "      <td>NaN</td>\n",
              "      <td>NaN</td>\n",
              "      <td>2740</td>\n",
              "      <td>2530</td>\n",
              "      <td>42</td>\n",
              "      <td>51</td>\n",
              "    </tr>\n",
              "    <tr>\n",
              "      <th>21</th>\n",
              "      <td>아 라 동</td>\n",
              "      <td>NaN</td>\n",
              "      <td>NaN</td>\n",
              "      <td>NaN</td>\n",
              "      <td>17352</td>\n",
              "      <td>17454</td>\n",
              "      <td>615</td>\n",
              "      <td>603</td>\n",
              "    </tr>\n",
              "    <tr>\n",
              "      <th>22</th>\n",
              "      <td>오 라 동</td>\n",
              "      <td>NaN</td>\n",
              "      <td>NaN</td>\n",
              "      <td>NaN</td>\n",
              "      <td>7741</td>\n",
              "      <td>7593</td>\n",
              "      <td>122</td>\n",
              "      <td>132</td>\n",
              "    </tr>\n",
              "    <tr>\n",
              "      <th>23</th>\n",
              "      <td>연 동</td>\n",
              "      <td>NaN</td>\n",
              "      <td>NaN</td>\n",
              "      <td>NaN</td>\n",
              "      <td>20376</td>\n",
              "      <td>21137</td>\n",
              "      <td>1062</td>\n",
              "      <td>1133</td>\n",
              "    </tr>\n",
              "    <tr>\n",
              "      <th>24</th>\n",
              "      <td>노 형 동</td>\n",
              "      <td>NaN</td>\n",
              "      <td>NaN</td>\n",
              "      <td>NaN</td>\n",
              "      <td>26628</td>\n",
              "      <td>27594</td>\n",
              "      <td>1295</td>\n",
              "      <td>1094</td>\n",
              "    </tr>\n",
              "    <tr>\n",
              "      <th>25</th>\n",
              "      <td>외 도 동</td>\n",
              "      <td>NaN</td>\n",
              "      <td>NaN</td>\n",
              "      <td>NaN</td>\n",
              "      <td>11002</td>\n",
              "      <td>10799</td>\n",
              "      <td>125</td>\n",
              "      <td>182</td>\n",
              "    </tr>\n",
              "    <tr>\n",
              "      <th>26</th>\n",
              "      <td>이 호 동</td>\n",
              "      <td>NaN</td>\n",
              "      <td>NaN</td>\n",
              "      <td>NaN</td>\n",
              "      <td>2374</td>\n",
              "      <td>2195</td>\n",
              "      <td>95</td>\n",
              "      <td>100</td>\n",
              "    </tr>\n",
              "    <tr>\n",
              "      <th>27</th>\n",
              "      <td>도 두 동</td>\n",
              "      <td>NaN</td>\n",
              "      <td>NaN</td>\n",
              "      <td>NaN</td>\n",
              "      <td>1673</td>\n",
              "      <td>1513</td>\n",
              "      <td>68</td>\n",
              "      <td>60</td>\n",
              "    </tr>\n",
              "  </tbody>\n",
              "</table>\n",
              "</div>"
            ],
            "text/plain": [
              "        동    계 계(남) 계(여)    내(남)    내(여)  외(남)  외(여)\n",
              "0     NaN    계    남    여       남       여     남     여\n",
              "1   제 주 시  NaN  NaN  NaN  245533  243872  9123  7422\n",
              "2   한 림 읍  NaN  NaN  NaN   11011   10354  2383  1332\n",
              "3   애 월 읍  NaN  NaN  NaN   18718   17515   571   541\n",
              "4   구 좌 읍  NaN  NaN  NaN    8014    7575   440   203\n",
              "5   조 천 읍  NaN  NaN  NaN   12666   12004   374   269\n",
              "6   한 경 면  NaN  NaN  NaN    4552    4485   261   107\n",
              "7   추 자 면  NaN  NaN  NaN     941     792   311    13\n",
              "8   우 도 면  NaN  NaN  NaN     974     888    19    11\n",
              "9   일도 1동  NaN  NaN  NaN    1423    1301    43    42\n",
              "10  일도 2동  NaN  NaN  NaN   16565   17118   102   213\n",
              "11  이도 1동  NaN  NaN  NaN    3773    3876    56    91\n",
              "12  이도 2동  NaN  NaN  NaN   24554   25410   305   386\n",
              "13  삼도 1동  NaN  NaN  NaN    6788    7066    66    85\n",
              "14  삼도 2동  NaN  NaN  NaN    4254    3920   160    99\n",
              "15  용담 1동  NaN  NaN  NaN    3714    3511    41    49\n",
              "16  용담 2동  NaN  NaN  NaN    7580    7494    77   177\n",
              "17  건 입 동  NaN  NaN  NaN    4774    4537   163    97\n",
              "18  화 북 동  NaN  NaN  NaN   12413   12442   226   190\n",
              "19  삼 양 동  NaN  NaN  NaN   12933   12769   101   162\n",
              "20  봉 개 동  NaN  NaN  NaN    2740    2530    42    51\n",
              "21  아 라 동  NaN  NaN  NaN   17352   17454   615   603\n",
              "22  오 라 동  NaN  NaN  NaN    7741    7593   122   132\n",
              "23    연 동  NaN  NaN  NaN   20376   21137  1062  1133\n",
              "24  노 형 동  NaN  NaN  NaN   26628   27594  1295  1094\n",
              "25  외 도 동  NaN  NaN  NaN   11002   10799   125   182\n",
              "26  이 호 동  NaN  NaN  NaN    2374    2195    95   100\n",
              "27  도 두 동  NaN  NaN  NaN    1673    1513    68    60"
            ]
          },
          "metadata": {
            "tags": []
          },
          "execution_count": 221
        }
      ]
    },
    {
      "cell_type": "code",
      "metadata": {
        "id": "gnIe_B_FMzmW",
        "colab_type": "code",
        "colab": {}
      },
      "source": [
        "#데이터 살펴보기"
      ],
      "execution_count": null,
      "outputs": []
    },
    {
      "cell_type": "code",
      "metadata": {
        "id": "b9bXg0-xM4Km",
        "colab_type": "code",
        "colab": {}
      },
      "source": [
        ""
      ],
      "execution_count": null,
      "outputs": []
    },
    {
      "cell_type": "code",
      "metadata": {
        "id": "nZc9uj-SM4mU",
        "colab_type": "code",
        "colab": {}
      },
      "source": [
        "#계(남)데이터 채우기"
      ],
      "execution_count": null,
      "outputs": []
    },
    {
      "cell_type": "code",
      "metadata": {
        "id": "nUBsKRyeNANb",
        "colab_type": "code",
        "colab": {
          "base_uri": "https://localhost:8080/",
          "height": 876
        },
        "outputId": "20491a80-12e8-47d6-c2ae-737f3a7c318d"
      },
      "source": [
        "df['계(남)'] = -1\n",
        "df['계(여)'] = -1\n",
        "df['계'] = -1\n",
        "df"
      ],
      "execution_count": 206,
      "outputs": [
        {
          "output_type": "execute_result",
          "data": {
            "text/html": [
              "<div>\n",
              "<style scoped>\n",
              "    .dataframe tbody tr th:only-of-type {\n",
              "        vertical-align: middle;\n",
              "    }\n",
              "\n",
              "    .dataframe tbody tr th {\n",
              "        vertical-align: top;\n",
              "    }\n",
              "\n",
              "    .dataframe thead th {\n",
              "        text-align: right;\n",
              "    }\n",
              "</style>\n",
              "<table border=\"1\" class=\"dataframe\">\n",
              "  <thead>\n",
              "    <tr style=\"text-align: right;\">\n",
              "      <th></th>\n",
              "      <th>동</th>\n",
              "      <th>계</th>\n",
              "      <th>계(남)</th>\n",
              "      <th>계(여)</th>\n",
              "      <th>내(남)</th>\n",
              "      <th>내(여)</th>\n",
              "      <th>외(남)</th>\n",
              "      <th>외(여)</th>\n",
              "    </tr>\n",
              "  </thead>\n",
              "  <tbody>\n",
              "    <tr>\n",
              "      <th>0</th>\n",
              "      <td>NaN</td>\n",
              "      <td>-1</td>\n",
              "      <td>-1</td>\n",
              "      <td>-1</td>\n",
              "      <td>남</td>\n",
              "      <td>여</td>\n",
              "      <td>남</td>\n",
              "      <td>여</td>\n",
              "    </tr>\n",
              "    <tr>\n",
              "      <th>1</th>\n",
              "      <td>제 주 시</td>\n",
              "      <td>-1</td>\n",
              "      <td>-1</td>\n",
              "      <td>-1</td>\n",
              "      <td>245533</td>\n",
              "      <td>243872</td>\n",
              "      <td>9123</td>\n",
              "      <td>7422</td>\n",
              "    </tr>\n",
              "    <tr>\n",
              "      <th>2</th>\n",
              "      <td>한 림 읍</td>\n",
              "      <td>-1</td>\n",
              "      <td>-1</td>\n",
              "      <td>-1</td>\n",
              "      <td>11011</td>\n",
              "      <td>10354</td>\n",
              "      <td>2383</td>\n",
              "      <td>1332</td>\n",
              "    </tr>\n",
              "    <tr>\n",
              "      <th>3</th>\n",
              "      <td>애 월 읍</td>\n",
              "      <td>-1</td>\n",
              "      <td>-1</td>\n",
              "      <td>-1</td>\n",
              "      <td>18718</td>\n",
              "      <td>17515</td>\n",
              "      <td>571</td>\n",
              "      <td>541</td>\n",
              "    </tr>\n",
              "    <tr>\n",
              "      <th>4</th>\n",
              "      <td>구 좌 읍</td>\n",
              "      <td>-1</td>\n",
              "      <td>-1</td>\n",
              "      <td>-1</td>\n",
              "      <td>8014</td>\n",
              "      <td>7575</td>\n",
              "      <td>440</td>\n",
              "      <td>203</td>\n",
              "    </tr>\n",
              "    <tr>\n",
              "      <th>5</th>\n",
              "      <td>조 천 읍</td>\n",
              "      <td>-1</td>\n",
              "      <td>-1</td>\n",
              "      <td>-1</td>\n",
              "      <td>12666</td>\n",
              "      <td>12004</td>\n",
              "      <td>374</td>\n",
              "      <td>269</td>\n",
              "    </tr>\n",
              "    <tr>\n",
              "      <th>6</th>\n",
              "      <td>한 경 면</td>\n",
              "      <td>-1</td>\n",
              "      <td>-1</td>\n",
              "      <td>-1</td>\n",
              "      <td>4552</td>\n",
              "      <td>4485</td>\n",
              "      <td>261</td>\n",
              "      <td>107</td>\n",
              "    </tr>\n",
              "    <tr>\n",
              "      <th>7</th>\n",
              "      <td>추 자 면</td>\n",
              "      <td>-1</td>\n",
              "      <td>-1</td>\n",
              "      <td>-1</td>\n",
              "      <td>941</td>\n",
              "      <td>792</td>\n",
              "      <td>311</td>\n",
              "      <td>13</td>\n",
              "    </tr>\n",
              "    <tr>\n",
              "      <th>8</th>\n",
              "      <td>우 도 면</td>\n",
              "      <td>-1</td>\n",
              "      <td>-1</td>\n",
              "      <td>-1</td>\n",
              "      <td>974</td>\n",
              "      <td>888</td>\n",
              "      <td>19</td>\n",
              "      <td>11</td>\n",
              "    </tr>\n",
              "    <tr>\n",
              "      <th>9</th>\n",
              "      <td>일도 1동</td>\n",
              "      <td>-1</td>\n",
              "      <td>-1</td>\n",
              "      <td>-1</td>\n",
              "      <td>1423</td>\n",
              "      <td>1301</td>\n",
              "      <td>43</td>\n",
              "      <td>42</td>\n",
              "    </tr>\n",
              "    <tr>\n",
              "      <th>10</th>\n",
              "      <td>일도 2동</td>\n",
              "      <td>-1</td>\n",
              "      <td>-1</td>\n",
              "      <td>-1</td>\n",
              "      <td>16565</td>\n",
              "      <td>17118</td>\n",
              "      <td>102</td>\n",
              "      <td>213</td>\n",
              "    </tr>\n",
              "    <tr>\n",
              "      <th>11</th>\n",
              "      <td>이도 1동</td>\n",
              "      <td>-1</td>\n",
              "      <td>-1</td>\n",
              "      <td>-1</td>\n",
              "      <td>3773</td>\n",
              "      <td>3876</td>\n",
              "      <td>56</td>\n",
              "      <td>91</td>\n",
              "    </tr>\n",
              "    <tr>\n",
              "      <th>12</th>\n",
              "      <td>이도 2동</td>\n",
              "      <td>-1</td>\n",
              "      <td>-1</td>\n",
              "      <td>-1</td>\n",
              "      <td>24554</td>\n",
              "      <td>25410</td>\n",
              "      <td>305</td>\n",
              "      <td>386</td>\n",
              "    </tr>\n",
              "    <tr>\n",
              "      <th>13</th>\n",
              "      <td>삼도 1동</td>\n",
              "      <td>-1</td>\n",
              "      <td>-1</td>\n",
              "      <td>-1</td>\n",
              "      <td>6788</td>\n",
              "      <td>7066</td>\n",
              "      <td>66</td>\n",
              "      <td>85</td>\n",
              "    </tr>\n",
              "    <tr>\n",
              "      <th>14</th>\n",
              "      <td>삼도 2동</td>\n",
              "      <td>-1</td>\n",
              "      <td>-1</td>\n",
              "      <td>-1</td>\n",
              "      <td>4254</td>\n",
              "      <td>3920</td>\n",
              "      <td>160</td>\n",
              "      <td>99</td>\n",
              "    </tr>\n",
              "    <tr>\n",
              "      <th>15</th>\n",
              "      <td>용담 1동</td>\n",
              "      <td>-1</td>\n",
              "      <td>-1</td>\n",
              "      <td>-1</td>\n",
              "      <td>3714</td>\n",
              "      <td>3511</td>\n",
              "      <td>41</td>\n",
              "      <td>49</td>\n",
              "    </tr>\n",
              "    <tr>\n",
              "      <th>16</th>\n",
              "      <td>용담 2동</td>\n",
              "      <td>-1</td>\n",
              "      <td>-1</td>\n",
              "      <td>-1</td>\n",
              "      <td>7580</td>\n",
              "      <td>7494</td>\n",
              "      <td>77</td>\n",
              "      <td>177</td>\n",
              "    </tr>\n",
              "    <tr>\n",
              "      <th>17</th>\n",
              "      <td>건 입 동</td>\n",
              "      <td>-1</td>\n",
              "      <td>-1</td>\n",
              "      <td>-1</td>\n",
              "      <td>4774</td>\n",
              "      <td>4537</td>\n",
              "      <td>163</td>\n",
              "      <td>97</td>\n",
              "    </tr>\n",
              "    <tr>\n",
              "      <th>18</th>\n",
              "      <td>화 북 동</td>\n",
              "      <td>-1</td>\n",
              "      <td>-1</td>\n",
              "      <td>-1</td>\n",
              "      <td>12413</td>\n",
              "      <td>12442</td>\n",
              "      <td>226</td>\n",
              "      <td>190</td>\n",
              "    </tr>\n",
              "    <tr>\n",
              "      <th>19</th>\n",
              "      <td>삼 양 동</td>\n",
              "      <td>-1</td>\n",
              "      <td>-1</td>\n",
              "      <td>-1</td>\n",
              "      <td>12933</td>\n",
              "      <td>12769</td>\n",
              "      <td>101</td>\n",
              "      <td>162</td>\n",
              "    </tr>\n",
              "    <tr>\n",
              "      <th>20</th>\n",
              "      <td>봉 개 동</td>\n",
              "      <td>-1</td>\n",
              "      <td>-1</td>\n",
              "      <td>-1</td>\n",
              "      <td>2740</td>\n",
              "      <td>2530</td>\n",
              "      <td>42</td>\n",
              "      <td>51</td>\n",
              "    </tr>\n",
              "    <tr>\n",
              "      <th>21</th>\n",
              "      <td>아 라 동</td>\n",
              "      <td>-1</td>\n",
              "      <td>-1</td>\n",
              "      <td>-1</td>\n",
              "      <td>17352</td>\n",
              "      <td>17454</td>\n",
              "      <td>615</td>\n",
              "      <td>603</td>\n",
              "    </tr>\n",
              "    <tr>\n",
              "      <th>22</th>\n",
              "      <td>오 라 동</td>\n",
              "      <td>-1</td>\n",
              "      <td>-1</td>\n",
              "      <td>-1</td>\n",
              "      <td>7741</td>\n",
              "      <td>7593</td>\n",
              "      <td>122</td>\n",
              "      <td>132</td>\n",
              "    </tr>\n",
              "    <tr>\n",
              "      <th>23</th>\n",
              "      <td>연 동</td>\n",
              "      <td>-1</td>\n",
              "      <td>-1</td>\n",
              "      <td>-1</td>\n",
              "      <td>20376</td>\n",
              "      <td>21137</td>\n",
              "      <td>1062</td>\n",
              "      <td>1133</td>\n",
              "    </tr>\n",
              "    <tr>\n",
              "      <th>24</th>\n",
              "      <td>노 형 동</td>\n",
              "      <td>-1</td>\n",
              "      <td>-1</td>\n",
              "      <td>-1</td>\n",
              "      <td>26628</td>\n",
              "      <td>27594</td>\n",
              "      <td>1295</td>\n",
              "      <td>1094</td>\n",
              "    </tr>\n",
              "    <tr>\n",
              "      <th>25</th>\n",
              "      <td>외 도 동</td>\n",
              "      <td>-1</td>\n",
              "      <td>-1</td>\n",
              "      <td>-1</td>\n",
              "      <td>11002</td>\n",
              "      <td>10799</td>\n",
              "      <td>125</td>\n",
              "      <td>182</td>\n",
              "    </tr>\n",
              "    <tr>\n",
              "      <th>26</th>\n",
              "      <td>이 호 동</td>\n",
              "      <td>-1</td>\n",
              "      <td>-1</td>\n",
              "      <td>-1</td>\n",
              "      <td>2374</td>\n",
              "      <td>2195</td>\n",
              "      <td>95</td>\n",
              "      <td>100</td>\n",
              "    </tr>\n",
              "    <tr>\n",
              "      <th>27</th>\n",
              "      <td>도 두 동</td>\n",
              "      <td>-1</td>\n",
              "      <td>-1</td>\n",
              "      <td>-1</td>\n",
              "      <td>1673</td>\n",
              "      <td>1513</td>\n",
              "      <td>68</td>\n",
              "      <td>60</td>\n",
              "    </tr>\n",
              "  </tbody>\n",
              "</table>\n",
              "</div>"
            ],
            "text/plain": [
              "        동  계  계(남)  계(여)    내(남)    내(여)  외(남)  외(여)\n",
              "0     NaN -1    -1    -1       남       여     남     여\n",
              "1   제 주 시 -1    -1    -1  245533  243872  9123  7422\n",
              "2   한 림 읍 -1    -1    -1   11011   10354  2383  1332\n",
              "3   애 월 읍 -1    -1    -1   18718   17515   571   541\n",
              "4   구 좌 읍 -1    -1    -1    8014    7575   440   203\n",
              "5   조 천 읍 -1    -1    -1   12666   12004   374   269\n",
              "6   한 경 면 -1    -1    -1    4552    4485   261   107\n",
              "7   추 자 면 -1    -1    -1     941     792   311    13\n",
              "8   우 도 면 -1    -1    -1     974     888    19    11\n",
              "9   일도 1동 -1    -1    -1    1423    1301    43    42\n",
              "10  일도 2동 -1    -1    -1   16565   17118   102   213\n",
              "11  이도 1동 -1    -1    -1    3773    3876    56    91\n",
              "12  이도 2동 -1    -1    -1   24554   25410   305   386\n",
              "13  삼도 1동 -1    -1    -1    6788    7066    66    85\n",
              "14  삼도 2동 -1    -1    -1    4254    3920   160    99\n",
              "15  용담 1동 -1    -1    -1    3714    3511    41    49\n",
              "16  용담 2동 -1    -1    -1    7580    7494    77   177\n",
              "17  건 입 동 -1    -1    -1    4774    4537   163    97\n",
              "18  화 북 동 -1    -1    -1   12413   12442   226   190\n",
              "19  삼 양 동 -1    -1    -1   12933   12769   101   162\n",
              "20  봉 개 동 -1    -1    -1    2740    2530    42    51\n",
              "21  아 라 동 -1    -1    -1   17352   17454   615   603\n",
              "22  오 라 동 -1    -1    -1    7741    7593   122   132\n",
              "23    연 동 -1    -1    -1   20376   21137  1062  1133\n",
              "24  노 형 동 -1    -1    -1   26628   27594  1295  1094\n",
              "25  외 도 동 -1    -1    -1   11002   10799   125   182\n",
              "26  이 호 동 -1    -1    -1    2374    2195    95   100\n",
              "27  도 두 동 -1    -1    -1    1673    1513    68    60"
            ]
          },
          "metadata": {
            "tags": []
          },
          "execution_count": 206
        }
      ]
    },
    {
      "cell_type": "code",
      "metadata": {
        "id": "GQ9MyqQ0NA2e",
        "colab_type": "code",
        "colab": {}
      },
      "source": [
        "#계(여)데이터 채우기"
      ],
      "execution_count": null,
      "outputs": []
    },
    {
      "cell_type": "code",
      "metadata": {
        "id": "ux3Adz_kNC_V",
        "colab_type": "code",
        "colab": {}
      },
      "source": [
        ""
      ],
      "execution_count": null,
      "outputs": []
    },
    {
      "cell_type": "code",
      "metadata": {
        "id": "Q4B1ea3tNFTH",
        "colab_type": "code",
        "colab": {}
      },
      "source": [
        "#계 데이터 채우기"
      ],
      "execution_count": null,
      "outputs": []
    },
    {
      "cell_type": "code",
      "metadata": {
        "id": "HQ6ohGonNJx8",
        "colab_type": "code",
        "colab": {}
      },
      "source": [
        ""
      ],
      "execution_count": null,
      "outputs": []
    },
    {
      "cell_type": "code",
      "metadata": {
        "id": "JDe3DxGWNKbj",
        "colab_type": "code",
        "colab": {}
      },
      "source": [
        "#인덱스를 동으로 변경하기"
      ],
      "execution_count": null,
      "outputs": []
    },
    {
      "cell_type": "code",
      "metadata": {
        "id": "ntt4UkzNOMWJ",
        "colab_type": "code",
        "colab": {
          "base_uri": "https://localhost:8080/",
          "height": 906
        },
        "outputId": "95acaa18-97f5-4f32-a571-3d584737d58c"
      },
      "source": [
        "df.index = df['동']\n",
        "df"
      ],
      "execution_count": 222,
      "outputs": [
        {
          "output_type": "execute_result",
          "data": {
            "text/html": [
              "<div>\n",
              "<style scoped>\n",
              "    .dataframe tbody tr th:only-of-type {\n",
              "        vertical-align: middle;\n",
              "    }\n",
              "\n",
              "    .dataframe tbody tr th {\n",
              "        vertical-align: top;\n",
              "    }\n",
              "\n",
              "    .dataframe thead th {\n",
              "        text-align: right;\n",
              "    }\n",
              "</style>\n",
              "<table border=\"1\" class=\"dataframe\">\n",
              "  <thead>\n",
              "    <tr style=\"text-align: right;\">\n",
              "      <th></th>\n",
              "      <th>동</th>\n",
              "      <th>계</th>\n",
              "      <th>계(남)</th>\n",
              "      <th>계(여)</th>\n",
              "      <th>내(남)</th>\n",
              "      <th>내(여)</th>\n",
              "      <th>외(남)</th>\n",
              "      <th>외(여)</th>\n",
              "    </tr>\n",
              "    <tr>\n",
              "      <th>동</th>\n",
              "      <th></th>\n",
              "      <th></th>\n",
              "      <th></th>\n",
              "      <th></th>\n",
              "      <th></th>\n",
              "      <th></th>\n",
              "      <th></th>\n",
              "      <th></th>\n",
              "    </tr>\n",
              "  </thead>\n",
              "  <tbody>\n",
              "    <tr>\n",
              "      <th>NaN</th>\n",
              "      <td>NaN</td>\n",
              "      <td>계</td>\n",
              "      <td>남</td>\n",
              "      <td>여</td>\n",
              "      <td>남</td>\n",
              "      <td>여</td>\n",
              "      <td>남</td>\n",
              "      <td>여</td>\n",
              "    </tr>\n",
              "    <tr>\n",
              "      <th>제 주 시</th>\n",
              "      <td>제 주 시</td>\n",
              "      <td>NaN</td>\n",
              "      <td>NaN</td>\n",
              "      <td>NaN</td>\n",
              "      <td>245533</td>\n",
              "      <td>243872</td>\n",
              "      <td>9123</td>\n",
              "      <td>7422</td>\n",
              "    </tr>\n",
              "    <tr>\n",
              "      <th>한 림 읍</th>\n",
              "      <td>한 림 읍</td>\n",
              "      <td>NaN</td>\n",
              "      <td>NaN</td>\n",
              "      <td>NaN</td>\n",
              "      <td>11011</td>\n",
              "      <td>10354</td>\n",
              "      <td>2383</td>\n",
              "      <td>1332</td>\n",
              "    </tr>\n",
              "    <tr>\n",
              "      <th>애 월 읍</th>\n",
              "      <td>애 월 읍</td>\n",
              "      <td>NaN</td>\n",
              "      <td>NaN</td>\n",
              "      <td>NaN</td>\n",
              "      <td>18718</td>\n",
              "      <td>17515</td>\n",
              "      <td>571</td>\n",
              "      <td>541</td>\n",
              "    </tr>\n",
              "    <tr>\n",
              "      <th>구 좌 읍</th>\n",
              "      <td>구 좌 읍</td>\n",
              "      <td>NaN</td>\n",
              "      <td>NaN</td>\n",
              "      <td>NaN</td>\n",
              "      <td>8014</td>\n",
              "      <td>7575</td>\n",
              "      <td>440</td>\n",
              "      <td>203</td>\n",
              "    </tr>\n",
              "    <tr>\n",
              "      <th>조 천 읍</th>\n",
              "      <td>조 천 읍</td>\n",
              "      <td>NaN</td>\n",
              "      <td>NaN</td>\n",
              "      <td>NaN</td>\n",
              "      <td>12666</td>\n",
              "      <td>12004</td>\n",
              "      <td>374</td>\n",
              "      <td>269</td>\n",
              "    </tr>\n",
              "    <tr>\n",
              "      <th>한 경 면</th>\n",
              "      <td>한 경 면</td>\n",
              "      <td>NaN</td>\n",
              "      <td>NaN</td>\n",
              "      <td>NaN</td>\n",
              "      <td>4552</td>\n",
              "      <td>4485</td>\n",
              "      <td>261</td>\n",
              "      <td>107</td>\n",
              "    </tr>\n",
              "    <tr>\n",
              "      <th>추 자 면</th>\n",
              "      <td>추 자 면</td>\n",
              "      <td>NaN</td>\n",
              "      <td>NaN</td>\n",
              "      <td>NaN</td>\n",
              "      <td>941</td>\n",
              "      <td>792</td>\n",
              "      <td>311</td>\n",
              "      <td>13</td>\n",
              "    </tr>\n",
              "    <tr>\n",
              "      <th>우 도 면</th>\n",
              "      <td>우 도 면</td>\n",
              "      <td>NaN</td>\n",
              "      <td>NaN</td>\n",
              "      <td>NaN</td>\n",
              "      <td>974</td>\n",
              "      <td>888</td>\n",
              "      <td>19</td>\n",
              "      <td>11</td>\n",
              "    </tr>\n",
              "    <tr>\n",
              "      <th>일도 1동</th>\n",
              "      <td>일도 1동</td>\n",
              "      <td>NaN</td>\n",
              "      <td>NaN</td>\n",
              "      <td>NaN</td>\n",
              "      <td>1423</td>\n",
              "      <td>1301</td>\n",
              "      <td>43</td>\n",
              "      <td>42</td>\n",
              "    </tr>\n",
              "    <tr>\n",
              "      <th>일도 2동</th>\n",
              "      <td>일도 2동</td>\n",
              "      <td>NaN</td>\n",
              "      <td>NaN</td>\n",
              "      <td>NaN</td>\n",
              "      <td>16565</td>\n",
              "      <td>17118</td>\n",
              "      <td>102</td>\n",
              "      <td>213</td>\n",
              "    </tr>\n",
              "    <tr>\n",
              "      <th>이도 1동</th>\n",
              "      <td>이도 1동</td>\n",
              "      <td>NaN</td>\n",
              "      <td>NaN</td>\n",
              "      <td>NaN</td>\n",
              "      <td>3773</td>\n",
              "      <td>3876</td>\n",
              "      <td>56</td>\n",
              "      <td>91</td>\n",
              "    </tr>\n",
              "    <tr>\n",
              "      <th>이도 2동</th>\n",
              "      <td>이도 2동</td>\n",
              "      <td>NaN</td>\n",
              "      <td>NaN</td>\n",
              "      <td>NaN</td>\n",
              "      <td>24554</td>\n",
              "      <td>25410</td>\n",
              "      <td>305</td>\n",
              "      <td>386</td>\n",
              "    </tr>\n",
              "    <tr>\n",
              "      <th>삼도 1동</th>\n",
              "      <td>삼도 1동</td>\n",
              "      <td>NaN</td>\n",
              "      <td>NaN</td>\n",
              "      <td>NaN</td>\n",
              "      <td>6788</td>\n",
              "      <td>7066</td>\n",
              "      <td>66</td>\n",
              "      <td>85</td>\n",
              "    </tr>\n",
              "    <tr>\n",
              "      <th>삼도 2동</th>\n",
              "      <td>삼도 2동</td>\n",
              "      <td>NaN</td>\n",
              "      <td>NaN</td>\n",
              "      <td>NaN</td>\n",
              "      <td>4254</td>\n",
              "      <td>3920</td>\n",
              "      <td>160</td>\n",
              "      <td>99</td>\n",
              "    </tr>\n",
              "    <tr>\n",
              "      <th>용담 1동</th>\n",
              "      <td>용담 1동</td>\n",
              "      <td>NaN</td>\n",
              "      <td>NaN</td>\n",
              "      <td>NaN</td>\n",
              "      <td>3714</td>\n",
              "      <td>3511</td>\n",
              "      <td>41</td>\n",
              "      <td>49</td>\n",
              "    </tr>\n",
              "    <tr>\n",
              "      <th>용담 2동</th>\n",
              "      <td>용담 2동</td>\n",
              "      <td>NaN</td>\n",
              "      <td>NaN</td>\n",
              "      <td>NaN</td>\n",
              "      <td>7580</td>\n",
              "      <td>7494</td>\n",
              "      <td>77</td>\n",
              "      <td>177</td>\n",
              "    </tr>\n",
              "    <tr>\n",
              "      <th>건 입 동</th>\n",
              "      <td>건 입 동</td>\n",
              "      <td>NaN</td>\n",
              "      <td>NaN</td>\n",
              "      <td>NaN</td>\n",
              "      <td>4774</td>\n",
              "      <td>4537</td>\n",
              "      <td>163</td>\n",
              "      <td>97</td>\n",
              "    </tr>\n",
              "    <tr>\n",
              "      <th>화 북 동</th>\n",
              "      <td>화 북 동</td>\n",
              "      <td>NaN</td>\n",
              "      <td>NaN</td>\n",
              "      <td>NaN</td>\n",
              "      <td>12413</td>\n",
              "      <td>12442</td>\n",
              "      <td>226</td>\n",
              "      <td>190</td>\n",
              "    </tr>\n",
              "    <tr>\n",
              "      <th>삼 양 동</th>\n",
              "      <td>삼 양 동</td>\n",
              "      <td>NaN</td>\n",
              "      <td>NaN</td>\n",
              "      <td>NaN</td>\n",
              "      <td>12933</td>\n",
              "      <td>12769</td>\n",
              "      <td>101</td>\n",
              "      <td>162</td>\n",
              "    </tr>\n",
              "    <tr>\n",
              "      <th>봉 개 동</th>\n",
              "      <td>봉 개 동</td>\n",
              "      <td>NaN</td>\n",
              "      <td>NaN</td>\n",
              "      <td>NaN</td>\n",
              "      <td>2740</td>\n",
              "      <td>2530</td>\n",
              "      <td>42</td>\n",
              "      <td>51</td>\n",
              "    </tr>\n",
              "    <tr>\n",
              "      <th>아 라 동</th>\n",
              "      <td>아 라 동</td>\n",
              "      <td>NaN</td>\n",
              "      <td>NaN</td>\n",
              "      <td>NaN</td>\n",
              "      <td>17352</td>\n",
              "      <td>17454</td>\n",
              "      <td>615</td>\n",
              "      <td>603</td>\n",
              "    </tr>\n",
              "    <tr>\n",
              "      <th>오 라 동</th>\n",
              "      <td>오 라 동</td>\n",
              "      <td>NaN</td>\n",
              "      <td>NaN</td>\n",
              "      <td>NaN</td>\n",
              "      <td>7741</td>\n",
              "      <td>7593</td>\n",
              "      <td>122</td>\n",
              "      <td>132</td>\n",
              "    </tr>\n",
              "    <tr>\n",
              "      <th>연 동</th>\n",
              "      <td>연 동</td>\n",
              "      <td>NaN</td>\n",
              "      <td>NaN</td>\n",
              "      <td>NaN</td>\n",
              "      <td>20376</td>\n",
              "      <td>21137</td>\n",
              "      <td>1062</td>\n",
              "      <td>1133</td>\n",
              "    </tr>\n",
              "    <tr>\n",
              "      <th>노 형 동</th>\n",
              "      <td>노 형 동</td>\n",
              "      <td>NaN</td>\n",
              "      <td>NaN</td>\n",
              "      <td>NaN</td>\n",
              "      <td>26628</td>\n",
              "      <td>27594</td>\n",
              "      <td>1295</td>\n",
              "      <td>1094</td>\n",
              "    </tr>\n",
              "    <tr>\n",
              "      <th>외 도 동</th>\n",
              "      <td>외 도 동</td>\n",
              "      <td>NaN</td>\n",
              "      <td>NaN</td>\n",
              "      <td>NaN</td>\n",
              "      <td>11002</td>\n",
              "      <td>10799</td>\n",
              "      <td>125</td>\n",
              "      <td>182</td>\n",
              "    </tr>\n",
              "    <tr>\n",
              "      <th>이 호 동</th>\n",
              "      <td>이 호 동</td>\n",
              "      <td>NaN</td>\n",
              "      <td>NaN</td>\n",
              "      <td>NaN</td>\n",
              "      <td>2374</td>\n",
              "      <td>2195</td>\n",
              "      <td>95</td>\n",
              "      <td>100</td>\n",
              "    </tr>\n",
              "    <tr>\n",
              "      <th>도 두 동</th>\n",
              "      <td>도 두 동</td>\n",
              "      <td>NaN</td>\n",
              "      <td>NaN</td>\n",
              "      <td>NaN</td>\n",
              "      <td>1673</td>\n",
              "      <td>1513</td>\n",
              "      <td>68</td>\n",
              "      <td>60</td>\n",
              "    </tr>\n",
              "  </tbody>\n",
              "</table>\n",
              "</div>"
            ],
            "text/plain": [
              "           동    계 계(남) 계(여)    내(남)    내(여)  외(남)  외(여)\n",
              "동                                                      \n",
              "NaN      NaN    계    남    여       남       여     남     여\n",
              "제 주 시  제 주 시  NaN  NaN  NaN  245533  243872  9123  7422\n",
              "한 림 읍  한 림 읍  NaN  NaN  NaN   11011   10354  2383  1332\n",
              "애 월 읍  애 월 읍  NaN  NaN  NaN   18718   17515   571   541\n",
              "구 좌 읍  구 좌 읍  NaN  NaN  NaN    8014    7575   440   203\n",
              "조 천 읍  조 천 읍  NaN  NaN  NaN   12666   12004   374   269\n",
              "한 경 면  한 경 면  NaN  NaN  NaN    4552    4485   261   107\n",
              "추 자 면  추 자 면  NaN  NaN  NaN     941     792   311    13\n",
              "우 도 면  우 도 면  NaN  NaN  NaN     974     888    19    11\n",
              "일도 1동  일도 1동  NaN  NaN  NaN    1423    1301    43    42\n",
              "일도 2동  일도 2동  NaN  NaN  NaN   16565   17118   102   213\n",
              "이도 1동  이도 1동  NaN  NaN  NaN    3773    3876    56    91\n",
              "이도 2동  이도 2동  NaN  NaN  NaN   24554   25410   305   386\n",
              "삼도 1동  삼도 1동  NaN  NaN  NaN    6788    7066    66    85\n",
              "삼도 2동  삼도 2동  NaN  NaN  NaN    4254    3920   160    99\n",
              "용담 1동  용담 1동  NaN  NaN  NaN    3714    3511    41    49\n",
              "용담 2동  용담 2동  NaN  NaN  NaN    7580    7494    77   177\n",
              "건 입 동  건 입 동  NaN  NaN  NaN    4774    4537   163    97\n",
              "화 북 동  화 북 동  NaN  NaN  NaN   12413   12442   226   190\n",
              "삼 양 동  삼 양 동  NaN  NaN  NaN   12933   12769   101   162\n",
              "봉 개 동  봉 개 동  NaN  NaN  NaN    2740    2530    42    51\n",
              "아 라 동  아 라 동  NaN  NaN  NaN   17352   17454   615   603\n",
              "오 라 동  오 라 동  NaN  NaN  NaN    7741    7593   122   132\n",
              "연 동      연 동  NaN  NaN  NaN   20376   21137  1062  1133\n",
              "노 형 동  노 형 동  NaN  NaN  NaN   26628   27594  1295  1094\n",
              "외 도 동  외 도 동  NaN  NaN  NaN   11002   10799   125   182\n",
              "이 호 동  이 호 동  NaN  NaN  NaN    2374    2195    95   100\n",
              "도 두 동  도 두 동  NaN  NaN  NaN    1673    1513    68    60"
            ]
          },
          "metadata": {
            "tags": []
          },
          "execution_count": 222
        }
      ]
    },
    {
      "cell_type": "code",
      "metadata": {
        "id": "MkHC-sF9OM6v",
        "colab_type": "code",
        "colab": {}
      },
      "source": [
        "#df1데이터에서 '제 주 시' 인덱스 삭제하여 df2에 저장"
      ],
      "execution_count": null,
      "outputs": []
    },
    {
      "cell_type": "code",
      "metadata": {
        "id": "QabiKfcsOSUV",
        "colab_type": "code",
        "colab": {}
      },
      "source": [
        ""
      ],
      "execution_count": null,
      "outputs": []
    },
    {
      "cell_type": "code",
      "metadata": {
        "id": "R17QuuDTOUQ_",
        "colab_type": "code",
        "colab": {}
      },
      "source": [
        "#df1데이터를 가나다 순 정렬하여 df3에 저장"
      ],
      "execution_count": null,
      "outputs": []
    },
    {
      "cell_type": "code",
      "metadata": {
        "id": "EGpzbTGOOVz4",
        "colab_type": "code",
        "colab": {
          "base_uri": "https://localhost:8080/",
          "height": 906
        },
        "outputId": "d0d5efcb-15cb-4d0a-fd34-396ea8a606a4"
      },
      "source": [
        "df3 = df.sort_index()\n",
        "df3"
      ],
      "execution_count": 208,
      "outputs": [
        {
          "output_type": "execute_result",
          "data": {
            "text/html": [
              "<div>\n",
              "<style scoped>\n",
              "    .dataframe tbody tr th:only-of-type {\n",
              "        vertical-align: middle;\n",
              "    }\n",
              "\n",
              "    .dataframe tbody tr th {\n",
              "        vertical-align: top;\n",
              "    }\n",
              "\n",
              "    .dataframe thead th {\n",
              "        text-align: right;\n",
              "    }\n",
              "</style>\n",
              "<table border=\"1\" class=\"dataframe\">\n",
              "  <thead>\n",
              "    <tr style=\"text-align: right;\">\n",
              "      <th></th>\n",
              "      <th>동</th>\n",
              "      <th>계</th>\n",
              "      <th>계(남)</th>\n",
              "      <th>계(여)</th>\n",
              "      <th>내(남)</th>\n",
              "      <th>내(여)</th>\n",
              "      <th>외(남)</th>\n",
              "      <th>외(여)</th>\n",
              "    </tr>\n",
              "    <tr>\n",
              "      <th>동</th>\n",
              "      <th></th>\n",
              "      <th></th>\n",
              "      <th></th>\n",
              "      <th></th>\n",
              "      <th></th>\n",
              "      <th></th>\n",
              "      <th></th>\n",
              "      <th></th>\n",
              "    </tr>\n",
              "  </thead>\n",
              "  <tbody>\n",
              "    <tr>\n",
              "      <th>건 입 동</th>\n",
              "      <td>건 입 동</td>\n",
              "      <td>-1</td>\n",
              "      <td>-1</td>\n",
              "      <td>-1</td>\n",
              "      <td>4774</td>\n",
              "      <td>4537</td>\n",
              "      <td>163</td>\n",
              "      <td>97</td>\n",
              "    </tr>\n",
              "    <tr>\n",
              "      <th>구 좌 읍</th>\n",
              "      <td>구 좌 읍</td>\n",
              "      <td>-1</td>\n",
              "      <td>-1</td>\n",
              "      <td>-1</td>\n",
              "      <td>8014</td>\n",
              "      <td>7575</td>\n",
              "      <td>440</td>\n",
              "      <td>203</td>\n",
              "    </tr>\n",
              "    <tr>\n",
              "      <th>노 형 동</th>\n",
              "      <td>노 형 동</td>\n",
              "      <td>-1</td>\n",
              "      <td>-1</td>\n",
              "      <td>-1</td>\n",
              "      <td>26628</td>\n",
              "      <td>27594</td>\n",
              "      <td>1295</td>\n",
              "      <td>1094</td>\n",
              "    </tr>\n",
              "    <tr>\n",
              "      <th>도 두 동</th>\n",
              "      <td>도 두 동</td>\n",
              "      <td>-1</td>\n",
              "      <td>-1</td>\n",
              "      <td>-1</td>\n",
              "      <td>1673</td>\n",
              "      <td>1513</td>\n",
              "      <td>68</td>\n",
              "      <td>60</td>\n",
              "    </tr>\n",
              "    <tr>\n",
              "      <th>봉 개 동</th>\n",
              "      <td>봉 개 동</td>\n",
              "      <td>-1</td>\n",
              "      <td>-1</td>\n",
              "      <td>-1</td>\n",
              "      <td>2740</td>\n",
              "      <td>2530</td>\n",
              "      <td>42</td>\n",
              "      <td>51</td>\n",
              "    </tr>\n",
              "    <tr>\n",
              "      <th>삼 양 동</th>\n",
              "      <td>삼 양 동</td>\n",
              "      <td>-1</td>\n",
              "      <td>-1</td>\n",
              "      <td>-1</td>\n",
              "      <td>12933</td>\n",
              "      <td>12769</td>\n",
              "      <td>101</td>\n",
              "      <td>162</td>\n",
              "    </tr>\n",
              "    <tr>\n",
              "      <th>삼도 1동</th>\n",
              "      <td>삼도 1동</td>\n",
              "      <td>-1</td>\n",
              "      <td>-1</td>\n",
              "      <td>-1</td>\n",
              "      <td>6788</td>\n",
              "      <td>7066</td>\n",
              "      <td>66</td>\n",
              "      <td>85</td>\n",
              "    </tr>\n",
              "    <tr>\n",
              "      <th>삼도 2동</th>\n",
              "      <td>삼도 2동</td>\n",
              "      <td>-1</td>\n",
              "      <td>-1</td>\n",
              "      <td>-1</td>\n",
              "      <td>4254</td>\n",
              "      <td>3920</td>\n",
              "      <td>160</td>\n",
              "      <td>99</td>\n",
              "    </tr>\n",
              "    <tr>\n",
              "      <th>아 라 동</th>\n",
              "      <td>아 라 동</td>\n",
              "      <td>-1</td>\n",
              "      <td>-1</td>\n",
              "      <td>-1</td>\n",
              "      <td>17352</td>\n",
              "      <td>17454</td>\n",
              "      <td>615</td>\n",
              "      <td>603</td>\n",
              "    </tr>\n",
              "    <tr>\n",
              "      <th>애 월 읍</th>\n",
              "      <td>애 월 읍</td>\n",
              "      <td>-1</td>\n",
              "      <td>-1</td>\n",
              "      <td>-1</td>\n",
              "      <td>18718</td>\n",
              "      <td>17515</td>\n",
              "      <td>571</td>\n",
              "      <td>541</td>\n",
              "    </tr>\n",
              "    <tr>\n",
              "      <th>연 동</th>\n",
              "      <td>연 동</td>\n",
              "      <td>-1</td>\n",
              "      <td>-1</td>\n",
              "      <td>-1</td>\n",
              "      <td>20376</td>\n",
              "      <td>21137</td>\n",
              "      <td>1062</td>\n",
              "      <td>1133</td>\n",
              "    </tr>\n",
              "    <tr>\n",
              "      <th>오 라 동</th>\n",
              "      <td>오 라 동</td>\n",
              "      <td>-1</td>\n",
              "      <td>-1</td>\n",
              "      <td>-1</td>\n",
              "      <td>7741</td>\n",
              "      <td>7593</td>\n",
              "      <td>122</td>\n",
              "      <td>132</td>\n",
              "    </tr>\n",
              "    <tr>\n",
              "      <th>외 도 동</th>\n",
              "      <td>외 도 동</td>\n",
              "      <td>-1</td>\n",
              "      <td>-1</td>\n",
              "      <td>-1</td>\n",
              "      <td>11002</td>\n",
              "      <td>10799</td>\n",
              "      <td>125</td>\n",
              "      <td>182</td>\n",
              "    </tr>\n",
              "    <tr>\n",
              "      <th>용담 1동</th>\n",
              "      <td>용담 1동</td>\n",
              "      <td>-1</td>\n",
              "      <td>-1</td>\n",
              "      <td>-1</td>\n",
              "      <td>3714</td>\n",
              "      <td>3511</td>\n",
              "      <td>41</td>\n",
              "      <td>49</td>\n",
              "    </tr>\n",
              "    <tr>\n",
              "      <th>용담 2동</th>\n",
              "      <td>용담 2동</td>\n",
              "      <td>-1</td>\n",
              "      <td>-1</td>\n",
              "      <td>-1</td>\n",
              "      <td>7580</td>\n",
              "      <td>7494</td>\n",
              "      <td>77</td>\n",
              "      <td>177</td>\n",
              "    </tr>\n",
              "    <tr>\n",
              "      <th>우 도 면</th>\n",
              "      <td>우 도 면</td>\n",
              "      <td>-1</td>\n",
              "      <td>-1</td>\n",
              "      <td>-1</td>\n",
              "      <td>974</td>\n",
              "      <td>888</td>\n",
              "      <td>19</td>\n",
              "      <td>11</td>\n",
              "    </tr>\n",
              "    <tr>\n",
              "      <th>이 호 동</th>\n",
              "      <td>이 호 동</td>\n",
              "      <td>-1</td>\n",
              "      <td>-1</td>\n",
              "      <td>-1</td>\n",
              "      <td>2374</td>\n",
              "      <td>2195</td>\n",
              "      <td>95</td>\n",
              "      <td>100</td>\n",
              "    </tr>\n",
              "    <tr>\n",
              "      <th>이도 1동</th>\n",
              "      <td>이도 1동</td>\n",
              "      <td>-1</td>\n",
              "      <td>-1</td>\n",
              "      <td>-1</td>\n",
              "      <td>3773</td>\n",
              "      <td>3876</td>\n",
              "      <td>56</td>\n",
              "      <td>91</td>\n",
              "    </tr>\n",
              "    <tr>\n",
              "      <th>이도 2동</th>\n",
              "      <td>이도 2동</td>\n",
              "      <td>-1</td>\n",
              "      <td>-1</td>\n",
              "      <td>-1</td>\n",
              "      <td>24554</td>\n",
              "      <td>25410</td>\n",
              "      <td>305</td>\n",
              "      <td>386</td>\n",
              "    </tr>\n",
              "    <tr>\n",
              "      <th>일도 1동</th>\n",
              "      <td>일도 1동</td>\n",
              "      <td>-1</td>\n",
              "      <td>-1</td>\n",
              "      <td>-1</td>\n",
              "      <td>1423</td>\n",
              "      <td>1301</td>\n",
              "      <td>43</td>\n",
              "      <td>42</td>\n",
              "    </tr>\n",
              "    <tr>\n",
              "      <th>일도 2동</th>\n",
              "      <td>일도 2동</td>\n",
              "      <td>-1</td>\n",
              "      <td>-1</td>\n",
              "      <td>-1</td>\n",
              "      <td>16565</td>\n",
              "      <td>17118</td>\n",
              "      <td>102</td>\n",
              "      <td>213</td>\n",
              "    </tr>\n",
              "    <tr>\n",
              "      <th>제 주 시</th>\n",
              "      <td>제 주 시</td>\n",
              "      <td>-1</td>\n",
              "      <td>-1</td>\n",
              "      <td>-1</td>\n",
              "      <td>245533</td>\n",
              "      <td>243872</td>\n",
              "      <td>9123</td>\n",
              "      <td>7422</td>\n",
              "    </tr>\n",
              "    <tr>\n",
              "      <th>조 천 읍</th>\n",
              "      <td>조 천 읍</td>\n",
              "      <td>-1</td>\n",
              "      <td>-1</td>\n",
              "      <td>-1</td>\n",
              "      <td>12666</td>\n",
              "      <td>12004</td>\n",
              "      <td>374</td>\n",
              "      <td>269</td>\n",
              "    </tr>\n",
              "    <tr>\n",
              "      <th>추 자 면</th>\n",
              "      <td>추 자 면</td>\n",
              "      <td>-1</td>\n",
              "      <td>-1</td>\n",
              "      <td>-1</td>\n",
              "      <td>941</td>\n",
              "      <td>792</td>\n",
              "      <td>311</td>\n",
              "      <td>13</td>\n",
              "    </tr>\n",
              "    <tr>\n",
              "      <th>한 경 면</th>\n",
              "      <td>한 경 면</td>\n",
              "      <td>-1</td>\n",
              "      <td>-1</td>\n",
              "      <td>-1</td>\n",
              "      <td>4552</td>\n",
              "      <td>4485</td>\n",
              "      <td>261</td>\n",
              "      <td>107</td>\n",
              "    </tr>\n",
              "    <tr>\n",
              "      <th>한 림 읍</th>\n",
              "      <td>한 림 읍</td>\n",
              "      <td>-1</td>\n",
              "      <td>-1</td>\n",
              "      <td>-1</td>\n",
              "      <td>11011</td>\n",
              "      <td>10354</td>\n",
              "      <td>2383</td>\n",
              "      <td>1332</td>\n",
              "    </tr>\n",
              "    <tr>\n",
              "      <th>화 북 동</th>\n",
              "      <td>화 북 동</td>\n",
              "      <td>-1</td>\n",
              "      <td>-1</td>\n",
              "      <td>-1</td>\n",
              "      <td>12413</td>\n",
              "      <td>12442</td>\n",
              "      <td>226</td>\n",
              "      <td>190</td>\n",
              "    </tr>\n",
              "    <tr>\n",
              "      <th>NaN</th>\n",
              "      <td>NaN</td>\n",
              "      <td>-1</td>\n",
              "      <td>-1</td>\n",
              "      <td>-1</td>\n",
              "      <td>남</td>\n",
              "      <td>여</td>\n",
              "      <td>남</td>\n",
              "      <td>여</td>\n",
              "    </tr>\n",
              "  </tbody>\n",
              "</table>\n",
              "</div>"
            ],
            "text/plain": [
              "           동  계  계(남)  계(여)    내(남)    내(여)  외(남)  외(여)\n",
              "동                                                      \n",
              "건 입 동  건 입 동 -1    -1    -1    4774    4537   163    97\n",
              "구 좌 읍  구 좌 읍 -1    -1    -1    8014    7575   440   203\n",
              "노 형 동  노 형 동 -1    -1    -1   26628   27594  1295  1094\n",
              "도 두 동  도 두 동 -1    -1    -1    1673    1513    68    60\n",
              "봉 개 동  봉 개 동 -1    -1    -1    2740    2530    42    51\n",
              "삼 양 동  삼 양 동 -1    -1    -1   12933   12769   101   162\n",
              "삼도 1동  삼도 1동 -1    -1    -1    6788    7066    66    85\n",
              "삼도 2동  삼도 2동 -1    -1    -1    4254    3920   160    99\n",
              "아 라 동  아 라 동 -1    -1    -1   17352   17454   615   603\n",
              "애 월 읍  애 월 읍 -1    -1    -1   18718   17515   571   541\n",
              "연 동      연 동 -1    -1    -1   20376   21137  1062  1133\n",
              "오 라 동  오 라 동 -1    -1    -1    7741    7593   122   132\n",
              "외 도 동  외 도 동 -1    -1    -1   11002   10799   125   182\n",
              "용담 1동  용담 1동 -1    -1    -1    3714    3511    41    49\n",
              "용담 2동  용담 2동 -1    -1    -1    7580    7494    77   177\n",
              "우 도 면  우 도 면 -1    -1    -1     974     888    19    11\n",
              "이 호 동  이 호 동 -1    -1    -1    2374    2195    95   100\n",
              "이도 1동  이도 1동 -1    -1    -1    3773    3876    56    91\n",
              "이도 2동  이도 2동 -1    -1    -1   24554   25410   305   386\n",
              "일도 1동  일도 1동 -1    -1    -1    1423    1301    43    42\n",
              "일도 2동  일도 2동 -1    -1    -1   16565   17118   102   213\n",
              "제 주 시  제 주 시 -1    -1    -1  245533  243872  9123  7422\n",
              "조 천 읍  조 천 읍 -1    -1    -1   12666   12004   374   269\n",
              "추 자 면  추 자 면 -1    -1    -1     941     792   311    13\n",
              "한 경 면  한 경 면 -1    -1    -1    4552    4485   261   107\n",
              "한 림 읍  한 림 읍 -1    -1    -1   11011   10354  2383  1332\n",
              "화 북 동  화 북 동 -1    -1    -1   12413   12442   226   190\n",
              "NaN      NaN -1    -1    -1       남       여     남     여"
            ]
          },
          "metadata": {
            "tags": []
          },
          "execution_count": 208
        }
      ]
    },
    {
      "cell_type": "code",
      "metadata": {
        "id": "mMmSbF1FOWco",
        "colab_type": "code",
        "colab": {
          "base_uri": "https://localhost:8080/",
          "height": 876
        },
        "outputId": "e5ab13ad-fc4f-479a-ed2a-80ff9b98ffd1"
      },
      "source": [
        "#df2에서 전체 인구가 가장 많은 동 을 정렬하고 df4에 저장\n",
        "df.drop([df.index[0]], axis = 0)"
      ],
      "execution_count": 223,
      "outputs": [
        {
          "output_type": "execute_result",
          "data": {
            "text/html": [
              "<div>\n",
              "<style scoped>\n",
              "    .dataframe tbody tr th:only-of-type {\n",
              "        vertical-align: middle;\n",
              "    }\n",
              "\n",
              "    .dataframe tbody tr th {\n",
              "        vertical-align: top;\n",
              "    }\n",
              "\n",
              "    .dataframe thead th {\n",
              "        text-align: right;\n",
              "    }\n",
              "</style>\n",
              "<table border=\"1\" class=\"dataframe\">\n",
              "  <thead>\n",
              "    <tr style=\"text-align: right;\">\n",
              "      <th></th>\n",
              "      <th>동</th>\n",
              "      <th>계</th>\n",
              "      <th>계(남)</th>\n",
              "      <th>계(여)</th>\n",
              "      <th>내(남)</th>\n",
              "      <th>내(여)</th>\n",
              "      <th>외(남)</th>\n",
              "      <th>외(여)</th>\n",
              "    </tr>\n",
              "    <tr>\n",
              "      <th>동</th>\n",
              "      <th></th>\n",
              "      <th></th>\n",
              "      <th></th>\n",
              "      <th></th>\n",
              "      <th></th>\n",
              "      <th></th>\n",
              "      <th></th>\n",
              "      <th></th>\n",
              "    </tr>\n",
              "  </thead>\n",
              "  <tbody>\n",
              "    <tr>\n",
              "      <th>제 주 시</th>\n",
              "      <td>제 주 시</td>\n",
              "      <td>NaN</td>\n",
              "      <td>NaN</td>\n",
              "      <td>NaN</td>\n",
              "      <td>245533</td>\n",
              "      <td>243872</td>\n",
              "      <td>9123</td>\n",
              "      <td>7422</td>\n",
              "    </tr>\n",
              "    <tr>\n",
              "      <th>한 림 읍</th>\n",
              "      <td>한 림 읍</td>\n",
              "      <td>NaN</td>\n",
              "      <td>NaN</td>\n",
              "      <td>NaN</td>\n",
              "      <td>11011</td>\n",
              "      <td>10354</td>\n",
              "      <td>2383</td>\n",
              "      <td>1332</td>\n",
              "    </tr>\n",
              "    <tr>\n",
              "      <th>애 월 읍</th>\n",
              "      <td>애 월 읍</td>\n",
              "      <td>NaN</td>\n",
              "      <td>NaN</td>\n",
              "      <td>NaN</td>\n",
              "      <td>18718</td>\n",
              "      <td>17515</td>\n",
              "      <td>571</td>\n",
              "      <td>541</td>\n",
              "    </tr>\n",
              "    <tr>\n",
              "      <th>구 좌 읍</th>\n",
              "      <td>구 좌 읍</td>\n",
              "      <td>NaN</td>\n",
              "      <td>NaN</td>\n",
              "      <td>NaN</td>\n",
              "      <td>8014</td>\n",
              "      <td>7575</td>\n",
              "      <td>440</td>\n",
              "      <td>203</td>\n",
              "    </tr>\n",
              "    <tr>\n",
              "      <th>조 천 읍</th>\n",
              "      <td>조 천 읍</td>\n",
              "      <td>NaN</td>\n",
              "      <td>NaN</td>\n",
              "      <td>NaN</td>\n",
              "      <td>12666</td>\n",
              "      <td>12004</td>\n",
              "      <td>374</td>\n",
              "      <td>269</td>\n",
              "    </tr>\n",
              "    <tr>\n",
              "      <th>한 경 면</th>\n",
              "      <td>한 경 면</td>\n",
              "      <td>NaN</td>\n",
              "      <td>NaN</td>\n",
              "      <td>NaN</td>\n",
              "      <td>4552</td>\n",
              "      <td>4485</td>\n",
              "      <td>261</td>\n",
              "      <td>107</td>\n",
              "    </tr>\n",
              "    <tr>\n",
              "      <th>추 자 면</th>\n",
              "      <td>추 자 면</td>\n",
              "      <td>NaN</td>\n",
              "      <td>NaN</td>\n",
              "      <td>NaN</td>\n",
              "      <td>941</td>\n",
              "      <td>792</td>\n",
              "      <td>311</td>\n",
              "      <td>13</td>\n",
              "    </tr>\n",
              "    <tr>\n",
              "      <th>우 도 면</th>\n",
              "      <td>우 도 면</td>\n",
              "      <td>NaN</td>\n",
              "      <td>NaN</td>\n",
              "      <td>NaN</td>\n",
              "      <td>974</td>\n",
              "      <td>888</td>\n",
              "      <td>19</td>\n",
              "      <td>11</td>\n",
              "    </tr>\n",
              "    <tr>\n",
              "      <th>일도 1동</th>\n",
              "      <td>일도 1동</td>\n",
              "      <td>NaN</td>\n",
              "      <td>NaN</td>\n",
              "      <td>NaN</td>\n",
              "      <td>1423</td>\n",
              "      <td>1301</td>\n",
              "      <td>43</td>\n",
              "      <td>42</td>\n",
              "    </tr>\n",
              "    <tr>\n",
              "      <th>일도 2동</th>\n",
              "      <td>일도 2동</td>\n",
              "      <td>NaN</td>\n",
              "      <td>NaN</td>\n",
              "      <td>NaN</td>\n",
              "      <td>16565</td>\n",
              "      <td>17118</td>\n",
              "      <td>102</td>\n",
              "      <td>213</td>\n",
              "    </tr>\n",
              "    <tr>\n",
              "      <th>이도 1동</th>\n",
              "      <td>이도 1동</td>\n",
              "      <td>NaN</td>\n",
              "      <td>NaN</td>\n",
              "      <td>NaN</td>\n",
              "      <td>3773</td>\n",
              "      <td>3876</td>\n",
              "      <td>56</td>\n",
              "      <td>91</td>\n",
              "    </tr>\n",
              "    <tr>\n",
              "      <th>이도 2동</th>\n",
              "      <td>이도 2동</td>\n",
              "      <td>NaN</td>\n",
              "      <td>NaN</td>\n",
              "      <td>NaN</td>\n",
              "      <td>24554</td>\n",
              "      <td>25410</td>\n",
              "      <td>305</td>\n",
              "      <td>386</td>\n",
              "    </tr>\n",
              "    <tr>\n",
              "      <th>삼도 1동</th>\n",
              "      <td>삼도 1동</td>\n",
              "      <td>NaN</td>\n",
              "      <td>NaN</td>\n",
              "      <td>NaN</td>\n",
              "      <td>6788</td>\n",
              "      <td>7066</td>\n",
              "      <td>66</td>\n",
              "      <td>85</td>\n",
              "    </tr>\n",
              "    <tr>\n",
              "      <th>삼도 2동</th>\n",
              "      <td>삼도 2동</td>\n",
              "      <td>NaN</td>\n",
              "      <td>NaN</td>\n",
              "      <td>NaN</td>\n",
              "      <td>4254</td>\n",
              "      <td>3920</td>\n",
              "      <td>160</td>\n",
              "      <td>99</td>\n",
              "    </tr>\n",
              "    <tr>\n",
              "      <th>용담 1동</th>\n",
              "      <td>용담 1동</td>\n",
              "      <td>NaN</td>\n",
              "      <td>NaN</td>\n",
              "      <td>NaN</td>\n",
              "      <td>3714</td>\n",
              "      <td>3511</td>\n",
              "      <td>41</td>\n",
              "      <td>49</td>\n",
              "    </tr>\n",
              "    <tr>\n",
              "      <th>용담 2동</th>\n",
              "      <td>용담 2동</td>\n",
              "      <td>NaN</td>\n",
              "      <td>NaN</td>\n",
              "      <td>NaN</td>\n",
              "      <td>7580</td>\n",
              "      <td>7494</td>\n",
              "      <td>77</td>\n",
              "      <td>177</td>\n",
              "    </tr>\n",
              "    <tr>\n",
              "      <th>건 입 동</th>\n",
              "      <td>건 입 동</td>\n",
              "      <td>NaN</td>\n",
              "      <td>NaN</td>\n",
              "      <td>NaN</td>\n",
              "      <td>4774</td>\n",
              "      <td>4537</td>\n",
              "      <td>163</td>\n",
              "      <td>97</td>\n",
              "    </tr>\n",
              "    <tr>\n",
              "      <th>화 북 동</th>\n",
              "      <td>화 북 동</td>\n",
              "      <td>NaN</td>\n",
              "      <td>NaN</td>\n",
              "      <td>NaN</td>\n",
              "      <td>12413</td>\n",
              "      <td>12442</td>\n",
              "      <td>226</td>\n",
              "      <td>190</td>\n",
              "    </tr>\n",
              "    <tr>\n",
              "      <th>삼 양 동</th>\n",
              "      <td>삼 양 동</td>\n",
              "      <td>NaN</td>\n",
              "      <td>NaN</td>\n",
              "      <td>NaN</td>\n",
              "      <td>12933</td>\n",
              "      <td>12769</td>\n",
              "      <td>101</td>\n",
              "      <td>162</td>\n",
              "    </tr>\n",
              "    <tr>\n",
              "      <th>봉 개 동</th>\n",
              "      <td>봉 개 동</td>\n",
              "      <td>NaN</td>\n",
              "      <td>NaN</td>\n",
              "      <td>NaN</td>\n",
              "      <td>2740</td>\n",
              "      <td>2530</td>\n",
              "      <td>42</td>\n",
              "      <td>51</td>\n",
              "    </tr>\n",
              "    <tr>\n",
              "      <th>아 라 동</th>\n",
              "      <td>아 라 동</td>\n",
              "      <td>NaN</td>\n",
              "      <td>NaN</td>\n",
              "      <td>NaN</td>\n",
              "      <td>17352</td>\n",
              "      <td>17454</td>\n",
              "      <td>615</td>\n",
              "      <td>603</td>\n",
              "    </tr>\n",
              "    <tr>\n",
              "      <th>오 라 동</th>\n",
              "      <td>오 라 동</td>\n",
              "      <td>NaN</td>\n",
              "      <td>NaN</td>\n",
              "      <td>NaN</td>\n",
              "      <td>7741</td>\n",
              "      <td>7593</td>\n",
              "      <td>122</td>\n",
              "      <td>132</td>\n",
              "    </tr>\n",
              "    <tr>\n",
              "      <th>연 동</th>\n",
              "      <td>연 동</td>\n",
              "      <td>NaN</td>\n",
              "      <td>NaN</td>\n",
              "      <td>NaN</td>\n",
              "      <td>20376</td>\n",
              "      <td>21137</td>\n",
              "      <td>1062</td>\n",
              "      <td>1133</td>\n",
              "    </tr>\n",
              "    <tr>\n",
              "      <th>노 형 동</th>\n",
              "      <td>노 형 동</td>\n",
              "      <td>NaN</td>\n",
              "      <td>NaN</td>\n",
              "      <td>NaN</td>\n",
              "      <td>26628</td>\n",
              "      <td>27594</td>\n",
              "      <td>1295</td>\n",
              "      <td>1094</td>\n",
              "    </tr>\n",
              "    <tr>\n",
              "      <th>외 도 동</th>\n",
              "      <td>외 도 동</td>\n",
              "      <td>NaN</td>\n",
              "      <td>NaN</td>\n",
              "      <td>NaN</td>\n",
              "      <td>11002</td>\n",
              "      <td>10799</td>\n",
              "      <td>125</td>\n",
              "      <td>182</td>\n",
              "    </tr>\n",
              "    <tr>\n",
              "      <th>이 호 동</th>\n",
              "      <td>이 호 동</td>\n",
              "      <td>NaN</td>\n",
              "      <td>NaN</td>\n",
              "      <td>NaN</td>\n",
              "      <td>2374</td>\n",
              "      <td>2195</td>\n",
              "      <td>95</td>\n",
              "      <td>100</td>\n",
              "    </tr>\n",
              "    <tr>\n",
              "      <th>도 두 동</th>\n",
              "      <td>도 두 동</td>\n",
              "      <td>NaN</td>\n",
              "      <td>NaN</td>\n",
              "      <td>NaN</td>\n",
              "      <td>1673</td>\n",
              "      <td>1513</td>\n",
              "      <td>68</td>\n",
              "      <td>60</td>\n",
              "    </tr>\n",
              "  </tbody>\n",
              "</table>\n",
              "</div>"
            ],
            "text/plain": [
              "           동    계 계(남) 계(여)    내(남)    내(여)  외(남)  외(여)\n",
              "동                                                      \n",
              "제 주 시  제 주 시  NaN  NaN  NaN  245533  243872  9123  7422\n",
              "한 림 읍  한 림 읍  NaN  NaN  NaN   11011   10354  2383  1332\n",
              "애 월 읍  애 월 읍  NaN  NaN  NaN   18718   17515   571   541\n",
              "구 좌 읍  구 좌 읍  NaN  NaN  NaN    8014    7575   440   203\n",
              "조 천 읍  조 천 읍  NaN  NaN  NaN   12666   12004   374   269\n",
              "한 경 면  한 경 면  NaN  NaN  NaN    4552    4485   261   107\n",
              "추 자 면  추 자 면  NaN  NaN  NaN     941     792   311    13\n",
              "우 도 면  우 도 면  NaN  NaN  NaN     974     888    19    11\n",
              "일도 1동  일도 1동  NaN  NaN  NaN    1423    1301    43    42\n",
              "일도 2동  일도 2동  NaN  NaN  NaN   16565   17118   102   213\n",
              "이도 1동  이도 1동  NaN  NaN  NaN    3773    3876    56    91\n",
              "이도 2동  이도 2동  NaN  NaN  NaN   24554   25410   305   386\n",
              "삼도 1동  삼도 1동  NaN  NaN  NaN    6788    7066    66    85\n",
              "삼도 2동  삼도 2동  NaN  NaN  NaN    4254    3920   160    99\n",
              "용담 1동  용담 1동  NaN  NaN  NaN    3714    3511    41    49\n",
              "용담 2동  용담 2동  NaN  NaN  NaN    7580    7494    77   177\n",
              "건 입 동  건 입 동  NaN  NaN  NaN    4774    4537   163    97\n",
              "화 북 동  화 북 동  NaN  NaN  NaN   12413   12442   226   190\n",
              "삼 양 동  삼 양 동  NaN  NaN  NaN   12933   12769   101   162\n",
              "봉 개 동  봉 개 동  NaN  NaN  NaN    2740    2530    42    51\n",
              "아 라 동  아 라 동  NaN  NaN  NaN   17352   17454   615   603\n",
              "오 라 동  오 라 동  NaN  NaN  NaN    7741    7593   122   132\n",
              "연 동      연 동  NaN  NaN  NaN   20376   21137  1062  1133\n",
              "노 형 동  노 형 동  NaN  NaN  NaN   26628   27594  1295  1094\n",
              "외 도 동  외 도 동  NaN  NaN  NaN   11002   10799   125   182\n",
              "이 호 동  이 호 동  NaN  NaN  NaN    2374    2195    95   100\n",
              "도 두 동  도 두 동  NaN  NaN  NaN    1673    1513    68    60"
            ]
          },
          "metadata": {
            "tags": []
          },
          "execution_count": 223
        }
      ]
    },
    {
      "cell_type": "code",
      "metadata": {
        "id": "W2zZVNB7OhNa",
        "colab_type": "code",
        "colab": {
          "base_uri": "https://localhost:8080/",
          "height": 998
        },
        "outputId": "9ba3ead3-ffbb-46e2-8cf2-f584cf65b406"
      },
      "source": [
        "#df['인구수 총합'] = None\n",
        "\n",
        "for i in range(28):\n",
        "    df.iloc[i]['인구수 총합'] = df['내(남)'] + df['내(여)'] + df['외(남)'] + df['외(여)']\n",
        "df"
      ],
      "execution_count": 227,
      "outputs": [
        {
          "output_type": "stream",
          "text": [
            "/usr/local/lib/python3.6/dist-packages/ipykernel_launcher.py:4: SettingWithCopyWarning: \n",
            "A value is trying to be set on a copy of a slice from a DataFrame\n",
            "\n",
            "See the caveats in the documentation: https://pandas.pydata.org/pandas-docs/stable/user_guide/indexing.html#returning-a-view-versus-a-copy\n",
            "  after removing the cwd from sys.path.\n"
          ],
          "name": "stderr"
        },
        {
          "output_type": "execute_result",
          "data": {
            "text/html": [
              "<div>\n",
              "<style scoped>\n",
              "    .dataframe tbody tr th:only-of-type {\n",
              "        vertical-align: middle;\n",
              "    }\n",
              "\n",
              "    .dataframe tbody tr th {\n",
              "        vertical-align: top;\n",
              "    }\n",
              "\n",
              "    .dataframe thead th {\n",
              "        text-align: right;\n",
              "    }\n",
              "</style>\n",
              "<table border=\"1\" class=\"dataframe\">\n",
              "  <thead>\n",
              "    <tr style=\"text-align: right;\">\n",
              "      <th></th>\n",
              "      <th>동</th>\n",
              "      <th>계</th>\n",
              "      <th>계(남)</th>\n",
              "      <th>계(여)</th>\n",
              "      <th>내(남)</th>\n",
              "      <th>내(여)</th>\n",
              "      <th>외(남)</th>\n",
              "      <th>외(여)</th>\n",
              "      <th>인구수 총합</th>\n",
              "      <th>인구수총합</th>\n",
              "    </tr>\n",
              "    <tr>\n",
              "      <th>동</th>\n",
              "      <th></th>\n",
              "      <th></th>\n",
              "      <th></th>\n",
              "      <th></th>\n",
              "      <th></th>\n",
              "      <th></th>\n",
              "      <th></th>\n",
              "      <th></th>\n",
              "      <th></th>\n",
              "      <th></th>\n",
              "    </tr>\n",
              "  </thead>\n",
              "  <tbody>\n",
              "    <tr>\n",
              "      <th>NaN</th>\n",
              "      <td>NaN</td>\n",
              "      <td>계</td>\n",
              "      <td>남</td>\n",
              "      <td>여</td>\n",
              "      <td>남</td>\n",
              "      <td>여</td>\n",
              "      <td>남</td>\n",
              "      <td>여</td>\n",
              "      <td>None</td>\n",
              "      <td>NaN</td>\n",
              "    </tr>\n",
              "    <tr>\n",
              "      <th>제 주 시</th>\n",
              "      <td>제 주 시</td>\n",
              "      <td>NaN</td>\n",
              "      <td>NaN</td>\n",
              "      <td>NaN</td>\n",
              "      <td>245533</td>\n",
              "      <td>243872</td>\n",
              "      <td>9123</td>\n",
              "      <td>7422</td>\n",
              "      <td>None</td>\n",
              "      <td>NaN</td>\n",
              "    </tr>\n",
              "    <tr>\n",
              "      <th>한 림 읍</th>\n",
              "      <td>한 림 읍</td>\n",
              "      <td>NaN</td>\n",
              "      <td>NaN</td>\n",
              "      <td>NaN</td>\n",
              "      <td>11011</td>\n",
              "      <td>10354</td>\n",
              "      <td>2383</td>\n",
              "      <td>1332</td>\n",
              "      <td>None</td>\n",
              "      <td>NaN</td>\n",
              "    </tr>\n",
              "    <tr>\n",
              "      <th>애 월 읍</th>\n",
              "      <td>애 월 읍</td>\n",
              "      <td>NaN</td>\n",
              "      <td>NaN</td>\n",
              "      <td>NaN</td>\n",
              "      <td>18718</td>\n",
              "      <td>17515</td>\n",
              "      <td>571</td>\n",
              "      <td>541</td>\n",
              "      <td>None</td>\n",
              "      <td>NaN</td>\n",
              "    </tr>\n",
              "    <tr>\n",
              "      <th>구 좌 읍</th>\n",
              "      <td>구 좌 읍</td>\n",
              "      <td>NaN</td>\n",
              "      <td>NaN</td>\n",
              "      <td>NaN</td>\n",
              "      <td>8014</td>\n",
              "      <td>7575</td>\n",
              "      <td>440</td>\n",
              "      <td>203</td>\n",
              "      <td>None</td>\n",
              "      <td>NaN</td>\n",
              "    </tr>\n",
              "    <tr>\n",
              "      <th>조 천 읍</th>\n",
              "      <td>조 천 읍</td>\n",
              "      <td>NaN</td>\n",
              "      <td>NaN</td>\n",
              "      <td>NaN</td>\n",
              "      <td>12666</td>\n",
              "      <td>12004</td>\n",
              "      <td>374</td>\n",
              "      <td>269</td>\n",
              "      <td>None</td>\n",
              "      <td>NaN</td>\n",
              "    </tr>\n",
              "    <tr>\n",
              "      <th>한 경 면</th>\n",
              "      <td>한 경 면</td>\n",
              "      <td>NaN</td>\n",
              "      <td>NaN</td>\n",
              "      <td>NaN</td>\n",
              "      <td>4552</td>\n",
              "      <td>4485</td>\n",
              "      <td>261</td>\n",
              "      <td>107</td>\n",
              "      <td>None</td>\n",
              "      <td>NaN</td>\n",
              "    </tr>\n",
              "    <tr>\n",
              "      <th>추 자 면</th>\n",
              "      <td>추 자 면</td>\n",
              "      <td>NaN</td>\n",
              "      <td>NaN</td>\n",
              "      <td>NaN</td>\n",
              "      <td>941</td>\n",
              "      <td>792</td>\n",
              "      <td>311</td>\n",
              "      <td>13</td>\n",
              "      <td>None</td>\n",
              "      <td>NaN</td>\n",
              "    </tr>\n",
              "    <tr>\n",
              "      <th>우 도 면</th>\n",
              "      <td>우 도 면</td>\n",
              "      <td>NaN</td>\n",
              "      <td>NaN</td>\n",
              "      <td>NaN</td>\n",
              "      <td>974</td>\n",
              "      <td>888</td>\n",
              "      <td>19</td>\n",
              "      <td>11</td>\n",
              "      <td>None</td>\n",
              "      <td>NaN</td>\n",
              "    </tr>\n",
              "    <tr>\n",
              "      <th>일도 1동</th>\n",
              "      <td>일도 1동</td>\n",
              "      <td>NaN</td>\n",
              "      <td>NaN</td>\n",
              "      <td>NaN</td>\n",
              "      <td>1423</td>\n",
              "      <td>1301</td>\n",
              "      <td>43</td>\n",
              "      <td>42</td>\n",
              "      <td>None</td>\n",
              "      <td>NaN</td>\n",
              "    </tr>\n",
              "    <tr>\n",
              "      <th>일도 2동</th>\n",
              "      <td>일도 2동</td>\n",
              "      <td>NaN</td>\n",
              "      <td>NaN</td>\n",
              "      <td>NaN</td>\n",
              "      <td>16565</td>\n",
              "      <td>17118</td>\n",
              "      <td>102</td>\n",
              "      <td>213</td>\n",
              "      <td>None</td>\n",
              "      <td>NaN</td>\n",
              "    </tr>\n",
              "    <tr>\n",
              "      <th>이도 1동</th>\n",
              "      <td>이도 1동</td>\n",
              "      <td>NaN</td>\n",
              "      <td>NaN</td>\n",
              "      <td>NaN</td>\n",
              "      <td>3773</td>\n",
              "      <td>3876</td>\n",
              "      <td>56</td>\n",
              "      <td>91</td>\n",
              "      <td>None</td>\n",
              "      <td>NaN</td>\n",
              "    </tr>\n",
              "    <tr>\n",
              "      <th>이도 2동</th>\n",
              "      <td>이도 2동</td>\n",
              "      <td>NaN</td>\n",
              "      <td>NaN</td>\n",
              "      <td>NaN</td>\n",
              "      <td>24554</td>\n",
              "      <td>25410</td>\n",
              "      <td>305</td>\n",
              "      <td>386</td>\n",
              "      <td>None</td>\n",
              "      <td>NaN</td>\n",
              "    </tr>\n",
              "    <tr>\n",
              "      <th>삼도 1동</th>\n",
              "      <td>삼도 1동</td>\n",
              "      <td>NaN</td>\n",
              "      <td>NaN</td>\n",
              "      <td>NaN</td>\n",
              "      <td>6788</td>\n",
              "      <td>7066</td>\n",
              "      <td>66</td>\n",
              "      <td>85</td>\n",
              "      <td>None</td>\n",
              "      <td>NaN</td>\n",
              "    </tr>\n",
              "    <tr>\n",
              "      <th>삼도 2동</th>\n",
              "      <td>삼도 2동</td>\n",
              "      <td>NaN</td>\n",
              "      <td>NaN</td>\n",
              "      <td>NaN</td>\n",
              "      <td>4254</td>\n",
              "      <td>3920</td>\n",
              "      <td>160</td>\n",
              "      <td>99</td>\n",
              "      <td>None</td>\n",
              "      <td>NaN</td>\n",
              "    </tr>\n",
              "    <tr>\n",
              "      <th>용담 1동</th>\n",
              "      <td>용담 1동</td>\n",
              "      <td>NaN</td>\n",
              "      <td>NaN</td>\n",
              "      <td>NaN</td>\n",
              "      <td>3714</td>\n",
              "      <td>3511</td>\n",
              "      <td>41</td>\n",
              "      <td>49</td>\n",
              "      <td>None</td>\n",
              "      <td>NaN</td>\n",
              "    </tr>\n",
              "    <tr>\n",
              "      <th>용담 2동</th>\n",
              "      <td>용담 2동</td>\n",
              "      <td>NaN</td>\n",
              "      <td>NaN</td>\n",
              "      <td>NaN</td>\n",
              "      <td>7580</td>\n",
              "      <td>7494</td>\n",
              "      <td>77</td>\n",
              "      <td>177</td>\n",
              "      <td>None</td>\n",
              "      <td>NaN</td>\n",
              "    </tr>\n",
              "    <tr>\n",
              "      <th>건 입 동</th>\n",
              "      <td>건 입 동</td>\n",
              "      <td>NaN</td>\n",
              "      <td>NaN</td>\n",
              "      <td>NaN</td>\n",
              "      <td>4774</td>\n",
              "      <td>4537</td>\n",
              "      <td>163</td>\n",
              "      <td>97</td>\n",
              "      <td>None</td>\n",
              "      <td>NaN</td>\n",
              "    </tr>\n",
              "    <tr>\n",
              "      <th>화 북 동</th>\n",
              "      <td>화 북 동</td>\n",
              "      <td>NaN</td>\n",
              "      <td>NaN</td>\n",
              "      <td>NaN</td>\n",
              "      <td>12413</td>\n",
              "      <td>12442</td>\n",
              "      <td>226</td>\n",
              "      <td>190</td>\n",
              "      <td>None</td>\n",
              "      <td>NaN</td>\n",
              "    </tr>\n",
              "    <tr>\n",
              "      <th>삼 양 동</th>\n",
              "      <td>삼 양 동</td>\n",
              "      <td>NaN</td>\n",
              "      <td>NaN</td>\n",
              "      <td>NaN</td>\n",
              "      <td>12933</td>\n",
              "      <td>12769</td>\n",
              "      <td>101</td>\n",
              "      <td>162</td>\n",
              "      <td>None</td>\n",
              "      <td>NaN</td>\n",
              "    </tr>\n",
              "    <tr>\n",
              "      <th>봉 개 동</th>\n",
              "      <td>봉 개 동</td>\n",
              "      <td>NaN</td>\n",
              "      <td>NaN</td>\n",
              "      <td>NaN</td>\n",
              "      <td>2740</td>\n",
              "      <td>2530</td>\n",
              "      <td>42</td>\n",
              "      <td>51</td>\n",
              "      <td>None</td>\n",
              "      <td>NaN</td>\n",
              "    </tr>\n",
              "    <tr>\n",
              "      <th>아 라 동</th>\n",
              "      <td>아 라 동</td>\n",
              "      <td>NaN</td>\n",
              "      <td>NaN</td>\n",
              "      <td>NaN</td>\n",
              "      <td>17352</td>\n",
              "      <td>17454</td>\n",
              "      <td>615</td>\n",
              "      <td>603</td>\n",
              "      <td>None</td>\n",
              "      <td>NaN</td>\n",
              "    </tr>\n",
              "    <tr>\n",
              "      <th>오 라 동</th>\n",
              "      <td>오 라 동</td>\n",
              "      <td>NaN</td>\n",
              "      <td>NaN</td>\n",
              "      <td>NaN</td>\n",
              "      <td>7741</td>\n",
              "      <td>7593</td>\n",
              "      <td>122</td>\n",
              "      <td>132</td>\n",
              "      <td>None</td>\n",
              "      <td>NaN</td>\n",
              "    </tr>\n",
              "    <tr>\n",
              "      <th>연 동</th>\n",
              "      <td>연 동</td>\n",
              "      <td>NaN</td>\n",
              "      <td>NaN</td>\n",
              "      <td>NaN</td>\n",
              "      <td>20376</td>\n",
              "      <td>21137</td>\n",
              "      <td>1062</td>\n",
              "      <td>1133</td>\n",
              "      <td>None</td>\n",
              "      <td>NaN</td>\n",
              "    </tr>\n",
              "    <tr>\n",
              "      <th>노 형 동</th>\n",
              "      <td>노 형 동</td>\n",
              "      <td>NaN</td>\n",
              "      <td>NaN</td>\n",
              "      <td>NaN</td>\n",
              "      <td>26628</td>\n",
              "      <td>27594</td>\n",
              "      <td>1295</td>\n",
              "      <td>1094</td>\n",
              "      <td>None</td>\n",
              "      <td>NaN</td>\n",
              "    </tr>\n",
              "    <tr>\n",
              "      <th>외 도 동</th>\n",
              "      <td>외 도 동</td>\n",
              "      <td>NaN</td>\n",
              "      <td>NaN</td>\n",
              "      <td>NaN</td>\n",
              "      <td>11002</td>\n",
              "      <td>10799</td>\n",
              "      <td>125</td>\n",
              "      <td>182</td>\n",
              "      <td>None</td>\n",
              "      <td>NaN</td>\n",
              "    </tr>\n",
              "    <tr>\n",
              "      <th>이 호 동</th>\n",
              "      <td>이 호 동</td>\n",
              "      <td>NaN</td>\n",
              "      <td>NaN</td>\n",
              "      <td>NaN</td>\n",
              "      <td>2374</td>\n",
              "      <td>2195</td>\n",
              "      <td>95</td>\n",
              "      <td>100</td>\n",
              "      <td>None</td>\n",
              "      <td>NaN</td>\n",
              "    </tr>\n",
              "    <tr>\n",
              "      <th>도 두 동</th>\n",
              "      <td>도 두 동</td>\n",
              "      <td>NaN</td>\n",
              "      <td>NaN</td>\n",
              "      <td>NaN</td>\n",
              "      <td>1673</td>\n",
              "      <td>1513</td>\n",
              "      <td>68</td>\n",
              "      <td>60</td>\n",
              "      <td>None</td>\n",
              "      <td>NaN</td>\n",
              "    </tr>\n",
              "  </tbody>\n",
              "</table>\n",
              "</div>"
            ],
            "text/plain": [
              "           동    계 계(남) 계(여)    내(남)    내(여)  외(남)  외(여) 인구수 총합  인구수총합\n",
              "동                                                                    \n",
              "NaN      NaN    계    남    여       남       여     남     여   None    NaN\n",
              "제 주 시  제 주 시  NaN  NaN  NaN  245533  243872  9123  7422   None    NaN\n",
              "한 림 읍  한 림 읍  NaN  NaN  NaN   11011   10354  2383  1332   None    NaN\n",
              "애 월 읍  애 월 읍  NaN  NaN  NaN   18718   17515   571   541   None    NaN\n",
              "구 좌 읍  구 좌 읍  NaN  NaN  NaN    8014    7575   440   203   None    NaN\n",
              "조 천 읍  조 천 읍  NaN  NaN  NaN   12666   12004   374   269   None    NaN\n",
              "한 경 면  한 경 면  NaN  NaN  NaN    4552    4485   261   107   None    NaN\n",
              "추 자 면  추 자 면  NaN  NaN  NaN     941     792   311    13   None    NaN\n",
              "우 도 면  우 도 면  NaN  NaN  NaN     974     888    19    11   None    NaN\n",
              "일도 1동  일도 1동  NaN  NaN  NaN    1423    1301    43    42   None    NaN\n",
              "일도 2동  일도 2동  NaN  NaN  NaN   16565   17118   102   213   None    NaN\n",
              "이도 1동  이도 1동  NaN  NaN  NaN    3773    3876    56    91   None    NaN\n",
              "이도 2동  이도 2동  NaN  NaN  NaN   24554   25410   305   386   None    NaN\n",
              "삼도 1동  삼도 1동  NaN  NaN  NaN    6788    7066    66    85   None    NaN\n",
              "삼도 2동  삼도 2동  NaN  NaN  NaN    4254    3920   160    99   None    NaN\n",
              "용담 1동  용담 1동  NaN  NaN  NaN    3714    3511    41    49   None    NaN\n",
              "용담 2동  용담 2동  NaN  NaN  NaN    7580    7494    77   177   None    NaN\n",
              "건 입 동  건 입 동  NaN  NaN  NaN    4774    4537   163    97   None    NaN\n",
              "화 북 동  화 북 동  NaN  NaN  NaN   12413   12442   226   190   None    NaN\n",
              "삼 양 동  삼 양 동  NaN  NaN  NaN   12933   12769   101   162   None    NaN\n",
              "봉 개 동  봉 개 동  NaN  NaN  NaN    2740    2530    42    51   None    NaN\n",
              "아 라 동  아 라 동  NaN  NaN  NaN   17352   17454   615   603   None    NaN\n",
              "오 라 동  오 라 동  NaN  NaN  NaN    7741    7593   122   132   None    NaN\n",
              "연 동      연 동  NaN  NaN  NaN   20376   21137  1062  1133   None    NaN\n",
              "노 형 동  노 형 동  NaN  NaN  NaN   26628   27594  1295  1094   None    NaN\n",
              "외 도 동  외 도 동  NaN  NaN  NaN   11002   10799   125   182   None    NaN\n",
              "이 호 동  이 호 동  NaN  NaN  NaN    2374    2195    95   100   None    NaN\n",
              "도 두 동  도 두 동  NaN  NaN  NaN    1673    1513    68    60   None    NaN"
            ]
          },
          "metadata": {
            "tags": []
          },
          "execution_count": 227
        }
      ]
    },
    {
      "cell_type": "code",
      "metadata": {
        "id": "kMI2gdvVOpuz",
        "colab_type": "code",
        "colab": {}
      },
      "source": [
        "#가장 인구가 많은 동 5개 뽑아 df5에 저장하기"
      ],
      "execution_count": null,
      "outputs": []
    },
    {
      "cell_type": "code",
      "metadata": {
        "id": "ohNYBJaROq81",
        "colab_type": "code",
        "colab": {}
      },
      "source": [
        ""
      ],
      "execution_count": null,
      "outputs": []
    },
    {
      "cell_type": "code",
      "metadata": {
        "id": "mEEo3o0QOh7k",
        "colab_type": "code",
        "colab": {}
      },
      "source": [
        "#max_dong에 인구가 많은 동 저장, max_pop에 총 인구수 저장"
      ],
      "execution_count": null,
      "outputs": []
    },
    {
      "cell_type": "code",
      "metadata": {
        "id": "DFVBkNluO8hP",
        "colab_type": "code",
        "colab": {}
      },
      "source": [
        ""
      ],
      "execution_count": null,
      "outputs": []
    },
    {
      "cell_type": "code",
      "metadata": {
        "id": "QjNpSoZjO9Kn",
        "colab_type": "code",
        "colab": {}
      },
      "source": [
        "#가장 인구가 많은 동은 ~ 동이고, 총 ~ 이 거주하고 있다. 출력"
      ],
      "execution_count": null,
      "outputs": []
    },
    {
      "cell_type": "code",
      "metadata": {
        "id": "L8DV3wcPO-pE",
        "colab_type": "code",
        "colab": {}
      },
      "source": [
        "print('가장 인구가 많은 동은',max_dong,'이고, 총',max_pop,'명이 거주하고 있다.')"
      ],
      "execution_count": null,
      "outputs": []
    }
  ]
}